{
  "nbformat": 4,
  "nbformat_minor": 0,
  "metadata": {
    "colab": {
      "name": "2270_定常波_応用物理1",
      "provenance": [],
      "collapsed_sections": [],
      "authorship_tag": "ABX9TyMVfBVk/zrXQIVQ+ihngnDj",
      "include_colab_link": true
    },
    "kernelspec": {
      "name": "python3",
      "display_name": "Python 3"
    }
  },
  "cells": [
    {
      "cell_type": "markdown",
      "metadata": {
        "id": "view-in-github",
        "colab_type": "text"
      },
      "source": [
        "<a href=\"https://colab.research.google.com/github/kzhkAKT/AppliedPhysics1/blob/draft/2270_%E5%AE%9A%E5%B8%B8%E6%B3%A2_%E5%BF%9C%E7%94%A8%E7%89%A9%E7%90%861.ipynb\" target=\"_parent\"><img src=\"https://colab.research.google.com/assets/colab-badge.svg\" alt=\"Open In Colab\"/></a>"
      ]
    },
    {
      "cell_type": "code",
      "metadata": {
        "colab_type": "code",
        "cellView": "form",
        "id": "lECar99EgAec",
        "colab": {
          "base_uri": "https://localhost:8080/",
          "height": 475
        },
        "outputId": "dc9a87cf-5a65-429d-8587-43e571d36850"
      },
      "source": [
        "#@title 正弦波, Slow motion, Dampin:none, No End, Oscillate\n",
        "%%html\n",
        "<iframe src=\"https://phet.colorado.edu/sims/html/wave-on-a-string/latest/wave-on-a-string_en.html\" width=\"600\" height=\"450\" scrolling=\"no\" allowfullscreen></iframe>"
      ],
      "execution_count": null,
      "outputs": [
        {
          "output_type": "display_data",
          "data": {
            "text/html": [
              "<iframe src=\"https://phet.colorado.edu/sims/html/wave-on-a-string/latest/wave-on-a-string_en.html\" width=\"600\" height=\"450\" scrolling=\"no\" allowfullscreen></iframe>"
            ],
            "text/plain": [
              "<IPython.core.display.HTML object>"
            ]
          },
          "metadata": {
            "tags": []
          }
        }
      ]
    },
    {
      "cell_type": "markdown",
      "metadata": {
        "id": "aZ_sSjgDf1t9",
        "colab_type": "text"
      },
      "source": [
        "## 正弦波の復習\n",
        "正弦波で隣接する山と谷の, 距離の差は\n",
        "> 波長 $\\lambda$ の半分: $\\quad \\dfrac{\\lambda}{2}$\n",
        "\n",
        "位相の差は, ($\\sin(\\theta +2\\pi) = \\sin \\theta$)\n",
        ">> $2\\pi$ の半分: $\\quad \\pi$"
      ]
    },
    {
      "cell_type": "code",
      "metadata": {
        "id": "1AJP0HVnOEiW",
        "colab_type": "code",
        "cellView": "form",
        "colab": {
          "base_uri": "https://localhost:8080/",
          "height": 475
        },
        "outputId": "06e21ec0-33a7-4d59-a4cf-5bc0b7ef69ec"
      },
      "source": [
        "#@title 固定端と自由端の復習 : Manual, Slow Mation, Damping:None, Loose|Fixed End\n",
        "%%html\n",
        "<iframe src=\"https://phet.colorado.edu/sims/html/wave-on-a-string/latest/wave-on-a-string_en.html\" width=\"600\" height=\"450\" scrolling=\"no\" allowfullscreen></iframe>"
      ],
      "execution_count": null,
      "outputs": [
        {
          "output_type": "display_data",
          "data": {
            "text/html": [
              "<iframe src=\"https://phet.colorado.edu/sims/html/wave-on-a-string/latest/wave-on-a-string_en.html\" width=\"600\" height=\"450\" scrolling=\"no\" allowfullscreen></iframe>"
            ],
            "text/plain": [
              "<IPython.core.display.HTML object>"
            ]
          },
          "metadata": {
            "tags": []
          }
        }
      ]
    },
    {
      "cell_type": "markdown",
      "metadata": {
        "id": "NFW9VmRXefwA",
        "colab_type": "text"
      },
      "source": [
        "自由端では\n",
        "> 山は山, 谷は谷\n",
        "\n",
        "固定端では\n",
        "> 山は谷, 谷は山.\n",
        "\n",
        "これを, 正弦波で考えると\n",
        "自由端では\n",
        ">> 位相は変化しない\n",
        "\n",
        "固定端では\n",
        ">> 位相は $\\pi$ 変化する\n",
        "\n"
      ]
    },
    {
      "cell_type": "code",
      "metadata": {
        "colab_type": "code",
        "cellView": "form",
        "id": "g4XIMlHyjXAi",
        "colab": {
          "base_uri": "https://localhost:8080/",
          "height": 475
        },
        "outputId": "d681b772-10ca-42c5-ae30-cbe04f558cba"
      },
      "source": [
        "#@title (連続する)正弦波の反射: Slow Mation, Damping:None, Loose|Fixed End\b\b, Oscillate, f=1.23\n",
        "%%html\n",
        "<iframe src=\"https://phet.colorado.edu/sims/html/wave-on-a-string/latest/wave-on-a-string_en.html\" width=\"600\" height=\"450\" scrolling=\"no\" allowfullscreen></iframe>"
      ],
      "execution_count": null,
      "outputs": [
        {
          "output_type": "display_data",
          "data": {
            "text/html": [
              "<iframe src=\"https://phet.colorado.edu/sims/html/wave-on-a-string/latest/wave-on-a-string_en.html\" width=\"600\" height=\"450\" scrolling=\"no\" allowfullscreen></iframe>"
            ],
            "text/plain": [
              "<IPython.core.display.HTML object>"
            ]
          },
          "metadata": {
            "tags": []
          }
        }
      ]
    },
    {
      "cell_type": "code",
      "metadata": {
        "id": "kj_9LpgBNbkZ",
        "colab_type": "code",
        "cellView": "form",
        "colab": {
          "base_uri": "https://localhost:8080/",
          "height": 336
        },
        "outputId": "c32f2c7c-fb21-4076-ec75-c6d408f8e939"
      },
      "source": [
        "#@title 定常波, standing wave\n",
        "%%html\n",
        "<iframe width=\"560\" height=\"315\" src=\"https://www.youtube-nocookie.com/embed/-n1d1rycvj4\" frameborder=\"0\" allow=\"accelerometer; autoplay; encrypted-media; gyroscope; picture-in-picture\" allowfullscreen></iframe>"
      ],
      "execution_count": null,
      "outputs": [
        {
          "output_type": "display_data",
          "data": {
            "text/html": [
              "<iframe width=\"560\" height=\"315\" src=\"https://www.youtube-nocookie.com/embed/-n1d1rycvj4\" frameborder=\"0\" allow=\"accelerometer; autoplay; encrypted-media; gyroscope; picture-in-picture\" allowfullscreen></iframe>"
            ],
            "text/plain": [
              "<IPython.core.display.HTML object>"
            ]
          },
          "metadata": {
            "tags": []
          }
        }
      ]
    },
    {
      "cell_type": "code",
      "metadata": {
        "id": "ldP__GmDM-ac",
        "colab_type": "code",
        "cellView": "form",
        "colab": {
          "base_uri": "https://localhost:8080/",
          "height": 336
        },
        "outputId": "badf1603-6e92-49f1-8cf9-282a0e88e35c"
      },
      "source": [
        "#@title Standing wave \n",
        "%%html\n",
        "<iframe width=\"560\" height=\"315\" src=\"https://www.youtube-nocookie.com/embed/-k2TuJfNQ9s\" frameborder=\"0\" allow=\"accelerometer; autoplay; encrypted-media; gyroscope; picture-in-picture\" allowfullscreen></iframe>"
      ],
      "execution_count": null,
      "outputs": [
        {
          "output_type": "display_data",
          "data": {
            "text/html": [
              "<iframe width=\"560\" height=\"315\" src=\"https://www.youtube-nocookie.com/embed/-k2TuJfNQ9s\" frameborder=\"0\" allow=\"accelerometer; autoplay; encrypted-media; gyroscope; picture-in-picture\" allowfullscreen></iframe>"
            ],
            "text/plain": [
              "<IPython.core.display.HTML object>"
            ]
          },
          "metadata": {
            "tags": []
          }
        }
      ]
    },
    {
      "cell_type": "markdown",
      "metadata": {
        "id": "x4h3uNY7JL2n",
        "colab_type": "text"
      },
      "source": [
        "![https://commons.wikimedia.org/wiki/File:Standing_wave.gif](https://upload.wikimedia.org/wikipedia/commons/8/8c/Standing_wave.gif)\n",
        "\n",
        "![https://commons.wikimedia.org/wiki/File:Standing_wave_2.gif](https://upload.wikimedia.org/wikipedia/commons/7/7d/Standing_wave_2.gif)"
      ]
    },
    {
      "cell_type": "markdown",
      "metadata": {
        "id": "xH5J8jeqLYfF",
        "colab_type": "text"
      },
      "source": [
        "$\\require{cancel}$\n",
        "振幅, 振動数と波長が等しい一直線上に互いに逆向き進む正弦波の合成を考えましょう.\n",
        "\\begin{align*}\n",
        "\\color{#0000FF}{y_{\\rm +:blue}}(x,t)&\n",
        "   = A \\sin \n",
        "    \\left[ 2\\pi \\left(\\dfrac{x}{\\lambda} - \\dfrac{t}{T}\\right)  + \\alpha_+ \\right]& \\\\\n",
        "\\color{#FF0000}{y_{\\rm -:red}}(x,t)& \n",
        "  = A \\sin\n",
        "   \\left[ 2\\pi \\left(\\dfrac{x}{\\lambda} + \\dfrac{t}{T}\\right) + \\alpha_- \\right]&\\\\\n",
        "\\end{align*}\n",
        "\n",
        "重ね合わせの原理を用いると, 合成される定常波は\n",
        "\\begin{align*}\n",
        "  y(x,t) &\n",
        "  = y_{+}(x,t) + y_{-}(x,t)\n",
        "\\end{align*}\n",
        "で表現できます.\n",
        "\n",
        "波の基本式から\n",
        "\\begin{align*}\n",
        "  v = \\dfrac{\\lambda}{T} = \\lambda f\n",
        "\\end{align*}\n",
        "(向きは違いますが)波の速さ $v$ は等しくなります.\n",
        "\n",
        "$y_\\pm$ を簡潔に示すために\n",
        "\\begin{align*}\n",
        " k &= \\dfrac{2\\pi}{\\lambda},& \\omega = \\dfrac{2\\pi}{T} = 2\\pi f&\n",
        "\\end{align*}\n",
        "とします. 一般には $k$ は波数, $\\omega$ は角振動数/角周波数と呼ばれます. \n",
        "\n",
        "\n"
      ]
    },
    {
      "cell_type": "markdown",
      "metadata": {
        "id": "FVqdAITRPhPv",
        "colab_type": "text"
      },
      "source": [
        "$\\require{cancel}$\n",
        "\\begin{align*}\n",
        "y_+(x,t)&\n",
        "   = A \\sin (kx - \\omega t + \\alpha_+)&\\\\\n",
        "y_-(x,t)& \n",
        "  = A \\sin (kx + \\omega t + \\alpha_-)&\n",
        "\\end{align*}\n",
        "\n",
        "簡略化して $\\alpha_\\pm=0$ 二つの正弦波の初期位相がゼロの場合を考えてみましょう.\n",
        "\\begin{align*}\n",
        "y &= y_+(x,t) + y_-(x,t)&\\\\\n",
        "   &= A \\sin (kx - \\omega t ) +  = A \\sin (kx + \\omega t )&\n",
        "\\end{align*}\n",
        "ここで正弦加法定理 $\\sin(\\alpha \\pm \\beta) = \\sin\\alpha\\cos\\beta \\pm \\cos\\alpha\\sin\\beta$を利用すると\n",
        "\\begin{align*}\n",
        "y =& A \\sin kx \\cos\\omega t - \\bcancel{A\\cos kx \\sin\\omega t}&\\\\\n",
        "&+ A \\sin kx \\cos \\omega t + \\bcancel{A\\cos kx \\sin \\omega t}&\\\\\n",
        "&= 2A \\sin kx \\cos \\omega t&\n",
        "\\end{align*}\n",
        "\n",
        "合成波を分けて考えると\n",
        "\\begin{align*}\n",
        "y & = \\left[ 2A \\sin kx \\cos \\right] \\cos \\omega t&\n",
        "\\end{align*}\n",
        "- (点$x$での)振幅: $\\quad 2A \\sin kx$\n",
        "- 時間変動: $\\quad -1 \\leqq \\cos \\omega t \\leqq 1$\n",
        "\n",
        "\n",
        "初期位相をゼロとしない場合は\n",
        "\\begin{align*}\n",
        "\\alpha_+ &= \\dfrac{\\alpha_- + \\alpha_+}{2} +\\dfrac{\\alpha_- - \\alpha_+}{2} &\\\\\n",
        "\\alpha_- &= \\dfrac{\\alpha_- + \\alpha_+}{2} -\\dfrac{\\alpha_- - \\alpha_+}{2} &\n",
        "\\end{align*}\n",
        "を利用することで, 同様な関係を導くことができます."
      ]
    },
    {
      "cell_type": "markdown",
      "metadata": {
        "colab_type": "text",
        "id": "3rf442G0q64G"
      },
      "source": [
        "![https://commons.wikimedia.org/wiki/File:Standing_wave.gif](https://upload.wikimedia.org/wikipedia/commons/8/8c/Standing_wave.gif)\n",
        "\n",
        "![https://commons.wikimedia.org/wiki/File:Standing_wave_2.gif](https://upload.wikimedia.org/wikipedia/commons/7/7d/Standing_wave_2.gif)"
      ]
    }
  ]
}