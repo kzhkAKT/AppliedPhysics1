{
  "nbformat": 4,
  "nbformat_minor": 0,
  "metadata": {
    "colab": {
      "name": "2430_音の3要素_応用物理1",
      "provenance": [],
      "authorship_tag": "ABX9TyOeBwORgNbP2NrsSnpXCQN3",
      "include_colab_link": true
    },
    "kernelspec": {
      "name": "python3",
      "display_name": "Python 3"
    }
  },
  "cells": [
    {
      "cell_type": "markdown",
      "metadata": {
        "id": "view-in-github",
        "colab_type": "text"
      },
      "source": [
        "<a href=\"https://colab.research.google.com/github/kzhkAKT/AppliedPhysics1/blob/master/2430_%E9%9F%B3%E3%81%AE3%E8%A6%81%E7%B4%A0_%E5%BF%9C%E7%94%A8%E7%89%A9%E7%90%861.ipynb\" target=\"_parent\"><img src=\"https://colab.research.google.com/assets/colab-badge.svg\" alt=\"Open In Colab\"/></a>"
      ]
    },
    {
      "cell_type": "markdown",
      "metadata": {
        "id": "aV-Tvzck5Wwz",
        "colab_type": "text"
      },
      "source": [
        "# 音波\n"
      ]
    },
    {
      "cell_type": "markdown",
      "metadata": {
        "id": "3e_K8Yz958Tb",
        "colab_type": "text"
      },
      "source": [
        "## 音の3要素"
      ]
    },
    {
      "cell_type": "markdown",
      "metadata": {
        "id": "wNIGXDc35_nr",
        "colab_type": "text"
      },
      "source": [
        "### 音の高さ: Pitch ~ $f$: 振動数\n",
        "\n",
        "#### 可聴音\n",
        "\n",
        "人が聞くことができる音の振動数(h=human, L=low pitch, H=high pitch)\n",
        "\n",
        ">> **$\\qquad f_{\\rm h:L} =20 {\\rm \\ Hz} \n",
        "\\sim 20 {\\rm kHz}= 20 \\times 10^3 {\\rm Hz} = f_{\\rm h:H}$**\n",
        "\n",
        "(h=human, L=low pitch, H=high)\n",
        "\n",
        "##### 超音波: Ultrasound / Ultrasonic\n",
        " \n",
        "> $f_{\\rm U} > f_{\\rm h:H}= 20 \\times 10^3 {\\rm Hz}$\n",
        "\n",
        "##### 超低音波: Infrasound\n",
        "\n",
        "> $f_{\\rm I} < f_{\\rm l:H}= 20 {\\rm Hz}$"
      ]
    },
    {
      "cell_type": "markdown",
      "metadata": {
        "id": "XHPUWzJW9JlX",
        "colab_type": "text"
      },
      "source": [
        "#### オクターブ/Octave: 振動数の比較"
      ]
    },
    {
      "cell_type": "code",
      "metadata": {
        "id": "1HPpat2Y9eGu",
        "colab_type": "code",
        "cellView": "form",
        "colab": {
          "base_uri": "https://localhost:8080/",
          "height": 336
        },
        "outputId": "a15cf9e9-be55-43e0-9391-8cf2a4560817"
      },
      "source": [
        "#@title NHKの時報: 440 Hz から 880 Hz\n",
        "%%html\n",
        "<iframe width=\"560\" height=\"315\" src=\"https://www.youtube-nocookie.com/embed/KTmZ6K4qvug\" frameborder=\"0\" allow=\"accelerometer; autoplay; encrypted-media; gyroscope; picture-in-picture\" allowfullscreen></iframe>"
      ],
      "execution_count": null,
      "outputs": [
        {
          "output_type": "display_data",
          "data": {
            "text/html": [
              "<iframe width=\"560\" height=\"315\" src=\"https://www.youtube-nocookie.com/embed/KTmZ6K4qvug\" frameborder=\"0\" allow=\"accelerometer; autoplay; encrypted-media; gyroscope; picture-in-picture\" allowfullscreen></iframe>"
            ],
            "text/plain": [
              "<IPython.core.display.HTML object>"
            ]
          },
          "metadata": {
            "tags": []
          }
        }
      ]
    },
    {
      "cell_type": "markdown",
      "metadata": {
        "id": "_6HRWGRX9ruQ",
        "colab_type": "text"
      },
      "source": [
        "オクターブの(簡潔な)定義\n",
        "\n",
        "- 基準音の振動数を $f_0$\n",
        "- 測定したい音の振動数を $f$\n",
        "\n",
        "すると\n",
        "\\begin{align*}\n",
        "{\\rm Number\\ of\\ octave} =  \\log_2 \\left( \\dfrac{f}{f_0} \\right)\n",
        "\\end{align*}\n",
        "\n",
        "> Q. 教科書 p122 にある(声楽)バスを基準とし, (声楽)ソプラノをオクターブで比較してください."
      ]
    },
    {
      "cell_type": "markdown",
      "metadata": {
        "id": "QA9xp_kh9dko",
        "colab_type": "text"
      },
      "source": [
        "#### 回折: 音波の直進性\n",
        "\n",
        "気温が一定なら, 音速は一定になります.\n",
        "\\begin{align*}\n",
        "V = 331.5  + 0.6\\  t\n",
        "\\end{align*}\n",
        "\n",
        "波の基本式から\n",
        "\\begin{align*}\n",
        "V &= \\lambda \\cdot f&\n",
        "\\end{align*}\n",
        "\n",
        "よって, 等温での音波の波長は\n",
        "\\begin{align*}\n",
        "\\lambda &= \\dfrac{V}{f}&\n",
        "\\end{align*}\n",
        "で与えられます\n",
        "\n",
        "このことから, \n",
        "- 振動数が大きければ, 波長は小さくなる :: 直進する\n",
        "- 振動数が小さければ, 波長は大きくなる :: 回折する\n",
        "\n",
        "\n",
        "\n"
      ]
    },
    {
      "cell_type": "code",
      "metadata": {
        "id": "2cC3gChRAJRU",
        "colab_type": "code",
        "colab": {
          "base_uri": "https://localhost:8080/",
          "height": 336
        },
        "outputId": "3b0de86f-20ab-4519-b2b5-865471277d5c"
      },
      "source": [
        "%%html\n",
        "<iframe width=\"560\" height=\"315\" src=\"https://www.youtube-nocookie.com/embed/BH0NfVUTWG4\" frameborder=\"0\" allow=\"accelerometer; autoplay; encrypted-media; gyroscope; picture-in-picture\" allowfullscreen></iframe>"
      ],
      "execution_count": null,
      "outputs": [
        {
          "output_type": "display_data",
          "data": {
            "text/html": [
              "<iframe width=\"560\" height=\"315\" src=\"https://www.youtube-nocookie.com/embed/BH0NfVUTWG4\" frameborder=\"0\" allow=\"accelerometer; autoplay; encrypted-media; gyroscope; picture-in-picture\" allowfullscreen></iframe>"
            ],
            "text/plain": [
              "<IPython.core.display.HTML object>"
            ]
          },
          "metadata": {
            "tags": []
          }
        }
      ]
    },
    {
      "cell_type": "code",
      "metadata": {
        "id": "VxkiuN1MAC5c",
        "colab_type": "code",
        "colab": {
          "base_uri": "https://localhost:8080/",
          "height": 336
        },
        "outputId": "9a637038-2509-4e6b-a1b8-df662e78f194"
      },
      "source": [
        "%%html\n",
        "<iframe width=\"560\" height=\"315\" src=\"https://www.youtube-nocookie.com/embed/qiyDbgwGhlg\" frameborder=\"0\" allow=\"accelerometer; autoplay; encrypted-media; gyroscope; picture-in-picture\" allowfullscreen></iframe>"
      ],
      "execution_count": null,
      "outputs": [
        {
          "output_type": "display_data",
          "data": {
            "text/html": [
              "<iframe width=\"560\" height=\"315\" src=\"https://www.youtube-nocookie.com/embed/qiyDbgwGhlg\" frameborder=\"0\" allow=\"accelerometer; autoplay; encrypted-media; gyroscope; picture-in-picture\" allowfullscreen></iframe>"
            ],
            "text/plain": [
              "<IPython.core.display.HTML object>"
            ]
          },
          "metadata": {
            "tags": []
          }
        }
      ]
    },
    {
      "cell_type": "markdown",
      "metadata": {
        "id": "KfuXzABS6G4S",
        "colab_type": "text"
      },
      "source": [
        "### 音の強さ: Loudness (intensity) ~ E: エネルギー"
      ]
    },
    {
      "cell_type": "markdown",
      "metadata": {
        "id": "EQzaBEbDAPmh",
        "colab_type": "text"
      },
      "source": [
        "#### 単振動の復習\n",
        "\n",
        "波源の振動\n",
        "\\begin{align*}\n",
        "ma &= F = -ky_0 &\\\\\n",
        "y_0 &= A \\sin\\left(\\omega t \\right)&\n",
        "\\end{align*}\n",
        "\n",
        "\\begin{align*}\n",
        "a &= -A\\omega^2 \\sin(\\omega t)= - \\omega ^2 y_0 = -\\dfrac{k}{m} y&\n",
        "\\end{align*}\n",
        "\n",
        "\\begin{align*}\n",
        "\\omega &= \\sqrt{\\dfrac{k}{m}}&\\\\\n",
        "2 \\pi f &= \\sqrt{\\dfrac{k}{m}}&\\\\\n",
        "f &= \\dfrac{1}{2\\pi} \\sqrt{\\dfrac{k}{m}}&\n",
        "\\end{align*}\n",
        "\n"
      ]
    },
    {
      "cell_type": "markdown",
      "metadata": {
        "id": "CfCJCYo7Bzvi",
        "colab_type": "text"
      },
      "source": [
        "##### 波の変位と速度\n",
        "\n",
        "波の変位\n",
        "\\begin{align*}\n",
        "y &= A \\sin\\left(\\omega t -kx \\right)&\n",
        "\\end{align*}\n",
        "\n",
        "波の速度\n",
        "\n",
        "\\begin{align*}\n",
        "v_y &= \\dfrac{\\partial y}{\\partial t} = \\omega A \\cos\\left(\\omega t -kx \\right)&\n",
        "\\end{align*}\n",
        "\n",
        "\n"
      ]
    },
    {
      "cell_type": "markdown",
      "metadata": {
        "id": "J0MQZ-lcBlol",
        "colab_type": "text"
      },
      "source": [
        "#### ばね定数 $k$ のばねがもつ力学的エネルギー\n",
        "\n",
        "\\begin{align*}\n",
        "E = \\dfrac{1}{2} m v_y^2 + \\frac{1}{2} k y^2\n",
        "\\end{align*}\n"
      ]
    },
    {
      "cell_type": "markdown",
      "metadata": {
        "id": "wgr2oAoR6RuW",
        "colab_type": "text"
      },
      "source": [
        "### 音色: Quality (timbre) ~ waveform: 波形"
      ]
    },
    {
      "cell_type": "markdown",
      "metadata": {
        "id": "C-geM4HADN-K",
        "colab_type": "text"
      },
      "source": [
        "## 純音\n",
        "\n",
        "## 音色"
      ]
    }
  ]
}