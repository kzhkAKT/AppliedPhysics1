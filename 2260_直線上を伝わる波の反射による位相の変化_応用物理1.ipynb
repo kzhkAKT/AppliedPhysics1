{
  "nbformat": 4,
  "nbformat_minor": 0,
  "metadata": {
    "colab": {
      "name": "2260_直線上を伝わる波の反射による位相の変化_応用物理1.ipynb",
      "provenance": [],
      "collapsed_sections": [],
      "authorship_tag": "ABX9TyMAiCikz6R2y12qXw6Qe469",
      "include_colab_link": true
    },
    "kernelspec": {
      "name": "python3",
      "display_name": "Python 3"
    }
  },
  "cells": [
    {
      "cell_type": "markdown",
      "metadata": {
        "id": "view-in-github",
        "colab_type": "text"
      },
      "source": [
        "<a href=\"https://colab.research.google.com/github/kzhkAKT/AppliedPhysics1/blob/draft/2260_%E7%9B%B4%E7%B7%9A%E4%B8%8A%E3%82%92%E4%BC%9D%E3%82%8F%E3%82%8B%E6%B3%A2%E3%81%AE%E5%8F%8D%E5%B0%84%E3%81%AB%E3%82%88%E3%82%8B%E4%BD%8D%E7%9B%B8%E3%81%AE%E5%A4%89%E5%8C%96_%E5%BF%9C%E7%94%A8%E7%89%A9%E7%90%861.ipynb\" target=\"_parent\"><img src=\"https://colab.research.google.com/assets/colab-badge.svg\" alt=\"Open In Colab\"/></a>"
      ]
    },
    {
      "cell_type": "markdown",
      "metadata": {
        "id": "IAqGJaKv3sGz",
        "colab_type": "text"
      },
      "source": [
        "# 波動"
      ]
    },
    {
      "cell_type": "markdown",
      "metadata": {
        "id": "3rMNXkSb3uGs",
        "colab_type": "text"
      },
      "source": [
        "## 直線上を伝わる波"
      ]
    },
    {
      "cell_type": "code",
      "metadata": {
        "id": "P2vsAl46bNu5",
        "colab_type": "code",
        "cellView": "form",
        "outputId": "fc38f81a-67d9-42b2-f2ea-a12182512bf5",
        "colab": {
          "base_uri": "https://localhost:8080/",
          "height": 265
        }
      },
      "source": [
        "#@title 正弦関数: y = sin (x)\n",
        "%matplotlib inline\n",
        "import matplotlib as mpl\n",
        "import matplotlib.pyplot as plt\n",
        "import numpy as np\n",
        "\n",
        "x = np.linspace(0, 10, 100)\n",
        "\n",
        "fig = plt.figure()\n",
        "plt.axhline(y=0, color='k',linestyle='dashed', linewidth=0.5)\n",
        "plt.plot(x, np.sin(x), '-')\n",
        "plt.grid(b=None, which='major', axis='both')"
      ],
      "execution_count": 0,
      "outputs": [
        {
          "output_type": "display_data",
          "data": {
            "image/png": "[encoded data removed]",
            "text/plain": [
              "<Figure size 432x288 with 1 Axes>"
            ]
          },
          "metadata": {
            "tags": [],
            "needs_background": "light"
          }
        }
      ]
    },
    {
      "cell_type": "markdown",
      "metadata": {
        "id": "aQUjOUH69Ur0",
        "colab_type": "text"
      },
      "source": [
        "> Q. 上の図 $y=\\sin x$ について次の問いに答えてください.\n",
        "1. 横軸が幾つのとき山になっていますか\n",
        "2. 横軸が幾つのとき谷になっていますか\n",
        "3. 隣接する山と谷の横軸の差はいくつでしょう?"
      ]
    },
    {
      "cell_type": "markdown",
      "metadata": {
        "id": "jLybz9NT3zIK",
        "colab_type": "text"
      },
      "source": [
        "### 直線上を伝わる波の反射による位相の変化"
      ]
    },
    {
      "cell_type": "code",
      "metadata": {
        "id": "1PyHc7HUIsU3",
        "colab_type": "code",
        "cellView": "form",
        "outputId": "c73d5b28-103c-4bb8-ac90-aa6dcf295e4c",
        "colab": {
          "base_uri": "https://localhost:8080/",
          "height": 475
        }
      },
      "source": [
        "#@title wave machine を伝わる山波の 自由端 での反射: (Slow Mothon + Pulse + Loose End + Damping:None)\n",
        "%%html\n",
        "<iframe src=\"https://phet.colorado.edu/sims/html/wave-on-a-string/latest/wave-on-a-string_en.html\" width=\"600\" height=\"450\" scrolling=\"no\" allowfullscreen></iframe>"
      ],
      "execution_count": 0,
      "outputs": [
        {
          "output_type": "display_data",
          "data": {
            "text/html": [
              "<iframe src=\"https://phet.colorado.edu/sims/html/wave-on-a-string/latest/wave-on-a-string_en.html\" width=\"600\" height=\"450\" scrolling=\"no\" allowfullscreen></iframe>"
            ],
            "text/plain": [
              "<IPython.core.display.HTML object>"
            ]
          },
          "metadata": {
            "tags": []
          }
        }
      ]
    },
    {
      "cell_type": "code",
      "metadata": {
        "colab_type": "code",
        "cellView": "form",
        "outputId": "f653496d-5a79-443d-c0c1-688ff42f88bf",
        "id": "jDpEns378qoy",
        "colab": {
          "base_uri": "https://localhost:8080/",
          "height": 475
        }
      },
      "source": [
        "#@title wave machine を伝わる山波の 固定端 での反射: (Slow Mothon + Pulse + Fixed End + Damping:None)\n",
        "%%html\n",
        "<iframe src=\"https://phet.colorado.edu/sims/html/wave-on-a-string/latest/wave-on-a-string_en.html\" width=\"600\" height=\"450\" scrolling=\"no\" allowfullscreen></iframe>"
      ],
      "execution_count": 1,
      "outputs": [
        {
          "output_type": "display_data",
          "data": {
            "text/html": [
              "<iframe src=\"https://phet.colorado.edu/sims/html/wave-on-a-string/latest/wave-on-a-string_en.html\" width=\"600\" height=\"450\" scrolling=\"no\" allowfullscreen></iframe>"
            ],
            "text/plain": [
              "<IPython.core.display.HTML object>"
            ]
          },
          "metadata": {
            "tags": []
          }
        }
      ]
    }
  ]
}