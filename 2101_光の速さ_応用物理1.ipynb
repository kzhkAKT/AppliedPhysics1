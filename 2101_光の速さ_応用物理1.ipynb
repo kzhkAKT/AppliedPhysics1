{
  "nbformat": 4,
  "nbformat_minor": 0,
  "metadata": {
    "colab": {
      "name": "2101_光の速さ_応用物理1",
      "provenance": [],
      "collapsed_sections": [],
      "toc_visible": true,
      "authorship_tag": "ABX9TyOMd5dVUw0gBlsB1urtHJEq",
      "include_colab_link": true
    },
    "kernelspec": {
      "name": "python3",
      "display_name": "Python 3"
    }
  },
  "cells": [
    {
      "cell_type": "markdown",
      "metadata": {
        "id": "view-in-github",
        "colab_type": "text"
      },
      "source": [
        "<a href=\"https://colab.research.google.com/github/kzhkAKT/AppliedPhysics1/blob/draft/2101_%E5%85%89%E3%81%AE%E9%80%9F%E3%81%95_%E5%BF%9C%E7%94%A8%E7%89%A9%E7%90%861.ipynb\" target=\"_parent\"><img src=\"https://colab.research.google.com/assets/colab-badge.svg\" alt=\"Open In Colab\"/></a>"
      ]
    },
    {
      "cell_type": "markdown",
      "metadata": {
        "id": "BgB8W-2GkfFI"
      },
      "source": [
        "# 光の進み方"
      ]
    },
    {
      "cell_type": "markdown",
      "metadata": {
        "id": "85tE4FE8Zqk-"
      },
      "source": [
        "## 光源の種類\n",
        "\n",
        "### 光源 ~ 自ら光るもの\n",
        "\n",
        "以下では, もっとも簡単な光源の名称とその性質を理解します."
      ]
    },
    {
      "cell_type": "markdown",
      "metadata": {
        "id": "BwH8ZPy9aEo9"
      },
      "source": [
        "### 点光源\n",
        "\n",
        "理想的な一点から, 放射状に発光する光源\n",
        "\n",
        "![2D点光源](https://qiita-user-contents.imgix.net/https%3A%2F%2Fqiita-image-store.s3.amazonaws.com%2F0%2F10332%2Fa145111c-e9d6-ba19-9b49-2350b195f13e.png?ixlib=rb-1.2.2&auto=format&gif-q=60&q=75&s=4dbcc5b524e6c7249e1f672411c52ae8)\n",
        "\n",
        "出展: https://qiita.com/uechoco@github/items/95b564f2f5eea8af5d33\n",
        "\n",
        "> 3次元で考えれば, 紙面に向かって手前と後方にも光(矢印)が出ています."
      ]
    },
    {
      "cell_type": "markdown",
      "metadata": {
        "id": "Tot6tAWdwr_5"
      },
      "source": [
        "\n",
        "\n",
        "### 面光源\n",
        "#### 点光源と面光源\n",
        "\n",
        "点光源 | 面光源\n",
        "--- | ---\n",
        "影がはっきりしている. | 半影ができる.\n",
        "\n",
        "![](https://www2.panasonic.biz/jp/lighting/plam/knowledge/modelplan/led/img/varietyLED_101_20577.jpg)\n",
        "\n",
        "出典: https://www2.panasonic.biz/jp/lighting/plam/knowledge/modelplan/led/variety.html\n",
        "![https://www2.panasonic.biz/jp/lighting/plam/knowledge/document/0212.html](https://www2.panasonic.biz/jp/lighting/plam/knowledge/img/0212/01.jpg)\n",
        "\n",
        "出典: https://www2.panasonic.biz/jp/lighting/plam/knowledge/document/0212.html\n",
        "\n",
        "<!--\n",
        "![点光源と面光源(線画)](https://ime.ist.hokudai.ac.jp/~aoki/laboratory07/11/fig06.png)\n",
        "\n",
        "出展\b: https://ime.ist.hokudai.ac.jp/~aoki/laboratory07/11.html\n",
        "\n",
        "![点光源と面光源(CG)](http://www.rsch.tuis.ac.jp/~naka/naka/scola/member/chapter5_html/image/066.gif)\n",
        "\n",
        "出展: http://www.rsch.tuis.ac.jp/~naka/naka/scola/member/chapter5_html/chapter5.html\n",
        "-->\n",
        "\n",
        "#### 光源と眼に映る物体\n",
        "1. 点光源が{一直線,面上}に集まれば, 面光源が出来上がります.\n",
        "2. 我々の眼に映る物体は, 距離の情報を取り去れば, 面光源と捉えることができます.\n",
        "\n"
      ]
    },
    {
      "cell_type": "markdown",
      "metadata": {
        "id": "KAWPQ__XZcNF"
      },
      "source": [
        "## 平行光線\n",
        "\n",
        ">「光源の光は，放射状に広がるが，光源が無限に遠くにあるとき，光線は平行であるとして扱うことができる。例: 太陽からの光は，地上では平行光線とみなせる。」\n",
        "\n",
        "出展: https://kids.gakken.co.jp/jiten/dictionary06400033/\n",
        "\n",
        "<img src=\"https://www.dainippon-tosho.co.jp/science_cafe/047/images/sc047p4_01.png\" alt=\"第47会目 鏡と太陽\" width=70%>\n",
        "\n",
        "出展: https://www.dainippon-tosho.co.jp/science_cafe/047/index04.html"
      ]
    },
    {
      "cell_type": "markdown",
      "metadata": {
        "id": "YlgLhkPni92J"
      },
      "source": [
        "## 光の速さ\n",
        "\n",
        "### 光速 $c$ の値\n",
        "\n",
        "(真空中の)光速の記号: $c$\n",
        "> 語源: *celeritas* ~ celer (“fast, swift”) +‎ -itās in Latin\n",
        "\n",
        "$\n",
        "\\begin{align*}\n",
        "c &= 2.997925 \\times 10^8\\ {\\rm m/s}&\\\\\n",
        "&\\approx 3.0 \\times 10^8 \\ {\\rm m/s}\n",
        "\\end{align*}\n",
        "$"
      ]
    },
    {
      "cell_type": "code",
      "metadata": {
        "id": "9fx16Xb_jJqD",
        "cellView": "form",
        "colab": {
          "base_uri": "https://localhost:8080/",
          "height": 574
        },
        "outputId": "6d9f2791-87ea-4987-a1bc-35d26ca26750"
      },
      "source": [
        "#@title 一秒間に地球を約7.5周\n",
        "%%html\n",
        "<iframe src='https://gfycat.com/ifr/CavernousSpotlessGalapagosmockingbird' frameborder='0' scrolling='no' allowfullscreen width='640' height='524'></iframe><p> <a href=\"https://gfycat.com/cavernousspotlessgalapagosmockingbird\">via Gfycat</a></p>"
      ],
      "execution_count": null,
      "outputs": [
        {
          "output_type": "display_data",
          "data": {
            "text/html": [
              "<iframe src='https://gfycat.com/ifr/CavernousSpotlessGalapagosmockingbird' frameborder='0' scrolling='no' allowfullscreen width='640' height='524'></iframe><p> <a href=\"https://gfycat.com/cavernousspotlessgalapagosmockingbird\">via Gfycat</a></p>"
            ],
            "text/plain": [
              "<IPython.core.display.HTML object>"
            ]
          },
          "metadata": {
            "tags": []
          }
        }
      ]
    },
    {
      "cell_type": "markdown",
      "metadata": {
        "id": "UNA7H5-1ehW6"
      },
      "source": [
        "### 光速測定の歴史"
      ]
    },
    {
      "cell_type": "code",
      "metadata": {
        "id": "WunUbwxPfyGC",
        "cellView": "form",
        "colab": {
          "base_uri": "https://localhost:8080/",
          "height": 336
        },
        "outputId": "133d1f00-cace-43fb-8331-446a66dea8f2"
      },
      "source": [
        "#@title Galileo (1638) inconclusive\n",
        "%%html\n",
        "<iframe width=\"560\" height=\"315\" src=\"https://www.youtube-nocookie.com/embed/vgmQtJq6WhY?start=7\" frameborder=\"0\" allow=\"accelerometer; autoplay; encrypted-media; gyroscope; picture-in-picture\" allowfullscreen></iframe>"
      ],
      "execution_count": null,
      "outputs": [
        {
          "output_type": "display_data",
          "data": {
            "text/html": [
              "<iframe width=\"560\" height=\"315\" src=\"https://www.youtube-nocookie.com/embed/vgmQtJq6WhY?start=7\" frameborder=\"0\" allow=\"accelerometer; autoplay; encrypted-media; gyroscope; picture-in-picture\" allowfullscreen></iframe>"
            ],
            "text/plain": [
              "<IPython.core.display.HTML object>"
            ]
          },
          "metadata": {
            "tags": []
          }
        }
      ]
    },
    {
      "cell_type": "code",
      "metadata": {
        "id": "zRaSF5KTewGx",
        "cellView": "form",
        "colab": {
          "base_uri": "https://localhost:8080/",
          "height": 336
        },
        "outputId": "fedba435-03da-471b-de70-a259886b6170"
      },
      "source": [
        "#@title Romer (1675) ~ DG No.382 \n",
        "%%html\n",
        "<iframe width=\"560\" height=\"315\" src=\"https://www.youtube-nocookie.com/embed/jx9YLRJEc7w\" frameborder=\"0\" allow=\"accelerometer; autoplay; encrypted-media; gyroscope; picture-in-picture\" allowfullscreen></iframe>"
      ],
      "execution_count": null,
      "outputs": [
        {
          "output_type": "display_data",
          "data": {
            "text/html": [
              "<iframe width=\"560\" height=\"315\" src=\"https://www.youtube-nocookie.com/embed/jx9YLRJEc7w\" frameborder=\"0\" allow=\"accelerometer; autoplay; encrypted-media; gyroscope; picture-in-picture\" allowfullscreen></iframe>"
            ],
            "text/plain": [
              "<IPython.core.display.HTML object>"
            ]
          },
          "metadata": {
            "tags": []
          }
        }
      ]
    },
    {
      "cell_type": "code",
      "metadata": {
        "id": "B7rZr8MTgRMM",
        "cellView": "form",
        "colab": {
          "base_uri": "https://localhost:8080/",
          "height": 336
        },
        "outputId": "e1fe8611-63bd-4292-d6f1-3b04e10a1c50"
      },
      "source": [
        "#@title Fizeau (1849) LG p13 2.1 No.1\n",
        "%%html\n",
        "<iframe width=\"560\" height=\"315\" src=\"https://www.youtube-nocookie.com/embed/7JpDOhUzkME?start=7\" frameborder=\"0\" allow=\"accelerometer; autoplay; encrypted-media; gyroscope; picture-in-picture\" allowfullscreen></iframe>"
      ],
      "execution_count": null,
      "outputs": [
        {
          "output_type": "display_data",
          "data": {
            "text/html": [
              "<iframe width=\"560\" height=\"315\" src=\"https://www.youtube-nocookie.com/embed/7JpDOhUzkME?start=7\" frameborder=\"0\" allow=\"accelerometer; autoplay; encrypted-media; gyroscope; picture-in-picture\" allowfullscreen></iframe>"
            ],
            "text/plain": [
              "<IPython.core.display.HTML object>"
            ]
          },
          "metadata": {
            "tags": []
          }
        }
      ]
    },
    {
      "cell_type": "markdown",
      "metadata": {
        "id": "B_v6XzcVfNMC"
      },
      "source": [
        "## 光速を利用した測定例\n",
        "### 月レーザー測距実験\n",
        "[Lunar Laser Ranging experiment\b, TEXT p154 2.1](https://pc.watch.impress.co.jp/docs/news/1102484.html)\n",
        "\n"
      ]
    },
    {
      "cell_type": "code",
      "metadata": {
        "id": "AI3sP3yNHMnL",
        "cellView": "form",
        "colab": {
          "base_uri": "https://localhost:8080/",
          "height": 336
        },
        "outputId": "b9ff14ae-710a-4cbd-fce6-31cec5f82077"
      },
      "source": [
        "#@title レーザー距離計\n",
        "%%html\n",
        "<iframe width=\"560\" height=\"315\" src=\"https://www.youtube-nocookie.com/embed/97-6oUhiVvM\" frameborder=\"0\" allow=\"accelerometer; autoplay; encrypted-media; gyroscope; picture-in-picture\" allowfullscreen></iframe>"
      ],
      "execution_count": null,
      "outputs": [
        {
          "output_type": "display_data",
          "data": {
            "text/html": [
              "<iframe width=\"560\" height=\"315\" src=\"https://www.youtube-nocookie.com/embed/97-6oUhiVvM\" frameborder=\"0\" allow=\"accelerometer; autoplay; encrypted-media; gyroscope; picture-in-picture\" allowfullscreen></iframe>"
            ],
            "text/plain": [
              "<IPython.core.display.HTML object>"
            ]
          },
          "metadata": {
            "tags": []
          }
        }
      ]
    },
    {
      "cell_type": "markdown",
      "metadata": {
        "id": "AfFjEPuGJg5X"
      },
      "source": [
        "### 光速度一定を用いた極端紫外領域の波長による測定例\n",
        "\n",
        "[アト秒レーザーで位相を分けた電子波動関数の直接イメージングに成功, 早稲田大学 2017yr](https://www.waseda.jp/top/news/51913)"
      ]
    },
    {
      "cell_type": "code",
      "metadata": {
        "id": "nVrdvx1ZJ79-",
        "cellView": "form",
        "colab": {
          "base_uri": "https://localhost:8080/",
          "height": 336
        },
        "outputId": "b808b177-776d-41d3-9a26-75fe26399af2"
      },
      "source": [
        "#@title 位相を分けた電子波動関数\n",
        "%%html\n",
        "<iframe width=\"560\" height=\"315\" src=\"https://www.youtube-nocookie.com/embed/us7zeTjTJBo\" frameborder=\"0\" allow=\"accelerometer; autoplay; encrypted-media; gyroscope; picture-in-picture\" allowfullscreen></iframe>"
      ],
      "execution_count": null,
      "outputs": [
        {
          "output_type": "display_data",
          "data": {
            "text/html": [
              "<iframe width=\"560\" height=\"315\" src=\"https://www.youtube-nocookie.com/embed/us7zeTjTJBo\" frameborder=\"0\" allow=\"accelerometer; autoplay; encrypted-media; gyroscope; picture-in-picture\" allowfullscreen></iframe>"
            ],
            "text/plain": [
              "<IPython.core.display.HTML object>"
            ]
          },
          "metadata": {
            "tags": []
          }
        }
      ]
    },
    {
      "cell_type": "markdown",
      "metadata": {
        "id": "jzw3x_SFFKbY"
      },
      "source": [
        "## 光速の重要な性質\n",
        "\n",
        "- 障害物(時空の歪み含む)がない限り真っ直ぐ進む\n",
        "- **真空中 では**, *観測者や光源の速度によらず*, **光速 c 一定の速度になる** (\b要特殊相対性理論). \n",
        "  <!-- - この講義では扱えないが, 特定条件で僅かに遅れる場合が, 2015年に報告されている. http://www.doi.org/10.1126/science.aaa3035 -->\n",
        "- 真空以外で光が透過する場合は, 真空中の光速より遅くなる.\n"
      ]
    },
    {
      "cell_type": "markdown",
      "metadata": {
        "id": "wUhsUO79ZiSO"
      },
      "source": [
        "## 追加教材\n",
        "\n",
        "### 中学生向け\n",
        "\n",
        "- [光の直進から速さまで、光と科学者2000年の歴史, パブリック・教育コンテンツ Menon Network](https://menon.network/light-basic/)\n",
        "\n",
        "\n",
        "### 読み物\n",
        "\n",
        "\n",
        "+ [PDF: 光速測定の歴史と天文学 - 天文教育普及研究会](https://tenkyo.net/kaiho/pdf/2008_09/2008-09-05.pdf)\n",
        "\n",
        "\n",
        "## 動画\n",
        "**データ通信量を消費します** 閲覧に注意してください"
      ]
    },
    {
      "cell_type": "code",
      "metadata": {
        "id": "mKqlDDQxKsZ6",
        "cellView": "form",
        "colab": {
          "base_uri": "https://localhost:8080/",
          "height": 336
        },
        "outputId": "03795b7f-ca81-487c-f1d9-ddd1d83752ba"
      },
      "source": [
        "#@title 目視から回転歯車まで！光の速さはどう測る？\n",
        "%%html\n",
        "<iframe width=\"560\" height=\"315\" src=\"https://www.youtube-nocookie.com/embed/p3MrNShSq-Y\" frameborder=\"0\" allow=\"accelerometer; autoplay; encrypted-media; gyroscope; picture-in-picture\" allowfullscreen></iframe>"
      ],
      "execution_count": null,
      "outputs": [
        {
          "output_type": "display_data",
          "data": {
            "text/html": [
              "<iframe width=\"560\" height=\"315\" src=\"https://www.youtube-nocookie.com/embed/p3MrNShSq-Y\" frameborder=\"0\" allow=\"accelerometer; autoplay; encrypted-media; gyroscope; picture-in-picture\" allowfullscreen></iframe>"
            ],
            "text/plain": [
              "<IPython.core.display.HTML object>"
            ]
          },
          "metadata": {
            "tags": []
          }
        }
      ]
    },
    {
      "cell_type": "markdown",
      "metadata": {
        "id": "K-d9ZRIR5TFY"
      },
      "source": [
        "## 講義中の問題\n",
        "\n",
        "### 速度の単位の確認\n",
        "速度には単位時間( ${1\\ {\\rm s}}$) が隠れています.\n",
        "> $ 5 \\ {\\rm m/s} = \\dfrac{5 \\ {\\rm m}}{1\\ {\\rm s}}$\n",
        "\n",
        "### 光速が一秒間に地球を 7.5 周することを利用して, 地球の円周を求めよ.\n",
        "  - 「一秒間に7.5 周する」= $7.5\\ \\ {\\rm 1/s}$ と書ける. では単位 1/s を別の単位で表せ.\n",
        "  > 1/s = Hz(ヘルツ), 地球の円周を $\\ell$, 光速を $c$, 回転数を $f= 7.5\\ \\ {\\rm Hz}$ とすると,  \n",
        "   $\\ell = \\dfrac{c}{f} \n",
        "   =\\dfrac{3.0\\times 10^8\\ {\\rm m/s}}{7.5\\ \\ {\\rm 1/s}} \n",
        "   =\\dfrac{3.0\\times 10^8\\ {\\rm m}}{7.5} \n",
        "   =0.4\\times 10^8\\ {\\rm m} \n",
        "   =4.0\\times 10^7\\ {\\rm m} $\n",
        "\n",
        "### 演習書より\n",
        "> 下記の問題の基本方針は, 光速が一定であるとして $c=\\dfrac{L}{t}$ を利用する.\n",
        "\n",
        "1. LG p13 2.1.1\n",
        "1. 教科書 p154 2.1\n",
        "  > 地球と月の距離を $\\ell$ .  往復 $L=\\ell+\\ell,\\quad c=\\dfrac{2\\ell}{t}, \\quad \\ell = \\dfrac{ct}{2}  $\n",
        "1. DG p68 No.380 の後半"
      ]
    }
  ]
}