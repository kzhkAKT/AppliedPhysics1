{
  "nbformat": 4,
  "nbformat_minor": 0,
  "metadata": {
    "colab": {
      "name": "2450_音の回折と干渉_応用物理1",
      "provenance": [],
      "authorship_tag": "ABX9TyMUw4i4gge8sYcKolUo05No",
      "include_colab_link": true
    },
    "kernelspec": {
      "name": "python3",
      "display_name": "Python 3"
    }
  },
  "cells": [
    {
      "cell_type": "markdown",
      "metadata": {
        "id": "view-in-github",
        "colab_type": "text"
      },
      "source": [
        "<a href=\"https://colab.research.google.com/github/kzhkAKT/AppliedPhysics1/blob/draft/2450_%E9%9F%B3%E3%81%AE%E5%9B%9E%E6%8A%98%E3%81%A8%E5%B9%B2%E6%B8%89_%E5%BF%9C%E7%94%A8%E7%89%A9%E7%90%861.ipynb\" target=\"_parent\"><img src=\"https://colab.research.google.com/assets/colab-badge.svg\" alt=\"Open In Colab\"/></a>"
      ]
    },
    {
      "cell_type": "markdown",
      "metadata": {
        "id": "jlVWFfaBk6BK"
      },
      "source": [
        "# 音波"
      ]
    },
    {
      "cell_type": "markdown",
      "metadata": {
        "id": "q7uA5a3Dk9Xl"
      },
      "source": [
        "## 音の回折と干渉"
      ]
    },
    {
      "cell_type": "markdown",
      "metadata": {
        "id": "_rgdgJd6JlNp"
      },
      "source": [
        "${\\rm 100\\ Hz = 10^2\\ Hz < }$ 人の声の振動数  ${\\rm < 10^3\\ Hz = 1000\\ Hz}$"
      ]
    },
    {
      "cell_type": "markdown",
      "metadata": {
        "id": "I12nTLSJAJnE"
      },
      "source": [
        "> Q. 気温 t = 30℃ (無風)のとき, 人の声の波長を概算せよ\n",
        "\n",
        "// 答えは教科書 p125 参照"
      ]
    },
    {
      "cell_type": "markdown",
      "metadata": {
        "id": "CLgoKy60lIBQ"
      },
      "source": [
        "### 音の回折: 回り込み"
      ]
    },
    {
      "cell_type": "code",
      "metadata": {
        "cellView": "form",
        "id": "yPTovyAillXv",
        "colab": {
          "base_uri": "https://localhost:8080/",
          "height": 475
        },
        "outputId": "53f16b12-3a9e-4ca3-b4d3-ac6ec6db44eb"
      },
      "source": [
        "#@title 音の回折: シミュレーション [Slits+Speaker]\n",
        "%%html\n",
        "<iframe src=\"https://phet.colorado.edu/sims/html/wave-interference/latest/wave-interference_en.html\" width=\"600\" height=\"450\" scrolling=\"no\" allowfullscreen></iframe>"
      ],
      "execution_count": null,
      "outputs": [
        {
          "output_type": "display_data",
          "data": {
            "text/html": [
              "<iframe src=\"https://phet.colorado.edu/sims/html/wave-interference/latest/wave-interference_en.html\" width=\"600\" height=\"450\" scrolling=\"no\" allowfullscreen></iframe>"
            ],
            "text/plain": [
              "<IPython.core.display.HTML object>"
            ]
          },
          "metadata": {
            "tags": []
          }
        }
      ]
    },
    {
      "cell_type": "code",
      "metadata": {
        "id": "Tr7ArD_sPhjT",
        "cellView": "form",
        "colab": {
          "base_uri": "https://localhost:8080/",
          "height": 336
        },
        "outputId": "55507eba-c3d2-4430-aa0c-5ba1a3be6847"
      },
      "source": [
        "#@title 音響解析@銀座ホール\n",
        "%%html\n",
        "<iframe width=\"560\" height=\"315\" src=\"https://www.youtube-nocookie.com/embed/Ge0JTU-SWoU\" frameborder=\"0\" allow=\"accelerometer; autoplay; encrypted-media; gyroscope; picture-in-picture\" allowfullscreen></iframe>"
      ],
      "execution_count": null,
      "outputs": [
        {
          "output_type": "display_data",
          "data": {
            "text/html": [
              "<iframe width=\"560\" height=\"315\" src=\"https://www.youtube-nocookie.com/embed/Ge0JTU-SWoU\" frameborder=\"0\" allow=\"accelerometer; autoplay; encrypted-media; gyroscope; picture-in-picture\" allowfullscreen></iframe>"
            ],
            "text/plain": [
              "<IPython.core.display.HTML object>"
            ]
          },
          "metadata": {
            "tags": []
          }
        }
      ]
    },
    {
      "cell_type": "code",
      "source": [
        "#@title ultrasonic difraction\n",
        "%%html\n",
        "<iframe width=\"560\" height=\"315\" src=\"https://www.youtube-nocookie.com/embed/VrgyKFBPQW4?si=5bRAxHIzsEemQhF1\" title=\"YouTube video player\" frameborder=\"0\" allow=\"accelerometer; autoplay; clipboard-write; encrypted-media; gyroscope; picture-in-picture; web-share\" referrerpolicy=\"strict-origin-when-cross-origin\" allowfullscreen></iframe>"
      ],
      "metadata": {
        "cellView": "form",
        "id": "nVB9RGkkCOjL",
        "outputId": "a4e0c06b-1dc5-43db-e6c2-258eb302a79f",
        "colab": {
          "base_uri": "https://localhost:8080/",
          "height": 337
        }
      },
      "execution_count": 1,
      "outputs": [
        {
          "output_type": "display_data",
          "data": {
            "text/plain": [
              "<IPython.core.display.HTML object>"
            ],
            "text/html": [
              "<iframe width=\"560\" height=\"315\" src=\"https://www.youtube-nocookie.com/embed/VrgyKFBPQW4?si=5bRAxHIzsEemQhF1\" title=\"YouTube video player\" frameborder=\"0\" allow=\"accelerometer; autoplay; clipboard-write; encrypted-media; gyroscope; picture-in-picture; web-share\" referrerpolicy=\"strict-origin-when-cross-origin\" allowfullscreen></iframe>\n"
            ]
          },
          "metadata": {}
        }
      ]
    },
    {
      "cell_type": "markdown",
      "metadata": {
        "id": "wtg1w7NilMs-"
      },
      "source": [
        "### 音の干渉"
      ]
    },
    {
      "cell_type": "code",
      "metadata": {
        "id": "6Tsl8TehKfP4",
        "cellView": "form",
        "colab": {
          "base_uri": "https://localhost:8080/",
          "height": 475
        },
        "outputId": "53f16b12-3a9e-4ca3-b4d3-ac6ec6db44eb"
      },
      "source": [
        "#@title 音の干渉: シミュレーション [Interference+Speaker]\n",
        "%%html\n",
        "<iframe src=\"https://phet.colorado.edu/sims/html/wave-interference/latest/wave-interference_en.html\" width=\"600\" height=\"450\" scrolling=\"no\" allowfullscreen></iframe>"
      ],
      "execution_count": null,
      "outputs": [
        {
          "output_type": "display_data",
          "data": {
            "text/html": [
              "<iframe src=\"https://phet.colorado.edu/sims/html/wave-interference/latest/wave-interference_en.html\" width=\"600\" height=\"450\" scrolling=\"no\" allowfullscreen></iframe>"
            ],
            "text/plain": [
              "<IPython.core.display.HTML object>"
            ]
          },
          "metadata": {
            "tags": []
          }
        }
      ]
    },
    {
      "cell_type": "markdown",
      "metadata": {
        "id": "aek76Vf9l6J5"
      },
      "source": [
        "> Q. 教科書 p114 図2.39 と見比べてください。\n",
        "> その上で、音の干渉でも 教科書 p115 (2.19) & (2.20) を理解しましょう."
      ]
    },
    {
      "cell_type": "code",
      "metadata": {
        "id": "94MwPMlKKeXh",
        "cellView": "form",
        "colab": {
          "base_uri": "https://localhost:8080/",
          "height": 336
        },
        "outputId": "32836703-1769-42e6-9d49-eb4810936d28"
      },
      "source": [
        "#@title 音の干渉: 実写\n",
        "%%html\n",
        "<iframe width=\"560\" height=\"315\" src=\"https://www.youtube-nocookie.com/embed/-bOij4uPQ7s\" frameborder=\"0\" allow=\"accelerometer; autoplay; encrypted-media; gyroscope; picture-in-picture\" allowfullscreen></iframe>"
      ],
      "execution_count": null,
      "outputs": [
        {
          "output_type": "display_data",
          "data": {
            "text/html": [
              "<iframe width=\"560\" height=\"315\" src=\"https://www.youtube-nocookie.com/embed/-bOij4uPQ7s\" frameborder=\"0\" allow=\"accelerometer; autoplay; encrypted-media; gyroscope; picture-in-picture\" allowfullscreen></iframe>"
            ],
            "text/plain": [
              "<IPython.core.display.HTML object>"
            ]
          },
          "metadata": {
            "tags": []
          }
        }
      ]
    },
    {
      "cell_type": "code",
      "metadata": {
        "id": "VxkiuN1MAC5c",
        "cellView": "form",
        "colab": {
          "base_uri": "https://localhost:8080/",
          "height": 336
        },
        "outputId": "a2575f10-dac5-4243-da79-f2b06afb907f"
      },
      "source": [
        "#@title (球面波としての)音の回折と干渉: 部屋とコウモリ\n",
        "%%html\n",
        "<iframe width=\"560\" height=\"315\" src=\"https://www.youtube-nocookie.com/embed/qiyDbgwGhlg\" frameborder=\"0\" allow=\"accelerometer; autoplay; encrypted-media; gyroscope; picture-in-picture\" allowfullscreen></iframe>"
      ],
      "execution_count": null,
      "outputs": [
        {
          "output_type": "display_data",
          "data": {
            "text/html": [
              "<iframe width=\"560\" height=\"315\" src=\"https://www.youtube-nocookie.com/embed/qiyDbgwGhlg\" frameborder=\"0\" allow=\"accelerometer; autoplay; encrypted-media; gyroscope; picture-in-picture\" allowfullscreen></iframe>"
            ],
            "text/plain": [
              "<IPython.core.display.HTML object>"
            ]
          },
          "metadata": {
            "tags": []
          }
        }
      ]
    },
    {
      "cell_type": "markdown",
      "metadata": {
        "id": "m2AEd-CImmO9"
      },
      "source": [
        "> Q. LG p20 2.2.39 に取組んでください.\n",
        "\n",
        "> Q. DG no.359 に取組んでください.\n",
        "\n",
        "> Q. DG no.373 に取組んでください."
      ]
    },
    {
      "cell_type": "markdown",
      "source": [],
      "metadata": {
        "id": "IgRuf0HBDtZ8"
      }
    },
    {
      "cell_type": "code",
      "source": [
        "#@title standing with ultrasonic\n",
        "%%html\n",
        "<iframe width=\"560\" height=\"315\" src=\"https://www.youtube-nocookie.com/embed/doxDOlwEblg?si=HEpMyf5lCw09nXk0\" title=\"YouTube video player\" frameborder=\"0\" allow=\"accelerometer; autoplay; clipboard-write; encrypted-media; gyroscope; picture-in-picture; web-share\" referrerpolicy=\"strict-origin-when-cross-origin\" allowfullscreen></iframe>\n"
      ],
      "metadata": {
        "cellView": "form",
        "id": "lC6PjRkmDt3Y",
        "outputId": "f40460c8-ca2f-4dde-e2e6-423cd1ce35b5",
        "colab": {
          "base_uri": "https://localhost:8080/",
          "height": 337
        }
      },
      "execution_count": 3,
      "outputs": [
        {
          "output_type": "display_data",
          "data": {
            "text/plain": [
              "<IPython.core.display.HTML object>"
            ],
            "text/html": [
              "<iframe width=\"560\" height=\"315\" src=\"https://www.youtube-nocookie.com/embed/doxDOlwEblg?si=HEpMyf5lCw09nXk0\" title=\"YouTube video player\" frameborder=\"0\" allow=\"accelerometer; autoplay; clipboard-write; encrypted-media; gyroscope; picture-in-picture; web-share\" referrerpolicy=\"strict-origin-when-cross-origin\" allowfullscreen></iframe>\n"
            ]
          },
          "metadata": {}
        }
      ]
    }
  ]
}