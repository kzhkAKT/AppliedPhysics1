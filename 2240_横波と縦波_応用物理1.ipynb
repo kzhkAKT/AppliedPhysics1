{
  "nbformat": 4,
  "nbformat_minor": 0,
  "metadata": {
    "colab": {
      "name": "2240_横波と縦波_応用物理1.ipynb",
      "provenance": [],
      "authorship_tag": "ABX9TyNPWs56e7zNndWmhu7h9fAx",
      "include_colab_link": true
    },
    "kernelspec": {
      "name": "python3",
      "display_name": "Python 3"
    }
  },
  "cells": [
    {
      "cell_type": "markdown",
      "metadata": {
        "id": "view-in-github",
        "colab_type": "text"
      },
      "source": [
        "<a href=\"https://colab.research.google.com/github/kzhkAKT/AppliedPhysics1/blob/master/2240_%E6%A8%AA%E6%B3%A2%E3%81%A8%E7%B8%A6%E6%B3%A2_%E5%BF%9C%E7%94%A8%E7%89%A9%E7%90%861.ipynb\" target=\"_parent\"><img src=\"https://colab.research.google.com/assets/colab-badge.svg\" alt=\"Open In Colab\"/></a>"
      ]
    },
    {
      "cell_type": "markdown",
      "metadata": {
        "id": "WKsDmEoMaKu-",
        "colab_type": "text"
      },
      "source": [
        "# 直線上を伝わる波"
      ]
    },
    {
      "cell_type": "markdown",
      "metadata": {
        "id": "9lvjCbERaRFg",
        "colab_type": "text"
      },
      "source": [
        "## 横波と縦波"
      ]
    },
    {
      "cell_type": "code",
      "metadata": {
        "id": "Gsoj7gx3YOK7",
        "colab_type": "code",
        "cellView": "form",
        "outputId": "61e060e7-feff-4ca6-d4fc-5f438b38677c",
        "colab": {
          "base_uri": "https://localhost:8080/",
          "height": 336
        }
      },
      "source": [
        "#@title 波動現象の再確認\n",
        "%%html\n",
        "<iframe width=\"560\" height=\"315\" src=\"https://www.youtube-nocookie.com/embed/w2s2fZr8sqQ\" frameborder=\"0\" allow=\"accelerometer; autoplay; encrypted-media; gyroscope; picture-in-picture\" allowfullscreen></iframe>"
      ],
      "execution_count": 0,
      "outputs": [
        {
          "output_type": "display_data",
          "data": {
            "text/html": [
              "<iframe width=\"560\" height=\"315\" src=\"https://www.youtube-nocookie.com/embed/w2s2fZr8sqQ\" frameborder=\"0\" allow=\"accelerometer; autoplay; encrypted-media; gyroscope; picture-in-picture\" allowfullscreen></iframe>"
            ],
            "text/plain": [
              "<IPython.core.display.HTML object>"
            ]
          },
          "metadata": {
            "tags": []
          }
        }
      ]
    },
    {
      "cell_type": "markdown",
      "metadata": {
        "id": "TQCnvAwDaIlu",
        "colab_type": "text"
      },
      "source": [
        "### 横波\n",
        "\n",
        "transverse wave\n",
        " \n",
        "> 媒質の振動方向と波の進行方向が垂直/直交する波動\n",
        "\n"
      ]
    },
    {
      "cell_type": "markdown",
      "metadata": {
        "id": "y5O-6rs1gNpY",
        "colab_type": "text"
      },
      "source": [
        "### 縦波\n",
        "\n",
        "longitudinal wave\n",
        "\n",
        "> 媒質の振動方向と波の進行方向が一致/平行する波動\n",
        "\n",
        "次の動画のように, \n",
        "- 媒質が **疎** の部分\n",
        "- 媒質が **密** の部分\n",
        "\n",
        "交互に生じるため, **疎密波** とも呼ばれます."
      ]
    },
    {
      "cell_type": "code",
      "metadata": {
        "id": "na0pl9xYXQpu",
        "colab_type": "code",
        "cellView": "form",
        "outputId": "8540877c-a8ee-4a52-df6d-f9fe88b44970",
        "colab": {
          "base_uri": "https://localhost:8080/",
          "height": 336
        }
      },
      "source": [
        "#@title 縦波のパスル\b波\n",
        "%%html\n",
        "<iframe width=\"560\" height=\"315\" src=\"https://www.youtube-nocookie.com/embed/ubRlaCCQfDk\" frameborder=\"0\" allow=\"accelerometer; autoplay; encrypted-media; gyroscope; picture-in-picture\" allowfullscreen></iframe>"
      ],
      "execution_count": 0,
      "outputs": [
        {
          "output_type": "display_data",
          "data": {
            "text/html": [
              "<iframe width=\"560\" height=\"315\" src=\"https://www.youtube-nocookie.com/embed/ubRlaCCQfDk\" frameborder=\"0\" allow=\"accelerometer; autoplay; encrypted-media; gyroscope; picture-in-picture\" allowfullscreen></iframe>"
            ],
            "text/plain": [
              "<IPython.core.display.HTML object>"
            ]
          },
          "metadata": {
            "tags": []
          }
        }
      ]
    },
    {
      "cell_type": "code",
      "metadata": {
        "id": "HshTh2niXlHb",
        "colab_type": "code",
        "cellView": "form",
        "outputId": "2b2e8549-17af-44b5-d133-d93aad232b96",
        "colab": {
          "base_uri": "https://localhost:8080/",
          "height": 336
        }
      },
      "source": [
        "#@title 横波(tansverce wave)と縦波(longitudinal wave)の説明\n",
        "%%html\n",
        "<!--<iframe width=\"560\" height=\"315\" src=\"https://www.youtube-nocookie.com/embed/Rbuhdo0AZDU\" frameborder=\"0\" allow=\"accelerometer; autoplay; encrypted-media; gyroscope; picture-in-picture\" allowfullscreen></iframe>-->\n",
        "<iframe width=\"560\" height=\"315\" src=\"https://www.youtube-nocookie.com/embed/0Anh9HthWgQ\" frameborder=\"0\" allow=\"accelerometer; autoplay; encrypted-media; gyroscope; picture-in-picture\" allowfullscreen></iframe>"
      ],
      "execution_count": 0,
      "outputs": [
        {
          "output_type": "display_data",
          "data": {
            "text/html": [
              "<!--<iframe width=\"560\" height=\"315\" src=\"https://www.youtube-nocookie.com/embed/Rbuhdo0AZDU\" frameborder=\"0\" allow=\"accelerometer; autoplay; encrypted-media; gyroscope; picture-in-picture\" allowfullscreen></iframe>-->\n",
              "<iframe width=\"560\" height=\"315\" src=\"https://www.youtube-nocookie.com/embed/0Anh9HthWgQ\" frameborder=\"0\" allow=\"accelerometer; autoplay; encrypted-media; gyroscope; picture-in-picture\" allowfullscreen></iframe>"
            ],
            "text/plain": [
              "<IPython.core.display.HTML object>"
            ]
          },
          "metadata": {
            "tags": []
          }
        }
      ]
    },
    {
      "cell_type": "code",
      "metadata": {
        "id": "-hKFroxyX25X",
        "colab_type": "code",
        "cellView": "form",
        "outputId": "867f65b8-bca0-4296-9365-aa3bcd74ed98",
        "colab": {
          "base_uri": "https://localhost:8080/",
          "height": 336
        }
      },
      "source": [
        "#@title 連続的な縦波/ 音の波(音波)の原理\n",
        "%%html\n",
        "<iframe width=\"560\" height=\"315\" src=\"https://www.youtube-nocookie.com/embed/Bcqp6t4ybxU\" frameborder=\"0\" allow=\"accelerometer; autoplay; encrypted-media; gyroscope; picture-in-picture\" allowfullscreen></iframe>"
      ],
      "execution_count": 0,
      "outputs": [
        {
          "output_type": "display_data",
          "data": {
            "text/html": [
              "<iframe width=\"560\" height=\"315\" src=\"https://www.youtube-nocookie.com/embed/Bcqp6t4ybxU\" frameborder=\"0\" allow=\"accelerometer; autoplay; encrypted-media; gyroscope; picture-in-picture\" allowfullscreen></iframe>"
            ],
            "text/plain": [
              "<IPython.core.display.HTML object>"
            ]
          },
          "metadata": {
            "tags": []
          }
        }
      ]
    },
    {
      "cell_type": "code",
      "metadata": {
        "id": "dKOTqmw_ZlGG",
        "colab_type": "code",
        "cellView": "form",
        "outputId": "f2571183-721f-44d9-ea10-5b090529d064",
        "colab": {
          "base_uri": "https://localhost:8080/",
          "height": 336
        }
      },
      "source": [
        "#@title 音波の伝わる原理: 空気分子の密度変化による縦波(疎密波)\n",
        "%%html\n",
        "<iframe width=\"560\" height=\"315\" src=\"https://www.youtube-nocookie.com/embed/h90zbDXCW5o\" frameborder=\"0\" allow=\"accelerometer; autoplay; encrypted-media; gyroscope; picture-in-picture\" allowfullscreen></iframe>"
      ],
      "execution_count": 0,
      "outputs": [
        {
          "output_type": "display_data",
          "data": {
            "text/html": [
              "<iframe width=\"560\" height=\"315\" src=\"https://www.youtube-nocookie.com/embed/h90zbDXCW5o\" frameborder=\"0\" allow=\"accelerometer; autoplay; encrypted-media; gyroscope; picture-in-picture\" allowfullscreen></iframe>"
            ],
            "text/plain": [
              "<IPython.core.display.HTML object>"
            ]
          },
          "metadata": {
            "tags": []
          }
        }
      ]
    },
    {
      "cell_type": "markdown",
      "metadata": {
        "id": "eR8CVGOobfHb",
        "colab_type": "text"
      },
      "source": [
        "### 縦波から横波への変換\n"
      ]
    },
    {
      "cell_type": "code",
      "metadata": {
        "id": "6adb1FWjbjN9",
        "colab_type": "code",
        "cellView": "form",
        "outputId": "c3b0af88-415f-4d68-ffc0-f14690388425",
        "colab": {
          "base_uri": "https://localhost:8080/",
          "height": 475
        }
      },
      "source": [
        "#@title 疎と密の確認:Choose \"Sound+Slow+Graph+Both\"\n",
        "%%html\n",
        "<iframe src=\"https://phet.colorado.edu/sims/html/waves-intro/latest/waves-intro_en.html\" width=\"600\" height=\"450\" scrolling=\"no\" allowfullscreen></iframe>"
      ],
      "execution_count": 0,
      "outputs": [
        {
          "output_type": "display_data",
          "data": {
            "text/html": [
              "<iframe src=\"https://phet.colorado.edu/sims/html/waves-intro/latest/waves-intro_en.html\" width=\"600\" height=\"450\" scrolling=\"no\" allowfullscreen></iframe>"
            ],
            "text/plain": [
              "<IPython.core.display.HTML object>"
            ]
          },
          "metadata": {
            "tags": []
          }
        }
      ]
    },
    {
      "cell_type": "markdown",
      "metadata": {
        "id": "c4Kpp3XIe_q3",
        "colab_type": "text"
      },
      "source": [
        "> 教科書上 p108 図の2.29\n",
        "\n",
        "- 緑の矢印は, 縦波の媒質のつり合いの位置からの変位: 矢印のお尻はそのまま\n",
        "  1. 右向きに変位している矢印(正方向変位)は, 矢印の頭を +90度 回転\n",
        "  2. 左向きに変位している矢印(負方向変位)は, 矢印の頭を -90度 回転\n",
        "  "
      ]
    }
  ]
}