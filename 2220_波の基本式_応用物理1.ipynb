{
  "nbformat": 4,
  "nbformat_minor": 0,
  "metadata": {
    "colab": {
      "name": "2220_波の基本式_応用物理1",
      "provenance": [],
      "authorship_tag": "ABX9TyMU872sjRNZnjcNl7ULDI1w",
      "include_colab_link": true
    },
    "kernelspec": {
      "name": "python3",
      "display_name": "Python 3"
    }
  },
  "cells": [
    {
      "cell_type": "markdown",
      "metadata": {
        "id": "view-in-github",
        "colab_type": "text"
      },
      "source": [
        "<a href=\"https://colab.research.google.com/github/kzhkAKT/AppliedPhysics1/blob/draft/2220_%E6%B3%A2%E3%81%AE%E5%9F%BA%E6%9C%AC%E5%BC%8F_%E5%BF%9C%E7%94%A8%E7%89%A9%E7%90%861.ipynb\" target=\"_parent\"><img src=\"https://colab.research.google.com/assets/colab-badge.svg\" alt=\"Open In Colab\"/></a>"
      ]
    },
    {
      "cell_type": "code",
      "metadata": {
        "id": "bfJB0QQ7uw0b",
        "colab_type": "code",
        "colab": {
          "base_uri": "https://localhost:8080/",
          "height": 336
        },
        "cellView": "form",
        "outputId": "1852fba0-067e-4703-d849-5dc824152453"
      },
      "source": [
        "#@title Wave machine \n",
        "%%html\n",
        "<iframe width=\"560\" height=\"315\" src=\"https://www.youtube-nocookie.com/embed/jUQkG1A0_Sk\" frameborder=\"0\" allow=\"accelerometer; autoplay; encrypted-media; gyroscope; picture-in-picture\" allowfullscreen></iframe>"
      ],
      "execution_count": 4,
      "outputs": [
        {
          "output_type": "display_data",
          "data": {
            "text/html": [
              "<iframe width=\"560\" height=\"315\" src=\"https://www.youtube-nocookie.com/embed/jUQkG1A0_Sk\" frameborder=\"0\" allow=\"accelerometer; autoplay; encrypted-media; gyroscope; picture-in-picture\" allowfullscreen></iframe>"
            ],
            "text/plain": [
              "<IPython.core.display.HTML object>"
            ]
          },
          "metadata": {
            "tags": []
          }
        }
      ]
    },
    {
      "cell_type": "code",
      "metadata": {
        "id": "fyCBjI84tkQT",
        "colab_type": "code",
        "colab": {
          "base_uri": "https://localhost:8080/",
          "height": 565
        },
        "cellView": "form",
        "outputId": "49b33318-5236-4096-dfde-7b1599ed23da"
      },
      "source": [
        "#@title パスル波: 山波/谷波, Crest and trough (use \"Slow Motion & No End\")\n",
        "%%html\n",
        "<iframe src=\"https://phet.colorado.edu/sims/html/wave-on-a-string/latest/wave-on-a-string_en.html\" width=\"720\" height=\"540\" scrolling=\"no\" allowfullscreen></iframe>"
      ],
      "execution_count": 5,
      "outputs": [
        {
          "output_type": "display_data",
          "data": {
            "text/html": [
              "<iframe src=\"https://phet.colorado.edu/sims/html/wave-on-a-string/latest/wave-on-a-string_en.html\" width=\"720\" height=\"540\" scrolling=\"no\" allowfullscreen></iframe>"
            ],
            "text/plain": [
              "<IPython.core.display.HTML object>"
            ]
          },
          "metadata": {
            "tags": []
          }
        }
      ]
    },
    {
      "cell_type": "markdown",
      "metadata": {
        "id": "K36vkOjzw5g6",
        "colab_type": "text"
      },
      "source": [
        "### 波長\n",
        "\n",
        "1. 波長 $\\lambda$ : 並進する波動の繰り返しの最小値\n",
        "2. 周期 $T$: 媒質一点が一回振動するための時間\n",
        "3. 振動数 $f$: 媒質一点が一秒間に振動する回数\n",
        "\n",
        ">> $\\qquad f\\cdot T =1$\n",
        "\n"
      ]
    },
    {
      "cell_type": "markdown",
      "metadata": {
        "id": "wV09BCjMyM9N",
        "colab_type": "text"
      },
      "source": [
        "\n",
        "#### 波の基本式: 波の伝わる速さ $v$\n",
        "\n",
        "速さの基本は, 「移動距離割る掛かった時間」なのでこれを利用して\n",
        "\n",
        "\\begin{align*}\n",
        "v &= \\dfrac{\\lambda}{T} = \\lambda \\cdot f&\n",
        "\\end{align*}\n",
        "\n",
        "振動数 $f$ は(減衰しなければ)各媒質について成り立つので, 媒質を伝わるあらゆる波にこの式は適用できます.\n"
      ]
    }
  ]
}
