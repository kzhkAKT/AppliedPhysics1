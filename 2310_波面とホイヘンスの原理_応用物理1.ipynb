{
  "nbformat": 4,
  "nbformat_minor": 0,
  "metadata": {
    "colab": {
      "name": "2310_波面とホイヘンスの原理_応用物理1",
      "provenance": [],
      "authorship_tag": "ABX9TyMIvv7ahdc19QRvXhgrwo1i",
      "include_colab_link": true
    },
    "kernelspec": {
      "name": "python3",
      "display_name": "Python 3"
    }
  },
  "cells": [
    {
      "cell_type": "markdown",
      "metadata": {
        "id": "view-in-github",
        "colab_type": "text"
      },
      "source": [
        "<a href=\"https://colab.research.google.com/github/kzhkAKT/AppliedPhysics1/blob/draft/2310_%E6%B3%A2%E9%9D%A2%E3%81%A8%E3%83%9B%E3%82%A4%E3%83%98%E3%83%B3%E3%82%B9%E3%81%AE%E5%8E%9F%E7%90%86_%E5%BF%9C%E7%94%A8%E7%89%A9%E7%90%861.ipynb\" target=\"_parent\"><img src=\"https://colab.research.google.com/assets/colab-badge.svg\" alt=\"Open In Colab\"/></a>"
      ]
    },
    {
      "cell_type": "markdown",
      "metadata": {
        "id": "TcMjlKcYsSaf"
      },
      "source": [
        "# 平面, 空間を伝わる波\n",
        "\n",
        "## 波面とホイヘンスの原理\n",
        "\n",
        "\n"
      ]
    },
    {
      "cell_type": "code",
      "metadata": {
        "id": "aaRy7oWlrfWz",
        "cellView": "form",
        "colab": {
          "base_uri": "https://localhost:8080/",
          "height": 336
        },
        "outputId": "e7253d66-8a5e-4a5c-baa5-7f183f024acd"
      },
      "source": [
        "#@title 波面 ~ 円形波 ~ 球面波\n",
        "%%html\n",
        "<iframe width=\"560\" height=\"315\" src=\"https://www.youtube-nocookie.com/embed/KW32ej4RWuc\" title=\"YouTube video player\" frameborder=\"0\" allow=\"accelerometer; autoplay; clipboard-write; encrypted-media; gyroscope; picture-in-picture\" allowfullscreen></iframe>"
      ],
      "execution_count": null,
      "outputs": [
        {
          "output_type": "display_data",
          "data": {
            "text/plain": [
              "<IPython.core.display.HTML object>"
            ],
            "text/html": [
              "<iframe width=\"560\" height=\"315\" src=\"https://www.youtube-nocookie.com/embed/KW32ej4RWuc\" title=\"YouTube video player\" frameborder=\"0\" allow=\"accelerometer; autoplay; clipboard-write; encrypted-media; gyroscope; picture-in-picture\" allowfullscreen></iframe>"
            ]
          },
          "metadata": {}
        }
      ]
    },
    {
      "cell_type": "code",
      "metadata": {
        "id": "uiDVhwDT3KIg",
        "cellView": "form",
        "colab": {
          "base_uri": "https://localhost:8080/",
          "height": 475
        },
        "outputId": "bafe672d-83cf-49f9-9a51-b65b67ba84fb"
      },
      "source": [
        "#@title 水面波/音波/光波のシミュレーション:\n",
        "%%html\n",
        "<iframe src=\"https://phet.colorado.edu/sims/html/waves-intro/latest/waves-intro_en.html\" width=\"600\" height=\"450\" scrolling=\"no\" allowfullscreen></iframe>"
      ],
      "execution_count": null,
      "outputs": [
        {
          "output_type": "display_data",
          "data": {
            "text/html": [
              "<iframe src=\"https://phet.colorado.edu/sims/html/waves-intro/latest/waves-intro_en.html\" width=\"600\" height=\"450\" scrolling=\"no\" allowfullscreen></iframe>"
            ],
            "text/plain": [
              "<IPython.core.display.HTML object>"
            ]
          },
          "metadata": {
            "tags": []
          }
        }
      ]
    },
    {
      "cell_type": "markdown",
      "metadata": {
        "id": "IMxd8N8qvvl2"
      },
      "source": [
        "## 波面と射線\n",
        "\n",
        "+ 波面:: 同じ位相の山を結んだ線(谷でも構わない)\n",
        "+ 射線:: 波の進行方向. 基本的に波面と直交する."
      ]
    },
    {
      "cell_type": "markdown",
      "metadata": {
        "id": "_DthkSNAxqCR"
      },
      "source": [
        "> Q. 教科書 p113 図2.36 円形波の波面 でも確認しましょう.\n"
      ]
    },
    {
      "cell_type": "code",
      "metadata": {
        "id": "3y0HV9hcsbEb",
        "cellView": "form",
        "colab": {
          "base_uri": "https://localhost:8080/",
          "height": 336
        },
        "outputId": "e2fea82f-9a55-4e3c-c127-441a43cbd19a"
      },
      "source": [
        "#@title Properties of Waves - Exploring Wave Motion (1/5): 平面波\n",
        "%%html\n",
        "<iframe width=\"560\" height=\"315\" src=\"https://www.youtube-nocookie.com/embed/y53z2zVipAs\" frameborder=\"0\" allow=\"accelerometer; autoplay; encrypted-media; gyroscope; picture-in-picture\" allowfullscreen></iframe>"
      ],
      "execution_count": null,
      "outputs": [
        {
          "output_type": "display_data",
          "data": {
            "text/html": [
              "<iframe width=\"560\" height=\"315\" src=\"https://www.youtube-nocookie.com/embed/y53z2zVipAs\" frameborder=\"0\" allow=\"accelerometer; autoplay; encrypted-media; gyroscope; picture-in-picture\" allowfullscreen></iframe>"
            ],
            "text/plain": [
              "<IPython.core.display.HTML object>"
            ]
          },
          "metadata": {
            "tags": []
          }
        }
      ]
    },
    {
      "cell_type": "code",
      "metadata": {
        "id": "KV6hRLmUtBOH",
        "cellView": "form",
        "colab": {
          "base_uri": "https://localhost:8080/",
          "height": 336
        },
        "outputId": "e68613b1-2c21-4147-c8fa-be620ec27134"
      },
      "source": [
        "#@title Oscillation and Wave Speed - Exploring Wave Motion (2/5): 波の基本原理\n",
        "%%html\n",
        "<iframe width=\"560\" height=\"315\" src=\"https://www.youtube-nocookie.com/embed/8Oc08LElPr0\" frameborder=\"0\" allow=\"accelerometer; autoplay; encrypted-media; gyroscope; picture-in-picture\" allowfullscreen></iframe>"
      ],
      "execution_count": null,
      "outputs": [
        {
          "output_type": "display_data",
          "data": {
            "text/html": [
              "<iframe width=\"560\" height=\"315\" src=\"https://www.youtube-nocookie.com/embed/8Oc08LElPr0\" frameborder=\"0\" allow=\"accelerometer; autoplay; encrypted-media; gyroscope; picture-in-picture\" allowfullscreen></iframe>"
            ],
            "text/plain": [
              "<IPython.core.display.HTML object>"
            ]
          },
          "metadata": {
            "tags": []
          }
        }
      ]
    },
    {
      "cell_type": "code",
      "metadata": {
        "id": "07O2YWVfttM8",
        "cellView": "form",
        "colab": {
          "base_uri": "https://localhost:8080/",
          "height": 336
        },
        "outputId": "4d5df43b-f70f-478f-fdc7-183b9cb3c795"
      },
      "source": [
        "#@title Apertures and Diffraction - Exploring Wave Motion (3/5): 隙間と回折\n",
        "%%html\n",
        "<iframe width=\"560\" height=\"315\" src=\"https://www.youtube-nocookie.com/embed/BH0NfVUTWG4\" frameborder=\"0\" allow=\"accelerometer; autoplay; encrypted-media; gyroscope; picture-in-picture\" allowfullscreen></iframe>"
      ],
      "execution_count": null,
      "outputs": [
        {
          "output_type": "display_data",
          "data": {
            "text/html": [
              "<iframe width=\"560\" height=\"315\" src=\"https://www.youtube-nocookie.com/embed/BH0NfVUTWG4\" frameborder=\"0\" allow=\"accelerometer; autoplay; encrypted-media; gyroscope; picture-in-picture\" allowfullscreen></iframe>"
            ],
            "text/plain": [
              "<IPython.core.display.HTML object>"
            ]
          },
          "metadata": {
            "tags": []
          }
        }
      ]
    },
    {
      "cell_type": "code",
      "metadata": {
        "id": "vCinM8ChuK2p",
        "cellView": "form",
        "colab": {
          "base_uri": "https://localhost:8080/",
          "height": 336
        },
        "outputId": "08709077-b85f-4221-d961-2ab2c5415e6b"
      },
      "source": [
        "#@title Diffraction of Light - Exploring Wave Motion (4/5)\n",
        "%%html\n",
        "<iframe width=\"560\" height=\"315\" src=\"https://www.youtube-nocookie.com/embed/AXaZc-VQzWk\" frameborder=\"0\" allow=\"accelerometer; autoplay; encrypted-media; gyroscope; picture-in-picture\" allowfullscreen></iframe>"
      ],
      "execution_count": null,
      "outputs": [
        {
          "output_type": "display_data",
          "data": {
            "text/html": [
              "<iframe width=\"560\" height=\"315\" src=\"https://www.youtube-nocookie.com/embed/AXaZc-VQzWk\" frameborder=\"0\" allow=\"accelerometer; autoplay; encrypted-media; gyroscope; picture-in-picture\" allowfullscreen></iframe>"
            ],
            "text/plain": [
              "<IPython.core.display.HTML object>"
            ]
          },
          "metadata": {
            "tags": []
          }
        }
      ]
    },
    {
      "cell_type": "code",
      "metadata": {
        "id": "hmyyalQEuuJj",
        "cellView": "form",
        "colab": {
          "base_uri": "https://localhost:8080/",
          "height": 336
        },
        "outputId": "f1d8e6bb-8ae7-471e-e87f-94e4d0eb5668"
      },
      "source": [
        "#@title Passing Light Through Multiple Apertures - Exploring Wave Motion (5/5)\n",
        "%%html\n",
        "<iframe width=\"560\" height=\"315\" src=\"https://www.youtube-nocookie.com/embed/cKY9KzMezdY\" frameborder=\"0\" allow=\"accelerometer; autoplay; encrypted-media; gyroscope; picture-in-picture\" allowfullscreen></iframe>"
      ],
      "execution_count": null,
      "outputs": [
        {
          "output_type": "display_data",
          "data": {
            "text/html": [
              "<iframe width=\"560\" height=\"315\" src=\"https://www.youtube-nocookie.com/embed/cKY9KzMezdY\" frameborder=\"0\" allow=\"accelerometer; autoplay; encrypted-media; gyroscope; picture-in-picture\" allowfullscreen></iframe>"
            ],
            "text/plain": [
              "<IPython.core.display.HTML object>"
            ]
          },
          "metadata": {
            "tags": []
          }
        }
      ]
    },
    {
      "cell_type": "markdown",
      "metadata": {
        "id": "mpPUoSJAvXxX"
      },
      "source": [
        "##  波面の時間展開: ホイヘンスの原理 ~ Huygens–Fresnel principle\n",
        "\n",
        "- 素元波/wavelet::\n",
        "\n",
        "- 包絡面/(new)wavefront::\n",
        "\n",
        "![https://phys.libretexts.org/Bookshelves/University_Physics/Book%3A_University_Physics_(OpenStax)/Map%3A_University_Physics_III_-_Optics_and_Modern_Physics_(OpenStax)/01%3A_The_Nature_of_Light/1.07%3A_Huygens%E2%80%99s_Principle](https://phys.libretexts.org/@api/deki/files/4896/CNX_UPhysics_34_06_Lines.jpg?revision=1)\n",
        "\n",
        "> Q. 教科書 p113 図2.37 直線波の波面と素元波 でも確認しましょう.\n",
        "\n"
      ]
    },
    {
      "cell_type": "markdown",
      "metadata": {
        "id": "jRL8IhiIDoia"
      },
      "source": [
        "### 波の速さと素元波の半径\n",
        "\n",
        "![https://id.wikipedia.org/wiki/Berkas:HuygensPrinciple.jpg](https://i.sstatic.net/rp9dl.jpg)\n",
        "\n",
        "1. 図で赤いラインの間隔 $t \\sim t + \\Delta t$ が素元波の半径 $\\Delta r$\n",
        "2. その間隔を進むまでにかかる時間は $\\Delta t$\n",
        "3. 波の速さを $v$\n",
        "\n",
        "速さの定義よりこの三つの関係は\n",
        "\\begin{align*}\n",
        "v &=\\dfrac{\\Delta r}{\\Delta t}\n",
        "\\end{align*}\n",
        "となります.\n",
        "\n",
        "これを利用すると, 素元波の原点から $\\Delta t$ 後の包絡面の距離は\n",
        "\\begin{align*}\n",
        "\\Delta r &= v \\Delta t&\n",
        "\\end{align*}\n",
        "となります. この関係を $r= v t $ と簡潔に書くことがあります.\n",
        "\n",
        "\n",
        "\n"
      ]
    }
  ]
}