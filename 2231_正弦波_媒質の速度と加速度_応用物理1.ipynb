{
  "nbformat": 4,
  "nbformat_minor": 0,
  "metadata": {
    "colab": {
      "name": "2231_正弦波_媒質の速度と加速度_応用物理1.ipynb",
      "provenance": [],
      "authorship_tag": "ABX9TyNV2/WclKGeBQCB+0z4z73y",
      "include_colab_link": true
    },
    "kernelspec": {
      "name": "python3",
      "display_name": "Python 3"
    }
  },
  "cells": [
    {
      "cell_type": "markdown",
      "metadata": {
        "id": "view-in-github",
        "colab_type": "text"
      },
      "source": [
        "<a href=\"https://colab.research.google.com/github/kzhkAKT/AppliedPhysics1/blob/draft/2231_%E6%AD%A3%E5%BC%A6%E6%B3%A2_%E5%AA%92%E8%B3%AA%E3%81%AE%E9%80%9F%E5%BA%A6%E3%81%A8%E5%8A%A0%E9%80%9F%E5%BA%A6_%E5%BF%9C%E7%94%A8%E7%89%A9%E7%90%861.ipynb\" target=\"_parent\"><img src=\"https://colab.research.google.com/assets/colab-badge.svg\" alt=\"Open In Colab\"/></a>"
      ]
    },
    {
      "cell_type": "markdown",
      "metadata": {
        "id": "Qt4ygIYZ5GRe"
      },
      "source": [
        "## 正弦波\n"
      ]
    },
    {
      "cell_type": "markdown",
      "metadata": {
        "id": "4NZCogYKWxtT"
      },
      "source": [
        "# 直線上を伝わる波\n",
        "\n",
        "グラフの軸をチェックしてください.\n",
        "1. 横軸は媒質の位置 $x$ ですか?\n",
        "2. 横軸は時間 $t$ ですか?\n",
        "3. 振幅は正確に確認できていますか？"
      ]
    },
    {
      "cell_type": "markdown",
      "metadata": {
        "id": "nrBW7d_M5KEr"
      },
      "source": [
        "### 媒質の速度 $v_y$"
      ]
    },
    {
      "cell_type": "code",
      "metadata": {
        "id": "uPw9k4ohVsx_",
        "cellView": "form",
        "outputId": "257ede6f-3b55-4329-aa25-b46927ead40a",
        "colab": {
          "base_uri": "https://localhost:8080/",
          "height": 565
        }
      },
      "source": [
        "#@title 媒質の動きに注目: (Slow Mothon + Pulse + No End + Damping:None)\n",
        "%%html\n",
        "<iframe src=\"https://phet.colorado.edu/sims/html/wave-on-a-string/latest/wave-on-a-string_en.html\" width=\"720\" height=\"540\" scrolling=\"no\" allowfullscreen></iframe>"
      ],
      "execution_count": null,
      "outputs": [
        {
          "output_type": "display_data",
          "data": {
            "text/html": [
              "<iframe src=\"https://phet.colorado.edu/sims/html/wave-on-a-string/latest/wave-on-a-string_en.html\" width=\"720\" height=\"540\" scrolling=\"no\" allowfullscreen></iframe>"
            ],
            "text/plain": [
              "<IPython.core.display.HTML object>"
            ]
          },
          "metadata": {
            "tags": []
          }
        }
      ]
    },
    {
      "cell_type": "markdown",
      "metadata": {
        "id": "Hy4Wa_Q6WZpb"
      },
      "source": [
        "原点から $x$ 離れた媒質の変位 $y$ は時間によって変化しています.  \n",
        "(例えば上の図で右から三番目の緑色に注目してください)  \n",
        "このことから次のことがわかります.\n",
        "- ある一点の媒質 $x$ だけに注目します(三番目の緑色)\n",
        "- 短い時間間隔$\\Delta t(=t-t_0)$の間に,   \n",
        "媒質の変位 $\\Delta y(= y -y_0)$ も変化します\n",
        "\n",
        "これを利用するとある一点の媒質 $x$ での $y$ 方向の平均速度$\\bar{v}_y$が\n",
        "\\begin{align*}\n",
        "\\bar{v}_y &= \\dfrac{\\Delta y }{\\Delta t}\n",
        "\\end{align*}\n",
        "で与えられます. これを下の図で確認してみましょう.\n",
        "\n",
        "\n",
        "\n",
        "\n"
      ]
    },
    {
      "cell_type": "markdown",
      "metadata": {
        "id": "ODDJ04320DRN"
      },
      "source": [
        "##### 手書きの図 媒質の速度 $v_y$\n",
        "右向きに速さ $v$ で進む正弦波を考えます:\n",
        "\\begin{align*}\n",
        "y (x,t)= A \\sin \\left\\{ 2\\pi \\left( f\\cdot t - \\dfrac{x}{\\lambda}\\right)\\right\\}\n",
        "\\end{align*}\n",
        "この式で $t=0$ と $t=0+\\Delta t$ の波形を表すと\n",
        "\n",
        "\\begin{align*}\n",
        "y (x,0)\n",
        "&= A \\sin \\left\\{ 2\\pi \\left( f\\cdot 0 - \\dfrac{x}{\\lambda}\\right)\\right\\}\n",
        "= A \\sin  2\\pi \\left(  - \\dfrac{x}{\\lambda}\\right)&\\\\\n",
        "&= - A \\sin  2\\pi \\left(\\dfrac{x}{\\lambda}\\right)&\\\\\n",
        "y (x,0+\\Delta t)\n",
        "&= A \\sin \\left\\{ 2\\pi \\left( f\\cdot \\Delta t - \\dfrac{x}{\\lambda}\\right)\\right\\}&\\\\\n",
        "& = -\n",
        "A \\sin \\left\\{ 2\\pi \\left(  \\dfrac{x}{\\lambda} - f\\cdot \\Delta t \\right)\\right\\}\n",
        "\\end{align*}"
      ]
    },
    {
      "cell_type": "markdown",
      "metadata": {
        "id": "vb_o3ahxQPt0"
      },
      "source": [
        "<img src=\"https://scrapbox.io/files/6473fbe5cbc572001b50acef.jpg\" alt=\"y(x,0)\" width=\"350\"/>\n",
        "<img src=\"https://scrapbox.io/files/6473fbe8089936001c8a7b89.jpg\" alt=\"y(x,Δt)\" width=\"350\"/>\n",
        "\n",
        "<br>\n",
        "\n",
        "<img src=\"https://scrapbox.io/files/6473fbebb9234a001c209a5a.jpg\" alt=\"v_y(x,Δt)\" width=\"350\"/>\n",
        "\n"
      ]
    },
    {
      "cell_type": "code",
      "source": [
        "#@title 媒質の $y$ の変位と その $y$ 方向の平均速度\n",
        "#@markdown 黒線が媒質の変位。破線が $t$ のグラフ, 実線が $t + \\Delta t$ のグラフ\n",
        "#@markdown 青線が、媒質の $y$ 方向の平均速度\n",
        "%%html\n",
        "<iframe src=\"https://www.desmos.com/calculator/ho5cbogkwc?embed\" width=\"500\" height=\"500\" style=\"border: 1px solid #ccc\" frameborder=0></iframe>"
      ],
      "metadata": {
        "cellView": "form",
        "id": "JywMyR9diU9g",
        "outputId": "5c93c3d6-b48e-45c6-a8f5-b1669882b449",
        "colab": {
          "base_uri": "https://localhost:8080/",
          "height": 523
        }
      },
      "execution_count": 7,
      "outputs": [
        {
          "output_type": "display_data",
          "data": {
            "text/plain": [
              "<IPython.core.display.HTML object>"
            ],
            "text/html": [
              "<iframe src=\"https://www.desmos.com/calculator/ho5cbogkwc?embed\" width=\"500\" height=\"500\" style=\"border: 1px solid #ccc\" frameborder=0></iframe>\n"
            ]
          },
          "metadata": {}
        }
      ]
    },
    {
      "cell_type": "markdown",
      "metadata": {
        "id": "gyHzh0pp0P-x"
      },
      "source": [
        "##### $v_y$ の数学的導出\n",
        "この平均の速度を $\\Delta t \\to 0$ を利用し瞬間の速度へ置き換えます.   \n",
        "だたし, ここでは媒質の原点からの距離 $x$ は定数と考えて,   \n",
        "変位 $y$ だけに注目し微分の定義に持ち込みます.\n",
        "\\begin{align*}\n",
        "v_y\n",
        "&= \\lim_{\\Delta t \\to 0}\n",
        "\\left( \\dfrac{\\Delta y }{\\Delta t}\\right)_{x:定数}\n",
        "= \\left(\\dfrac{\\partial y}{\\partial t}\\right)_x\n",
        "\\end{align*}\n",
        "この記号の意味は 「$x$ については定数として扱い, $y$ についてだけ時間 $t$ で微分してください」という記号になります. $\\partial$ (curly/rouned d) は偏微分記号といいます."
      ]
    },
    {
      "cell_type": "markdown",
      "metadata": {
        "id": "UwMwk-na1k3Q"
      },
      "source": [
        "一般の(右に進む)正弦波が\n",
        "\\begin{align*}\n",
        "y = A \\sin \\left\\{ 2\\pi \\left( ft - \\frac{x}{\\lambda} \\right) + \\alpha\\right\\}\n",
        "\\end{align*}\n",
        "で与えられていれば, ある一点の媒質の瞬間の速度 $v_y$ を計算すると\n",
        "\\begin{align*}\n",
        "v_y &= \\left(\\dfrac{\\partial y}{\\partial t}\\right)_x\n",
        "  =\\left(\n",
        "  \\dfrac {\\partial \\left\\{ 2\\pi \\left( ft - \\frac{x}{\\lambda} \\right) + \\alpha\\right\\}}{\\partial t}\n",
        "  \\dfrac{\\partial y}\n",
        "  {\\partial \\left\\{ 2\\pi \\left( ft - \\frac{x}{\\lambda} \\right) + \\alpha\\right\\}}\n",
        "  \\right)_x &\\\\\n",
        "  &= 2\\pi f A \\cos \\left\\{ 2\\pi \\left( ft - \\frac{x}{\\lambda} \\right) + \\alpha\\right\\} &\n",
        "\\end{align*}\n"
      ]
    },
    {
      "cell_type": "markdown",
      "metadata": {
        "id": "12R321Kv6Umg"
      },
      "source": [
        "### 媒質の加速度 $a_y$"
      ]
    },
    {
      "cell_type": "markdown",
      "metadata": {
        "id": "NpnpRMro6Z9a"
      },
      "source": [
        "上で考えたように, 原点から $x$ 離れた媒質の変位 $v_y$ も時間によって変化しています.  \n",
        "\n",
        "このことから次のことがわかります.\n",
        "- ある一点の媒質 $x$ だけに注目します(三番目の緑色)\n",
        "- 短い時間間隔$\\Delta t(=t-t_0)$の間に,   \n",
        "媒質の変位 $\\Delta v_y(= v_y -v_{y_0})$ も変化します\n",
        "\n",
        "これを利用するとある一点の媒質 $x$ での $y$ 方向の平均の加速度$\\bar{a_y}$が\n",
        "\\begin{align*}\n",
        "\\bar{a_y} &= \\dfrac{\\Delta v_y }{\\Delta t}\n",
        "\\end{align*}\n",
        "で与えられます. これを下の図で確認してみましょう."
      ]
    },
    {
      "cell_type": "markdown",
      "metadata": {
        "id": "K28t5qpk6793"
      },
      "source": [
        "##### 手書きの図 媒質の加速度 $a_y$\n",
        "\n",
        "<img src=\"https://scrapbox.io/files/6473fbebb9234a001c209a5a.jpg\" alt=\"v_y(x,Δt)\" width=\"350\"/>\n",
        "<img src=\"https://scrapbox.io/files/6473fc1f69377f001c22f538.jpg\" alt=\"v_y(x,Δt)\" width=\"350\"/>\n",
        "\n",
        "\n",
        "<img src=\"https://scrapbox.io/files/6473fc21462c99001bdf969d.jpg\" alt=\"v_y(x,Δt)\" width=\"350\"/>\n",
        "\n",
        "\n"
      ]
    },
    {
      "cell_type": "code",
      "source": [
        "#@title 媒質の $y$ の速度と その $y$ 方向の平均加速度\n",
        "#@markdown 青線が媒質の速度。破線が $t$ のグラフ, 実線が $t + \\Delta t$ のグラフ\n",
        "#@markdown 赤線が、媒質の $y$ 方向の平均速度\n",
        "%%html\n",
        "<iframe src=\"https://www.desmos.com/calculator/7jcavypoe5?embed\" width=\"500\" height=\"500\" style=\"border: 1px solid #ccc\" frameborder=0></iframe>"
      ],
      "metadata": {
        "cellView": "form",
        "id": "SfU3j71Dld-L",
        "outputId": "6297bc59-17f0-4190-9a2e-729e5803cb31",
        "colab": {
          "base_uri": "https://localhost:8080/",
          "height": 523
        }
      },
      "execution_count": 8,
      "outputs": [
        {
          "output_type": "display_data",
          "data": {
            "text/plain": [
              "<IPython.core.display.HTML object>"
            ],
            "text/html": [
              "<iframe src=\"https://www.desmos.com/calculator/7jcavypoe5?embed\" width=\"500\" height=\"500\" style=\"border: 1px solid #ccc\" frameborder=0></iframe>\n"
            ]
          },
          "metadata": {}
        }
      ]
    },
    {
      "cell_type": "markdown",
      "metadata": {
        "id": "3UdnQ5xa7ILC"
      },
      "source": [
        "##### $a_y$ の数学的導出\n",
        "この平均の加速度を $\\Delta t \\to 0$ を利用し瞬間の加速度へ置き換えます.   \n",
        "だたし, ここでは媒質の原点からの距離 $x$ は定数と考えて,   \n",
        "速度 $v_y$ だけに注目し微分の定義に持ち込みます.\n",
        "\\begin{align*}\n",
        "a_y\n",
        "&= \\lim_{\\Delta t \\to 0}\n",
        "\\left( \\dfrac{\\Delta v_y }{\\Delta t}\\right)_{x:定数}\n",
        "= \\left(\\dfrac{\\partial v_y}{\\partial t}\\right)_x\n",
        "\\end{align*}\n",
        "この記号の意味は 「$x$ については定数として扱い, $v_y$ についてだけ時間 $t$ で微分してください」という記号になります. $\\partial$ (curly/rouned d) は偏微分記号といいます."
      ]
    },
    {
      "cell_type": "markdown",
      "metadata": {
        "id": "msXLOAF57nQ2"
      },
      "source": [
        "一般の(右に進む)正弦波が\n",
        "\\begin{align*}\n",
        "y = A \\sin \\left\\{ 2\\pi \\left( ft - \\frac{x}{\\lambda} \\right) + \\alpha\\right\\}\n",
        "\\end{align*}\n",
        "で与えられていれば, その速度は\n",
        "\\begin{align*}\n",
        "v_y &= 2\\pi f A \\cos \\left\\{ 2\\pi \\left( ft - \\frac{x}{\\lambda} \\right) + \\alpha\\right\\} &\n",
        "\\end{align*}\n",
        "でした\n",
        "\n",
        "これを利用して, ある一点の媒質の瞬間の加速度 $a_y$ を計算すると\n",
        "\\begin{align*}\n",
        "a_y &= \\left(\\dfrac{\\partial v_y}{\\partial t}\\right)_x\n",
        "  =\\left(\n",
        "  \\dfrac {\\partial \\left\\{ 2\\pi \\left( ft - \\frac{x}{\\lambda} \\right) + \\alpha\\right\\}}{\\partial t}\n",
        "  \\dfrac{\\partial v_y}\n",
        "  {\\partial \\left\\{ 2\\pi \\left( ft - \\frac{x}{\\lambda} \\right) + \\alpha\\right\\}}\n",
        "  \\right)_x &\\\\\n",
        "  &= - \\left(2\\pi f\\right)^2  A \\sin \\left\\{ 2\\pi \\left( ft - \\frac{x}{\\lambda} \\right) + \\alpha\\right\\} &\\\\\n",
        "  &=  - \\left(2\\pi f\\right)^2  y&\n",
        "\\end{align*}\n"
      ]
    },
    {
      "cell_type": "markdown",
      "metadata": {
        "id": "M8EJB3Eq8Yfv"
      },
      "source": [
        "### 媒質に働く力 $F_y$\n",
        "\n",
        "いま媒質一点の質量を $m$ とすると, 運動方程式 $m\\cdot a = f$ から\n",
        "\\begin{align*}\n",
        "F_y &= m a_y = - m (2\\pi f)^2 y = -k y&\n",
        "\\end{align*}\n",
        "となりバネの振動と同じ関係式が得られます.\n",
        "これは, 波動が媒質を伝わるときには元の状態に戻るような **復元力** が働いていると考えることができます."
      ]
    },
    {
      "cell_type": "markdown",
      "metadata": {
        "id": "aORh8URkS1L4"
      },
      "source": [
        "### 媒質の変位$y$, 速度$v_y$, 加速度$a_y$\n",
        "\n",
        "正弦進行波では $x$ 方向の移動ないものと考え\b, 媒質の変位は $y$ のみを考えています\n",
        "\n",
        "1. 媒質の変位 $y$ をちょっとずらせば, 媒質の速度 $v_y$\n",
        "2. 媒質の速度 $v_y$ をちょっとずらせば, 媒質の加速度 $a_y$\n",
        "\n"
      ]
    },
    {
      "cell_type": "markdown",
      "metadata": {
        "id": "qI-SV8B3TXdt"
      },
      "source": [
        "<img src=\"https://scrapbox.io/files/6473fbe5cbc572001b50acef.jpg\" alt=\"y(x,0)\" width=\"350\"/>\n",
        "\n",
        "<br>\n",
        "  \n",
        "<img src=\"https://scrapbox.io/files/6473fbebb9234a001c209a5a.jpg\" alt=\"v_y(x,Δt)\" width=\"350\"/>\n",
        "<br>\n",
        "\n",
        "<img src=\"https://scrapbox.io/files/6473fc21462c99001bdf969d.jpg\" alt=\"v_y(x,Δt)\" width=\"350\"/>\n",
        "\n"
      ]
    },
    {
      "cell_type": "code",
      "source": [
        "#@title 媒質の $y$ 方向の変位, 速度,　加速度\n",
        "#@markdown 黒線が媒質の変位。\n",
        "#@markdown 青破線が、媒質の $y$ 方向の速度\n",
        "#@markdown 赤点線が、媒質の $y$ 方向の加速度\n",
        "%%html\n",
        "<iframe src=\"https://www.desmos.com/calculator/qf8ww5jbyo?embed\" width=\"500\" height=\"500\" style=\"border: 1px solid #ccc\" frameborder=0></iframe>"
      ],
      "metadata": {
        "cellView": "form",
        "id": "Yw9aUjddnzHj",
        "outputId": "9bce491e-07aa-4677-a163-a760a683184f",
        "colab": {
          "base_uri": "https://localhost:8080/",
          "height": 523
        }
      },
      "execution_count": 9,
      "outputs": [
        {
          "output_type": "display_data",
          "data": {
            "text/plain": [
              "<IPython.core.display.HTML object>"
            ],
            "text/html": [
              "<iframe src=\"https://www.desmos.com/calculator/qf8ww5jbyo?embed\" width=\"500\" height=\"500\" style=\"border: 1px solid #ccc\" frameborder=0></iframe>\n"
            ]
          },
          "metadata": {}
        }
      ]
    }
  ]
}