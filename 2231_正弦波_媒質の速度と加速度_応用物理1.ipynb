{
  "nbformat": 4,
  "nbformat_minor": 0,
  "metadata": {
    "colab": {
      "name": "2231_正弦波_媒質の速度と加速度_応用物理1.ipynb",
      "provenance": [],
      "collapsed_sections": [],
      "toc_visible": true,
      "authorship_tag": "ABX9TyMXX2jDdhrYOT2cjkBhM2la",
      "include_colab_link": true
    },
    "kernelspec": {
      "name": "python3",
      "display_name": "Python 3"
    }
  },
  "cells": [
    {
      "cell_type": "markdown",
      "metadata": {
        "id": "view-in-github",
        "colab_type": "text"
      },
      "source": [
        "<a href=\"https://colab.research.google.com/github/kzhkAKT/AppliedPhysics1/blob/draft/2231_%E6%AD%A3%E5%BC%A6%E6%B3%A2_%E5%AA%92%E8%B3%AA%E3%81%AE%E9%80%9F%E5%BA%A6%E3%81%A8%E5%8A%A0%E9%80%9F%E5%BA%A6_%E5%BF%9C%E7%94%A8%E7%89%A9%E7%90%861.ipynb\" target=\"_parent\"><img src=\"https://colab.research.google.com/assets/colab-badge.svg\" alt=\"Open In Colab\"/></a>"
      ]
    },
    {
      "cell_type": "markdown",
      "metadata": {
        "id": "Qt4ygIYZ5GRe",
        "colab_type": "text"
      },
      "source": [
        "## 正弦波\n"
      ]
    },
    {
      "cell_type": "markdown",
      "metadata": {
        "id": "4NZCogYKWxtT",
        "colab_type": "text"
      },
      "source": [
        "# 直線上を伝わる波\n",
        "\n",
        "グラフの軸をチェックしてください.\n",
        "1. 横軸は媒質の位置 $x$ ですか?\n",
        "2. 横軸は時間 $t$ ですか?\n",
        "3. 振幅は正確に確認できていますか？"
      ]
    },
    {
      "cell_type": "markdown",
      "metadata": {
        "id": "nrBW7d_M5KEr",
        "colab_type": "text"
      },
      "source": [
        "### 媒質の速度 $v_y$"
      ]
    },
    {
      "cell_type": "code",
      "metadata": {
        "id": "uPw9k4ohVsx_",
        "colab_type": "code",
        "colab": {
          "base_uri": "https://localhost:8080/",
          "height": 565
        },
        "cellView": "form",
        "outputId": "257ede6f-3b55-4329-aa25-b46927ead40a"
      },
      "source": [
        "#@title 媒質の動きに注目: (Slow Mothon + Pulse + No End + Damping:None)\n",
        "%%html\n",
        "<iframe src=\"https://phet.colorado.edu/sims/html/wave-on-a-string/latest/wave-on-a-string_en.html\" width=\"720\" height=\"540\" scrolling=\"no\" allowfullscreen></iframe>"
      ],
      "execution_count": 2,
      "outputs": [
        {
          "output_type": "display_data",
          "data": {
            "text/html": [
              "<iframe src=\"https://phet.colorado.edu/sims/html/wave-on-a-string/latest/wave-on-a-string_en.html\" width=\"720\" height=\"540\" scrolling=\"no\" allowfullscreen></iframe>"
            ],
            "text/plain": [
              "<IPython.core.display.HTML object>"
            ]
          },
          "metadata": {
            "tags": []
          }
        }
      ]
    },
    {
      "cell_type": "markdown",
      "metadata": {
        "id": "Hy4Wa_Q6WZpb",
        "colab_type": "text"
      },
      "source": [
        "原点から $x$ 離れた媒質の変位 $y$ は時間によって変化しています.  \n",
        "(例えば上の図で右から三番目の緑色に注目してください)  \n",
        "このことから次のことがわかります.\n",
        "- ある一点の媒質 $x$ だけに注目します(三番目の緑色)\n",
        "- 短い時間間隔$\\Delta t(=t-t_0)$の間に,   \n",
        "媒質の変位 $\\Delta y(= y -y_0)$ も変化します\n",
        "\n",
        "これを利用するとある一点の媒質 $x$ での $y$ 方向の平均速度$\\bar{v}_y$が\n",
        "\\begin{align*}\n",
        "\\bar{v}_y &= \\dfrac{\\Delta y }{\\Delta t}\n",
        "\\end{align*}\n",
        "で与えられます. これを下の図で確認してみましょう.\n",
        "\n",
        "\n",
        "\n",
        "\n"
      ]
    },
    {
      "cell_type": "markdown",
      "metadata": {
        "id": "ODDJ04320DRN",
        "colab_type": "text"
      },
      "source": [
        "##### 手書きの図 媒質の速度"
      ]
    },
    {
      "cell_type": "markdown",
      "metadata": {
        "id": "gyHzh0pp0P-x",
        "colab_type": "text"
      },
      "source": [
        "##### $v_y$ の数学的導出\n",
        "この平均の速度を $\\Delta t \\to 0$ を利用し瞬間の速度へ置き換えます.   \n",
        "だたし, ここでは媒質の原点からの距離 $x$ は定数と考えて,   \n",
        "変位 $y$ だけに注目し微分の定義に持ち込みます.\n",
        "\\begin{align*}\n",
        "v_y \n",
        "&= \\lim_{\\Delta t \\to 0}\n",
        "\\left( \\dfrac{\\Delta y }{\\Delta t}\\right)_{x:定数}\n",
        "= \\left(\\dfrac{\\partial y}{\\partial t}\\right)_x\n",
        "\\end{align*}\n",
        "この記号の意味は 「$x$ については定数として扱い, $y$ についてだけ時間 $t$ で微分してください」という記号になります. $\\partial$ (curly/rouned d) は偏微分記号といいます."
      ]
    },
    {
      "cell_type": "markdown",
      "metadata": {
        "id": "UwMwk-na1k3Q",
        "colab_type": "text"
      },
      "source": [
        "一般の(右に進む)正弦波が\n",
        "\\begin{align*}\n",
        "y = A \\sin \\left\\{ 2\\pi \\left( ft - \\frac{x}{\\lambda} \\right) + \\alpha\\right\\}\n",
        "\\end{align*}\n",
        "で与えられていれば, ある一点の媒質の瞬間の速度 $v_y$ を計算すると\n",
        "\\begin{align*}\n",
        "v_y &= \\left(\\dfrac{\\partial y}{\\partial t}\\right)_x \n",
        "  =\\left(\n",
        "  \\dfrac {\\partial \\left\\{ 2\\pi \\left( ft - \\frac{x}{\\lambda} \\right) + \\alpha\\right\\}}{\\partial t}\n",
        "  \\dfrac{\\partial y}\n",
        "  {\\partial \\left\\{ 2\\pi \\left( ft - \\frac{x}{\\lambda} \\right) + \\alpha\\right\\}}\n",
        "  \\right)_x &\\\\\n",
        "  &= 2\\pi f A \\cos \\left\\{ 2\\pi \\left( ft - \\frac{x}{\\lambda} \\right) + \\alpha\\right\\} &\n",
        "\\end{align*}\n"
      ]
    },
    {
      "cell_type": "markdown",
      "metadata": {
        "id": "12R321Kv6Umg",
        "colab_type": "text"
      },
      "source": [
        "### 媒質の加速度 $a_y$"
      ]
    },
    {
      "cell_type": "markdown",
      "metadata": {
        "id": "NpnpRMro6Z9a",
        "colab_type": "text"
      },
      "source": [
        "上で考えたように, 原点から $x$ 離れた媒質の変位 $v_y$ も時間によって変化しています.  \n",
        "\n",
        "このことから次のことがわかります.\n",
        "- ある一点の媒質 $x$ だけに注目します(三番目の緑色)\n",
        "- 短い時間間隔$\\Delta t(=t-t_0)$の間に,   \n",
        "媒質の変位 $\\Delta v_y(= v_y -v_{y_0})$ も変化します\n",
        "\n",
        "これを利用するとある一点の媒質 $x$ での $y$ 方向の平均の加速度$\\bar{a_y}$が\n",
        "\\begin{align*}\n",
        "\\bar{a_y} &= \\dfrac{\\Delta v_y }{\\Delta t}\n",
        "\\end{align*}\n",
        "で与えられます. これを下の図で確認してみましょう."
      ]
    },
    {
      "cell_type": "markdown",
      "metadata": {
        "colab_type": "text",
        "id": "K28t5qpk6793"
      },
      "source": [
        "##### 手書きの図 媒質の加速度"
      ]
    },
    {
      "cell_type": "markdown",
      "metadata": {
        "colab_type": "text",
        "id": "3UdnQ5xa7ILC"
      },
      "source": [
        "##### $a_y$ の数学的導出\n",
        "この平均の加速度を $\\Delta t \\to 0$ を利用し瞬間の加速度へ置き換えます.   \n",
        "だたし, ここでは媒質の原点からの距離 $x$ は定数と考えて,   \n",
        "速度 $v_y$ だけに注目し微分の定義に持ち込みます.\n",
        "\\begin{align*}\n",
        "a_y \n",
        "&= \\lim_{\\Delta t \\to 0}\n",
        "\\left( \\dfrac{\\Delta v_y }{\\Delta t}\\right)_{x:定数}\n",
        "= \\left(\\dfrac{\\partial v_y}{\\partial t}\\right)_x\n",
        "\\end{align*}\n",
        "この記号の意味は 「$x$ については定数として扱い, $v_y$ についてだけ時間 $t$ で微分してください」という記号になります. $\\partial$ (curly/rouned d) は偏微分記号といいます."
      ]
    },
    {
      "cell_type": "markdown",
      "metadata": {
        "colab_type": "text",
        "id": "msXLOAF57nQ2"
      },
      "source": [
        "一般の(右に進む)正弦波が\n",
        "\\begin{align*}\n",
        "y = A \\sin \\left\\{ 2\\pi \\left( ft - \\frac{x}{\\lambda} \\right) + \\alpha\\right\\}\n",
        "\\end{align*}\n",
        "で与えられていれば, その速度は\n",
        "\\begin{align*}\n",
        "v_y &= 2\\pi f A \\cos \\left\\{ 2\\pi \\left( ft - \\frac{x}{\\lambda} \\right) + \\alpha\\right\\} &\n",
        "\\end{align*}\n",
        "でした\n",
        "\n",
        "これを利用して, ある一点の媒質の瞬間の加速度 $a_y$ を計算すると\n",
        "\\begin{align*}\n",
        "a_y &= \\left(\\dfrac{\\partial v_y}{\\partial t}\\right)_x \n",
        "  =\\left(\n",
        "  \\dfrac {\\partial \\left\\{ 2\\pi \\left( ft - \\frac{x}{\\lambda} \\right) + \\alpha\\right\\}}{\\partial t}\n",
        "  \\dfrac{\\partial v_y}\n",
        "  {\\partial \\left\\{ 2\\pi \\left( ft - \\frac{x}{\\lambda} \\right) + \\alpha\\right\\}}\n",
        "  \\right)_x &\\\\\n",
        "  &= - \\left(2\\pi f\\right)^2  A \\sin \\left\\{ 2\\pi \\left( ft - \\frac{x}{\\lambda} \\right) + \\alpha\\right\\} &\\\\\n",
        "  &=  - \\left(2\\pi f\\right)^2  y&\n",
        "\\end{align*}\n"
      ]
    },
    {
      "cell_type": "markdown",
      "metadata": {
        "id": "M8EJB3Eq8Yfv",
        "colab_type": "text"
      },
      "source": [
        "### 媒質に働く力 $F_y$\n",
        "\n",
        "いま媒質一点の質量を $m$ とすると, 運動方程式 $m\\cdot a = f$ から\n",
        "\\begin{align*}\n",
        "F_y &= m a_y = - m (2\\pi f)^2 y = -k y&\n",
        "\\end{align*}\n",
        "となりバネの振動と同じ関係式が得られます.\n",
        "これは, 波動が媒質を伝わるときには元の状態に戻るような **復元力** が働いていると考えることができます."
      ]
    },
    {
      "cell_type": "code",
      "metadata": {
        "id": "AsSJGGH5728O",
        "colab_type": "code",
        "colab": {}
      },
      "source": [
        ""
      ],
      "execution_count": 0,
      "outputs": []
    }
  ]
}