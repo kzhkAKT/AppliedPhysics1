{
  "nbformat": 4,
  "nbformat_minor": 0,
  "metadata": {
    "colab": {
      "name": "2350_波の屈折_応用物理1",
      "provenance": [],
      "authorship_tag": "ABX9TyNGX6yJBcn2V7P1pN8e3olD",
      "include_colab_link": true
    },
    "kernelspec": {
      "name": "python3",
      "display_name": "Python 3"
    }
  },
  "cells": [
    {
      "cell_type": "markdown",
      "metadata": {
        "id": "view-in-github",
        "colab_type": "text"
      },
      "source": [
        "<a href=\"https://colab.research.google.com/github/kzhkAKT/AppliedPhysics1/blob/draft/2350_%E6%B3%A2%E3%81%AE%E5%B1%88%E6%8A%98_%E5%BF%9C%E7%94%A8%E7%89%A9%E7%90%861.ipynb\" target=\"_parent\"><img src=\"https://colab.research.google.com/assets/colab-badge.svg\" alt=\"Open In Colab\"/></a>"
      ]
    },
    {
      "cell_type": "markdown",
      "metadata": {
        "id": "-ZJfhbzbuZea",
        "colab_type": "text"
      },
      "source": [
        ""
      ]
    },
    {
      "cell_type": "markdown",
      "metadata": {
        "id": "wEAvGxiHGz-F",
        "colab_type": "text"
      },
      "source": [
        "# 平面, 空間を伝わる波\n"
      ]
    },
    {
      "cell_type": "markdown",
      "metadata": {
        "id": "vfEGpYuwG1l-",
        "colab_type": "text"
      },
      "source": [
        "## 波の屈折\n"
      ]
    },
    {
      "cell_type": "markdown",
      "metadata": {
        "id": "Sio82Uy4vQYw",
        "colab_type": "text"
      },
      "source": [
        "### 復習: 光線の屈折の法則"
      ]
    },
    {
      "cell_type": "code",
      "metadata": {
        "id": "1uaWpwYivUtx",
        "colab_type": "code",
        "cellView": "form",
        "colab": {
          "base_uri": "https://localhost:8080/",
          "height": 336
        },
        "outputId": "9a1af09f-a9fc-4d64-aea5-d38c55c78a52"
      },
      "source": [
        "#@title \n",
        "%%html\n",
        "<iframe width=\"560\" height=\"315\" src=\"https://www.youtube-nocookie.com/embed/yIPMl2K6KNw\" frameborder=\"0\" allow=\"accelerometer; autoplay; encrypted-media; gyroscope; picture-in-picture\" allowfullscreen></iframe>"
      ],
      "execution_count": null,
      "outputs": [
        {
          "output_type": "display_data",
          "data": {
            "text/html": [
              "<iframe width=\"560\" height=\"315\" src=\"https://www.youtube-nocookie.com/embed/yIPMl2K6KNw\" frameborder=\"0\" allow=\"accelerometer; autoplay; encrypted-media; gyroscope; picture-in-picture\" allowfullscreen></iframe>"
            ],
            "text/plain": [
              "<IPython.core.display.HTML object>"
            ]
          },
          "metadata": {
            "tags": []
          }
        }
      ]
    },
    {
      "cell_type": "code",
      "metadata": {
        "id": "iNmoz6jB0eCz",
        "colab_type": "code",
        "cellView": "form",
        "colab": {
          "base_uri": "https://localhost:8080/",
          "height": 662
        },
        "outputId": "39d28f22-1ccf-4914-ecdd-3abb1b69e115"
      },
      "source": [
        "#@title 入射角 と 屈折角 + 法線\n",
        "%%svg\n",
        "https://upload.wikimedia.org/wikipedia/commons/3/3f/Snells_law2.svg"
      ],
      "execution_count": null,
      "outputs": [
        {
          "output_type": "display_data",
          "data": {
            "text/plain": [
              "<IPython.core.display.SVG object>"
            ],
            "image/svg+xml": "<svg height=\"641.3681\" id=\"svg2\" inkscape:output_extension=\"org.inkscape.output.svg.inkscape\" inkscape:version=\"0.45.1\" sodipodi:docbase=\"C:\\Documents and Settings\\olegalex\\Desktop\" sodipodi:docname=\"Snells_law2.svg\" sodipodi:version=\"0.32\" version=\"1.0\" width=\"356.6261\" xmlns=\"http://www.w3.org/2000/svg\" xmlns:cc=\"http://web.resource.org/cc/\" xmlns:dc=\"http://purl.org/dc/elements/1.1/\" xmlns:inkscape=\"http://www.inkscape.org/namespaces/inkscape\" xmlns:rdf=\"http://www.w3.org/1999/02/22-rdf-syntax-ns#\" xmlns:sodipodi=\"http://sodipodi.sourceforge.net/DTD/sodipodi-0.dtd\" xmlns:svg=\"http://www.w3.org/2000/svg\">\n  <metadata id=\"metadata7\">\n    <rdf:RDF>\n      <cc:Work rdf:about=\"\">\n        <dc:format>image/svg+xml</dc:format>\n        <dc:type rdf:resource=\"http://purl.org/dc/dcmitype/StillImage\"/>\n      </cc:Work>\n    </rdf:RDF>\n  </metadata>\n  <defs id=\"defs5\">\n    <marker id=\"Arrow1Mstart\" inkscape:stockid=\"Arrow1Mstart\" orient=\"auto\" refX=\"0\" refY=\"0\" style=\"overflow:visible\">\n      <path d=\"M 0,0 L 5,-5 L -12.5,0 L 5,5 L 0,0 z \" id=\"path3828\" style=\"fill-rule:evenodd;stroke:#000000;stroke-width:1pt;marker-start:none\" transform=\"matrix(0.4,0,0,0.4,4,0)\"/>\n    </marker>\n    <marker id=\"Arrow1Mend\" inkscape:stockid=\"Arrow1Mend\" orient=\"auto\" refX=\"0\" refY=\"0\" style=\"overflow:visible\">\n      <path d=\"M 0,0 L 5,-5 L -12.5,0 L 5,5 L 0,0 z \" id=\"path3825\" style=\"fill-rule:evenodd;stroke:#000000;stroke-width:1pt;marker-start:none\" transform=\"matrix(-0.4,0,0,-0.4,-4,0)\"/>\n    </marker>\n    <marker id=\"Arrow1Lstart\" inkscape:stockid=\"Arrow1Lstart\" orient=\"auto\" refX=\"0\" refY=\"0\" style=\"overflow:visible\">\n      <path d=\"M 0,0 L 5,-5 L -12.5,0 L 5,5 L 0,0 z \" id=\"path3834\" style=\"fill-rule:evenodd;stroke:#000000;stroke-width:1pt;marker-start:none\" transform=\"matrix(0.8,0,0,0.8,10,0)\"/>\n    </marker>\n    <marker id=\"TriangleOutM\" inkscape:stockid=\"TriangleOutM\" orient=\"auto\" refX=\"0\" refY=\"0\" style=\"overflow:visible\">\n      <path d=\"M 5.77,0 L -2.88,5 L -2.88,-5 L 5.77,0 z \" id=\"path3733\" style=\"fill-rule:evenodd;stroke:#000000;stroke-width:1pt;marker-start:none\" transform=\"scale(0.4,0.4)\"/>\n    </marker>\n    <marker id=\"Arrow1Lend\" inkscape:stockid=\"Arrow1Lend\" orient=\"auto\" refX=\"0\" refY=\"0\" style=\"overflow:visible\">\n      <path d=\"M 0,0 L 5,-5 L -12.5,0 L 5,5 L 0,0 z \" id=\"path3831\" style=\"fill-rule:evenodd;stroke:#000000;stroke-width:1pt;marker-start:none\" transform=\"matrix(-0.8,0,0,-0.8,-10,0)\"/>\n    </marker>\n  </defs>\n  <sodipodi:namedview bordercolor=\"#666666\" borderopacity=\"1.0\" gridtolerance=\"10.0\" guidetolerance=\"10.0\" id=\"base\" inkscape:current-layer=\"svg2\" inkscape:cx=\"154.142\" inkscape:cy=\"580.04884\" inkscape:guide-bbox=\"true\" inkscape:guide-points=\"true\" inkscape:pageopacity=\"0.0\" inkscape:pageshadow=\"2\" inkscape:window-height=\"881\" inkscape:window-width=\"1440\" inkscape:window-x=\"0\" inkscape:window-y=\"0\" inkscape:zoom=\"0.90509668\" objecttolerance=\"10.0\" pagecolor=\"#ffffff\" showgrid=\"false\" showguides=\"true\"/>\n  <rect height=\"354.60855\" id=\"rect2770\" style=\"opacity:0.80813952;fill:#d8f2ff;fill-opacity:1;fill-rule:nonzero;stroke:none;stroke-width:1;stroke-linecap:round;stroke-linejoin:round;stroke-miterlimit:4;stroke-dasharray:none;stroke-dashoffset:0;stroke-opacity:0.86826327\" transform=\"matrix(0,1,1,0,0,0)\" width=\"336.56903\" x=\"304.79907\" y=\"0.85865539\"/>\n  <path d=\"M 100.90501,135.34564 A 83.986809,83.986809 0 0 1 125.50417,75.958001\" id=\"path3871\" sodipodi:cx=\"184.89182\" sodipodi:cy=\"135.34564\" sodipodi:end=\"3.9269908\" sodipodi:open=\"true\" sodipodi:rx=\"83.986809\" sodipodi:ry=\"83.986809\" sodipodi:start=\"3.1415927\" sodipodi:type=\"arc\" style=\"fill:none;fill-opacity:1;fill-rule:nonzero;stroke:#8f8f8f;stroke-width:1.7648809;stroke-linecap:round;stroke-linejoin:round;stroke-miterlimit:4;stroke-dasharray:none;stroke-dashoffset:0;stroke-opacity:1\" transform=\"matrix(0,1.115239,1.347179,0,4.294728,40.864305)\"/>\n  <path d=\"M 355.72472,305.12943 L 122.59892,305.12943\" id=\"path3657\" sodipodi:nodetypes=\"cc\" style=\"fill:none;fill-opacity:0.75;fill-rule:evenodd;stroke:#000000;stroke-width:1.80272937px;stroke-linecap:butt;stroke-linejoin:miter;stroke-opacity:1\"/>\n  <path d=\"M 268.87862,135.34564 A 83.986809,83.986809 0 0 1 264.89597,160.90183\" id=\"path3873\" inkscape:transform-center-x=\"-15.544842\" inkscape:transform-center-y=\"-10.761815\" sodipodi:cx=\"184.89182\" sodipodi:cy=\"135.34564\" sodipodi:end=\"0.30919104\" sodipodi:open=\"true\" sodipodi:rx=\"83.986809\" sodipodi:ry=\"83.986809\" sodipodi:start=\"0\" sodipodi:type=\"arc\" style=\"fill:none;fill-opacity:1;fill-rule:nonzero;stroke:#8f8f8f;stroke-width:1.20000005;stroke-linecap:round;stroke-linejoin:round;stroke-miterlimit:4;stroke-dasharray:none;stroke-dashoffset:0;stroke-opacity:1\" transform=\"matrix(0,1.802683,1.802777,0,-57.368502,-29.698039)\"/>\n  <path d=\"M 186.62939,0.90136468 L 186.62939,616.11549\" id=\"path3875\" style=\"fill:none;fill-opacity:0.75;fill-rule:evenodd;stroke:#8f8f8f;stroke-width:1.80272937;stroke-linecap:butt;stroke-linejoin:miter;stroke-miterlimit:4;stroke-dasharray:5.40818812, 5.40818812;stroke-dashoffset:0;stroke-opacity:1\"/>\n  <g id=\"g3855\" style=\"fill:#ff0000;fill-opacity:1;stroke:none\" transform=\"matrix(-0.347849,1.768803,1.768896,0.347867,11.871731,-68.279614)\">\n    <path d=\"M 62.40625,11.3125 L 60.84375,12.875 L 103.15625,55.15625 L 184.125,136.125 L 185.65625,134.5625 L 104.71875,53.59375 L 62.40625,11.3125 z \" id=\"path3847\" style=\"fill:#ff0000;fill-opacity:1;fill-rule:evenodd;stroke:none;stroke-width:2.20000005;stroke-linecap:butt;stroke-linejoin:miter;stroke-miterlimit:4;stroke-dasharray:none;stroke-opacity:1\"/>\n    <path d=\"M 97.70358,48.157407 L 91.48104,48.157407 L 105.48175,55.935582 L 97.70358,41.934867 L 97.70358,48.157407 z \" id=\"path3861\" style=\"fill:#ff0000;fill-opacity:1;fill-rule:evenodd;stroke:none;stroke-width:0.88000002pt;marker-start:none\"/>\n  </g>\n  <text id=\"text3877\" sodipodi:linespacing=\"125%\" style=\"font-size:32.4491272px;font-style:normal;font-variant:normal;font-weight:bold;font-stretch:normal;text-align:start;line-height:125%;writing-mode:lr-tb;text-anchor:start;fill:#000000;fill-opacity:1;stroke:none;stroke-width:1px;stroke-linecap:butt;stroke-linejoin:miter;stroke-opacity:1;font-family:Luxi Sans\" transform=\"scale(0.999975,1.000025)\" x=\"-0.045863688\" xml:space=\"preserve\" y=\"40.885605\"><tspan id=\"tspan3879\" sodipodi:role=\"line\" x=\"-0.045863688\" y=\"40.885605\">P</tspan></text>\n  <text id=\"text3881\" sodipodi:linespacing=\"125%\" style=\"font-size:32.4491272px;font-style:normal;font-variant:normal;font-weight:bold;font-stretch:normal;text-align:start;line-height:125%;writing-mode:lr-tb;text-anchor:start;fill:#000000;fill-opacity:1;stroke:none;stroke-width:1px;stroke-linecap:butt;stroke-linejoin:miter;stroke-opacity:1;font-family:Luxi Sans\" transform=\"scale(0.999975,1.000025)\" x=\"276.16638\" xml:space=\"preserve\" y=\"635.74139\"><tspan id=\"tspan3883\" sodipodi:role=\"line\" x=\"276.16638\" y=\"635.74139\">Q</tspan></text>\n  <text id=\"text3885\" sodipodi:linespacing=\"125%\" style=\"font-size:32.4491272px;font-style:normal;font-variant:normal;font-weight:bold;font-stretch:normal;text-align:start;line-height:125%;writing-mode:lr-tb;text-anchor:start;fill:#000000;fill-opacity:1;stroke:none;stroke-width:1px;stroke-linecap:butt;stroke-linejoin:miter;stroke-opacity:1;font-family:Luxi Sans\" transform=\"scale(0.999975,-1.000025)\" x=\"154.45427\" xml:space=\"preserve\" y=\"-314.46988\"><tspan id=\"tspan3887\" sodipodi:role=\"line\" x=\"154.45427\" y=\"-314.46988\">O</tspan></text>\n  <path d=\"M 123.73356,305.08918 L 0.91287905,305.08918\" id=\"path1915\" sodipodi:nodetypes=\"cc\" style=\"fill:none;fill-opacity:0.75;fill-rule:evenodd;stroke:#b3b3b3;stroke-width:1.8257581px;stroke-linecap:butt;stroke-linejoin:miter;stroke-opacity:1\"/>\n  <text id=\"text3897\" sodipodi:linespacing=\"125%\" style=\"font-size:21.63275337px;font-style:oblique;font-variant:normal;font-weight:bold;font-stretch:normal;text-align:start;line-height:125%;writing-mode:lr-tb;text-anchor:start;fill:#000000;fill-opacity:1;stroke:none;stroke-width:1px;stroke-linecap:butt;stroke-linejoin:miter;stroke-opacity:1;font-family:Luxi Sans\" transform=\"scale(0.999975,1.000025)\" x=\"15.504654\" xml:space=\"preserve\" y=\"310.08405\"><tspan id=\"tspan3899\" sodipodi:role=\"line\" x=\"15.504654\" y=\"310.08405\">interface</tspan></text>\n  <text id=\"text3901\" sodipodi:linespacing=\"125%\" style=\"font-size:21.63275337px;font-style:oblique;font-variant:normal;font-weight:bold;font-stretch:normal;text-align:start;line-height:125%;writing-mode:lr-tb;text-anchor:start;fill:#000000;fill-opacity:1;stroke:none;stroke-width:1px;stroke-linecap:butt;stroke-linejoin:miter;stroke-opacity:1;font-family:Luxi Sans\" transform=\"matrix(0,-0.999975,1.000025,0,0,0)\" x=\"-91.672852\" xml:space=\"preserve\" y=\"179.77504\"><tspan id=\"tspan3903\" sodipodi:role=\"line\" x=\"-91.672852\" y=\"179.77504\">normal</tspan></text>\n  <text id=\"text3889\" sodipodi:linespacing=\"100%\" style=\"font-size:32.4491272px;font-style:normal;font-variant:normal;font-weight:bold;font-stretch:normal;text-align:start;line-height:100%;writing-mode:lr-tb;text-anchor:start;fill:#000000;fill-opacity:1;stroke:none;stroke-width:1px;stroke-linecap:butt;stroke-linejoin:miter;stroke-opacity:1;font-family:Luxi Sans\" transform=\"scale(0.999975,1.000025)\" x=\"130.18707\" xml:space=\"preserve\" y=\"137.11411\"><tspan id=\"tspan3891\" sodipodi:role=\"line\" style=\"font-size:36px;font-style:oblique;font-variant:normal;font-weight:normal;font-stretch:normal;text-align:start;line-height:100%;writing-mode:lr-tb;text-anchor:start;font-family:Luxi Sans\" x=\"130.18707\" y=\"137.11411\">θ</tspan></text>\n  <text id=\"text3915\" sodipodi:linespacing=\"100%\" style=\"font-size:14.42183495px;font-style:oblique;font-variant:normal;font-weight:normal;font-stretch:normal;text-align:start;line-height:100%;writing-mode:lr-tb;text-anchor:start;fill:#000000;fill-opacity:1;stroke:none;stroke-width:1px;stroke-linecap:butt;stroke-linejoin:miter;stroke-opacity:1;font-family:Luxi Sans\" transform=\"scale(0.999975,1.000025)\" x=\"146.77075\" xml:space=\"preserve\" y=\"147.62106\"><tspan id=\"tspan3917\" sodipodi:role=\"line\" style=\"font-size:24px;font-style:normal;font-variant:normal;font-weight:normal;font-stretch:normal;text-align:start;line-height:100%;writing-mode:lr-tb;text-anchor:start;font-family:Luxi Sans\" x=\"146.77075\" y=\"147.62106\">1</tspan></text>\n  <text id=\"text3919\" sodipodi:linespacing=\"100%\" style=\"font-size:14.42183971px;font-style:oblique;font-variant:normal;font-weight:normal;font-stretch:normal;text-align:start;line-height:100%;writing-mode:lr-tb;text-anchor:start;fill:#000000;fill-opacity:1;stroke:none;stroke-width:1px;stroke-linecap:butt;stroke-linejoin:miter;stroke-opacity:1;font-family:Luxi Sans\" transform=\"scale(0.999974,1.000026)\" x=\"215.28835\" xml:space=\"preserve\" y=\"505.75424\"><tspan id=\"tspan3921\" sodipodi:role=\"line\" style=\"font-size:24px;font-style:normal;font-variant:normal;font-weight:normal;font-stretch:normal;text-align:start;line-height:100%;writing-mode:lr-tb;text-anchor:start;font-family:Luxi Sans\" x=\"215.28835\" y=\"505.75424\">2</tspan></text>\n  <text id=\"text3911\" sodipodi:linespacing=\"100%\" style=\"font-size:14.42183971px;font-style:oblique;font-variant:normal;font-weight:normal;font-stretch:normal;text-align:start;line-height:100%;writing-mode:lr-tb;text-anchor:start;fill:#000000;fill-opacity:1;stroke:none;stroke-width:1px;stroke-linecap:butt;stroke-linejoin:miter;stroke-opacity:1;font-family:Luxi Sans\" transform=\"scale(0.999974,1.000026)\" x=\"243.16357\" xml:space=\"preserve\" y=\"348.52286\"><tspan id=\"tspan3913\" sodipodi:role=\"line\" style=\"font-size:24px;font-style:normal;font-variant:normal;font-weight:normal;font-stretch:normal;text-align:start;line-height:100%;writing-mode:lr-tb;text-anchor:start;font-family:Luxi Sans\" x=\"243.16357\" y=\"348.52286\">2</tspan></text>\n  <text id=\"text3923\" sodipodi:linespacing=\"100%\" style=\"font-size:21.63275909px;font-style:oblique;font-variant:normal;font-weight:bold;font-stretch:normal;text-align:start;line-height:100%;writing-mode:lr-tb;text-anchor:start;fill:#000000;fill-opacity:1;stroke:none;stroke-width:1px;stroke-linecap:butt;stroke-linejoin:miter;stroke-opacity:1;font-family:Luxi Sans\" transform=\"scale(0.999974,1.000026)\" x=\"220.53947\" xml:space=\"preserve\" y=\"340.84021\"><tspan id=\"tspan3925\" sodipodi:role=\"line\" style=\"font-size:36px;font-style:oblique;font-variant:normal;font-weight:normal;font-stretch:normal;text-align:start;line-height:100%;writing-mode:lr-tb;text-anchor:start;font-family:Luxi Sans\" x=\"220.53947\" y=\"340.84021\">n</tspan></text>\n  <text id=\"text2897\" sodipodi:linespacing=\"100%\" style=\"font-size:14.42183971px;font-style:oblique;font-variant:normal;font-weight:normal;font-stretch:normal;text-align:start;line-height:100%;writing-mode:lr-tb;text-anchor:start;fill:#000000;fill-opacity:1;stroke:none;stroke-width:1px;stroke-linecap:butt;stroke-linejoin:miter;stroke-opacity:1;font-family:Luxi Sans\" transform=\"scale(0.999974,1.000026)\" x=\"240.91344\" xml:space=\"preserve\" y=\"295.564\"><tspan id=\"tspan2899\" sodipodi:role=\"line\" style=\"font-size:24px;font-style:normal;font-variant:normal;font-weight:normal;font-stretch:normal;text-align:start;line-height:100%;writing-mode:lr-tb;text-anchor:start;font-family:Luxi Sans\" x=\"240.91344\" y=\"295.564\">1</tspan></text>\n  <text id=\"text2901\" sodipodi:linespacing=\"100%\" style=\"font-size:21.63275909px;font-style:oblique;font-variant:normal;font-weight:bold;font-stretch:normal;text-align:start;line-height:100%;writing-mode:lr-tb;text-anchor:start;fill:#000000;fill-opacity:1;stroke:none;stroke-width:1px;stroke-linecap:butt;stroke-linejoin:miter;stroke-opacity:1;font-family:Luxi Sans\" transform=\"scale(0.999974,1.000026)\" x=\"219.95265\" xml:space=\"preserve\" y=\"286.15204\"><tspan id=\"tspan2903\" sodipodi:role=\"line\" style=\"font-size:36px;font-style:oblique;font-variant:normal;font-weight:normal;font-stretch:normal;text-align:start;line-height:100%;writing-mode:lr-tb;text-anchor:start;font-family:Luxi Sans\" x=\"219.95265\" y=\"286.15204\">n</tspan></text>\n  <text id=\"text2905\" sodipodi:linespacing=\"100%\" style=\"font-size:14.42183971px;font-style:oblique;font-variant:normal;font-weight:normal;font-stretch:normal;text-align:start;line-height:100%;writing-mode:lr-tb;text-anchor:start;fill:#000000;fill-opacity:1;stroke:none;stroke-width:1px;stroke-linecap:butt;stroke-linejoin:miter;stroke-opacity:1;font-family:Luxi Sans\" transform=\"scale(0.999974,1.000026)\" x=\"308.94653\" xml:space=\"preserve\" y=\"349.00012\"><tspan id=\"tspan2907\" sodipodi:role=\"line\" style=\"font-size:24px;font-style:normal;font-variant:normal;font-weight:normal;font-stretch:normal;text-align:start;line-height:100%;writing-mode:lr-tb;text-anchor:start;font-family:Luxi Sans\" x=\"308.94653\" y=\"349.00012\">2</tspan></text>\n  <text id=\"text2909\" sodipodi:linespacing=\"100%\" style=\"font-size:21.63275909px;font-style:oblique;font-variant:normal;font-weight:bold;font-stretch:normal;text-align:start;line-height:100%;writing-mode:lr-tb;text-anchor:start;fill:#000000;fill-opacity:1;stroke:none;stroke-width:1px;stroke-linecap:butt;stroke-linejoin:miter;stroke-opacity:1;font-family:Luxi Sans\" transform=\"scale(0.999974,1.000026)\" x=\"292.78961\" xml:space=\"preserve\" y=\"340.62952\"><tspan id=\"tspan2911\" sodipodi:role=\"line\" style=\"font-size:36px;font-style:oblique;font-variant:normal;font-weight:normal;font-stretch:normal;text-align:start;line-height:100%;writing-mode:lr-tb;text-anchor:start;font-family:Luxi Sans\" x=\"292.78961\" y=\"340.62952\">v</tspan></text>\n  <text id=\"text2913\" sodipodi:linespacing=\"100%\" style=\"font-size:14.42183971px;font-style:oblique;font-variant:normal;font-weight:normal;font-stretch:normal;text-align:start;line-height:100%;writing-mode:lr-tb;text-anchor:start;fill:#000000;fill-opacity:1;stroke:none;stroke-width:1px;stroke-linecap:butt;stroke-linejoin:miter;stroke-opacity:1;font-family:Luxi Sans\" transform=\"scale(0.999974,1.000026)\" x=\"311.69653\" xml:space=\"preserve\" y=\"296.20074\"><tspan id=\"tspan2915\" sodipodi:role=\"line\" style=\"font-size:24px;font-style:normal;font-variant:normal;font-weight:normal;font-stretch:normal;text-align:start;line-height:100%;writing-mode:lr-tb;text-anchor:start;font-family:Luxi Sans\" x=\"311.69653\" y=\"296.20074\">1</tspan></text>\n  <text id=\"text2917\" sodipodi:linespacing=\"100%\" style=\"font-size:21.63275909px;font-style:oblique;font-variant:normal;font-weight:bold;font-stretch:normal;text-align:start;line-height:100%;writing-mode:lr-tb;text-anchor:start;fill:#000000;fill-opacity:1;stroke:none;stroke-width:1px;stroke-linecap:butt;stroke-linejoin:miter;stroke-opacity:1;font-family:Luxi Sans\" transform=\"scale(0.999974,1.000026)\" x=\"296.46176\" xml:space=\"preserve\" y=\"286.20099\"><tspan id=\"tspan2919\" sodipodi:role=\"line\" style=\"font-size:36px;font-style:oblique;font-variant:normal;font-weight:normal;font-stretch:normal;text-align:start;line-height:100%;writing-mode:lr-tb;text-anchor:start;font-family:Luxi Sans\" x=\"296.46176\" y=\"286.20099\">v</tspan></text>\n  <text id=\"text2322\" sodipodi:linespacing=\"100%\" style=\"font-size:32.4491272px;font-style:normal;font-variant:normal;font-weight:bold;font-stretch:normal;text-align:start;line-height:100%;writing-mode:lr-tb;text-anchor:start;fill:#000000;fill-opacity:1;stroke:none;stroke-width:1px;stroke-linecap:butt;stroke-linejoin:miter;stroke-opacity:1;font-family:Luxi Sans\" transform=\"scale(0.999975,1.000025)\" x=\"200.68474\" xml:space=\"preserve\" y=\"492.00119\"><tspan id=\"tspan2324\" sodipodi:role=\"line\" style=\"font-size:36px;font-style:oblique;font-variant:normal;font-weight:normal;font-stretch:normal;text-align:start;line-height:100%;writing-mode:lr-tb;text-anchor:start;font-family:Luxi Sans\" x=\"200.68474\" y=\"492.00119\">θ</tspan></text>\n  <path d=\"M 184.76699,305.38841 L 188.54156,304.2054 L 283.30002,599.39474 L 279.52546,600.57775 L 184.76699,305.38841 z \" id=\"path3841\" style=\"fill:#ff0000;fill-opacity:1;fill-rule:evenodd;stroke:none;stroke-width:2.20000005;stroke-linecap:butt;stroke-linejoin:miter;stroke-miterlimit:4;stroke-dasharray:none;stroke-opacity:1\"/>\n  <path d=\"M 278.20464,589.84518 L 283.33258,579.86852 L 284.26621,608.72562 L 268.22744,584.7175 L 278.20464,589.84518 z \" id=\"path3869\" style=\"fill:#ff0000;fill-opacity:1;fill-rule:evenodd;stroke:none;stroke-width:0.88000002pt;marker-start:none\"/>\n</svg>"
          },
          "metadata": {
            "tags": []
          }
        }
      ]
    },
    {
      "cell_type": "markdown",
      "metadata": {
        "id": "0heCTBuc0SH6",
        "colab_type": "text"
      },
      "source": [
        "#### Snell の法則\n",
        "\n",
        "\\begin{align*}\n",
        "n_1 \\cdot \\sin \\theta_1  &= n_2 \\cdot \\sin \\theta_2&\n",
        "\\end{align*}\n"
      ]
    },
    {
      "cell_type": "code",
      "metadata": {
        "id": "HBdlKCZ36oxn",
        "colab_type": "code",
        "cellView": "form",
        "colab": {
          "base_uri": "https://localhost:8080/",
          "height": 336
        },
        "outputId": "d6c789f0-9dce-4553-fe43-8bc1290a5a4e"
      },
      "source": [
        "#@title 水面波の速度と屈折\n",
        "%%html\n",
        "<iframe width=\"560\" height=\"315\" src=\"https://www.youtube-nocookie.com/embed/QXaLLBFQdTY\" frameborder=\"0\" allow=\"accelerometer; autoplay; encrypted-media; gyroscope; picture-in-picture\" allowfullscreen></iframe>"
      ],
      "execution_count": null,
      "outputs": [
        {
          "output_type": "display_data",
          "data": {
            "text/html": [
              "<iframe width=\"560\" height=\"315\" src=\"https://www.youtube-nocookie.com/embed/QXaLLBFQdTY\" frameborder=\"0\" allow=\"accelerometer; autoplay; encrypted-media; gyroscope; picture-in-picture\" allowfullscreen></iframe>"
            ],
            "text/plain": [
              "<IPython.core.display.HTML object>"
            ]
          },
          "metadata": {
            "tags": []
          }
        }
      ]
    },
    {
      "cell_type": "markdown",
      "metadata": {
        "id": "6FD2MKs4wA1D",
        "colab_type": "text"
      },
      "source": [
        "### 水面の深さ $h$ と波の速度 $v$ の関係\n",
        "\n",
        "激しく底が変化しない場合は水面上の波の速さは\n",
        "\n",
        "\\begin{align*}\n",
        "v &= \\sqrt{gh}&\n",
        "\\end{align*}\n",
        "\n",
        "この証明には, 定常流(一定の流れ)の関係理解する必要があるため深入りしません.  \n",
        "直感的には\n",
        ">  深いほうが底面の影響が少ないため, 波は滑らかに進む\n",
        "\n",
        "と考えてください."
      ]
    },
    {
      "cell_type": "markdown",
      "metadata": {
        "id": "QTFfHftK6iqF",
        "colab_type": "text"
      },
      "source": [
        "![An Incident Wave Reflects and Refracts at an Interface](http://physics.ucdavis.edu/Classes/Physics9B_Animations/ReflRefr.gif)\n",
        "\n",
        "- 下部: 屈折\n",
        "\n",
        "> この動画(下部: 屈折)と教科書の図を比較してください．"
      ]
    },
    {
      "cell_type": "markdown",
      "metadata": {
        "id": "B3epjUM3w3v8",
        "colab_type": "text"
      },
      "source": [
        "**波源の振動数 $f$ は一定** ですが, \n",
        "- 深さ $h$ が異なってくるため,  波の速さ $v$ が変わります\n",
        "  - これを受けて, 波長 $\\lambda$ も変わります\n",
        "\n",
        "> 波の基本式 $\\qquad v = \\dfrac{\\lambda}{T} = \\lambda f$\n",
        "\n",
        "- 浅い(shallow)水面波の速度を $v_s$, その波長を $\\lambda_s$, 深さを $h_s$\n",
        "- 深い(deep)水面波の速度を $v_d$, その波長を $\\lambda_d$, 深さを $h_d$\n",
        "\n",
        "を利用して浅深による波長の影響を考えてみましょう.\n",
        "\n",
        "\\begin{align*}\n",
        "f &= \\dfrac{v}{\\lambda} = \\dfrac{v_s}{\\lambda_s}  = \\dfrac{v_d}{\\lambda_d} &\\\\\n",
        "&= \\dfrac{\\sqrt{g h_s}}{\\lambda_s}  = \\dfrac{\\sqrt{g h_d}}{\\lambda_d}&\n",
        "\\end{align*}\n",
        "これを整理すると\n",
        "\\begin{align*}\n",
        "\\lambda_s &= \\dfrac{\\sqrt{g h_s}}{f} &\\\\\n",
        "\\lambda_d &= \\dfrac{\\sqrt{g h_d}}{f} &\n",
        "\\end{align*}\n",
        "つまり\n",
        "\\begin{align*}\n",
        "\\lambda_s < \\lambda_d\n",
        "\\end{align*}\n",
        "となり, 浅いほうが波長が短くなることがわかります.\n",
        "\n"
      ]
    },
    {
      "cell_type": "code",
      "metadata": {
        "id": "hPoGsUuK2aa0",
        "colab_type": "code",
        "cellView": "form",
        "colab": {
          "base_uri": "https://localhost:8080/",
          "height": 336
        },
        "outputId": "5aa137e0-f06b-41fc-9628-8ad7ae4cc536"
      },
      "source": [
        "#@title 沖と浅瀬の波長の差\n",
        "%%html\n",
        "<iframe width=\"560\" height=\"315\" src=\"https://www.youtube-nocookie.com/embed/P834EDT_Viw\" frameborder=\"0\" allow=\"accelerometer; autoplay; encrypted-media; gyroscope; picture-in-picture\" allowfullscreen></iframe>"
      ],
      "execution_count": null,
      "outputs": [
        {
          "output_type": "display_data",
          "data": {
            "text/html": [
              "<iframe width=\"560\" height=\"315\" src=\"https://www.youtube-nocookie.com/embed/P834EDT_Viw\" frameborder=\"0\" allow=\"accelerometer; autoplay; encrypted-media; gyroscope; picture-in-picture\" allowfullscreen></iframe>"
            ],
            "text/plain": [
              "<IPython.core.display.HTML object>"
            ]
          },
          "metadata": {
            "tags": []
          }
        }
      ]
    },
    {
      "cell_type": "code",
      "metadata": {
        "id": "9LWe7W064AGN",
        "colab_type": "code",
        "cellView": "form",
        "colab": {
          "base_uri": "https://localhost:8080/",
          "height": 336
        },
        "outputId": "67b091be-ee7a-469a-c7a8-390dea4f5371"
      },
      "source": [
        "#@title 波長差を確認\n",
        "%%html\n",
        "<iframe width=\"560\" height=\"315\" src=\"https://www.youtube-nocookie.com/embed/NOnK62gMIH8?start=12\" frameborder=\"0\" allow=\"accelerometer; autoplay; encrypted-media; gyroscope; picture-in-picture\" allowfullscreen></iframe>"
      ],
      "execution_count": null,
      "outputs": [
        {
          "output_type": "display_data",
          "data": {
            "text/html": [
              "<iframe width=\"560\" height=\"315\" src=\"https://www.youtube-nocookie.com/embed/NOnK62gMIH8?start=12\" frameborder=\"0\" allow=\"accelerometer; autoplay; encrypted-media; gyroscope; picture-in-picture\" allowfullscreen></iframe>"
            ],
            "text/plain": [
              "<IPython.core.display.HTML object>"
            ]
          },
          "metadata": {
            "tags": []
          }
        }
      ]
    },
    {
      "cell_type": "code",
      "metadata": {
        "id": "2c4QR3RHIEUv",
        "colab_type": "code",
        "cellView": "form",
        "colab": {
          "base_uri": "https://localhost:8080/",
          "height": 336
        },
        "outputId": "4f920af9-0e74-45fd-fb02-0f2d219e6bee"
      },
      "source": [
        "#@title 波面のアナロジー\n",
        "%%html\n",
        "<iframe width=\"560\" height=\"315\" src=\"https://www.youtube-nocookie.com/embed/5z-TX2yUSPw\" frameborder=\"0\" allow=\"accelerometer; autoplay; encrypted-media; gyroscope; picture-in-picture\" allowfullscreen></iframe>"
      ],
      "execution_count": null,
      "outputs": [
        {
          "output_type": "display_data",
          "data": {
            "text/html": [
              "<iframe width=\"560\" height=\"315\" src=\"https://www.youtube-nocookie.com/embed/5z-TX2yUSPw\" frameborder=\"0\" allow=\"accelerometer; autoplay; encrypted-media; gyroscope; picture-in-picture\" allowfullscreen></iframe>"
            ],
            "text/plain": [
              "<IPython.core.display.HTML object>"
            ]
          },
          "metadata": {
            "tags": []
          }
        }
      ]
    },
    {
      "cell_type": "markdown",
      "metadata": {
        "id": "NzlIVD-k4PjR",
        "colab_type": "text"
      },
      "source": [
        "> 教科書 p117 図2.42 を利用します. それぞれの\n",
        "1. 入射波の射線と屈折波の射線\n",
        "1. 入射角と屈折角\n",
        "1. 波源の振動数 $f$ は一定\n",
        "1. 点(A,B,C,D,etc)の位置  \n",
        "1. AD, BC の波面は同じグループ(同位相)なので\n",
        "  - AD, BC を進む波の波の数(波数)は等しい\n",
        "  - AD, BC は同じ時間を過ごす\n",
        ">\n",
        ">ことを確認してください.\n"
      ]
    },
    {
      "cell_type": "markdown",
      "metadata": {
        "id": "sVQRWbNW6N55",
        "colab_type": "text"
      },
      "source": [
        "\n",
        "それでは, 波の屈折の法則を確認していきます\n",
        "- AC は入射波と屈折波に共通です\n",
        "\n",
        "> Q. BC と AD の長さを $L, \\theta_i, \\theta_r$ で表してください.\n",
        "\n",
        "> Q. $\\dfrac{\\sin\\theta_i}{\\sin \\theta_r}$ を AD, BC で表現してください.\n",
        "\n",
        "> Q. ADの波長を $\\lambda_1$, BC のものを $\\lambda_2$ として 教科書 上巻 p118 (2.22) の前半を導出してください."
      ]
    }
  ]
}