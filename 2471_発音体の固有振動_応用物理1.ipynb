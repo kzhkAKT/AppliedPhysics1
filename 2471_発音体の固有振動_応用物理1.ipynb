{
  "nbformat": 4,
  "nbformat_minor": 0,
  "metadata": {
    "colab": {
      "name": "2471_発音体の固有振動_応用物理1",
      "provenance": [],
      "authorship_tag": "ABX9TyNRsyxMs7bNG8jmnrVT06Ca",
      "include_colab_link": true
    },
    "kernelspec": {
      "name": "python3",
      "display_name": "Python 3"
    }
  },
  "cells": [
    {
      "cell_type": "markdown",
      "metadata": {
        "id": "view-in-github",
        "colab_type": "text"
      },
      "source": [
        "<a href=\"https://colab.research.google.com/github/kzhkAKT/AppliedPhysics1/blob/draft/2471_%E7%99%BA%E9%9F%B3%E4%BD%93%E3%81%AE%E5%9B%BA%E6%9C%89%E6%8C%AF%E5%8B%95_%E5%BF%9C%E7%94%A8%E7%89%A9%E7%90%861.ipynb\" target=\"_parent\"><img src=\"https://colab.research.google.com/assets/colab-badge.svg\" alt=\"Open In Colab\"/></a>"
      ]
    },
    {
      "cell_type": "markdown",
      "metadata": {
        "id": "12YMk70LSOzV"
      },
      "source": [
        "# 音波"
      ]
    },
    {
      "cell_type": "markdown",
      "metadata": {
        "id": "16LFbYSZS2wJ"
      },
      "source": [
        "## 発音体の固有振動"
      ]
    },
    {
      "cell_type": "markdown",
      "metadata": {
        "id": "ssr0KztPS7uw"
      },
      "source": [
        "### 弦の固有振動"
      ]
    },
    {
      "cell_type": "code",
      "metadata": {
        "id": "J-1efT28U_D9",
        "cellView": "form",
        "outputId": "9fab14d4-7b68-4dfb-e637-88edc340776e",
        "colab": {
          "base_uri": "https://localhost:8080/",
          "height": 336
        }
      },
      "source": [
        "#@title ギターの弦の振動\n",
        "%%html\n",
        "<iframe width=\"560\" height=\"315\" src=\"https://www.youtube-nocookie.com/embed/ttgLyWFINJI\" frameborder=\"0\" allow=\"accelerometer; autoplay; clipboard-write; encrypted-media; gyroscope; picture-in-picture\" allowfullscreen></iframe>"
      ],
      "execution_count": 3,
      "outputs": [
        {
          "output_type": "display_data",
          "data": {
            "text/html": [
              "<iframe width=\"560\" height=\"315\" src=\"https://www.youtube-nocookie.com/embed/ttgLyWFINJI\" frameborder=\"0\" allow=\"accelerometer; autoplay; clipboard-write; encrypted-media; gyroscope; picture-in-picture\" allowfullscreen></iframe>"
            ],
            "text/plain": [
              "<IPython.core.display.HTML object>"
            ]
          },
          "metadata": {
            "tags": []
          }
        }
      ]
    },
    {
      "cell_type": "code",
      "metadata": {
        "id": "59ruNzQPUolP",
        "cellView": "form",
        "outputId": "aeb16ab6-a4c4-4d02-fe9e-d34beebb61d8",
        "colab": {
          "base_uri": "https://localhost:8080/",
          "height": 336
        }
      },
      "source": [
        "#@title スピーカーを利用した弦の振動:その2\n",
        "%%html\n",
        "<iframe width=\"560\" height=\"315\" src=\"https://www.youtube-nocookie.com/embed/oZ38Y0K8e-Y\" frameborder=\"0\" allow=\"accelerometer; autoplay; clipboard-write; encrypted-media; gyroscope; picture-in-picture\" allowfullscreen></iframe>"
      ],
      "execution_count": 5,
      "outputs": [
        {
          "output_type": "display_data",
          "data": {
            "text/html": [
              "<iframe width=\"560\" height=\"315\" src=\"https://www.youtube-nocookie.com/embed/oZ38Y0K8e-Y\" frameborder=\"0\" allow=\"accelerometer; autoplay; clipboard-write; encrypted-media; gyroscope; picture-in-picture\" allowfullscreen></iframe>"
            ],
            "text/plain": [
              "<IPython.core.display.HTML object>"
            ]
          },
          "metadata": {
            "tags": []
          }
        }
      ]
    },
    {
      "cell_type": "code",
      "metadata": {
        "id": "JP8nyymYS9-Y",
        "cellView": "form",
        "outputId": "af1386e7-6b08-428b-9115-5fea4bad23b3",
        "colab": {
          "base_uri": "https://localhost:8080/",
          "height": 336
        }
      },
      "source": [
        "#@title スピーカーを利用した弦の振動:その1\n",
        "%%html\n",
        "<iframe width=\"560\" height=\"315\" src=\"https://www.youtube-nocookie.com/embed/cnH2ltfW48U\" frameborder=\"0\" allow=\"accelerometer; autoplay; clipboard-write; encrypted-media; gyroscope; picture-in-picture\" allowfullscreen></iframe>"
      ],
      "execution_count": 2,
      "outputs": [
        {
          "output_type": "display_data",
          "data": {
            "text/html": [
              "<iframe width=\"560\" height=\"315\" src=\"https://www.youtube-nocookie.com/embed/cnH2ltfW48U\" frameborder=\"0\" allow=\"accelerometer; autoplay; clipboard-write; encrypted-media; gyroscope; picture-in-picture\" allowfullscreen></iframe>"
            ],
            "text/plain": [
              "<IPython.core.display.HTML object>"
            ]
          },
          "metadata": {
            "tags": []
          }
        }
      ]
    },
    {
      "cell_type": "markdown",
      "metadata": {
        "id": "bQ75sF6pabA2"
      },
      "source": [
        "#### 弦を伝わる波の速さ $v$"
      ]
    },
    {
      "cell_type": "markdown",
      "metadata": {
        "id": "3MdSpZ9GWnGG"
      },
      "source": [
        "\n",
        "##### 線密度 $\\sigma {\\rm \\  [kg/m]}$\n",
        "\n",
        "1. 弦には長さがあるので, 単位長さ 1m について考えます\n",
        "1. ギターの弦のように, 弦は様々な素材で作られています\n",
        "1. 素材によって, 動きにくさを示す質量が異なります\n",
        "\n",
        "このことから, 弦の単位長さ 1 m あたりの質量が重くなれば,  \n",
        "弦はゆっくり動くことになり, 波の速さは遅くなることが予測されます.\n",
        "\\begin{align*}\n",
        "v \\propto \\dfrac{1}{\\sigma}\n",
        "\\end{align*}"
      ]
    },
    {
      "cell_type": "markdown",
      "metadata": {
        "id": "pThZ6qMoah3v"
      },
      "source": [
        "##### 張力 $S {\\rm \\ [N]}$ \n",
        "\n",
        "1. 弦には長さがあるので, 単位長さ 1m について考えます\n",
        "2. 弦を緊張させたときと, 緩めたときで, 弦を弾いて伝わるパルス波/矩形波の波の速さを想像してください.\n",
        "  - 緊張させたときのほうが, 効率よく波が伝わることが予測されます.\n",
        "\n",
        "このことから, 弦を張る張力が強ければ, 波の速さは早くなることが予測されます\n",
        "\\begin{align*}\n",
        "v \\propto S\n",
        "\\end{align*}\n"
      ]
    },
    {
      "cell_type": "markdown",
      "metadata": {
        "id": "NkE4mZhkcBVn"
      },
      "source": [
        "この二つの考察をまとめて単位を観察してみましょう.\n",
        "\\begin{align*}\n",
        "&\\begin{cases}\n",
        "v &\\propto \\dfrac{1}{\\sigma}\\\\\n",
        "v &\\propto S\n",
        "\\end{cases}&\\\\\n",
        "v &\\propto \\dfrac{S}{\\sigma}\n",
        "\\sim {\\rm \\dfrac{N}{kg/m} = \\dfrac{kg\\cdot m/s^2}{kg/m} \n",
        "=  \\left(m/s\\right)^2   }\n",
        "\\end{align*}\n",
        "となり次元が合いません. \n",
        "\n",
        "本来であれば, 比例関係の定数を決めた上で, 平方根を取らなければなりませんが,   \n",
        "この導出は高専3年生の数学では太刀打ちできません.\n",
        "\n",
        "残念ですが, 考察はここまでとして, 弦を伝わる波の速さ $v$ は\n",
        "\\begin{align*}\n",
        "v &= \\sqrt{\\dfrac{S}{\\sigma}}\n",
        "\\end{align*}\n",
        "となると理解してください."
      ]
    },
    {
      "cell_type": "markdown",
      "metadata": {
        "id": "RwxEWeHWdqIQ"
      },
      "source": [
        "このことから弦を伝わる振動は, 張力 $S$ と 線密度 $\\sigma$ のみによることがわかります."
      ]
    },
    {
      "cell_type": "markdown",
      "metadata": {
        "id": "69TFz-iWd9El"
      },
      "source": [
        "#### 弦の両端 と 定常波"
      ]
    },
    {
      "cell_type": "markdown",
      "metadata": {
        "id": "r8tKkymIeGir"
      },
      "source": [
        "- ギターのように、弦は両端を固定する必要があります\n",
        "- 固定した両端は, 振動することができません. つまり, 固定端として波を反射させます.\n",
        "  1. 弦の中央を爪弾くと, 発生した(パルス)波は弦の両側を伝わります\n",
        "  2. 伝わった波は, 両端での反射を繰り返します. \n",
        "    - 複数の反射波が重ね合わせの原理でうまく合成されなければ, 位相のズレから波は消えてしまいます.\n",
        "    - しかし, 重ね合わせの原理がうまく働けば, 両端が固定担である条件の波が生き残ります.\n",
        "  3. このような現象は定常波で見てきたものです.\n",
        "\n",
        "![https://en.wikipedia.org/wiki/String_vibration](https://upload.wikimedia.org/wikipedia/commons/5/5c/Standing_waves_on_a_string.gif) "
      ]
    },
    {
      "cell_type": "markdown",
      "metadata": {
        "id": "-FE-nOB0gvEL"
      },
      "source": [
        "#### 弦の長さ $L$ と 波長 $\\lambda$\n",
        "\n",
        "上の図で, 弦の長さ $L$ とし, 定常波の波長 $\\lambda$ を求めてみましょう.\n",
        "\n",
        "繰り返しの基準となる, 定常波の腹の数が少ない順に整理すると\n",
        "\\begin{align*}\n",
        "L \n",
        "&= \\dfrac{\\lambda_1}{2} \\cdot 1&\\\\\n",
        "&= \\dfrac{\\lambda_2}{2} \\cdot 2&\\\\\n",
        "&= \\dfrac{\\lambda_3}{2} \\cdot 3&\\\\\n",
        "&\\dots&\\\\\n",
        "&=\\lambda_n/2\\cdot n\n",
        "\\end{align*}\n",
        "つまり\n",
        "\\begin{align*}\n",
        "\\lambda_n &= \\dfrac{2L}{n}& (n=1, 2, 3, \\cdots)\n",
        "\\end{align*}\n",
        "となり, 波長 $\\lambda$ は腹の数 $n$ と関わりをもち,\n",
        "$\\lambda_n$ になります."
      ]
    },
    {
      "cell_type": "markdown",
      "metadata": {
        "id": "eOH6A36vgOnZ"
      },
      "source": [
        "#### 波の速さ $v$ と振動数 $f$"
      ]
    },
    {
      "cell_type": "markdown",
      "metadata": {
        "id": "leRJgfvYgb3o"
      },
      "source": [
        "波の基本式は\n",
        "$$\n",
        "v = \\lambda \\cdot f\n",
        "$$\n",
        "でした. ここで, 波の速さ $v$ は $S,\\sigma$ だけで決まり, 弦にある腹の個数には依存しません.\n",
        "\n",
        "このことから\n",
        "\\begin{align*}\n",
        "v\n",
        "&= \\lambda \\cdot f&\\\\\n",
        "&= \\lambda_n \\cdot f_n&\\\\\n",
        "\\end{align*}\n",
        "となり振動数 $f$ は $f_n$ と $n$ に依存することが予測されます.\n",
        "\n"
      ]
    },
    {
      "cell_type": "markdown",
      "metadata": {
        "id": "8zVTAIGsp56R"
      },
      "source": [
        "#### 固有振動 $f_n$\n",
        "\n",
        "これまでの議論を利用して, 弦に存在できる固有な振動数  $f_n$ を求めましょう.\n",
        "\\begin{align*}\n",
        "f_n\n",
        "&= \\dfrac{v}{\\lambda_n}&\\\\\n",
        "&= \\dfrac{ \\sqrt{\\frac{S}{\\sigma}}}{\\frac{2L}{n}}\n",
        "= n \\cdot \\dfrac{1}{2L} \\sqrt{\\frac{S}{\\sigma}}\n",
        "\\end{align*}\n",
        "このように定常波の振動数が, 特定のものだけ生き残るような現象を **固有振動** といいます.\n",
        "\n",
        "とくに $n=1$ の固有な振動は, 両端を固定された弦の最も簡単な振動で **基本振動**\n",
        "と呼ばれ, このときの振動数 $f_1$を **基本振動数** といいます.\n",
        "\\begin{align*}\n",
        "f_1= \\dfrac{1}{2L} \\sqrt{\\frac{S}{\\sigma}}\n",
        "\\end{align*}\n",
        "\n",
        "これを利用すると $f_n$ は\n",
        "\\begin{align*}\n",
        "f_n= n \\cdot f_1\n",
        "\\end{align*}\n",
        "となります. $n$ で表される振動を $n$ 倍振動とよびます.\n",
        "\n",
        "このように弦で発生した音が, ギターの筐体などに響き発生する音を\n",
        "- 基本振動をもとに発生する音を **基本音**\n",
        "- 倍振動をもとに発生する音を **倍音**\n",
        "\n",
        "といいます"
      ]
    },
    {
      "cell_type": "markdown",
      "metadata": {
        "id": "WUL-T7zWubCZ"
      },
      "source": [
        "> 教科書 p130 の例題2.8に取り組んでください."
      ]
    }
  ]
}