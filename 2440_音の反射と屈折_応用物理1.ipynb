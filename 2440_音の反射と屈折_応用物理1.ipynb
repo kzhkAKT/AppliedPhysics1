{
  "nbformat": 4,
  "nbformat_minor": 0,
  "metadata": {
    "colab": {
      "name": "2440_音の反射と屈折_応用物理1",
      "provenance": [],
      "authorship_tag": "ABX9TyPg0uAOI+EfEAo/jPzLZOaQ",
      "include_colab_link": true
    },
    "kernelspec": {
      "name": "python3",
      "display_name": "Python 3"
    }
  },
  "cells": [
    {
      "cell_type": "markdown",
      "metadata": {
        "id": "view-in-github",
        "colab_type": "text"
      },
      "source": [
        "<a href=\"https://colab.research.google.com/github/kzhkAKT/AppliedPhysics1/blob/draft/2440_%E9%9F%B3%E3%81%AE%E5%8F%8D%E5%B0%84%E3%81%A8%E5%B1%88%E6%8A%98_%E5%BF%9C%E7%94%A8%E7%89%A9%E7%90%861.ipynb\" target=\"_parent\"><img src=\"https://colab.research.google.com/assets/colab-badge.svg\" alt=\"Open In Colab\"/></a>"
      ]
    },
    {
      "cell_type": "markdown",
      "metadata": {
        "id": "CO6cIiQK3w5G",
        "colab_type": "text"
      },
      "source": [
        "# 音波"
      ]
    },
    {
      "cell_type": "markdown",
      "metadata": {
        "id": "APo9Ox7T37vu",
        "colab_type": "text"
      },
      "source": [
        "## 音波の反射と屈折"
      ]
    },
    {
      "cell_type": "markdown",
      "metadata": {
        "id": "6i53EWFu4Bnh",
        "colab_type": "text"
      },
      "source": [
        "### 音波の反射"
      ]
    },
    {
      "cell_type": "code",
      "metadata": {
        "id": "0WPDmujFERbw",
        "colab_type": "code",
        "cellView": "form",
        "colab": {
          "base_uri": "https://localhost:8080/",
          "height": 336
        },
        "outputId": "48b5ba35-162d-4bad-e659-5f900f223637"
      },
      "source": [
        "#@title 反射とこだま(echo)\n",
        "%%html\n",
        "<iframe width=\"560\" height=\"315\" src=\"https://www.youtube-nocookie.com/embed/GuvYffYISJc\" frameborder=\"0\" allow=\"accelerometer; autoplay; encrypted-media; gyroscope; picture-in-picture\" allowfullscreen></iframe>"
      ],
      "execution_count": null,
      "outputs": [
        {
          "output_type": "display_data",
          "data": {
            "text/html": [
              "<iframe width=\"560\" height=\"315\" src=\"https://www.youtube-nocookie.com/embed/GuvYffYISJc\" frameborder=\"0\" allow=\"accelerometer; autoplay; encrypted-media; gyroscope; picture-in-picture\" allowfullscreen></iframe>"
            ],
            "text/plain": [
              "<IPython.core.display.HTML object>"
            ]
          },
          "metadata": {
            "tags": []
          }
        }
      ]
    },
    {
      "cell_type": "markdown",
      "metadata": {
        "id": "UXoJ_wXC5efb",
        "colab_type": "text"
      },
      "source": [
        "#### (簡単な)こだま[残響]の条件\n",
        "\n",
        "人の可聴音領域:: $f_{\\rm hmn}$\n",
        "\\begin{align*}\n",
        " 20\\ {\\rm Hz} \\leqq f_{\\rm hmn} \\leqq 20 \\times 10^3 \\ {\\rm Hz}\n",
        "\\end{align*}\n",
        "\n",
        "これより人が認識できる音波の周期 $T_{\\rm hmn} = \\frac{1}{f_{\\rm hmn}}$\n",
        "\\begin{align*}\n",
        " T_{\\rm L:hmn} = \\dfrac{1}{20 \\times 10^3} \\ {\\rm s}  \\leqq\n",
        "  T_{\\rm hmn} = \\frac{1}{f_{\\rm hmn}}\\leqq  \n",
        " \\dfrac{1}{20}\\ {\\rm s} = T_{\\rm H:hmn} \n",
        "\\end{align*}\n",
        "つまり\n",
        "> $T > T_{\\rm H:hmn}  $ でないと同じ音として聞いてしまう\n",
        "\n",
        "ことになります.\n",
        "\n",
        "音速を $V=V(t)$ とし,  音が反射した地点から観測者までの距離を $L$ とすると\n",
        "\\begin{align*}\n",
        "\\dfrac{L}{V} &> T &\\\\\n",
        "L &> V T_{\\rm H:hmn} = \\left( 331.5 + 0.6 \\times 30\\right) \\dfrac{1}{20} = 17.475 \\ {\\rm m}\n",
        "\\end{align*}\n",
        "\n",
        "このことから\n",
        "> 約17mほど離れれば, こだま[残響]が聞こえる\n",
        "\n",
        "ということができます.\n"
      ]
    },
    {
      "cell_type": "markdown",
      "metadata": {
        "id": "Tp4Kli1-4FgR",
        "colab_type": "text"
      },
      "source": [
        "## 音波の屈折"
      ]
    },
    {
      "cell_type": "code",
      "metadata": {
        "id": "2KUr-BUQHRC6",
        "colab_type": "code",
        "cellView": "form",
        "colab": {
          "base_uri": "https://localhost:8080/",
          "height": 336
        },
        "outputId": "dadefc5d-b0c2-446e-ab9f-9c2cfdc683a1"
      },
      "source": [
        "#@title 音の屈折\n",
        "%%html\n",
        "<iframe width=\"560\" height=\"315\" src=\"https://www.youtube-nocookie.com/embed/LkFQg1zhi2o\" frameborder=\"0\" allow=\"accelerometer; autoplay; encrypted-media; gyroscope; picture-in-picture\" allowfullscreen></iframe>"
      ],
      "execution_count": null,
      "outputs": [
        {
          "output_type": "display_data",
          "data": {
            "text/html": [
              "<iframe width=\"560\" height=\"315\" src=\"https://www.youtube-nocookie.com/embed/LkFQg1zhi2o\" frameborder=\"0\" allow=\"accelerometer; autoplay; encrypted-media; gyroscope; picture-in-picture\" allowfullscreen></iframe>"
            ],
            "text/plain": [
              "<IPython.core.display.HTML object>"
            ]
          },
          "metadata": {
            "tags": []
          }
        }
      ]
    },
    {
      "cell_type": "code",
      "metadata": {
        "id": "dSQlguWzICFX",
        "colab_type": "code",
        "cellView": "form",
        "colab": {
          "base_uri": "https://localhost:8080/",
          "height": 336
        },
        "outputId": "f15b6ce3-9375-4687-8d84-b0398dc26b74"
      },
      "source": [
        "#@title 音の屈折の仕組み: V=V(t)\n",
        "%%html\n",
        "<iframe width=\"560\" height=\"315\" src=\"https://www.youtube-nocookie.com/embed/ZgwEAUHpNrs\" frameborder=\"0\" allow=\"accelerometer; autoplay; encrypted-media; gyroscope; picture-in-picture\" allowfullscreen></iframe>"
      ],
      "execution_count": null,
      "outputs": [
        {
          "output_type": "display_data",
          "data": {
            "text/html": [
              "<iframe width=\"560\" height=\"315\" src=\"https://www.youtube-nocookie.com/embed/ZgwEAUHpNrs\" frameborder=\"0\" allow=\"accelerometer; autoplay; encrypted-media; gyroscope; picture-in-picture\" allowfullscreen></iframe>"
            ],
            "text/plain": [
              "<IPython.core.display.HTML object>"
            ]
          },
          "metadata": {
            "tags": []
          }
        }
      ]
    },
    {
      "cell_type": "markdown",
      "metadata": {
        "id": "3fQUZ-Uz_AdR",
        "colab_type": "text"
      },
      "source": [
        "![The refraction of sound in hot and cold air](http://www.schoolphysics.co.uk/age11-14/Sound/text/Refraction_of_sound/images/1.png)\n",
        "\n",
        "\n",
        "![The refraction of sound in hot and cold air](http://www.schoolphysics.co.uk/age11-14/Sound/text/Refraction_of_sound/images/2.png)\n",
        "\n",
        "REF: http://www.schoolphysics.co.uk/age11-14/Sound/text/Refraction_of_sound/index.html\n"
      ]
    }
  ]
}