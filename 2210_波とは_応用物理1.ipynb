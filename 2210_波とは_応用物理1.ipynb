{
  "nbformat": 4,
  "nbformat_minor": 0,
  "metadata": {
    "colab": {
      "name": "2210_波とは_応用物理1",
      "provenance": [],
      "authorship_tag": "ABX9TyPiOoHtofvB9coPBuJLILlI",
      "include_colab_link": true
    },
    "kernelspec": {
      "name": "python3",
      "display_name": "Python 3"
    }
  },
  "cells": [
    {
      "cell_type": "markdown",
      "metadata": {
        "id": "view-in-github",
        "colab_type": "text"
      },
      "source": [
        "<a href=\"https://colab.research.google.com/github/kzhkAKT/AppliedPhysics1/blob/draft/2210_%E6%B3%A2%E3%81%A8%E3%81%AF_%E5%BF%9C%E7%94%A8%E7%89%A9%E7%90%861.ipynb\" target=\"_parent\"><img src=\"https://colab.research.google.com/assets/colab-badge.svg\" alt=\"Open In Colab\"/></a>"
      ]
    },
    {
      "cell_type": "markdown",
      "metadata": {
        "id": "FVk0ymO1Mbog"
      },
      "source": [
        "# 直線上を伝わる波"
      ]
    },
    {
      "cell_type": "code",
      "metadata": {
        "id": "b1DQYQbUNd1c",
        "cellView": "form",
        "colab": {
          "base_uri": "https://localhost:8080/",
          "height": 336
        },
        "outputId": "53e2aa93-05dc-4dc5-d498-fc503b8d171e"
      },
      "source": [
        "#@title 光から波へ\n",
        "%%html\n",
        "<iframe width=\"560\" height=\"315\" src=\"https://www.youtube-nocookie.com/embed/Iuv6hY6zsd0\" frameborder=\"0\" allow=\"accelerometer; autoplay; encrypted-media; gyroscope; picture-in-picture\" allowfullscreen></iframe>"
      ],
      "execution_count": null,
      "outputs": [
        {
          "output_type": "display_data",
          "data": {
            "text/html": [
              "<iframe width=\"560\" height=\"315\" src=\"https://www.youtube-nocookie.com/embed/Iuv6hY6zsd0\" frameborder=\"0\" allow=\"accelerometer; autoplay; encrypted-media; gyroscope; picture-in-picture\" allowfullscreen></iframe>"
            ],
            "text/plain": [
              "<IPython.core.display.HTML object>"
            ]
          },
          "metadata": {
            "tags": []
          }
        }
      ]
    },
    {
      "cell_type": "markdown",
      "metadata": {
        "id": "54-gf42TMwVI"
      },
      "source": [
        "## 復習: 単振動"
      ]
    },
    {
      "cell_type": "code",
      "metadata": {
        "id": "HaWEzD4vOhrU",
        "cellView": "form",
        "colab": {
          "base_uri": "https://localhost:8080/",
          "height": 475
        },
        "outputId": "0131558a-dc96-4a52-a711-0b42b86e37b4"
      },
      "source": [
        "#@title フックの法則 f= -kx. 運動方程式 f=ma\n",
        "%%html\n",
        "<iframe src=\"https://phet.colorado.edu/sims/html/masses-and-springs/latest/masses-and-springs_en.html\" width=\"600\" height=\"450\" scrolling=\"no\" allowfullscreen></iframe>"
      ],
      "execution_count": null,
      "outputs": [
        {
          "output_type": "display_data",
          "data": {
            "text/html": [
              "<iframe src=\"https://phet.colorado.edu/sims/html/masses-and-springs/latest/masses-and-springs_en.html\" width=\"600\" height=\"450\" scrolling=\"no\" allowfullscreen></iframe>"
            ],
            "text/plain": [
              "<IPython.core.display.HTML object>"
            ]
          },
          "metadata": {
            "tags": []
          }
        }
      ]
    },
    {
      "cell_type": "code",
      "source": [
        "#@title 射影: 等速円運動と単振動の関わり\n",
        "%%html\n",
        "<iframe width=\"560\" height=\"315\" src=\"https://www.youtube-nocookie.com/embed/JSBw-JyFgZk\" title=\"YouTube video player\" frameborder=\"0\" allow=\"accelerometer; autoplay; clipboard-write; encrypted-media; gyroscope; picture-in-picture\" allowfullscreen></iframe>"
      ],
      "metadata": {
        "cellView": "form",
        "id": "y7gJX8rN78Mj",
        "outputId": "b615996b-49ed-4569-a27b-3cdabb92f696",
        "colab": {
          "base_uri": "https://localhost:8080/",
          "height": 336
        }
      },
      "execution_count": 1,
      "outputs": [
        {
          "output_type": "display_data",
          "data": {
            "text/plain": [
              "<IPython.core.display.HTML object>"
            ],
            "text/html": [
              "<iframe width=\"560\" height=\"315\" src=\"https://www.youtube-nocookie.com/embed/JSBw-JyFgZk\" title=\"YouTube video player\" frameborder=\"0\" allow=\"accelerometer; autoplay; clipboard-write; encrypted-media; gyroscope; picture-in-picture\" allowfullscreen></iframe>"
            ]
          },
          "metadata": {}
        }
      ]
    },
    {
      "cell_type": "markdown",
      "metadata": {
        "id": "uQhZEVKAOwxN"
      },
      "source": [
        "### 単振動 ~ 等速円運動の射影\n",
        "![wikipedia: Simple Harmonic Motion Orbit](https://upload.wikimedia.org/wikipedia/commons/e/ea/Simple_Harmonic_Motion_Orbit.gif)\n",
        "\n",
        "|等速円運動|単振動|単位|\n",
        "|--|--|--|\n",
        "| 時間 $t$ | 時間 $t$ | s|\n",
        "| 半径 $r$ | 振幅 $A$| m|\n",
        "| 周期 $T$| 周期 $T$ | s|\n",
        "|回転数 $n$| 振動数 $f$| Hz = 1/s|\n",
        "|角速度 $\\omega$| 角振動数 $\\omega$| rad/s|\n",
        "\n",
        "#### 関係式\n",
        "\n",
        "> $\\quad f\\cdot T=1$\n",
        "\n",
        "#### 定義式\n",
        "> $\\quad \\omega = \\dfrac{\\theta}{t} = \\dfrac{\\Delta \\theta }{\\Delta t}$\n",
        "\n",
        "一周を考慮すると\n",
        "> $\\quad \\omega = \\dfrac{2\\pi}{T} = 2\\pi f$"
      ]
    },
    {
      "cell_type": "code",
      "metadata": {
        "id": "3Czb57w4g7gd",
        "cellView": "form",
        "colab": {
          "base_uri": "https://localhost:8080/",
          "height": 315
        },
        "outputId": "ecd10dea-6538-4e13-9c4e-1804f04fac24"
      },
      "source": [
        "#@title 三角比を用いた単振動の変位の導出\n",
        "%%svg\n",
        "https://upload.wikimedia.org/wikipedia/commons/6/6f/Rtriangle.svg"
      ],
      "execution_count": null,
      "outputs": [
        {
          "output_type": "display_data",
          "data": {
            "text/plain": [
              "<IPython.core.display.SVG object>"
            ],
            "image/svg+xml": "<svg height=\"294\" id=\"svg2\" width=\"346\" xmlns=\"http://www.w3.org/2000/svg\">\n  <g id=\"g12\" transform=\"matrix(3.510524,0,0,3.510524,-238.6164,-2.170853)\">\n<g style=\"fill:none;stroke:#000000;stroke-width:0.74719799\">\n    <path d=\"M 152.826,13.335 V 70.028 H 81.96 z\" id=\"path18\"/>\n    <path d=\"M 152.826,65.776 H 148.574 V 70.028\" id=\"path26\"/>\n</g>\n<g style=\"font-family:Noto Serif\">\n<g style=\"font-size:10px\">\n    <text id=\"path20\" x=\"72.8\" y=\"75.9\">A</text>\n    <text id=\"path22\" x=\"154.5\" y=\"12\">B</text>\n    <text id=\"path24\" x=\"155.2\" y=\"76.8\">C</text>\n</g>\n<g style=\"font-size:9px;font-style:italic\">\n    <text id=\"path28\" x=\"114.9\" y=\"80\">b</text>\n    <text id=\"path30\" x=\"155.4\" y=\"44.2\">a</text>\n    <text id=\"path32\" x=\"110\" y=\"39.1\">c</text>\n\n</g>\n</g>\n  </g>\n</svg>"
          },
          "metadata": {
            "tags": []
          }
        }
      ]
    },
    {
      "cell_type": "markdown",
      "metadata": {
        "id": "0iT1d2LZhBuz"
      },
      "source": [
        "- 斜辺の長さ $c$ を半径 $A$\n",
        "- $\\angle{\\rm CAB}=\\theta$\n",
        "\n",
        "とすると高さ $y=a$ は, 三角比を利用し\n",
        "> $\\quad y= a = A \\sin \\theta$\n",
        "\n",
        "ここに先に整理した $\\theta = \\omega t$ を代入すると\n",
        "\n",
        "> $\\quad y = A\\sin \\left( \\omega t\\right)$\n",
        "\n",
        "これは $t=0$ のとき $y=0$ となるので, 原点を中心とした **単振動** になる.  \n",
        "$\\sin$ の後の括弧$\\left({}\\right)$の中を **位相** といいます.\n",
        "\n",
        "一般には $t=0$ のときに, 原点に *いない* こともあるので,  \n",
        "$t=0$ のときの位相 $\\alpha$ を **初期位相** といいます.\n",
        "\n",
        "これより, 単振動の変位は\n",
        ">> $\\qquad y = A \\sin \\left( \\omega t + \\alpha\\right)$\n",
        "\n",
        "となります."
      ]
    },
    {
      "cell_type": "markdown",
      "metadata": {
        "id": "rJ8WAbuWOwwi"
      },
      "source": [
        "#### 単振動の速度\n",
        "\n",
        "幾何学的な関係から導出することは, 物理Iの講義で確認しています(参照:教科書上巻p73-p75).  \n",
        "ここでは(瞬間の)速度と(瞬間の)加速度の定義を利用して導出します."
      ]
    },
    {
      "cell_type": "markdown",
      "metadata": {
        "id": "LgxFxMo3jxqj"
      },
      "source": [
        "##### 平均の速度から瞬間の速度へ\n",
        "平均の速度 $\\bar{v}$ の時間間隔 $\\Delta t$ を小さくすると, 瞬間の速度になります.  \n",
        "これは数学的には微分定義に他なりません.\n",
        "\\begin{align*}\n",
        "\\bar{v}_y &= \\dfrac{\\Delta y}{\\Delta t}&\\\\\n",
        "v_y &=\n",
        " \\lim_{\\Delta t\\to 0} \\dfrac{\\Delta y}{\\Delta t}\n",
        " = \\dfrac{{\\rm d\\ } y}{{\\rm d\\ } t}&\n",
        "\\end{align*}\n",
        "\n",
        "これを利用すると, 一般の単振動の変位 $y=A\\sin\\left(\\omega t+ \\alpha\\right)$ の速度は,\n",
        "\n",
        "\\begin{align*}\n",
        "v_y & = \\dfrac{{\\rm d\\ } y}{{\\rm d\\ } t}\n",
        "= \n",
        "\\dfrac{{\\rm d\\ } (\\omega t + \\alpha)}{{\\rm d\\ }t} \n",
        "\\cdot\n",
        "\\dfrac{{\\rm d\\ } y}{{\\rm d\\ } (\\omega t + \\alpha)}&\\\\\n",
        "&= \\omega  \\cdot \\dfrac{{\\rm d\\ } \\left[ A\\sin\\left(\\omega t + \\alpha\\right)\\right]}{{\\rm d\\ } (\\omega t + \\alpha)}&\\\\\n",
        "&= \\omega \\cdot A \\cos \\left(\\omega t+ \\alpha\\right)&\n",
        "\\end{align*}\n",
        "\n",
        ">>$\\quad v_y = \\omega A \\cos \\left( \\omega t + \\alpha\\right)$\n"
      ]
    },
    {
      "cell_type": "markdown",
      "metadata": {
        "id": "M8cbZjVUmyu3"
      },
      "source": [
        "#### 単振動の加速度\n",
        "\n",
        "##### 平均の加速度から瞬間の加速度へ\n",
        "瞬間の速度を求めたときの議論をここでも利用します.\n",
        "\n",
        "\\begin{align*}\n",
        "\\bar{a}_y &= \\dfrac{\\Delta v_y}{\\Delta t}&\\\\\n",
        "a_y &=\n",
        " \\lim_{\\Delta t\\to 0} \\dfrac{\\Delta v_y}{\\Delta t}\n",
        " = \\dfrac{{\\rm d\\ } v_y}{{\\rm d\\ } t}&\n",
        "\\end{align*}\n",
        "\n",
        "これを利用すると, 一般の単振動の変位 $y=A\\sin\\left(\\omega t+ \\alpha\\right)$ と  \n",
        "その速度 $v_y=\\omega A\\cos\\left(\\omega t+ \\alpha\\right)$  は,\n",
        "\n",
        "\\begin{align*}\n",
        "a_y & = \\dfrac{{\\rm d\\ } v_y}{{\\rm d\\ } t}\n",
        "= \n",
        "\\dfrac{{\\rm d\\ } (\\omega t + \\alpha)}{{\\rm d\\ }t} \n",
        "\\cdot\n",
        "\\dfrac{{\\rm d\\ } v_y}{{\\rm d\\ } (\\omega t + \\alpha)}&\\\\\n",
        "&= \\omega  \\cdot \\dfrac{{\\rm d\\ } \\left[ \\omega A\\cos\\left(\\omega t + \\alpha\\right)\\right]}{{\\rm d\\ } (\\omega t + \\alpha)}&\\\\\n",
        "&= - \\omega^2 \\cdot A \\sin \\left(\\omega t + \\alpha\\right)&\\\\\n",
        "&= - \\omega^2 y&\n",
        "\\end{align*}\n",
        "\n",
        ">>$\\quad a_y = - \\omega^2 A \\sin \\left( \\omega t + \\alpha\\right) = - \\omega^2 y$"
      ]
    },
    {
      "cell_type": "markdown",
      "metadata": {
        "id": "wJETZrhNoVXP"
      },
      "source": [
        "#### 単振動とフックの法則\n",
        "\n",
        "単振動の変位$y$, 速度$v_y$, 加速度$a_y$ を書きにまとめると\n",
        "\\begin{align*}\n",
        "y &= A \\sin \\left( \\omega t + \\alpha\\right)&\\\\\n",
        "v_y &= \\omega A \\cos \\left( \\omega t + \\alpha\\right)&\\\\\n",
        "a_y &= - \\omega^2 A \\sin \\left( \\omega t + \\alpha\\right) = - \\omega^2 y&\n",
        "\\end{align*}\n",
        "\n",
        "加速度 $a_y$ に質量を両辺に掛けると, 運動方程式 $ma=f$ を利用すると\n",
        "\\begin{align*}\n",
        "m\\cdot a_y &= - m\\cdot \\omega^2 y&\n",
        "\\end{align*}\n",
        "ここで $m\\omega^2 = k$, $F_y = m a_y$ とおくと\n",
        "\\begin{align*}\n",
        "F_y &= - k y&\n",
        "\\end{align*}\n",
        "この式はフックの法則 $F=-kx$ と同じ形をしている.\n",
        "\n",
        "$k=m\\omega^2$ を利用すると,\n",
        "\\begin{align*}\n",
        "T = \\dfrac{2\\pi}{\\omega} = 2\\pi \\sqrt{\\dfrac{m}{k}}\n",
        "\\end{align*}"
      ]
    },
    {
      "cell_type": "markdown",
      "metadata": {
        "id": "0sJjP0Y4MwaF"
      },
      "source": [
        "## 波とは"
      ]
    },
    {
      "cell_type": "markdown",
      "metadata": {
        "id": "tzhwwcAYrXtf"
      },
      "source": [
        "### 用語\n",
        "\n",
        "- 波動, 波: ある場所に生じた振動が次々に伝わる**現象**\n",
        "- 媒質: 振動を伝える物質\n",
        "- 波源: 最初に振動をはじめた点\n"
      ]
    },
    {
      "cell_type": "code",
      "metadata": {
        "id": "1v40jDULN0Ep",
        "cellView": "form",
        "colab": {
          "base_uri": "https://localhost:8080/",
          "height": 475
        },
        "outputId": "05cdd29d-ef71-43b7-c8f6-5495e97b340b"
      },
      "source": [
        "#@title シミュレーション:直線状を伝わる波\n",
        "%%html\n",
        "<iframe src=\"https://phet.colorado.edu/sims/html/wave-on-a-string/latest/wave-on-a-string_en.html\" width=\"600\" height=\"450\" scrolling=\"no\" allowfullscreen></iframe>"
      ],
      "execution_count": null,
      "outputs": [
        {
          "output_type": "display_data",
          "data": {
            "text/html": [
              "<iframe src=\"https://phet.colorado.edu/sims/html/wave-on-a-string/latest/wave-on-a-string_en.html\" width=\"600\" height=\"450\" scrolling=\"no\" allowfullscreen></iframe>"
            ],
            "text/plain": [
              "<IPython.core.display.HTML object>"
            ]
          },
          "metadata": {
            "tags": []
          }
        }
      ]
    }
  ]
}