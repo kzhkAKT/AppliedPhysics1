{
  "nbformat": 4,
  "nbformat_minor": 0,
  "metadata": {
    "colab": {
      "name": "2154_凹レンズによる虚像_応用物理1",
      "provenance": [],
      "authorship_tag": "ABX9TyOx8nKyrnClyKgxGysqcL+e",
      "include_colab_link": true
    },
    "kernelspec": {
      "name": "python3",
      "display_name": "Python 3"
    }
  },
  "cells": [
    {
      "cell_type": "markdown",
      "metadata": {
        "id": "view-in-github",
        "colab_type": "text"
      },
      "source": [
        "<a href=\"https://colab.research.google.com/github/kzhkAKT/AppliedPhysics1/blob/draft/2154_%E5%87%B9%E3%83%AC%E3%83%B3%E3%82%BA%E3%81%AB%E3%82%88%E3%82%8B%E8%99%9A%E5%83%8F_%E5%BF%9C%E7%94%A8%E7%89%A9%E7%90%861.ipynb\" target=\"_parent\"><img src=\"https://colab.research.google.com/assets/colab-badge.svg\" alt=\"Open In Colab\"/></a>"
      ]
    },
    {
      "cell_type": "markdown",
      "metadata": {
        "id": "cr5JOUJmfKZh"
      },
      "source": [
        "# 光の進み方\n",
        "## レンズ\n",
        "\n",
        "+ (対称な)レンズの真ん中を通る光線は影響を受けず直進\n",
        "+ \b光軸に平行な光の行く先\n",
        "+ 焦点を通過/焦点へ延長される光線  \n",
        "\n",
        "に注意し **図形の相似** を考えれば以下の式は導出できます."
      ]
    },
    {
      "cell_type": "markdown",
      "metadata": {
        "id": "eTeXbnBUft9u"
      },
      "source": [
        "### 凹レンズによる虚像"
      ]
    },
    {
      "cell_type": "code",
      "source": [
        "#@title レンズシュミレーター: Lens + Principle\n",
        "%%html\n",
        "<iframe src=\"https://phet.colorado.edu/sims/html/geometric-optics/latest/geometric-optics_en.html\"\n",
        "        width=\"640\"\n",
        "        height=\"480\"\n",
        "        allowfullscreen>\n",
        "</iframe>\n"
      ],
      "metadata": {
        "cellView": "form",
        "id": "jcfywScnxJHQ",
        "outputId": "40360a82-3610-4ab1-d1b3-91aa99b20c8b",
        "colab": {
          "base_uri": "https://localhost:8080/",
          "height": 505
        }
      },
      "execution_count": 1,
      "outputs": [
        {
          "output_type": "display_data",
          "data": {
            "text/plain": [
              "<IPython.core.display.HTML object>"
            ],
            "text/html": [
              "<iframe src=\"https://phet.colorado.edu/sims/html/geometric-optics/latest/geometric-optics_en.html\"\n",
              "        width=\"640\"\n",
              "        height=\"480\"\n",
              "        allowfullscreen>\n",
              "</iframe>\n"
            ]
          },
          "metadata": {}
        }
      ]
    },
    {
      "cell_type": "code",
      "metadata": {
        "id": "UDleajBpfPk9",
        "cellView": "form",
        "colab": {
          "base_uri": "https://localhost:8080/",
          "height": 293
        },
        "outputId": "f6218ac6-c183-4b40-9b3e-2c59fa259a83"
      },
      "source": [
        "#@title 凹レンズの虚像の作成方法\n",
        "%%svg\n",
        "https://upload.wikimedia.org/wikipedia/commons/2/2e/Lens4-ja.svg"
      ],
      "execution_count": null,
      "outputs": [
        {
          "output_type": "display_data",
          "data": {
            "text/plain": [
              "<IPython.core.display.SVG object>"
            ],
            "image/svg+xml": "<svg enable-background=\"new 0 0 470 272\" height=\"272\" id=\"svg4136\" inkscape:output_extension=\"org.inkscape.output.svg.inkscape\" inkscape:version=\"0.46\" overflow=\"visible\" sodipodi:docname=\"Lens4-ja.svg\" sodipodi:version=\"0.32\" viewBox=\"0 0 470 272\" width=\"470\" xml:space=\"preserve\" xmlns=\"http://www.w3.org/2000/svg\" xmlns:cc=\"http://creativecommons.org/ns#\" xmlns:dc=\"http://purl.org/dc/elements/1.1/\" xmlns:inkscape=\"http://www.inkscape.org/namespaces/inkscape\" xmlns:rdf=\"http://www.w3.org/1999/02/22-rdf-syntax-ns#\" xmlns:sodipodi=\"http://sodipodi.sourceforge.net/DTD/sodipodi-0.dtd\" xmlns:svg=\"http://www.w3.org/2000/svg\"><metadata id=\"metadata4350\"><rdf:RDF><cc:Work rdf:about=\"\"><dc:format>image/svg+xml</dc:format><dc:type rdf:resource=\"http://purl.org/dc/dcmitype/StillImage\"/></cc:Work></rdf:RDF></metadata><defs id=\"defs4348\"><inkscape:perspective id=\"perspective4352\" inkscape:persp3d-origin=\"235 : 90.666667 : 1\" inkscape:vp_x=\"0 : 136 : 1\" inkscape:vp_y=\"0 : 1000 : 0\" inkscape:vp_z=\"470 : 136 : 1\" sodipodi:type=\"inkscape:persp3d\"/></defs><sodipodi:namedview bordercolor=\"#666666\" borderopacity=\"1.0\" gridtolerance=\"10.0\" guidetolerance=\"10.0\" id=\"base\" inkscape:current-layer=\"Layer_1\" inkscape:cx=\"235\" inkscape:cy=\"136\" inkscape:pageopacity=\"0.0\" inkscape:pageshadow=\"2\" inkscape:window-height=\"912\" inkscape:window-width=\"697\" inkscape:window-x=\"568\" inkscape:window-y=\"82\" inkscape:zoom=\"1.2276596\" objecttolerance=\"10.0\" pagecolor=\"#ffffff\" showgrid=\"false\"/>\n\t<g id=\"Layer_1\">\n\t\t<path d=\"M470,272H0V0h470V272z\" fill=\"#FFFCF3\" id=\"path4139\"/>\n\t\t<path d=\"M5.875,148.75h437.617\" fill=\"#FFFFFF\" id=\"path4141\" stroke=\"#000000\" stroke-dasharray=\"6 3\" stroke-width=\"0.5\"/>\n\t\t<path d=\"M216.801,39.691v203.526\" fill=\"#FFFFFF\" id=\"path4143\" stroke=\"#000000\" stroke-width=\"0.25\"/>\n\t\t<path d=\"M29.375,18.09v225.127\" fill=\"#FFFFFF\" id=\"path4145\" stroke=\"#000000\" stroke-width=\"0.25\"/>\n\t\t<path d=\"M432.797,39.691v203.526\" fill=\"#FFFFFF\" id=\"path4147\" stroke=\"#000000\" stroke-width=\"0.25\"/>\n\t\t<path d=\"M245.711,68.492v185.526\" fill=\"#FFFFFF\" id=\"path4149\" stroke=\"#000000\" stroke-width=\"0.25\"/>\n\t\t<path d=\"M330.747,148.75    c0,29.423,4.314,55.556,12.327,82.373h-34.547c7.582-26.148,11.666-53.781,11.666-82.373c0-28.593-4.088-56.225-11.674-82.372    h33.225C334.58,91.852,330.747,120.986,330.747,148.75z\" fill=\"#CCE2EF\" id=\"path4151\" opacity=\"0.75\" stroke=\"#000000\" stroke-width=\"0.75\"/>\n\t\t<g id=\"g4153\">\n\t\t\t<g id=\"g4155\">\n\t\t\t\t<path d=\"M216.801,49.601l7.251-2.25v4.5L216.801,49.601z\" id=\"path4157\"/>\n\t\t\t\t<path d=\"M224.052,49.601\" id=\"path4159\"/>\n\t\t\t</g>\n\t\t\t<path d=\"M224.052,49.601h40.987\" fill=\"none\" id=\"path4161\" stroke=\"#000000\" stroke-linecap=\"square\" stroke-width=\"0.5\"/>\n\t\t</g>\n\t\t<g id=\"g4163\">\n\t\t\t<g id=\"g4165\">\n\t\t\t\t<path d=\"M29.375,24.401l7.251-2.25v4.5L29.375,24.401z\" id=\"path4167\"/>\n\t\t\t\t<path d=\"M36.626,24.401\" id=\"path4169\"/>\n\t\t\t</g>\n\t\t\t<path d=\"M36.626,24.401h109.387\" fill=\"none\" id=\"path4171\" stroke=\"#000000\" stroke-linecap=\"square\" stroke-width=\"0.5\"/>\n\t\t</g>\n\t\t<g id=\"g4173\">\n\t\t\t<g id=\"g4175\">\n\t\t\t\t<path d=\"M324.797,24.401l-7.251-2.25v4.5L324.797,24.401z\" id=\"path4177\"/>\n\t\t\t\t<path d=\"M317.546,24.401\" id=\"path4179\"/>\n\t\t\t</g>\n\t\t\t<path d=\"M317.546,24.401H164.962\" fill=\"none\" id=\"path4181\" stroke=\"#000000\" stroke-linecap=\"square\" stroke-width=\"0.5\"/>\n\t\t</g>\n\t\t<g id=\"g4183\">\n\t\t\t<g id=\"g4185\">\n\t\t\t\t<path d=\"M324.797,245.452l-7.252-2.25v4.5L324.797,245.452z\" id=\"path4187\"/>\n\t\t\t\t<path d=\"M317.545,245.452\" id=\"path4189\"/>\n\t\t\t</g>\n\t\t\t<path d=\"M317.545,245.452h-19.383\" fill=\"none\" id=\"path4191\" stroke=\"#000000\" stroke-linecap=\"square\" stroke-width=\"0.5\"/>\n\t\t</g>\n\t\t<g id=\"g4193\">\n\t\t\t<g id=\"g4195\">\n\t\t\t\t<path d=\"M324.797,49.602l-7.251-2.25v4.5L324.797,49.602z\" id=\"path4197\"/>\n\t\t\t\t<path d=\"M317.546,49.602\" id=\"path4199\"/>\n\t\t\t</g>\n\t\t\t<path d=\"M317.546,49.602h-40.984\" fill=\"none\" id=\"path4201\" stroke=\"#000000\" stroke-linecap=\"square\" stroke-width=\"0.5\"/>\n\t\t</g>\n\t\t<g id=\"g4203\">\n\t\t\t<g id=\"g4205\">\n\t\t\t\t<path d=\"M432.797,49.601l-7.251-2.25v4.5L432.797,49.601z\" id=\"path4207\"/>\n\t\t\t\t<path d=\"M425.546,49.601\" id=\"path4209\"/>\n\t\t\t</g>\n\t\t\t<g id=\"g4211\">\n\t\t\t\t<path d=\"M458.252,131.307l-7.251-2.25v4.5L458.252,131.307z\" fill=\"#FF0000\" id=\"path4213\"/>\n\t\t\t\t<path d=\"M451.001,131.307\" id=\"path4215\"/>\n\t\t\t</g>\n\t\t\t<g id=\"g4217\">\n\t\t\t\t<path d=\"M366.756,58.278l-7.37,1.819l2.324,3.854L366.756,58.278z\" fill=\"#FF0000\" id=\"path4219\"/>\n\t\t\t\t<path d=\"M360.548,62.023\" id=\"path4221\"/>\n\t\t\t</g>\n\t\t\t<g id=\"g4223\">\n\t\t\t\t<path d=\"M450.821,176.545l-6.597-3.759l-0.969,4.395L450.821,176.545z\" fill=\"#FF0000\" id=\"path4225\"/>\n\t\t\t\t<path d=\"M443.74,174.984\" id=\"path4227\"/>\n\t\t\t</g>\n\t\t\t<path d=\"M425.546,49.601h-40.983\" fill=\"none\" id=\"path4229\" stroke=\"#000000\" stroke-linecap=\"square\" stroke-width=\"0.5\"/>\n\t\t</g>\n\t\t<g id=\"g4231\">\n\t\t\t<g id=\"g4233\">\n\t\t\t\t<path d=\"M324.797,49.601l7.251-2.25v4.5L324.797,49.601z\" id=\"path4235\"/>\n\t\t\t\t<path d=\"M332.048,49.601\" id=\"path4237\"/>\n\t\t\t</g>\n\t\t\t<path d=\"M332.048,49.601h40.983\" fill=\"none\" id=\"path4239\" stroke=\"#000000\" stroke-linecap=\"square\" stroke-width=\"0.5\"/>\n\t\t</g>\n\t\t<g id=\"g4241\">\n\t\t\t<g id=\"g4243\">\n\t\t\t\t<path d=\"M245.711,245.452l7.251-2.25v4.5L245.711,245.452z\" id=\"path4245\"/>\n\t\t\t\t<path d=\"M252.962,245.452\" id=\"path4247\"/>\n\t\t\t</g>\n\t\t\t<path d=\"M252.962,245.452h25.802\" fill=\"none\" id=\"path4249\" stroke=\"#000000\" stroke-linecap=\"square\" stroke-width=\"0.5\"/>\n\t\t</g>\n\t\t<g id=\"g4251\">\n\t\t\t<g id=\"g4253\">\n\t\t\t\t<path d=\"M29.375,83.593L32.75,94.47H26L29.375,83.593z\" fill=\"#008837\" id=\"path4255\"/>\n\t\t\t\t<path d=\"M29.375,94.47\" id=\"path4257\"/>\n\t\t\t</g>\n\t\t\t<path d=\"M29.375,94.47v54.28\" fill=\"#078936\" id=\"path4259\" stroke=\"#33A02C\" stroke-linecap=\"square\" stroke-width=\"2\"/>\n\t\t</g>\n\t\t<g id=\"g4261\">\n\t\t\t<path d=\"M245.711,134.57v14.18\" fill=\"#078936\" id=\"path4263\" stroke=\"#33A02C\" stroke-linecap=\"square\"/>\n\t\t\t<g id=\"g4265\">\n\t\t\t\t<path d=\"M245.711,134.57\" id=\"path4267\"/>\n\t\t\t\t<path d=\"M245.711,131.307l1.226,3.952h-2.452L245.711,131.307z\" fill=\"#008837\" id=\"path4269\"/>\n\t\t\t</g>\n\t\t</g>\n\t\t<path d=\"M324.797,18.09v235.927\" fill=\"#FFFFFF\" id=\"path4271\" stroke=\"#000000\" stroke-width=\"0.25\"/>\n\t\t<g id=\"g4273\">\n\t\t\t<path d=\"M273.375,47.919l-0.123,0.453h-0.996l-0.836,3.02c-0.366,1.308-0.72,2.321-1.06,3.041     c-0.483,1.016-1.002,1.717-1.558,2.105c-0.423,0.296-0.846,0.444-1.269,0.444c-0.276,0-0.51-0.083-0.704-0.247     c-0.142-0.114-0.213-0.263-0.213-0.446c0-0.146,0.059-0.273,0.175-0.38c0.118-0.107,0.261-0.161,0.431-0.161     c0.124,0,0.229,0.039,0.313,0.117c0.085,0.077,0.127,0.167,0.127,0.268s-0.05,0.194-0.151,0.281     c-0.076,0.064-0.115,0.112-0.115,0.144c0,0.041,0.016,0.073,0.048,0.096c0.041,0.032,0.105,0.048,0.191,0.048     c0.196,0,0.402-0.062,0.619-0.185c0.216-0.124,0.409-0.309,0.577-0.553c0.169-0.246,0.328-0.599,0.479-1.062     c0.067-0.191,0.249-0.819,0.544-1.885l1.32-4.643h-1.338l0.099-0.453c0.423,0,0.718-0.026,0.887-0.079     c0.168-0.052,0.322-0.152,0.462-0.3c0.141-0.147,0.307-0.424,0.499-0.828c0.257-0.545,0.504-0.968,0.74-1.268     c0.323-0.404,0.663-0.708,1.018-0.91c0.356-0.202,0.691-0.303,1.006-0.303c0.332,0,0.598,0.087,0.799,0.261     c0.201,0.174,0.301,0.363,0.301,0.566c0,0.158-0.053,0.292-0.159,0.4s-0.241,0.163-0.406,0.163c-0.143,0-0.258-0.041-0.348-0.123     c-0.09-0.082-0.134-0.179-0.134-0.293c0-0.072,0.031-0.162,0.094-0.269s0.094-0.178,0.094-0.214c0-0.063-0.019-0.111-0.056-0.143     c-0.054-0.045-0.133-0.068-0.236-0.068c-0.261,0-0.495,0.094-0.702,0.282c-0.278,0.25-0.526,0.64-0.746,1.171     c-0.112,0.278-0.338,0.929-0.678,1.953H273.375z\" id=\"path4275\"/>\n\t\t</g>\n\t\t<g id=\"g4277\">\n\t\t\t<path d=\"M150.344,29.203l0.75-3.438h0.25c-0.032,0.333-0.048,0.608-0.048,0.827c0,0.624,0.199,1.132,0.598,1.523     s0.919,0.587,1.562,0.587c0.597,0,1.05-0.183,1.36-0.549c0.31-0.366,0.465-0.788,0.465-1.266c0-0.309-0.071-0.591-0.213-0.845     c-0.216-0.377-0.791-1.042-1.726-1.992c-0.454-0.454-0.745-0.793-0.873-1.016c-0.208-0.368-0.313-0.755-0.313-1.159     c0-0.646,0.243-1.198,0.729-1.657c0.486-0.459,1.109-0.688,1.87-0.688c0.256,0,0.499,0.025,0.729,0.076     c0.142,0.028,0.401,0.12,0.777,0.277c0.266,0.106,0.413,0.164,0.44,0.173c0.064,0.014,0.135,0.021,0.213,0.021     c0.133,0,0.248-0.034,0.344-0.104s0.208-0.217,0.337-0.443h0.25l-0.719,3.078h-0.25c0.018-0.274,0.027-0.495,0.027-0.664     c0-0.552-0.183-1.004-0.547-1.355c-0.365-0.352-0.846-0.527-1.443-0.527c-0.474,0-0.859,0.139-1.156,0.416     s-0.444,0.598-0.444,0.962c0,0.318,0.095,0.622,0.286,0.91c0.19,0.289,0.628,0.76,1.314,1.412s1.129,1.161,1.332,1.527     c0.202,0.366,0.303,0.756,0.303,1.17c0,0.468-0.125,0.922-0.374,1.361c-0.249,0.439-0.606,0.779-1.072,1.021     c-0.466,0.241-0.976,0.361-1.528,0.361c-0.274,0-0.53-0.025-0.767-0.075c-0.238-0.05-0.617-0.173-1.138-0.369     c-0.178-0.068-0.326-0.103-0.445-0.103c-0.27,0-0.48,0.183-0.63,0.547H150.344z\" id=\"path4279\"/>\n\t\t\t<path d=\"M161.82,25.578l-1.732,6.012c-0.1,0.357-0.15,0.615-0.15,0.773c0,0.134,0.046,0.235,0.137,0.306s0.305,0.118,0.642,0.144     L160.663,33h-2.757l0.075-0.188c0.293-0.007,0.487-0.03,0.58-0.07c0.15-0.065,0.263-0.151,0.338-0.26     c0.118-0.166,0.238-0.464,0.36-0.893l1.246-4.324c0.075-0.262,0.116-0.412,0.124-0.452c0.011-0.072,0.016-0.141,0.016-0.209     c0-0.125-0.034-0.224-0.102-0.296c-0.068-0.071-0.162-0.107-0.28-0.107c-0.094,0-0.239,0.021-0.438,0.064l-0.07-0.188l1.807-0.5     H161.82z\" id=\"path4281\"/>\n\t\t</g>\n\t\t<g id=\"g4283\">\n\t\t\t<path d=\"M282.378,250.254l0.75-3.438h0.25c-0.032,0.333-0.048,0.608-0.048,0.827c0,0.624,0.199,1.132,0.598,1.523     c0.399,0.392,0.92,0.587,1.563,0.587c0.597,0,1.051-0.183,1.36-0.549s0.465-0.788,0.465-1.266c0-0.309-0.071-0.591-0.213-0.845     c-0.216-0.377-0.791-1.042-1.726-1.992c-0.454-0.454-0.745-0.793-0.873-1.016c-0.209-0.368-0.313-0.755-0.313-1.159     c0-0.646,0.243-1.198,0.729-1.657c0.485-0.459,1.109-0.688,1.87-0.688c0.256,0,0.499,0.025,0.729,0.076     c0.143,0.028,0.4,0.12,0.777,0.277c0.266,0.106,0.412,0.164,0.439,0.173c0.064,0.014,0.135,0.021,0.213,0.021     c0.133,0,0.248-0.034,0.344-0.104s0.209-0.217,0.337-0.443h0.25l-0.719,3.078h-0.25c0.019-0.274,0.027-0.495,0.027-0.664     c0-0.552-0.183-1.004-0.547-1.355c-0.365-0.352-0.846-0.527-1.442-0.527c-0.475,0-0.859,0.139-1.156,0.416     s-0.444,0.598-0.444,0.962c0,0.318,0.095,0.622,0.286,0.91c0.189,0.289,0.628,0.76,1.314,1.412     c0.686,0.652,1.129,1.161,1.331,1.527s0.303,0.756,0.303,1.17c0,0.468-0.124,0.922-0.374,1.361     c-0.248,0.439-0.605,0.779-1.071,1.021c-0.466,0.241-0.976,0.361-1.528,0.361c-0.273,0-0.529-0.025-0.767-0.075     c-0.237-0.05-0.617-0.173-1.138-0.369c-0.178-0.068-0.326-0.103-0.445-0.103c-0.27,0-0.479,0.183-0.63,0.547H282.378z\" id=\"path4285\"/>\n\t\t\t<path d=\"M293.097,254.051h-3.641v-0.199c1.841-1.618,3.058-2.887,3.65-3.807c0.274-0.426,0.412-0.874,0.412-1.342     c0-0.372-0.114-0.676-0.342-0.91c-0.229-0.234-0.523-0.352-0.887-0.352c-0.503,0-0.916,0.245-1.239,0.734l-0.188-0.086     c0.183-0.462,0.449-0.821,0.8-1.077c0.352-0.256,0.731-0.384,1.14-0.384c0.462,0,0.851,0.158,1.166,0.474     s0.473,0.699,0.473,1.149c0,0.314-0.057,0.605-0.169,0.873c-0.175,0.418-0.495,0.886-0.962,1.403     c-0.699,0.795-1.632,1.709-2.799,2.741h1.852c0.292,0,0.531-0.061,0.72-0.183s0.323-0.285,0.405-0.489h0.219L293.097,254.051z\" id=\"path4287\"/>\n\t\t</g>\n\t\t<g id=\"g4289\">\n\t\t\t<path d=\"M381.375,47.919l-0.123,0.453h-0.995l-0.836,3.02c-0.366,1.308-0.72,2.321-1.06,3.041     c-0.482,1.016-1.002,1.717-1.559,2.105c-0.422,0.296-0.846,0.444-1.268,0.444c-0.276,0-0.511-0.083-0.704-0.247     c-0.142-0.114-0.214-0.263-0.214-0.446c0-0.146,0.059-0.273,0.176-0.38s0.261-0.161,0.431-0.161c0.124,0,0.229,0.039,0.313,0.117     c0.085,0.077,0.127,0.167,0.127,0.268s-0.05,0.194-0.15,0.281c-0.076,0.064-0.115,0.112-0.115,0.144     c0,0.041,0.017,0.073,0.049,0.096c0.041,0.032,0.104,0.048,0.191,0.048c0.195,0,0.401-0.062,0.618-0.185     c0.216-0.124,0.409-0.309,0.577-0.553c0.169-0.246,0.328-0.599,0.479-1.062c0.067-0.191,0.249-0.819,0.544-1.885l1.32-4.643     h-1.338l0.099-0.453c0.423,0,0.719-0.026,0.887-0.079c0.168-0.052,0.322-0.152,0.462-0.3c0.141-0.147,0.307-0.424,0.499-0.828     c0.257-0.545,0.504-0.968,0.74-1.268c0.322-0.404,0.662-0.708,1.018-0.91c0.356-0.202,0.691-0.303,1.006-0.303     c0.332,0,0.598,0.087,0.799,0.261s0.301,0.363,0.301,0.566c0,0.158-0.053,0.292-0.158,0.4s-0.241,0.163-0.406,0.163     c-0.143,0-0.258-0.041-0.348-0.123c-0.09-0.082-0.135-0.179-0.135-0.293c0-0.072,0.031-0.162,0.094-0.269     s0.094-0.178,0.094-0.214c0-0.063-0.019-0.111-0.056-0.143c-0.054-0.045-0.133-0.068-0.236-0.068     c-0.261,0-0.495,0.094-0.702,0.282c-0.277,0.25-0.526,0.64-0.746,1.171c-0.111,0.278-0.338,0.929-0.678,1.953H381.375z\" id=\"path4291\"/>\n\t\t</g>\n\t\t\n\t\t\n\t\t<path d=\"M216.801,148.75l122.756-74.062\" fill=\"none\" id=\"path4333\" stroke=\"#FF0000\" stroke-dasharray=\"3 3\"/>\n\t\t<path d=\"M324.798,131.307l107.999,17.443\" fill=\"none\" id=\"path4335\" stroke=\"#FF0000\" stroke-dasharray=\"3 3\"/>\n\t\t<path d=\"M360.548,62.023l-20.991,12.665l-26.602,8.905H29.375\" fill=\"none\" id=\"path4337\" stroke=\"#FF0000\" stroke-linecap=\"square\"/>\n\t\t<path d=\"M29.375,83.593l295.422,65.157\" fill=\"none\" id=\"path4339\" stroke=\"#FF0000\" stroke-linecap=\"square\"/>\n\t\t<path d=\"M324.797,148.75l118.943,26.234\" fill=\"none\" id=\"path4341\" stroke=\"#FF0000\" stroke-linecap=\"square\"/>\n\t\t<path d=\"M451.001,131.307l-119.762,0l-11.605-0.834L29.375,83.593\" fill=\"none\" id=\"path4343\" stroke=\"#FF0000\"/>\n\t\t<path d=\"M245.711,131.307h79.086\" fill=\"none\" id=\"path4345\" stroke=\"#FF0000\" stroke-dasharray=\"3 3\"/>\n\t<text id=\"text3428\" style=\"font-size:11.95571995px;font-style:normal;font-variant:normal;font-weight:normal;font-stretch:normal;fill:#000000;fill-opacity:1;stroke:none;stroke-width:3.50699997;stroke-linejoin:round;stroke-miterlimit:4;stroke-dasharray:none;stroke-dashoffset:0;stroke-opacity:0.56470588;overflow:visible;font-family:'IPA Pゴシック';-inkscape-font-specification:'IPA Pゴシック'\" x=\"31.869171\" xml:space=\"preserve\" y=\"161.43329\"><tspan id=\"tspan3430\" sodipodi:role=\"line\" x=\"31.869171\" y=\"161.43329\">物</tspan></text>\n<text id=\"text3424\" style=\"font-size:11.95571995px;font-style:normal;font-variant:normal;font-weight:normal;font-stretch:normal;fill:#000000;fill-opacity:1;stroke:none;stroke-width:3.50699997;stroke-linejoin:round;stroke-miterlimit:4;stroke-dasharray:none;stroke-dashoffset:0;stroke-opacity:0.56470588;overflow:visible;font-family:'IPA Pゴシック';-inkscape-font-specification:'IPA Pゴシック'\" x=\"246.5383\" xml:space=\"preserve\" y=\"161.3735\"><tspan id=\"tspan3426\" sodipodi:role=\"line\" x=\"246.5383\" y=\"161.3735\">虚像</tspan></text>\n</g>\n</svg>"
          },
          "metadata": {
            "tags": []
          }
        }
      ]
    },
    {
      "cell_type": "markdown",
      "metadata": {
        "id": "G6QZj-Q2f3Dd"
      },
      "source": [
        "##### 凹レンズの実像の倍率と物体と実像の関係式\n",
        "\n",
        "##### 倍率\n",
        "+ (対称な)レンズの真ん中を通る光線は影響を受けず直進\n",
        "+ 物体と虚像はそれぞれ平行\n",
        "\n",
        "これから, 倍率 $m$ を図形的な条件を求めると,\n",
        "\n",
        "> $\\qquad m = \\dfrac{h_{\\rm 像}}{h_{\\rm 物体}} = \\dfrac{S_2}{S_1}$\n",
        "\n",
        "##### 物体と虚像の関係式\n",
        "\n",
        "+ 物体から出た光軸に平行な光線はレンズ前方の焦点からの光源に見える\n",
        "+ 物体の高さをレンズの中心に見いだせる\n",
        "\n",
        "これから, 倍率 $m$ を図形的な条件を求めると(レンズ前方の焦点を頂点とした三角形に注目し),\n",
        "\n",
        "> $\\qquad m = \\dfrac{h_{\\rm 像}}{h_{\\rm 物体}} = \\dfrac{f-S_2}{f}$\n",
        "\n",
        "\\begin{align*}\n",
        "\\dfrac{S_2}{S_1} &= m = \\dfrac{f-S_2}{f}&\\\\\n",
        "S_2 f - S_1 f &= - S_2 S_1&\n",
        "\\end{align*}\n",
        "\n",
        "これより\n",
        ">> $\\qquad \\dfrac{1}{S_1} + \\dfrac{1}{-S_2} = \\dfrac{1}{-f}$\n",
        "\n",
        "が得られる. これは\n",
        "\n",
        "+ 虚像がレンズの前方から後方にできたこと $:\\quad S_2 \\to -S_2$\n",
        "+ 凹レンズなので凸レンズと異なり, 物体から出た光線のふれ角 $\\delta$ が逆向きなこと $:\\quad f \\to -f$\n",
        "\n",
        "と考えれば, 凸レンズの公式を読み替えることで対応できます."
      ]
    }
  ]
}