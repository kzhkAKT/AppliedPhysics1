{
  "nbformat": 4,
  "nbformat_minor": 0,
  "metadata": {
    "colab": {
      "provenance": [],
      "authorship_tag": "ABX9TyPfjyiiwDs5n8m0HkgXb4C8",
      "include_colab_link": true
    },
    "kernelspec": {
      "name": "python3",
      "display_name": "Python 3"
    },
    "language_info": {
      "name": "python"
    }
  },
  "cells": [
    {
      "cell_type": "markdown",
      "metadata": {
        "id": "view-in-github",
        "colab_type": "text"
      },
      "source": [
        "<a href=\"https://colab.research.google.com/github/kzhkAKT/AppliedPhysics1/blob/draft/5000%E6%B3%A2%E5%8B%95%E7%8F%BE%E8%B1%A1%E3%81%AE%E5%BE%A9%E7%BF%92.ipynb\" target=\"_parent\"><img src=\"https://colab.research.google.com/assets/colab-badge.svg\" alt=\"Open In Colab\"/></a>"
      ]
    },
    {
      "cell_type": "markdown",
      "source": [
        "# 前期の復習"
      ],
      "metadata": {
        "id": "HTKHAGVetqF_"
      }
    },
    {
      "cell_type": "code",
      "source": [
        "#@title 光の速度\n",
        "%%html\n",
        "<blockquote class=\"twitter-tweet\"><p lang=\"en\" dir=\"ltr\">Light Speed – fast, but slow <a href=\"https://twitter.com/hashtag/scicomm?src=hash&amp;ref_src=twsrc%5Etfw\">#scicomm</a> <a href=\"https://t.co/LfoZ3g38DK\">pic.twitter.com/LfoZ3g38DK</a></p>&mdash; Dr James O&#39;Donoghue (@physicsJ) <a href=\"https://twitter.com/physicsJ/status/1178674298141020161?ref_src=twsrc%5Etfw\">September 30, 2019</a></blockquote> <script async src=\"https://platform.twitter.com/widgets.js\" charset=\"utf-8\"></script>"
      ],
      "metadata": {
        "id": "MsG0PZUVsnS-",
        "outputId": "91f5f306-06f6-4c20-9152-8550a83975c6",
        "colab": {
          "base_uri": "https://localhost:8080/",
          "height": 600
        },
        "cellView": "form"
      },
      "execution_count": null,
      "outputs": [
        {
          "output_type": "display_data",
          "data": {
            "text/plain": [
              "<IPython.core.display.HTML object>"
            ],
            "text/html": [
              "<blockquote class=\"twitter-tweet\"><p lang=\"en\" dir=\"ltr\">Light Speed – fast, but slow <a href=\"https://twitter.com/hashtag/scicomm?src=hash&amp;ref_src=twsrc%5Etfw\">#scicomm</a> <a href=\"https://t.co/LfoZ3g38DK\">pic.twitter.com/LfoZ3g38DK</a></p>&mdash; Dr James O&#39;Donoghue (@physicsJ) <a href=\"https://twitter.com/physicsJ/status/1178674298141020161?ref_src=twsrc%5Etfw\">September 30, 2019</a></blockquote> <script async src=\"https://platform.twitter.com/widgets.js\" charset=\"utf-8\"></script>\n"
            ]
          },
          "metadata": {}
        }
      ]
    },
    {
      "cell_type": "markdown",
      "source": [
        "*   真空での光速の値を有効数字３桁で回答して下さい。\n",
        "\n"
      ],
      "metadata": {
        "id": "yL3UbsChubug"
      }
    },
    {
      "cell_type": "code",
      "source": [
        "#@title 幾何光学とスネルの法則\n",
        "%%html\n",
        "<iframe src=\"https://phet.colorado.edu/sims/html/bending-light/latest/bending-light_ja.html\"\n",
        "        width=\"800\"\n",
        "        height=\"600\"\n",
        "        allowfullscreen>\n",
        "</iframe>"
      ],
      "metadata": {
        "colab": {
          "base_uri": "https://localhost:8080/",
          "height": 625
        },
        "id": "N4ooxN4Zr9SS",
        "outputId": "b196df66-0213-47ef-a509-58bb5e0e652c",
        "cellView": "form"
      },
      "execution_count": null,
      "outputs": [
        {
          "output_type": "display_data",
          "data": {
            "text/plain": [
              "<IPython.core.display.HTML object>"
            ],
            "text/html": [
              "<iframe src=\"https://phet.colorado.edu/sims/html/bending-light/latest/bending-light_ja.html\"\n",
              "        width=\"800\"\n",
              "        height=\"600\"\n",
              "        allowfullscreen>\n",
              "</iframe>\n"
            ]
          },
          "metadata": {}
        }
      ]
    },
    {
      "cell_type": "markdown",
      "metadata": {
        "id": "oFfT3TbbOXUR"
      },
      "source": [
        "スネルの法則\n",
        "\\begin{align*}\n",
        "n_1 \\cdot \\sin \\theta_1 &= n_2 \\cdot {\\sin \\theta_2 }.\n",
        "\\end{align*}\n",
        "\n",
        "![](https://upload.wikimedia.org/wikipedia/commons/thumb/3/3f/Snells_law2.svg/267px-Snells_law2.svg.png)"
      ]
    },
    {
      "cell_type": "markdown",
      "source": [
        "\n",
        "\n",
        "* $n_1$ に対する $n_2$ の相対屈折率 $n_{12}$ を求めて下さい。\n",
        "* 上図で光の射線が逆向 Q-O-P と進むと全反射が起こります。  \n",
        "このとき全反射が起こる臨界角 $\\theta_c$ を求めて下さい。\n"
      ],
      "metadata": {
        "id": "hywmC0BhuomM"
      }
    },
    {
      "cell_type": "code",
      "source": [
        "#@title レンズの性質\n",
        "%%html\n",
        "<iframe src=\"https://phet.colorado.edu/sims/html/geometric-optics/latest/geometric-optics_ja.html\"\n",
        "        width=\"800\"\n",
        "        height=\"600\"\n",
        "        allowfullscreen>\n",
        "</iframe>"
      ],
      "metadata": {
        "colab": {
          "base_uri": "https://localhost:8080/",
          "height": 625
        },
        "id": "uIZJ4lOHrz67",
        "outputId": "b9dbd516-f436-4c54-fd15-5adb88fe774b",
        "cellView": "form"
      },
      "execution_count": null,
      "outputs": [
        {
          "output_type": "display_data",
          "data": {
            "text/plain": [
              "<IPython.core.display.HTML object>"
            ],
            "text/html": [
              "<iframe src=\"https://phet.colorado.edu/sims/html/geometric-optics/latest/geometric-optics_ja.html\"\n",
              "        width=\"800\"\n",
              "        height=\"600\"\n",
              "        allowfullscreen>\n",
              "</iframe>\n"
            ]
          },
          "metadata": {}
        }
      ]
    },
    {
      "cell_type": "markdown",
      "source": [
        "- ある薄肉レンズの焦点が $f$ であった。レンズ前方の物体とレンズの中心からの距離を $a$, レンズ後方の中心からの像の位置座標を $b$ とすると、$a,b,f$ が満たす関係式を示せ。ただし、物体と像はレンズの光軸付近にあるとする"
      ],
      "metadata": {
        "id": "iy2qKKc6voXC"
      }
    },
    {
      "cell_type": "code",
      "execution_count": null,
      "metadata": {
        "colab": {
          "base_uri": "https://localhost:8080/",
          "height": 625
        },
        "id": "JarjjidpqUbe",
        "outputId": "373be88f-4824-4850-fc25-be3eb78dae8b",
        "cellView": "form"
      },
      "outputs": [
        {
          "output_type": "display_data",
          "data": {
            "text/plain": [
              "<IPython.core.display.HTML object>"
            ],
            "text/html": [
              "<iframe src=\"https://phet.colorado.edu/sims/html/waves-intro/latest/waves-intro_ja.html\"\n",
              "        width=\"800\"\n",
              "        height=\"600\"\n",
              "        allowfullscreen>\n",
              "</iframe>\n"
            ]
          },
          "metadata": {}
        }
      ],
      "source": [
        "#@title 波動現象\n",
        "%%html\n",
        "<iframe src=\"https://phet.colorado.edu/sims/html/waves-intro/latest/waves-intro_ja.html\"\n",
        "        width=\"800\"\n",
        "        height=\"600\"\n",
        "        allowfullscreen>\n",
        "</iframe>"
      ]
    },
    {
      "cell_type": "markdown",
      "source": [
        "- 振動の源、振動を伝える物質の総称をそれぞれ漢字二文字で答えよ。\n",
        "- 波長 $\\lambda$, 振動数 $f$, 波の速さ $v$ とすると、  \n",
        "これら三つの文字を結びつける関係式を示せ。"
      ],
      "metadata": {
        "id": "yALOTDzAypOj"
      }
    },
    {
      "cell_type": "code",
      "source": [
        "#@title 横波\n",
        "%%html\n",
        "<iframe width=\"560\" height=\"315\" src=\"https://www.youtube-nocookie.com/embed/g8GcMn7K0u4\" title=\"YouTube video player\" frameborder=\"0\" allow=\"accelerometer; autoplay; clipboard-write; encrypted-media; gyroscope; picture-in-picture\" allowfullscreen></iframe>"
      ],
      "metadata": {
        "colab": {
          "base_uri": "https://localhost:8080/",
          "height": 336
        },
        "id": "Vq9V50yU0xVV",
        "outputId": "8c5387bb-2a6f-402d-ed9e-9003104bc6d8"
      },
      "execution_count": null,
      "outputs": [
        {
          "output_type": "display_data",
          "data": {
            "text/plain": [
              "<IPython.core.display.HTML object>"
            ],
            "text/html": [
              "<iframe width=\"560\" height=\"315\" src=\"https://www.youtube-nocookie.com/embed/g8GcMn7K0u4\" title=\"YouTube video player\" frameborder=\"0\" allow=\"accelerometer; autoplay; clipboard-write; encrypted-media; gyroscope; picture-in-picture\" allowfullscreen></iframe>\n"
            ]
          },
          "metadata": {}
        }
      ]
    },
    {
      "cell_type": "code",
      "source": [
        "#@title 縦波\n",
        "%%html\n",
        "<iframe width=\"560\" height=\"315\" src=\"https://www.youtube-nocookie.com/embed/fMJrtheQfZw\" title=\"YouTube video player\" frameborder=\"0\" allow=\"accelerometer; autoplay; clipboard-write; encrypted-media; gyroscope; picture-in-picture\" allowfullscreen></iframe>"
      ],
      "metadata": {
        "colab": {
          "base_uri": "https://localhost:8080/",
          "height": 336
        },
        "id": "RTlhatII1GmG",
        "outputId": "45a73854-60cf-4f95-df1b-a93a492ec593"
      },
      "execution_count": null,
      "outputs": [
        {
          "output_type": "display_data",
          "data": {
            "text/plain": [
              "<IPython.core.display.HTML object>"
            ],
            "text/html": [
              "<iframe width=\"560\" height=\"315\" src=\"https://www.youtube-nocookie.com/embed/fMJrtheQfZw\" title=\"YouTube video player\" frameborder=\"0\" allow=\"accelerometer; autoplay; clipboard-write; encrypted-media; gyroscope; picture-in-picture\" allowfullscreen></iframe>\n"
            ]
          },
          "metadata": {}
        }
      ]
    },
    {
      "cell_type": "markdown",
      "source": [],
      "metadata": {
        "id": "bz0LqQzc1GLQ"
      }
    },
    {
      "cell_type": "code",
      "source": [
        "#@title 直線上を伝わる波とその反射\n",
        "%%html\n",
        "<iframe src=\"https://phet.colorado.edu/sims/html/wave-on-a-string/latest/wave-on-a-string_ja.html\"\n",
        "        width=\"800\"\n",
        "        height=\"600\"\n",
        "        allowfullscreen>\n",
        "</iframe>"
      ],
      "metadata": {
        "colab": {
          "base_uri": "https://localhost:8080/",
          "height": 625
        },
        "id": "6p773rFaq_16",
        "outputId": "05250c8e-3e03-4fef-faaa-00fbaf7a1685",
        "cellView": "form"
      },
      "execution_count": null,
      "outputs": [
        {
          "output_type": "display_data",
          "data": {
            "text/plain": [
              "<IPython.core.display.HTML object>"
            ],
            "text/html": [
              "<iframe src=\"https://phet.colorado.edu/sims/html/wave-on-a-string/latest/wave-on-a-string_ja.html\"\n",
              "        width=\"800\"\n",
              "        height=\"600\"\n",
              "        allowfullscreen>\n",
              "</iframe>\n"
            ]
          },
          "metadata": {}
        }
      ]
    },
    {
      "cell_type": "markdown",
      "source": [
        "- 振動の源が $y_0=A \\sin \\omega t$ と単振動で与えられるとき、  \n",
        "直線上を 速さ $v$ で右向きに伝わる波動の式を示せ。ただし、右向きを $x$ の正とする。\n",
        "- 自由端で反射された波の、波長と位相の変化を答えよ。\n",
        "- 固定端で反射された波の、波長と位相の変化を答えよ。"
      ],
      "metadata": {
        "id": "SClaf9wIzIYy"
      }
    },
    {
      "cell_type": "code",
      "source": [
        "#@title 重ね合わせの原理\n",
        "%%html\n",
        "<iframe width=\"560\" height=\"315\" src=\"https://www.youtube-nocookie.com/embed/hnZ1FKVWN4k\" title=\"YouTube video player\" frameborder=\"0\" allow=\"accelerometer; autoplay; clipboard-write; encrypted-media; gyroscope; picture-in-picture\" allowfullscreen></iframe>"
      ],
      "metadata": {
        "colab": {
          "base_uri": "https://localhost:8080/",
          "height": 336
        },
        "cellView": "form",
        "id": "wMntU3wSz2yT",
        "outputId": "442c3b59-527f-4cdb-d293-3134e6dd4e7e"
      },
      "execution_count": null,
      "outputs": [
        {
          "output_type": "display_data",
          "data": {
            "text/plain": [
              "<IPython.core.display.HTML object>"
            ],
            "text/html": [
              "<iframe width=\"560\" height=\"315\" src=\"https://www.youtube-nocookie.com/embed/hnZ1FKVWN4k\" title=\"YouTube video player\" frameborder=\"0\" allow=\"accelerometer; autoplay; clipboard-write; encrypted-media; gyroscope; picture-in-picture\" allowfullscreen></iframe>\n"
            ]
          },
          "metadata": {}
        }
      ]
    },
    {
      "cell_type": "code",
      "source": [
        "#@markdown 動的な重ね合わせの原理\n",
        "%%html\n",
        "<iframe width=\"560\" height=\"315\" src=\"https://www.youtube-nocookie.com/embed/jUQkG1A0_Sk\" title=\"YouTube video player\" frameborder=\"0\" allow=\"accelerometer; autoplay; clipboard-write; encrypted-media; gyroscope; picture-in-picture\" allowfullscreen></iframe>"
      ],
      "metadata": {
        "colab": {
          "base_uri": "https://localhost:8080/",
          "height": 336
        },
        "cellView": "form",
        "id": "AvG4uMeK0jUw",
        "outputId": "b15217c8-cb2a-4214-8ecf-3b634e93d257"
      },
      "execution_count": null,
      "outputs": [
        {
          "output_type": "display_data",
          "data": {
            "text/plain": [
              "<IPython.core.display.HTML object>"
            ],
            "text/html": [
              "<iframe width=\"560\" height=\"315\" src=\"https://www.youtube-nocookie.com/embed/jUQkG1A0_Sk\" title=\"YouTube video player\" frameborder=\"0\" allow=\"accelerometer; autoplay; clipboard-write; encrypted-media; gyroscope; picture-in-picture\" allowfullscreen></iframe>\n"
            ]
          },
          "metadata": {}
        }
      ]
    },
    {
      "cell_type": "markdown",
      "source": [
        "- 二つの波が出会った後、それぞれの波の性質を述べよ。"
      ],
      "metadata": {
        "id": "RSRVHszN1uuM"
      }
    },
    {
      "cell_type": "code",
      "source": [
        "#@title 定常波\n",
        "\n",
        "%%html\n",
        "<iframe scrolling=\"no\"\n",
        "src=\"https://www.geogebra.org/m/aEVYWZAV\"\n",
        "width=\"800px\"\n",
        "height=\"800px\"\n",
        "style=\"border:0px;\" allowfullscreen>\n",
        "</iframe>"
      ],
      "metadata": {
        "colab": {
          "base_uri": "https://localhost:8080/",
          "height": 821
        },
        "cellView": "form",
        "id": "dIcwYz_jvHqJ",
        "outputId": "294f28a8-3226-4433-e161-a7157748681f"
      },
      "execution_count": null,
      "outputs": [
        {
          "output_type": "display_data",
          "data": {
            "text/plain": [
              "<IPython.core.display.HTML object>"
            ],
            "text/html": [
              "<iframe scrolling=\"no\"\n",
              "src=\"https://www.geogebra.org/m/aEVYWZAV\"\n",
              "width=\"800px\"\n",
              "height=\"800px\"\n",
              "style=\"border:0px;\" allowfullscreen>\n",
              "</iframe>\n"
            ]
          },
          "metadata": {}
        }
      ]
    },
    {
      "cell_type": "code",
      "source": [
        "#@markdown 定常波\n",
        "%%html\n",
        "<iframe scrolling=\"no\"\n",
        "src=\"https://www.geogebra.org/m/jbeCtgzx\"\n",
        "width=\"800px\"\n",
        "height=\"800px\"\n",
        "style=\"border:0px;\" allowfullscreen>\n",
        "</iframe>"
      ],
      "metadata": {
        "colab": {
          "base_uri": "https://localhost:8080/",
          "height": 821
        },
        "cellView": "form",
        "id": "i_3WuPTrugYA",
        "outputId": "d7484ca3-202b-41a2-bd44-343e2c4af913"
      },
      "execution_count": null,
      "outputs": [
        {
          "output_type": "display_data",
          "data": {
            "text/plain": [
              "<IPython.core.display.HTML object>"
            ],
            "text/html": [
              "<iframe scrolling=\"no\"\n",
              "src=\"https://www.geogebra.org/m/jbeCtgzx\"\n",
              "width=\"800px\"\n",
              "height=\"800px\"\n",
              "style=\"border:0px;\" allowfullscreen>\n",
              "</iframe>\n"
            ]
          },
          "metadata": {}
        }
      ]
    },
    {
      "cell_type": "code",
      "source": [
        "#@markdown 定常波の実験\n",
        "%%html\n",
        "<iframe width=\"560\" height=\"315\" src=\"https://www.youtube-nocookie.com/embed/-k2TuJfNQ9s\" title=\"YouTube video player\" frameborder=\"0\" allow=\"accelerometer; autoplay; clipboard-write; encrypted-media; gyroscope; picture-in-picture\" allowfullscreen></iframe>"
      ],
      "metadata": {
        "colab": {
          "base_uri": "https://localhost:8080/",
          "height": 336
        },
        "cellView": "form",
        "id": "-lXlwOGs1ERF",
        "outputId": "8c2e89d6-2045-48ab-97d1-4734dab88a07"
      },
      "execution_count": null,
      "outputs": [
        {
          "output_type": "display_data",
          "data": {
            "text/plain": [
              "<IPython.core.display.HTML object>"
            ],
            "text/html": [
              "<iframe width=\"560\" height=\"315\" src=\"https://www.youtube-nocookie.com/embed/-k2TuJfNQ9s\" title=\"YouTube video player\" frameborder=\"0\" allow=\"accelerometer; autoplay; clipboard-write; encrypted-media; gyroscope; picture-in-picture\" allowfullscreen></iframe>\n"
            ]
          },
          "metadata": {}
        }
      ]
    },
    {
      "cell_type": "markdown",
      "source": [
        "- $y_1=A \\sin 2\\pi \\left( \\dfrac{t}{T} - \\dfrac{x}{v}\\right)$ と $y_2=A \\sin 2 \\pi\\left( \\dfrac{t}{T} + \\dfrac{x}{v}\\right)$ で合成される定常波をしめせ。\n",
        "- 合成された定常波の波長を求めよ。\n",
        "- 合成された定常波の節と節の最小距離を求めよ。"
      ],
      "metadata": {
        "id": "WeY7msqG2bzS"
      }
    },
    {
      "cell_type": "code",
      "source": [
        "#@title 波の干渉と回折\n",
        "%%html\n",
        "<iframe src=\"https://phet.colorado.edu/sims/html/wave-interference/latest/wave-interference_ja.html\"\n",
        "        width=\"800\"\n",
        "        height=\"600\"\n",
        "        allowfullscreen>\n",
        "</iframe>"
      ],
      "metadata": {
        "colab": {
          "base_uri": "https://localhost:8080/",
          "height": 625
        },
        "id": "hvjwGAaprRy7",
        "outputId": "84350699-84bb-4560-9d8b-c16c4077b2f9",
        "cellView": "form"
      },
      "execution_count": null,
      "outputs": [
        {
          "output_type": "display_data",
          "data": {
            "text/plain": [
              "<IPython.core.display.HTML object>"
            ],
            "text/html": [
              "<iframe src=\"https://phet.colorado.edu/sims/html/wave-interference/latest/wave-interference_ja.html\"\n",
              "        width=\"800\"\n",
              "        height=\"600\"\n",
              "        allowfullscreen>\n",
              "</iframe>\n"
            ]
          },
          "metadata": {}
        }
      ]
    },
    {
      "cell_type": "markdown",
      "source": [
        "- 波の干渉で、強く振れる点と弱く振れる点を表現する、関係式を導出しなさい。"
      ],
      "metadata": {
        "id": "4DRB5AuC3j0R"
      }
    },
    {
      "cell_type": "code",
      "source": [
        "#@title 波動の屈折と波の速度\n",
        "%%html\n",
        "<iframe src=\"https://www.geogebra.org/m/Mf9puQ8y\"\n",
        "        width=\"800\"\n",
        "        height=\"800\"\n",
        "        allowfullscreen>\n",
        "</iframe>"
      ],
      "metadata": {
        "colab": {
          "base_uri": "https://localhost:8080/",
          "height": 825
        },
        "cellView": "form",
        "id": "8oOVSmELz-s7",
        "outputId": "5cb3e3aa-13ec-497a-fc57-d8099480b6d6"
      },
      "execution_count": null,
      "outputs": [
        {
          "output_type": "display_data",
          "data": {
            "text/plain": [
              "<IPython.core.display.HTML object>"
            ],
            "text/html": [
              "<iframe src=\"https://www.geogebra.org/m/Mf9puQ8y\"\n",
              "        width=\"800\"\n",
              "        height=\"800\"\n",
              "        allowfullscreen>\n",
              "</iframe>\n"
            ]
          },
          "metadata": {}
        }
      ]
    },
    {
      "cell_type": "markdown",
      "source": [
        "![](https://upload.wikimedia.org/wikipedia/en/d/d3/Huygens_Refracted_Waves.png)"
      ],
      "metadata": {
        "id": "Lh_EHTGWyTC7"
      }
    },
    {
      "cell_type": "markdown",
      "source": [
        "- 上図は、誰がはじめに整理したと言われているか？\n",
        "- 屈折波の波面を作図するときに、半径 AN で表される円形波をの名称を答えよ。"
      ],
      "metadata": {
        "id": "QqoNrv7W39rF"
      }
    },
    {
      "cell_type": "code",
      "source": [
        "#@title 波動現象としての音波\n",
        "%%html\n",
        "<iframe width=\"560\" height=\"315\" src=\"https://www.youtube-nocookie.com/embed/lxsM9Jv0OD8\" title=\"YouTube video player\" frameborder=\"0\" allow=\"accelerometer; autoplay; clipboard-write; encrypted-media; gyroscope; picture-in-picture\" allowfullscreen></iframe>"
      ],
      "metadata": {
        "colab": {
          "base_uri": "https://localhost:8080/",
          "height": 336
        },
        "cellView": "form",
        "id": "67P7RGCbuOL4",
        "outputId": "e2e89ef9-20c3-4064-95a0-e1c298898952"
      },
      "execution_count": null,
      "outputs": [
        {
          "output_type": "display_data",
          "data": {
            "text/plain": [
              "<IPython.core.display.HTML object>"
            ],
            "text/html": [
              "<iframe width=\"560\" height=\"315\" src=\"https://www.youtube-nocookie.com/embed/lxsM9Jv0OD8\" title=\"YouTube video player\" frameborder=\"0\" allow=\"accelerometer; autoplay; clipboard-write; encrypted-media; gyroscope; picture-in-picture\" allowfullscreen></iframe>\n"
            ]
          },
          "metadata": {}
        }
      ]
    },
    {
      "cell_type": "markdown",
      "source": [
        "- おとの三要素がそれぞれどの様な物理量に対応するか答えよ。"
      ],
      "metadata": {
        "id": "2QGQ91Ye1d6p"
      }
    },
    {
      "cell_type": "code",
      "source": [
        "#@title 弦の上の波動現象\n",
        "%%html\n",
        "<iframe width=\"560\" height=\"315\" src=\"https://www.youtube-nocookie.com/embed/RNt8d6vJj8c\" title=\"YouTube video player\" frameborder=\"0\" allow=\"accelerometer; autoplay; clipboard-write; encrypted-media; gyroscope; picture-in-picture\" allowfullscreen></iframe>"
      ],
      "metadata": {
        "id": "ryaQSX0GrgV-",
        "colab": {
          "base_uri": "https://localhost:8080/",
          "height": 336
        },
        "cellView": "form",
        "outputId": "6c362303-df96-4b05-f7e5-15a0186fd44b"
      },
      "execution_count": null,
      "outputs": [
        {
          "output_type": "display_data",
          "data": {
            "text/plain": [
              "<IPython.core.display.HTML object>"
            ],
            "text/html": [
              "<iframe width=\"560\" height=\"315\" src=\"https://www.youtube-nocookie.com/embed/RNt8d6vJj8c\" title=\"YouTube video player\" frameborder=\"0\" allow=\"accelerometer; autoplay; clipboard-write; encrypted-media; gyroscope; picture-in-picture\" allowfullscreen></iframe>\n"
            ]
          },
          "metadata": {}
        }
      ]
    }
  ]
}