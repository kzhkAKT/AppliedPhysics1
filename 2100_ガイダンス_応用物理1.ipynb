{
  "nbformat": 4,
  "nbformat_minor": 0,
  "metadata": {
    "colab": {
      "name": "2100_ガイダンス_応用物理1",
      "provenance": [],
      "collapsed_sections": [],
      "authorship_tag": "ABX9TyNKo0YuMjaQef4kTfQ4GPwk",
      "include_colab_link": true
    },
    "kernelspec": {
      "name": "python3",
      "display_name": "Python 3"
    }
  },
  "cells": [
    {
      "cell_type": "markdown",
      "metadata": {
        "id": "view-in-github",
        "colab_type": "text"
      },
      "source": [
        "<a href=\"https://colab.research.google.com/github/kzhkAKT/AppliedPhysics1/blob/draft/2100_%E3%82%AC%E3%82%A4%E3%83%80%E3%83%B3%E3%82%B9_%E5%BF%9C%E7%94%A8%E7%89%A9%E7%90%861.ipynb\" target=\"_parent\"><img src=\"https://colab.research.google.com/assets/colab-badge.svg\" alt=\"Open In Colab\"/></a>"
      ]
    },
    {
      "cell_type": "markdown",
      "metadata": {
        "id": "tACM-AeNEDji"
      },
      "source": [
        "# 科目名:: 応用物理I\n",
        "## 取り扱う話題:: 波動\n",
        "1. 光学\n",
        "2. 波の性質\n",
        "  * 正弦波\n",
        "  * 平面波, 球面波\n",
        "3. 音波　\n",
        "4. 光波\n"
      ]
    },
    {
      "cell_type": "markdown",
      "metadata": {
        "id": "fGphjRw4zvL3"
      },
      "source": [
        "## シラバス\n",
        "\n",
        "- [R04 3E 応用物理I](https://syllabus.kosen-k.go.jp/Pages/PublicSyllabus?school_id=08&department_id=23&subject_id=0007&year=2020&lang=ja)\n",
        "- [R04 3B 応用物理I](https://syllabus.kosen-k.go.jp/Pages/PublicSyllabus?school_id=08&department_id=25&subject_id=0011&year=2020&lang=ja)\n",
        "\n",
        "- 通年科目 2単位\n",
        "  - 前期後期 到達度試験 各2回\n",
        "- 後期 実験(一回, 予定)\n",
        "\n",
        "\n"
      ]
    },
    {
      "cell_type": "markdown",
      "metadata": {
        "id": "q65Cpe5IzxWA"
      },
      "source": [
        "## 評価方法\n",
        "\n",
        "総合評価 50 で合格.\n",
        "\n",
        "| 総合評価 |到達度試験\t|課題|\t実験報告書 |姿勢| \n",
        "|:-:|:-:|:-:|:-:|:-:|\n",
        "|  100|\t80\t|10|\t5|5|"
      ]
    },
    {
      "cell_type": "markdown",
      "metadata": {
        "id": "jwkzzXmmd_7T"
      },
      "source": [
        "### 課題\n",
        "\n",
        "#### 基本的な出題方法\n",
        "毎回の講義終了後に, 問題を Google Classroom を通じて通知.\n",
        "\n",
        "##### 取り組み方と解説\n",
        "\n",
        "1. 各自, 出題した問題(4-7題)を講義都度, 取り組む\n",
        "1. 解説希望については, Google classroom で集計\n",
        "1. 出題した問題で最も解説希望が多い問題順に  \n",
        "   次の講義で担当教員が解説 (解説時間30-45分。*全問は解説できません*)\n",
        "\n",
        "##### 前年度復習\n",
        "* 物理Iの(前年度到達度試験の)内容から、大問一題出題\n",
        "\n",
        "**いずれの問題も出題問題略解は出題後一週間を目処に, Google Classroom で紹介**\n",
        "\n",
        "#### 提出と評価方法\n",
        "- 各自作成した講義毎の課題は,\n",
        "  - **<font color=\"blue\">A4レポート</font>** に、紙面上に自筆で作成\n",
        "  - 各定期試験終了直後に **指定の表紙** をつけて提出\n",
        "\n",
        "##### 評価チエック項目\n",
        "1. 期日は守れたか? 遅れた場合は受理しません.\n",
        "1. 第三者 {が読める,へ伝わる} 解答であるか?\n",
        "1. 略解を参考に自身の解答へ改善を試みた形跡はあるか？ **<font color=\"red\"> 赤ペン利用 </font>**\n",
        "1. 答え合わせをしているか？\n",
        "1. 表紙のガイドに従って, とじられているか?"
      ]
    }
  ]
}