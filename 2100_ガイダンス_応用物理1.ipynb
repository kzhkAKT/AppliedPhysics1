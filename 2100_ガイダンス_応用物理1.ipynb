{
  "nbformat": 4,
  "nbformat_minor": 0,
  "metadata": {
    "colab": {
      "name": "2100_ガイダンス_応用物理1",
      "provenance": [],
      "toc_visible": true,
      "authorship_tag": "ABX9TyPtkGP04OXDdESYYt+Kyoan",
      "include_colab_link": true
    },
    "kernelspec": {
      "name": "python3",
      "display_name": "Python 3"
    }
  },
  "cells": [
    {
      "cell_type": "markdown",
      "metadata": {
        "id": "view-in-github",
        "colab_type": "text"
      },
      "source": [
        "<a href=\"https://colab.research.google.com/github/kzhkAKT/AppliedPhysics1/blob/draft/2100_%E3%82%AC%E3%82%A4%E3%83%80%E3%83%B3%E3%82%B9_%E5%BF%9C%E7%94%A8%E7%89%A9%E7%90%861.ipynb\" target=\"_parent\"><img src=\"https://colab.research.google.com/assets/colab-badge.svg\" alt=\"Open In Colab\"/></a>"
      ]
    },
    {
      "cell_type": "markdown",
      "metadata": {
        "id": "tACM-AeNEDji"
      },
      "source": [
        "# 科目名:: 応用物理I\n",
        "## 取り扱う話題:: 波動\n",
        "1. 光学\n",
        "2. 波の性質\n",
        "  * 正弦波\n",
        "  * 平面波, 球面波\n",
        "3. 音波　\n",
        "4. 光波\n"
      ]
    },
    {
      "cell_type": "markdown",
      "metadata": {
        "id": "fGphjRw4zvL3"
      },
      "source": [
        "## シラバス\n",
        "\n",
        "- [R05 3M 応用物理I](https://classroom.google.com/c/NTE4MDg3MTcxMzY3/p/NjAzMDAyNDkyMDU3/details)\n",
        "- [R05 3C 応用物理I](https://classroom.google.com/c/NjAxNzgxNDY0MjU2/p/NjAzMDAzMDgyMTQw/details)\n",
        "\n",
        "- 通年科目 2単位\n",
        "  - 前期後期 到達度試験 各2回\n",
        "- 後期 実験(一回, 予定)\n",
        "\n",
        "\n"
      ]
    },
    {
      "cell_type": "markdown",
      "metadata": {
        "id": "q65Cpe5IzxWA"
      },
      "source": [
        "## 評価方法\n",
        "\n",
        "総合評価 50 で合格.\n",
        "\n",
        "| 総合評価 |到達度試験\t|課題|\t実験報告書 |姿勢| \n",
        "|:-:|:-:|:-:|:-:|:-:|\n",
        "|  100|\t80\t|10|\t5|5|"
      ]
    },
    {
      "cell_type": "markdown",
      "metadata": {
        "id": "jwkzzXmmd_7T"
      },
      "source": [
        "### 課題\n"
      ]
    },
    {
      "cell_type": "markdown",
      "metadata": {
        "id": "zvW2yNYdB760"
      },
      "source": [
        "#### 講義演習\n",
        "\n",
        "毎回の講義終了後に, 問題を Google Classroom を通じて通知.\n",
        "  \n",
        "1. 各自, 出題した問題(4-7題)を講義都度, 取り組むこと.\n",
        "2. 状況が許す限り, 出題した問題で最も解説希望が多い問題を  \n",
        " **2,3題** だけ, 次の講義で担当教員が解説\n",
        "  - 解説希望については, Google classroom で集計\n",
        "  - 集計に対する回答は、姿勢として評価\n",
        "\n",
        "- 出題問題略解は次回の講義で、Google Classroom にて紹介。\n",
        "- 解説できなかった問題についても、略解を参照し自作の解説を提出してください。\n",
        "\n",
        "\n",
        "###### 提出と評価方法\n",
        "- 各自作成した講義毎の課題は,\n",
        "  1. 紙面上に自筆で作成\n",
        "    - 略解から得られた知見を、**<font color=\"red\"> 赤ペン </font>** で書き加え、改善する。\n",
        "    - 略解を参照し、解けなかった問題についても作成\n",
        "  1. 画像を撮影しPDF化する。アプリ例\n",
        "    - Microsoft Lens: [Android 版](https://play.google.com/store/apps/details?id=com.microsoft.office.officelens&hl=ja&gl=US) [iOS 版](https://apps.apple.com/jp/app/microsoft-lens-pdf-scanner/id975925059)\n",
        "    - https://app-liv.jp/4444824/\n",
        "  1. Google classroom 経由で、変換したPDFを期日までに提出\n",
        "\n",
        "###### 評価チエック項目\n",
        "1. 期日は守れたか? 遅れた場合は受理しません.\n",
        "2. 第三者 {が読める,へ伝わる} 解答であるか?\n",
        "3. 略解を参考に自身の解答へ改善を試みた形跡はあるか？ **<font color=\"red\"> 赤ペン利用 </font>**\n",
        "4. 答え合わせをしているか？"
      ]
    },
    {
      "cell_type": "markdown",
      "metadata": {
        "id": "9NBdAftrwafk"
      },
      "source": [
        "## この授業で理解できるようになること"
      ]
    },
    {
      "cell_type": "code",
      "source": [
        "#@title 光の屈折\n",
        "%%html\n",
        "<iframe width=\"560\" height=\"315\" src=\"https://www.youtube-nocookie.com/embed/bYqKiBOhMKg\" title=\"YouTube video player\" frameborder=\"0\" allow=\"accelerometer; autoplay; clipboard-write; encrypted-media; gyroscope; picture-in-picture; web-share\" allowfullscreen></iframe>"
      ],
      "metadata": {
        "cellView": "form",
        "id": "Ys89IHV6lC5e",
        "outputId": "dc463e29-871a-4250-a1f6-bf822b7cbe29",
        "colab": {
          "base_uri": "https://localhost:8080/",
          "height": 336
        }
      },
      "execution_count": 1,
      "outputs": [
        {
          "output_type": "display_data",
          "data": {
            "text/plain": [
              "<IPython.core.display.HTML object>"
            ],
            "text/html": [
              "<iframe width=\"560\" height=\"315\" src=\"https://www.youtube-nocookie.com/embed/bYqKiBOhMKg\" title=\"YouTube video player\" frameborder=\"0\" allow=\"accelerometer; autoplay; clipboard-write; encrypted-media; gyroscope; picture-in-picture; web-share\" allowfullscreen></iframe>\n"
            ]
          },
          "metadata": {}
        }
      ]
    },
    {
      "cell_type": "code",
      "source": [
        "#@title 光の屈折\n",
        "#@markdown https://phet.colorado.edu/en/simulations/bending-light\n",
        "%%html\n",
        "\n",
        "<iframe src=\"https://phet.colorado.edu/sims/html/bending-light/latest/bending-light_ja.html\"\n",
        "        width=\"600\"\n",
        "        height=\"450\"\n",
        "        allowfullscreen>\n",
        "</iframe>"
      ],
      "metadata": {
        "cellView": "form",
        "id": "M1bhc6CMoAFi",
        "outputId": "5295baf3-d83c-44cb-82af-572a2257bdcf",
        "colab": {
          "base_uri": "https://localhost:8080/",
          "height": 475
        }
      },
      "execution_count": 7,
      "outputs": [
        {
          "output_type": "display_data",
          "data": {
            "text/plain": [
              "<IPython.core.display.HTML object>"
            ],
            "text/html": [
              "\n",
              "<iframe src=\"https://phet.colorado.edu/sims/html/bending-light/latest/bending-light_ja.html\"\n",
              "        width=\"600\"\n",
              "        height=\"450\"\n",
              "        allowfullscreen>\n",
              "</iframe>\n"
            ]
          },
          "metadata": {}
        }
      ]
    },
    {
      "cell_type": "code",
      "source": [
        "#@title レンズ\n",
        "#@markdown App in English: https://phet.colorado.edu/en/simulations/geometric-optics-basics\n",
        "%%html\n",
        "<iframe src=\"https://phet.colorado.edu/sims/html/geometric-optics-basics/latest/geometric-optics-basics_en.html\"\n",
        "        width=\"600\"\n",
        "        height=\"450\"\n",
        "        allowfullscreen>\n",
        "</iframe>"
      ],
      "metadata": {
        "cellView": "form",
        "id": "c4IYWnzJofQW",
        "outputId": "3119a465-f9c0-4c3e-d615-0c5360bc1ef5",
        "colab": {
          "base_uri": "https://localhost:8080/",
          "height": 475
        }
      },
      "execution_count": 9,
      "outputs": [
        {
          "output_type": "display_data",
          "data": {
            "text/plain": [
              "<IPython.core.display.HTML object>"
            ],
            "text/html": [
              "<iframe src=\"https://phet.colorado.edu/sims/html/geometric-optics-basics/latest/geometric-optics-basics_en.html\"\n",
              "        width=\"600\"\n",
              "        height=\"450\"\n",
              "        allowfullscreen>\n",
              "</iframe>\n"
            ]
          },
          "metadata": {}
        }
      ]
    },
    {
      "cell_type": "code",
      "source": [
        "#@title 弦を伝わる波\n",
        "#@markdown App in English: https://phet.colorado.edu/en/simulations/wave-on-a-string\n",
        "%%html\n",
        "<iframe src=\"https://phet.colorado.edu/sims/html/wave-on-a-string/latest/wave-on-a-string_ja.html\"\n",
        "        width=\"600\"\n",
        "        height=\"450\"\n",
        "        allowfullscreen>\n",
        "</iframe>"
      ],
      "metadata": {
        "cellView": "form",
        "id": "NiT7GILnlY4v",
        "outputId": "64e8677c-e4b3-4c17-ea43-2e0cf467572d",
        "colab": {
          "base_uri": "https://localhost:8080/",
          "height": 475
        }
      },
      "execution_count": 8,
      "outputs": [
        {
          "output_type": "display_data",
          "data": {
            "text/plain": [
              "<IPython.core.display.HTML object>"
            ],
            "text/html": [
              "<iframe src=\"https://phet.colorado.edu/sims/html/wave-on-a-string/latest/wave-on-a-string_ja.html\"\n",
              "        width=\"600\"\n",
              "        height=\"450\"\n",
              "        allowfullscreen>\n",
              "</iframe>\n"
            ]
          },
          "metadata": {}
        }
      ]
    },
    {
      "cell_type": "code",
      "source": [
        "#@title 平面や空有間を伝わる波\n",
        "#@markdown App in English: https://phet.colorado.edu/en/simulations/waves-intro\n",
        "%%html\n",
        "<iframe src=\"https://phet.colorado.edu/sims/html/waves-intro/latest/waves-intro_ja.html\"\n",
        "        width=\"600\"\n",
        "        height=\"450\"\n",
        "        allowfullscreen>\n",
        "</iframe>"
      ],
      "metadata": {
        "cellView": "form",
        "id": "9dW-fQDdlfCQ",
        "outputId": "23dd74bb-761f-4420-e2b0-950621440107",
        "colab": {
          "base_uri": "https://localhost:8080/",
          "height": 475
        }
      },
      "execution_count": 3,
      "outputs": [
        {
          "output_type": "display_data",
          "data": {
            "text/plain": [
              "<IPython.core.display.HTML object>"
            ],
            "text/html": [
              "<iframe src=\"https://phet.colorado.edu/sims/html/waves-intro/latest/waves-intro_ja.html\"\n",
              "        width=\"600\"\n",
              "        height=\"450\"\n",
              "        allowfullscreen>\n",
              "</iframe>\n"
            ]
          },
          "metadata": {}
        }
      ]
    },
    {
      "cell_type": "code",
      "source": [
        "#@title 光の干渉\n",
        "#@markdown App in English: https://phet.colorado.edu/en/simulations/wave-interference\n",
        "%%html\n",
        "<iframe src=\"https://phet.colorado.edu/sims/html/wave-interference/latest/wave-interference_ja.html\"\n",
        "        width=\"600\"\n",
        "        height=\"450\"\n",
        "        allowfullscreen>\n",
        "</iframe>"
      ],
      "metadata": {
        "cellView": "form",
        "id": "N2l8NJdul357",
        "outputId": "f7bf4d38-76ef-4e56-e078-86cd6032d26f",
        "colab": {
          "base_uri": "https://localhost:8080/",
          "height": 475
        }
      },
      "execution_count": 10,
      "outputs": [
        {
          "output_type": "display_data",
          "data": {
            "text/plain": [
              "<IPython.core.display.HTML object>"
            ],
            "text/html": [
              "<iframe src=\"https://phet.colorado.edu/sims/html/wave-interference/latest/wave-interference_ja.html\"\n",
              "        width=\"600\"\n",
              "        height=\"450\"\n",
              "        allowfullscreen>\n",
              "</iframe>\n"
            ]
          },
          "metadata": {}
        }
      ]
    }
  ]
}