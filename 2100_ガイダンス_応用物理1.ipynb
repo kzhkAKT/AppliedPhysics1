{
  "nbformat": 4,
  "nbformat_minor": 0,
  "metadata": {
    "colab": {
      "name": "2100_ガイダンス_応用物理1",
      "provenance": [],
      "collapsed_sections": [],
      "toc_visible": true,
      "authorship_tag": "ABX9TyMhWO4qM6mLr0dK21bsNZhz",
      "include_colab_link": true
    },
    "kernelspec": {
      "name": "python3",
      "display_name": "Python 3"
    }
  },
  "cells": [
    {
      "cell_type": "markdown",
      "metadata": {
        "id": "view-in-github",
        "colab_type": "text"
      },
      "source": [
        "<a href=\"https://colab.research.google.com/github/kzhkAKT/AppliedPhysics1/blob/draft/2100_%E3%82%AC%E3%82%A4%E3%83%80%E3%83%B3%E3%82%B9_%E5%BF%9C%E7%94%A8%E7%89%A9%E7%90%861.ipynb\" target=\"_parent\"><img src=\"https://colab.research.google.com/assets/colab-badge.svg\" alt=\"Open In Colab\"/></a>"
      ]
    },
    {
      "cell_type": "markdown",
      "metadata": {
        "id": "tACM-AeNEDji"
      },
      "source": [
        "# 科目名:: 応用物理I\n",
        "## 取り扱う話題:: 波動\n",
        "1. 光学\n",
        "2. 波の性質\n",
        "  * 正弦波\n",
        "  * 平面波, 球面波\n",
        "3. 音波　\n",
        "4. 光波\n"
      ]
    },
    {
      "cell_type": "markdown",
      "metadata": {
        "id": "fGphjRw4zvL3"
      },
      "source": [
        "## シラバス\n",
        "[3C 応用物理I](https://syllabus.kosen-k.go.jp/Pages/PublicSyllabus?school_id=08&department_id=11&subject_id=0049&year=2018&lang=ja) ,  [3B 応用物理I](https://syllabus.kosen-k.go.jp/Pages/PublicSyllabus?school_id=08&department_id=11&subject_id=0048&year=2018&lang=ja)\n",
        "\n",
        "- 通年科目 2単位\n",
        "  - 前期後期 到達度試験 各2回\n",
        "- 後期 実験(一回, 予定)\n",
        "\n",
        "\n"
      ]
    },
    {
      "cell_type": "markdown",
      "metadata": {
        "id": "q65Cpe5IzxWA"
      },
      "source": [
        "## 評価方法\n",
        "\n",
        "総合評価 50 で合格.\n",
        "\n",
        "| 総合評価 |到達度試験\t|課題|\t実験報告書 |\n",
        "|--|--|--|--|\n",
        "|  100|\t80\t|15|\t5|"
      ]
    },
    {
      "cell_type": "markdown",
      "metadata": {
        "id": "jwkzzXmmd_7T"
      },
      "source": [
        "### 課題\n",
        "\n",
        "#### 基本的な出題方法\n",
        "毎回の講義終了後に, 問題を Google Classroom を通じて通知.\n",
        "\n",
        "##### 講義内容\n",
        "\n",
        "1. 各自, 出題した問題(4-7題)を講義都度, 取り組むこと.\n",
        "2. 状況が許す限り, 出題した問題で最も解説希望が多い問題を  \n",
        " **一題** だけ, 次の講義で担当教員が解説\n",
        "  - 解説希望については, Google classroom で集計\n",
        "\n",
        "##### 前年度復習\n",
        "\n",
        "* 物理Iの(前年度到達度試験の)内容から、一題出題\n",
        "\n",
        "いずれの問題も出題問題略解は出題後一週間を目処に, Google Classroom で紹介\n",
        "\n",
        "#### 基本的な評価方法\n",
        "- 各自作成した講義毎の課題は, 各定期試験終了直後に **指定の表紙** をつけて提出する.\n",
        "\n",
        "##### チエック項目\n",
        "1. 期日は守れたか? 遅れた場合は受理しません.\n",
        "2. 第三者 {が読める,へ伝わる} 解答であるか?\n",
        "3. 略解を参考に自身の解答へ改善を試みた形跡はあるか？ **赤ペン利用**\n",
        "4. 答え合わせをしているか？\n",
        "\n"
      ]
    }
  ]
}