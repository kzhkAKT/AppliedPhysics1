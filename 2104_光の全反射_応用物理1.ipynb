{
  "nbformat": 4,
  "nbformat_minor": 0,
  "metadata": {
    "colab": {
      "name": "2104_光の全反射_応用物理1.ipynb",
      "provenance": [],
      "toc_visible": true,
      "authorship_tag": "ABX9TyMlBlBeaxkbwyKUK2Q72Y8J",
      "include_colab_link": true
    },
    "kernelspec": {
      "name": "python3",
      "display_name": "Python 3"
    }
  },
  "cells": [
    {
      "cell_type": "markdown",
      "metadata": {
        "id": "view-in-github",
        "colab_type": "text"
      },
      "source": [
        "<a href=\"https://colab.research.google.com/github/kzhkAKT/AppliedPhysics1/blob/draft/2104_%E5%85%89%E3%81%AE%E5%85%A8%E5%8F%8D%E5%B0%84_%E5%BF%9C%E7%94%A8%E7%89%A9%E7%90%861.ipynb\" target=\"_parent\"><img src=\"https://colab.research.google.com/assets/colab-badge.svg\" alt=\"Open In Colab\"/></a>"
      ]
    },
    {
      "cell_type": "markdown",
      "metadata": {
        "id": "tnpl7FkspvGY"
      },
      "source": [
        "# 光の進み方\n",
        "\n",
        "## 光の全反射\n",
        "\n"
      ]
    },
    {
      "cell_type": "code",
      "metadata": {
        "id": "4sjxOR1tLdoX",
        "outputId": "03712795-6147-4d47-a1b2-506e896f69ea",
        "cellView": "form",
        "colab": {
          "base_uri": "https://localhost:8080/",
          "height": 336
        }
      },
      "source": [
        "#@title 全反射の動画\n",
        "%%html\n",
        "<iframe width=\"560\" height=\"315\" src=\"https://www.youtube-nocookie.com/embed/NAaHPRsveJk\" frameborder=\"0\" allow=\"accelerometer; autoplay; encrypted-media; gyroscope; picture-in-picture\" allowfullscreen></iframe>"
      ],
      "execution_count": null,
      "outputs": [
        {
          "output_type": "display_data",
          "data": {
            "text/html": [
              "<iframe width=\"560\" height=\"315\" src=\"https://www.youtube-nocookie.com/embed/NAaHPRsveJk\" frameborder=\"0\" allow=\"accelerometer; autoplay; encrypted-media; gyroscope; picture-in-picture\" allowfullscreen></iframe>"
            ],
            "text/plain": [
              "<IPython.core.display.HTML object>"
            ]
          },
          "metadata": {
            "tags": []
          }
        }
      ]
    },
    {
      "cell_type": "code",
      "metadata": {
        "id": "_r7zXT2OLhhx",
        "outputId": "b51149b3-4550-4987-c206-9b69697183b6",
        "colab": {
          "base_uri": "https://localhost:8080/",
          "height": 625
        },
        "cellView": "form"
      },
      "source": [
        "#@title 全反射のシミュレーション\n",
        "%%HTML\n",
        "<iframe src=\"https://phet.colorado.edu/sims/html/bending-light/latest/bending-light_en.html\" width=\"800\" height=\"600\" scrolling=\"no\" allowfullscreen></iframe>"
      ],
      "execution_count": null,
      "outputs": [
        {
          "output_type": "display_data",
          "data": {
            "text/html": [
              "<iframe src=\"https://phet.colorado.edu/sims/html/bending-light/latest/bending-light_en.html\" width=\"800\" height=\"600\" scrolling=\"no\" allowfullscreen></iframe>"
            ],
            "text/plain": [
              "<IPython.core.display.HTML object>"
            ]
          },
          "metadata": {
            "tags": []
          }
        }
      ]
    },
    {
      "cell_type": "markdown",
      "metadata": {
        "id": "uAQ1-OZPqgDv"
      },
      "source": [
        "### 用語確認\n",
        "\n",
        "光線逆進の原理: 媒質をそのままにして, ポインタの位置を水中に置き換えたとき, 光は同じ道筋をそのまま逆に進む."
      ]
    },
    {
      "cell_type": "markdown",
      "metadata": {
        "id": "Lo7rrgQErnah"
      },
      "source": [
        "## スネルの法則による全反射の導出\n",
        "\n",
        "全反射の特徴\n",
        "- 屈折率の高い媒質から, 屈折率の低い媒質に光線が侵入するときに, その境界面で必ず起こる\n",
        "- ある角度以上(臨界角 $i_{\\rm c}$)になると, **全反射** を起こす\n",
        "\n",
        "この特徴と スネルの法則 を利用して, 全反射を起こしたときの関係式を整理します.\n",
        "\n",
        "---\n",
        "\n",
        "屈折率の高い媒質を水(屈折率 $n$, 入射角 $\\theta_i$), \n",
        "屈折率の低い媒質を空気(屈折率 $n_0=1$, 屈折角 $\\theta_r$), \n",
        "としてスネルの法則を立てると\n",
        "\\begin{align*}\n",
        "n \\cdot \\sin \\theta_i = n_0 \\cdot \\sin \\theta_r\n",
        "\\end{align*}\n",
        "入射角が $\\theta_i \\to \\theta_c$ (c:critical)となったとき, 屈折角が境界面と重なり全反射を起こす.  このとき屈折角は $\\theta_r \\to \\dfrac{\\pi}{2}$ としよう.\n",
        "\n",
        "先のスネルの法則に取り込むと\n",
        "$\\require{cancel}$\n",
        "\\begin{align*}\n",
        "n \\cdot \\sin \\theta_c &= \\cancelto{1}{n_0} \\cdot \\sin \\dfrac{\\pi}{2}&\\\\\n",
        "n \\cdot \\sin \\theta_c &= 1 \\cdot 1&\\\\\n",
        "\\sin \\theta_c &= \\dfrac{1}{n}&\n",
        "\\end{align*}\n",
        "この式を利用し, 真空(空気)よりも大きな媒質から出てくる光線の臨界角を求めることができる. この導出を理解しておくと空気以外のときにも適用できます.\n"
      ]
    },
    {
      "cell_type": "markdown",
      "metadata": {
        "id": "MJHBGfAzyPhl"
      },
      "source": [
        "#### プリズム"
      ]
    },
    {
      "cell_type": "code",
      "metadata": {
        "id": "PILhAuRSydHd",
        "cellView": "form",
        "outputId": "246483d9-39b3-4118-c0a9-3918b2637094",
        "colab": {
          "base_uri": "https://localhost:8080/",
          "height": 625
        }
      },
      "source": [
        "#@title プリズムのシミュレーション\n",
        "%%HTML\n",
        "<iframe src=\"https://phet.colorado.edu/sims/html/bending-light/latest/bending-light_en.html\" width=\"800\" height=\"600\" scrolling=\"no\" allowfullscreen></iframe>"
      ],
      "execution_count": null,
      "outputs": [
        {
          "output_type": "display_data",
          "data": {
            "text/html": [
              "<iframe src=\"https://phet.colorado.edu/sims/html/bending-light/latest/bending-light_en.html\" width=\"800\" height=\"600\" scrolling=\"no\" allowfullscreen></iframe>"
            ],
            "text/plain": [
              "<IPython.core.display.HTML object>"
            ]
          },
          "metadata": {
            "tags": []
          }
        }
      ]
    },
    {
      "cell_type": "code",
      "metadata": {
        "id": "N9xU8FIRzsfD",
        "cellView": "form",
        "outputId": "e64b07bb-eacd-4417-efef-f3166787d475",
        "colab": {
          "base_uri": "https://localhost:8080/",
          "height": 336
        }
      },
      "source": [
        "#@title 自然光とプリズム\n",
        "%%html\n",
        "<iframe width=\"560\" height=\"315\" src=\"https://www.youtube-nocookie.com/embed/7A4vO8YvZyo\" frameborder=\"0\" allow=\"accelerometer; autoplay; encrypted-media; gyroscope; picture-in-picture\" allowfullscreen></iframe>"
      ],
      "execution_count": null,
      "outputs": [
        {
          "output_type": "display_data",
          "data": {
            "text/html": [
              "<iframe width=\"560\" height=\"315\" src=\"https://www.youtube-nocookie.com/embed/7A4vO8YvZyo\" frameborder=\"0\" allow=\"accelerometer; autoplay; encrypted-media; gyroscope; picture-in-picture\" allowfullscreen></iframe>"
            ],
            "text/plain": [
              "<IPython.core.display.HTML object>"
            ]
          },
          "metadata": {
            "tags": []
          }
        }
      ]
    },
    {
      "cell_type": "markdown",
      "metadata": {
        "id": "juhu1W_xyS2U"
      },
      "source": [
        "#### 光ファイバー"
      ]
    },
    {
      "cell_type": "code",
      "metadata": {
        "id": "EuPr_liDqKAS",
        "outputId": "eaf7f37d-e3e8-439c-e79b-e18760b126ad",
        "colab": {
          "base_uri": "https://localhost:8080/",
          "height": 336
        },
        "cellView": "form"
      },
      "source": [
        "#@title \n",
        "%%html\n",
        "<iframe width=\"560\" height=\"315\" src=\"https://www.youtube-nocookie.com/embed/mtVbb_MWNDg\" frameborder=\"0\" allow=\"accelerometer; autoplay; encrypted-media; gyroscope; picture-in-picture\" allowfullscreen></iframe>"
      ],
      "execution_count": null,
      "outputs": [
        {
          "output_type": "display_data",
          "data": {
            "text/html": [
              "<iframe width=\"560\" height=\"315\" src=\"https://www.youtube-nocookie.com/embed/mtVbb_MWNDg\" frameborder=\"0\" allow=\"accelerometer; autoplay; encrypted-media; gyroscope; picture-in-picture\" allowfullscreen></iframe>"
            ],
            "text/plain": [
              "<IPython.core.display.HTML object>"
            ]
          },
          "metadata": {
            "tags": []
          }
        }
      ]
    },
    {
      "cell_type": "code",
      "metadata": {
        "id": "mdKEtN3v0fEd",
        "outputId": "8ee551d2-0919-489f-a32f-cbfa06372fcf",
        "colab": {
          "base_uri": "https://localhost:8080/",
          "height": 336
        },
        "cellView": "form"
      },
      "source": [
        "#@title 流水の全反射\n",
        "%%html\n",
        "<iframe width=\"560\" height=\"315\" src=\"https://www.youtube-nocookie.com/embed/Z9O5xY3Z1WE\" frameborder=\"0\" allow=\"accelerometer; autoplay; encrypted-media; gyroscope; picture-in-picture\" allowfullscreen></iframe>"
      ],
      "execution_count": null,
      "outputs": [
        {
          "output_type": "display_data",
          "data": {
            "text/html": [
              "<iframe width=\"560\" height=\"315\" src=\"https://www.youtube-nocookie.com/embed/Z9O5xY3Z1WE\" frameborder=\"0\" allow=\"accelerometer; autoplay; encrypted-media; gyroscope; picture-in-picture\" allowfullscreen></iframe>"
            ],
            "text/plain": [
              "<IPython.core.display.HTML object>"
            ]
          },
          "metadata": {
            "tags": []
          }
        }
      ]
    },
    {
      "cell_type": "code",
      "metadata": {
        "id": "aaYF2iEl0j8K",
        "outputId": "386b944d-2421-460d-9aff-4d63ee2e9bb4",
        "colab": {
          "base_uri": "https://localhost:8080/",
          "height": 336
        },
        "cellView": "form"
      },
      "source": [
        "#@title 樹脂内の全反射\n",
        "%%html\n",
        "<iframe width=\"560\" height=\"315\" src=\"https://www.youtube-nocookie.com/embed/Lic3gCS_bKo\" frameborder=\"0\" allow=\"accelerometer; autoplay; encrypted-media; gyroscope; picture-in-picture\" allowfullscreen></iframe>"
      ],
      "execution_count": null,
      "outputs": [
        {
          "output_type": "display_data",
          "data": {
            "text/html": [
              "<iframe width=\"560\" height=\"315\" src=\"https://www.youtube-nocookie.com/embed/Lic3gCS_bKo\" frameborder=\"0\" allow=\"accelerometer; autoplay; encrypted-media; gyroscope; picture-in-picture\" allowfullscreen></iframe>"
            ],
            "text/plain": [
              "<IPython.core.display.HTML object>"
            ]
          },
          "metadata": {
            "tags": []
          }
        }
      ]
    }
  ]
}