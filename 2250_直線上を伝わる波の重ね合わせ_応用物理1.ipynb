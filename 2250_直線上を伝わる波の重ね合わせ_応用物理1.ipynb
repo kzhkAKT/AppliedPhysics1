{
  "nbformat": 4,
  "nbformat_minor": 0,
  "metadata": {
    "colab": {
      "name": "2250_直線上を伝わる波の重ね合わせ_応用物理1.ipynb",
      "provenance": [],
      "authorship_tag": "ABX9TyOmraK7+gxWJruLJ7wr3O5b",
      "include_colab_link": true
    },
    "kernelspec": {
      "name": "python3",
      "display_name": "Python 3"
    }
  },
  "cells": [
    {
      "cell_type": "markdown",
      "metadata": {
        "id": "view-in-github",
        "colab_type": "text"
      },
      "source": [
        "<a href=\"https://colab.research.google.com/github/kzhkAKT/AppliedPhysics1/blob/draft/2250_%E7%9B%B4%E7%B7%9A%E4%B8%8A%E3%82%92%E4%BC%9D%E3%82%8F%E3%82%8B%E6%B3%A2%E3%81%AE%E9%87%8D%E3%81%AD%E5%90%88%E3%82%8F%E3%81%9B_%E5%BF%9C%E7%94%A8%E7%89%A9%E7%90%861.ipynb\" target=\"_parent\"><img src=\"https://colab.research.google.com/assets/colab-badge.svg\" alt=\"Open In Colab\"/></a>"
      ]
    },
    {
      "cell_type": "markdown",
      "metadata": {
        "id": "MqXD55KO1JLY",
        "colab_type": "text"
      },
      "source": [
        "# 波動"
      ]
    },
    {
      "cell_type": "markdown",
      "metadata": {
        "id": "obsbSibK1N-1",
        "colab_type": "text"
      },
      "source": [
        "## 直線上を伝わる波"
      ]
    },
    {
      "cell_type": "markdown",
      "metadata": {
        "id": "ixas6ReI1Rso",
        "colab_type": "text"
      },
      "source": [
        "### 直線状を伝わる波の重ね合わせ\n",
        "\n",
        "- 干渉: 波が出会って影響をうける現象\n",
        "  - 合成波: 二つ(以上)の波が出会ってできる波\n",
        "\n",
        "- 独立性: 出会った後は何もなかったかなように, 影響なく伝わっていく"
      ]
    },
    {
      "cell_type": "markdown",
      "metadata": {
        "id": "oEpnalRM1rA6",
        "colab_type": "text"
      },
      "source": [
        "#### 重ね合わせの原理\n",
        " \\begin{align*}\n",
        " y &= y_1 + y_2&\\\\\n",
        " y(x,t) &= y_1(x,t) + y_2(x,t)&\n",
        " \\end{align*}"
      ]
    },
    {
      "cell_type": "code",
      "metadata": {
        "id": "4hbn7XatGxiP",
        "colab_type": "code",
        "cellView": "form",
        "outputId": "9b7a8fa1-b015-4c23-b27f-44d7a33c3b5c",
        "colab": {
          "base_uri": "https://localhost:8080/",
          "height": 336
        }
      },
      "source": [
        "#@title 静止画: 波の重ね合わせ原理\n",
        "%%html\n",
        "<iframe width=\"560\" height=\"315\" src=\"https://www.youtube-nocookie.com/embed/hnZ1FKVWN4k\" frameborder=\"0\" allow=\"accelerometer; autoplay; encrypted-media; gyroscope; picture-in-picture\" allowfullscreen></iframe>"
      ],
      "execution_count": 0,
      "outputs": [
        {
          "output_type": "display_data",
          "data": {
            "text/html": [
              "<iframe width=\"560\" height=\"315\" src=\"https://www.youtube-nocookie.com/embed/hnZ1FKVWN4k\" frameborder=\"0\" allow=\"accelerometer; autoplay; encrypted-media; gyroscope; picture-in-picture\" allowfullscreen></iframe>"
            ],
            "text/plain": [
              "<IPython.core.display.HTML object>"
            ]
          },
          "metadata": {
            "tags": []
          }
        }
      ]
    },
    {
      "cell_type": "code",
      "metadata": {
        "id": "7tcvO5zNH_Ji",
        "colab_type": "code",
        "cellView": "form",
        "outputId": "65bb2699-1be9-4673-eb34-6036c1e911d5",
        "colab": {
          "base_uri": "https://localhost:8080/",
          "height": 336
        }
      },
      "source": [
        "#@title 波の重ね合わせの原理と波の独立性\n",
        "%%html\n",
        "<iframe width=\"560\" height=\"315\" src=\"https://www.youtube-nocookie.com/embed/LgJStYrk2fc\" frameborder=\"0\" allow=\"accelerometer; autoplay; encrypted-media; gyroscope; picture-in-picture\" allowfullscreen></iframe>"
      ],
      "execution_count": 0,
      "outputs": [
        {
          "output_type": "display_data",
          "data": {
            "text/html": [
              "<iframe width=\"560\" height=\"315\" src=\"https://www.youtube-nocookie.com/embed/LgJStYrk2fc\" frameborder=\"0\" allow=\"accelerometer; autoplay; encrypted-media; gyroscope; picture-in-picture\" allowfullscreen></iframe>"
            ],
            "text/plain": [
              "<IPython.core.display.HTML object>"
            ]
          },
          "metadata": {
            "tags": []
          }
        }
      ]
    },
    {
      "cell_type": "code",
      "metadata": {
        "id": "1PyHc7HUIsU3",
        "colab_type": "code",
        "cellView": "form",
        "outputId": "d291b24b-41e2-4df8-9f9d-c5d7b775bb45",
        "colab": {
          "base_uri": "https://localhost:8080/",
          "height": 475
        }
      },
      "source": [
        "#@title 重ね合わせと独立性(山波と山波): (Slow Mothon + Pulse + Loose End + Damping:None)\n",
        "%%html\n",
        "<iframe src=\"https://phet.colorado.edu/sims/html/wave-on-a-string/latest/wave-on-a-string_en.html\" width=\"600\" height=\"450\" scrolling=\"no\" allowfullscreen></iframe>"
      ],
      "execution_count": 2,
      "outputs": [
        {
          "output_type": "display_data",
          "data": {
            "text/html": [
              "<iframe src=\"https://phet.colorado.edu/sims/html/wave-on-a-string/latest/wave-on-a-string_en.html\" width=\"600\" height=\"450\" scrolling=\"no\" allowfullscreen></iframe>"
            ],
            "text/plain": [
              "<IPython.core.display.HTML object>"
            ]
          },
          "metadata": {
            "tags": []
          }
        }
      ]
    },
    {
      "cell_type": "code",
      "metadata": {
        "colab_type": "code",
        "cellView": "form",
        "outputId": "1d7807f0-9441-4639-98d4-aeaba530025a",
        "id": "52eqGvTdJzK4",
        "colab": {
          "base_uri": "https://localhost:8080/",
          "height": 475
        }
      },
      "source": [
        "#@title 重ね合わせと独立性(山波と谷波): (Slow Mothon + Pulse + Fixed End + Damping:None)\n",
        "%%html\n",
        "<iframe src=\"https://phet.colorado.edu/sims/html/wave-on-a-string/latest/wave-on-a-string_en.html\" width=\"600\" height=\"450\" scrolling=\"no\" allowfullscreen></iframe>"
      ],
      "execution_count": 1,
      "outputs": [
        {
          "output_type": "display_data",
          "data": {
            "text/html": [
              "<iframe src=\"https://phet.colorado.edu/sims/html/wave-on-a-string/latest/wave-on-a-string_en.html\" width=\"600\" height=\"450\" scrolling=\"no\" allowfullscreen></iframe>"
            ],
            "text/plain": [
              "<IPython.core.display.HTML object>"
            ]
          },
          "metadata": {
            "tags": []
          }
        }
      ]
    },
    {
      "cell_type": "markdown",
      "metadata": {
        "id": "H9-C8nSU2OkN",
        "colab_type": "text"
      },
      "source": [
        "> 教科書 上巻 p109 図2.31 で2つの山波が出会った様子を確認して確認してください.\n",
        "\n"
      ]
    }
  ]
}