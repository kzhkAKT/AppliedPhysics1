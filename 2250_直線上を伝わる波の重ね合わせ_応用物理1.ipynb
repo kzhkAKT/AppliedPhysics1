{
  "nbformat": 4,
  "nbformat_minor": 0,
  "metadata": {
    "colab": {
      "name": "2250_直線上を伝わる波の重ね合わせ_応用物理1.ipynb",
      "provenance": [],
      "authorship_tag": "ABX9TyM2De2pgDDZQTzePkeJrzbq",
      "include_colab_link": true
    },
    "kernelspec": {
      "name": "python3",
      "display_name": "Python 3"
    }
  },
  "cells": [
    {
      "cell_type": "markdown",
      "metadata": {
        "id": "view-in-github",
        "colab_type": "text"
      },
      "source": [
        "<a href=\"https://colab.research.google.com/github/kzhkAKT/AppliedPhysics1/blob/draft/2250_%E7%9B%B4%E7%B7%9A%E4%B8%8A%E3%82%92%E4%BC%9D%E3%82%8F%E3%82%8B%E6%B3%A2%E3%81%AE%E9%87%8D%E3%81%AD%E5%90%88%E3%82%8F%E3%81%9B_%E5%BF%9C%E7%94%A8%E7%89%A9%E7%90%861.ipynb\" target=\"_parent\"><img src=\"https://colab.research.google.com/assets/colab-badge.svg\" alt=\"Open In Colab\"/></a>"
      ]
    },
    {
      "cell_type": "code",
      "metadata": {
        "id": "4hbn7XatGxiP",
        "colab_type": "code",
        "colab": {
          "base_uri": "https://localhost:8080/",
          "height": 336
        },
        "cellView": "form",
        "outputId": "9b7a8fa1-b015-4c23-b27f-44d7a33c3b5c"
      },
      "source": [
        "#@title 静止画: 波の重ね合わせ原理\n",
        "%%html\n",
        "<iframe width=\"560\" height=\"315\" src=\"https://www.youtube-nocookie.com/embed/hnZ1FKVWN4k\" frameborder=\"0\" allow=\"accelerometer; autoplay; encrypted-media; gyroscope; picture-in-picture\" allowfullscreen></iframe>"
      ],
      "execution_count": 1,
      "outputs": [
        {
          "output_type": "display_data",
          "data": {
            "text/html": [
              "<iframe width=\"560\" height=\"315\" src=\"https://www.youtube-nocookie.com/embed/hnZ1FKVWN4k\" frameborder=\"0\" allow=\"accelerometer; autoplay; encrypted-media; gyroscope; picture-in-picture\" allowfullscreen></iframe>"
            ],
            "text/plain": [
              "<IPython.core.display.HTML object>"
            ]
          },
          "metadata": {
            "tags": []
          }
        }
      ]
    },
    {
      "cell_type": "code",
      "metadata": {
        "id": "7tcvO5zNH_Ji",
        "colab_type": "code",
        "colab": {
          "base_uri": "https://localhost:8080/",
          "height": 336
        },
        "cellView": "form",
        "outputId": "65bb2699-1be9-4673-eb34-6036c1e911d5"
      },
      "source": [
        "#@title 波の重ね合わせの原理と波の独立性\n",
        "%%html\n",
        "<iframe width=\"560\" height=\"315\" src=\"https://www.youtube-nocookie.com/embed/LgJStYrk2fc\" frameborder=\"0\" allow=\"accelerometer; autoplay; encrypted-media; gyroscope; picture-in-picture\" allowfullscreen></iframe>"
      ],
      "execution_count": 2,
      "outputs": [
        {
          "output_type": "display_data",
          "data": {
            "text/html": [
              "<iframe width=\"560\" height=\"315\" src=\"https://www.youtube-nocookie.com/embed/LgJStYrk2fc\" frameborder=\"0\" allow=\"accelerometer; autoplay; encrypted-media; gyroscope; picture-in-picture\" allowfullscreen></iframe>"
            ],
            "text/plain": [
              "<IPython.core.display.HTML object>"
            ]
          },
          "metadata": {
            "tags": []
          }
        }
      ]
    },
    {
      "cell_type": "code",
      "metadata": {
        "id": "1PyHc7HUIsU3",
        "colab_type": "code",
        "colab": {
          "base_uri": "https://localhost:8080/",
          "height": 565
        },
        "cellView": "form",
        "outputId": "650e7c27-9920-4076-8279-354577270788"
      },
      "source": [
        "#@title 重ね合わせと独立性(山波と山波): (Slow Mothon + Pulse + Loose End + Damping:None)\n",
        "%%html\n",
        "<iframe src=\"https://phet.colorado.edu/sims/html/wave-on-a-string/latest/wave-on-a-string_en.html\" width=\"720\" height=\"540\" scrolling=\"no\" allowfullscreen></iframe>"
      ],
      "execution_count": 5,
      "outputs": [
        {
          "output_type": "display_data",
          "data": {
            "text/html": [
              "<iframe src=\"https://phet.colorado.edu/sims/html/wave-on-a-string/latest/wave-on-a-string_en.html\" width=\"720\" height=\"540\" scrolling=\"no\" allowfullscreen></iframe>"
            ],
            "text/plain": [
              "<IPython.core.display.HTML object>"
            ]
          },
          "metadata": {
            "tags": []
          }
        }
      ]
    },
    {
      "cell_type": "code",
      "metadata": {
        "colab_type": "code",
        "cellView": "form",
        "outputId": "710e2820-42c4-41d2-9186-43e2388dea8b",
        "id": "52eqGvTdJzK4",
        "colab": {
          "base_uri": "https://localhost:8080/",
          "height": 565
        }
      },
      "source": [
        "#@title 重ね合わせと独立性(山波と谷波): (Slow Mothon + Pulse + Fixed End + Damping:None)\n",
        "%%html\n",
        "<iframe src=\"https://phet.colorado.edu/sims/html/wave-on-a-string/latest/wave-on-a-string_en.html\" width=\"720\" height=\"540\" scrolling=\"no\" allowfullscreen></iframe>"
      ],
      "execution_count": 6,
      "outputs": [
        {
          "output_type": "display_data",
          "data": {
            "text/html": [
              "<iframe src=\"https://phet.colorado.edu/sims/html/wave-on-a-string/latest/wave-on-a-string_en.html\" width=\"720\" height=\"540\" scrolling=\"no\" allowfullscreen></iframe>"
            ],
            "text/plain": [
              "<IPython.core.display.HTML object>"
            ]
          },
          "metadata": {
            "tags": []
          }
        }
      ]
    }
  ]
}