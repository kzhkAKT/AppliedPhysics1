{
  "nbformat": 4,
  "nbformat_minor": 0,
  "metadata": {
    "colab": {
      "name": "2420_音の速さ_応用物理1",
      "provenance": [],
      "authorship_tag": "ABX9TyNH7gynL0zaL0mGP98zQlN8",
      "include_colab_link": true
    },
    "kernelspec": {
      "name": "python3",
      "display_name": "Python 3"
    }
  },
  "cells": [
    {
      "cell_type": "markdown",
      "metadata": {
        "id": "view-in-github",
        "colab_type": "text"
      },
      "source": [
        "<a href=\"https://colab.research.google.com/github/kzhkAKT/AppliedPhysics1/blob/draft/2420_%E9%9F%B3%E3%81%AE%E9%80%9F%E3%81%95_%E5%BF%9C%E7%94%A8%E7%89%A9%E7%90%861.ipynb\" target=\"_parent\"><img src=\"https://colab.research.google.com/assets/colab-badge.svg\" alt=\"Open In Colab\"/></a>"
      ]
    },
    {
      "cell_type": "markdown",
      "metadata": {
        "id": "aV-Tvzck5Wwz",
        "colab_type": "text"
      },
      "source": [
        "# 音波\n"
      ]
    },
    {
      "cell_type": "markdown",
      "metadata": {
        "id": "DBUZOFdN3YTc",
        "colab_type": "text"
      },
      "source": [
        "## 音の速さ"
      ]
    },
    {
      "cell_type": "markdown",
      "metadata": {
        "id": "_n4Q5WrM3a6E",
        "colab_type": "text"
      },
      "source": [
        "### 空気を伝わる音の速さ $V$\n",
        "\n",
        "- $\\qquad V_0 = 331.5 {\\rm\\  m/s}$ at 気温(セ氏温度) $\\quad t_0=\\ 0 {\\rm \\ C^\\circ }$\n",
        "- $\\qquad \\dfrac{\\Delta V}{\\Delta t} = 0.6(1) {\\rm\\ \\frac{m/s}{C^\\circ}}$\n",
        "\n",
        "生活環境における気温(セ氏温度) $t\\ [{\\rm \\ C^\\circ }]$ では\n",
        "$ \\quad V = V_0 + \\dfrac{\\Delta V}{\\Delta t} t$\n",
        "\n",
        ">>\\begin{align*}\n",
        "V = 331.5  + 0.6\\  t\n",
        "\\end{align*}\n",
        "\n",
        "音速 $V$ の単位は $[{\\rm  m/s}]\n"
      ]
    },
    {
      "cell_type": "markdown",
      "metadata": {
        "id": "xQ7vsZW5y6pq",
        "colab_type": "text"
      },
      "source": [
        "#### 媒質中の音速\n",
        "\n",
        "媒質によって音波の\b疎密波が伝わるので, 一般に音速 $V$ は\n",
        "\n",
        "> $\\qquad V_{固体} > V_{液体} > V_{気体} $\n",
        "\n",
        "となります.\n",
        "\n",
        "\n"
      ]
    },
    {
      "cell_type": "code",
      "metadata": {
        "id": "b6iYFsuY9omL",
        "colab_type": "code",
        "cellView": "form",
        "colab": {
          "base_uri": "https://localhost:8080/",
          "height": 336
        },
        "outputId": "c839ea9d-3ba7-455f-941a-c7a6a4443916"
      },
      "source": [
        "#@title 大気と水の中の音速\n",
        "%%html\n",
        "<iframe width=\"560\" height=\"315\" src=\"https://www.youtube-nocookie.com/embed/JUJtMygi-fo?start=116\" frameborder=\"0\" allow=\"accelerometer; autoplay; encrypted-media; gyroscope; picture-in-picture\" allowfullscreen></iframe>"
      ],
      "execution_count": null,
      "outputs": [
        {
          "output_type": "display_data",
          "data": {
            "text/html": [
              "<iframe width=\"560\" height=\"315\" src=\"https://www.youtube-nocookie.com/embed/JUJtMygi-fo?start=116\" frameborder=\"0\" allow=\"accelerometer; autoplay; encrypted-media; gyroscope; picture-in-picture\" allowfullscreen></iframe>"
            ],
            "text/plain": [
              "<IPython.core.display.HTML object>"
            ]
          },
          "metadata": {
            "tags": []
          }
        }
      ]
    },
    {
      "cell_type": "code",
      "metadata": {
        "id": "-qyEIFtK2eT2",
        "colab_type": "code",
        "cellView": "form",
        "colab": {
          "base_uri": "https://localhost:8080/",
          "height": 336
        },
        "outputId": "78d77abc-8c2e-4590-a62d-2457c53d8cf9"
      },
      "source": [
        "#@title 金属中の音速の速さ in \"Stand by me (1986yr)\"\n",
        "%%html\n",
        "<iframe width=\"560\" height=\"315\" src=\"https://www.youtube-nocookie.com/embed/gozRrRCtj6E?start=12\" frameborder=\"0\" allow=\"accelerometer; autoplay; encrypted-media; gyroscope; picture-in-picture\" allowfullscreen></iframe>"
      ],
      "execution_count": null,
      "outputs": [
        {
          "output_type": "display_data",
          "data": {
            "text/html": [
              "<iframe width=\"560\" height=\"315\" src=\"https://www.youtube-nocookie.com/embed/gozRrRCtj6E?start=12\" frameborder=\"0\" allow=\"accelerometer; autoplay; encrypted-media; gyroscope; picture-in-picture\" allowfullscreen></iframe>"
            ],
            "text/plain": [
              "<IPython.core.display.HTML object>"
            ]
          },
          "metadata": {
            "tags": []
          }
        }
      ]
    },
    {
      "cell_type": "markdown",
      "metadata": {
        "id": "RQLGGXT35Up3",
        "colab_type": "text"
      },
      "source": [
        "> Q\b. 教科書 p122 表2.2 で異なる媒質での音速を確認してください."
      ]
    }
  ]
}