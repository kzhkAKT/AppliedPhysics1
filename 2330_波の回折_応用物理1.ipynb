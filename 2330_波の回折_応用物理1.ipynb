{
  "nbformat": 4,
  "nbformat_minor": 0,
  "metadata": {
    "colab": {
      "name": "2330_波の回折_応用物理1",
      "provenance": [],
      "include_colab_link": true
    },
    "kernelspec": {
      "name": "python3",
      "display_name": "Python 3"
    }
  },
  "cells": [
    {
      "cell_type": "markdown",
      "metadata": {
        "id": "view-in-github",
        "colab_type": "text"
      },
      "source": [
        "<a href=\"https://colab.research.google.com/github/kzhkAKT/AppliedPhysics1/blob/draft/2330_%E6%B3%A2%E3%81%AE%E5%9B%9E%E6%8A%98_%E5%BF%9C%E7%94%A8%E7%89%A9%E7%90%861.ipynb\" target=\"_parent\"><img src=\"https://colab.research.google.com/assets/colab-badge.svg\" alt=\"Open In Colab\"/></a>"
      ]
    },
    {
      "cell_type": "markdown",
      "metadata": {
        "id": "S__Udhh7T_8_"
      },
      "source": [
        "# 平面, 空間を伝わる波"
      ]
    },
    {
      "cell_type": "markdown",
      "metadata": {
        "id": "QWDSfKj5UB9b"
      },
      "source": [
        "## 波の回折"
      ]
    },
    {
      "cell_type": "code",
      "metadata": {
        "id": "X22jougcUs2a",
        "cellView": "form",
        "colab": {
          "base_uri": "https://localhost:8080/",
          "height": 336
        },
        "outputId": "ff03c74a-2544-45db-f384-2e4f480d144a"
      },
      "source": [
        "#@title 反射と回折: Reflection and Diffraction of Water Waves\n",
        "%%html\n",
        "<iframe width=\"560\" height=\"315\" src=\"https://www.youtube-nocookie.com/embed/7UhpWR0_rrE\" frameborder=\"0\" allow=\"accelerometer; autoplay; encrypted-media; gyroscope; picture-in-picture\" allowfullscreen></iframe>"
      ],
      "execution_count": null,
      "outputs": [
        {
          "output_type": "display_data",
          "data": {
            "text/html": [
              "<iframe width=\"560\" height=\"315\" src=\"https://www.youtube-nocookie.com/embed/7UhpWR0_rrE\" frameborder=\"0\" allow=\"accelerometer; autoplay; encrypted-media; gyroscope; picture-in-picture\" allowfullscreen></iframe>"
            ],
            "text/plain": [
              "<IPython.core.display.HTML object>"
            ]
          },
          "metadata": {
            "tags": []
          }
        }
      ]
    },
    {
      "cell_type": "code",
      "metadata": {
        "id": "dUrOaXGqUtwA",
        "cellView": "form",
        "colab": {
          "base_uri": "https://localhost:8080/",
          "height": 336
        },
        "outputId": "51177542-0d1c-453e-e9ef-2bd9a2e03d6c"
      },
      "source": [
        "#@title 回折(初めの方だけ)\n",
        "%%html\n",
        "<iframe width=\"560\" height=\"315\" src=\"https://www.youtube-nocookie.com/embed/kHu-zg18TRY\" frameborder=\"0\" allow=\"accelerometer; autoplay; encrypted-media; gyroscope; picture-in-picture\" allowfullscreen></iframe>"
      ],
      "execution_count": null,
      "outputs": [
        {
          "output_type": "display_data",
          "data": {
            "text/html": [
              "<iframe width=\"560\" height=\"315\" src=\"https://www.youtube-nocookie.com/embed/kHu-zg18TRY\" frameborder=\"0\" allow=\"accelerometer; autoplay; encrypted-media; gyroscope; picture-in-picture\" allowfullscreen></iframe>"
            ],
            "text/plain": [
              "<IPython.core.display.HTML object>"
            ]
          },
          "metadata": {
            "tags": []
          }
        }
      ]
    },
    {
      "cell_type": "code",
      "metadata": {
        "id": "pBdE67U8U8Kc",
        "cellView": "form",
        "colab": {
          "base_uri": "https://localhost:8080/",
          "height": 336
        },
        "outputId": "44bcd199-23eb-45e3-b6a3-09ba3d75a494"
      },
      "source": [
        "#@title 回折(横から)\n",
        "%%html\n",
        "<iframe width=\"560\" height=\"315\" src=\"https://www.youtube-nocookie.com/embed/2TMR-EyF_ds\" frameborder=\"0\" allow=\"accelerometer; autoplay; encrypted-media; gyroscope; picture-in-picture\" allowfullscreen></iframe>"
      ],
      "execution_count": null,
      "outputs": [
        {
          "output_type": "display_data",
          "data": {
            "text/html": [
              "<iframe width=\"560\" height=\"315\" src=\"https://www.youtube-nocookie.com/embed/2TMR-EyF_ds\" frameborder=\"0\" allow=\"accelerometer; autoplay; encrypted-media; gyroscope; picture-in-picture\" allowfullscreen></iframe>"
            ],
            "text/plain": [
              "<IPython.core.display.HTML object>"
            ]
          },
          "metadata": {
            "tags": []
          }
        }
      ]
    },
    {
      "cell_type": "code",
      "metadata": {
        "id": "O_xNv_UdBgwt",
        "cellView": "form",
        "colab": {
          "base_uri": "https://localhost:8080/",
          "height": 341
        },
        "outputId": "b1cd3455-8799-4bce-afcd-bf468b06eb05"
      },
      "source": [
        "#@title Diffraction by Huygens–Fresnel principle\n",
        "%%svg\n",
        "https://upload.wikimedia.org/wikipedia/commons/6/60/Refraction_on_an_aperture_-_Huygens-Fresnel_principle.svg"
      ],
      "execution_count": null,
      "outputs": [
        {
          "output_type": "display_data",
          "data": {
            "text/plain": [
              "<IPython.core.display.SVG object>"
            ],
            "image/svg+xml": "<svg height=\"320\" id=\"svg45763\" version=\"1.0\" width=\"500\" xmlns=\"http://www.w3.org/2000/svg\" xmlns:xlink=\"http://www.w3.org/1999/xlink\">\n  <defs id=\"defs45765\"/>\n  <g id=\"layer1\">\n    <g id=\"g45622\" transform=\"matrix(1.1071035,0,0,1.1071035,-4.2837428,-418.671)\">\n      <g id=\"g44559\">\n        <path d=\"M 132.1875,495.6875 C 132.61944,505.8429 140.98893,513.93751 151.25,513.9375 C 161.51108,513.9375 169.88056,505.84288 170.3125,495.6875\" id=\"path30917\" style=\"opacity:1;fill:none;fill-opacity:1;fill-rule:evenodd;stroke:#babdb6;stroke-width:3;stroke-linecap:butt;stroke-linejoin:miter;stroke-miterlimit:4;stroke-dasharray:none;stroke-dashoffset:0;stroke-opacity:0.53333285\"/>\n        <path d=\"M 115.25,495.6875 C 115.68576,515.18702 131.64647,530.87499 151.25,530.875 C 170.85353,530.875 186.81424,515.18702 187.25,495.6875\" id=\"path33871\" style=\"opacity:1;fill:none;fill-opacity:1;fill-rule:evenodd;stroke:#babdb6;stroke-width:2.99999976;stroke-linecap:butt;stroke-linejoin:miter;stroke-miterlimit:4;stroke-dasharray:none;stroke-dashoffset:0;stroke-opacity:0.53333285\"/>\n        <path d=\"M 98,495.6875 C 98.440323,524.72436 122.10898,548.15623 151.25,548.15625 C 180.39103,548.15625 204.05968,524.72435 204.5,495.6875\" id=\"path34843\" style=\"opacity:1;fill:none;fill-opacity:1;fill-rule:evenodd;stroke:#babdb6;stroke-width:3;stroke-linecap:butt;stroke-linejoin:miter;stroke-miterlimit:4;stroke-dasharray:none;stroke-dashoffset:0;stroke-opacity:0.53333285\"/>\n        <path d=\"M 80.46875,495.6875 C 80.908633,534.3901 112.44383,565.65626 151.25,565.65625 C 190.05617,565.65625 221.59137,534.39008 222.03125,495.6875\" id=\"path35814\" style=\"opacity:1;fill:none;fill-opacity:1;fill-rule:evenodd;stroke:#babdb6;stroke-width:3;stroke-linecap:butt;stroke-linejoin:miter;stroke-miterlimit:4;stroke-dasharray:none;stroke-dashoffset:0;stroke-opacity:0.53333285\"/>\n        <path d=\"M 62.59375,495.6875 C 63.032395,544.25699 102.57753,583.53123 151.25,583.53125 C 199.92248,583.53125 239.46761,544.25699 239.90625,495.6875\" id=\"path36785\" style=\"opacity:1;fill:none;fill-opacity:1;fill-rule:evenodd;stroke:#babdb6;stroke-width:3;stroke-linecap:butt;stroke-linejoin:miter;stroke-miterlimit:4;stroke-dasharray:none;stroke-dashoffset:0;stroke-opacity:0.53333285\"/>\n        <path d=\"M 45.875,495.6875 C 46.313019,553.48594 93.348914,600.25 151.25,600.25 C 209.15109,600.25 256.18699,553.48594 256.625,495.6875\" id=\"path37756\" style=\"opacity:1;fill:none;fill-opacity:1;fill-rule:evenodd;stroke:#888a85;stroke-width:3;stroke-linecap:butt;stroke-linejoin:miter;stroke-miterlimit:4;stroke-dasharray:none;stroke-dashoffset:0;stroke-opacity:0.53333285\"/>\n      </g>\n      <g id=\"g44567\" transform=\"translate(31.125,0.125)\">\n        <path d=\"M 132.1875,495.6875 C 132.61944,505.8429 140.98893,513.93751 151.25,513.9375 C 161.51108,513.9375 169.88056,505.84288 170.3125,495.6875\" id=\"path44569\" style=\"opacity:1;fill:none;fill-opacity:1;fill-rule:evenodd;stroke:#babdb6;stroke-width:3;stroke-linecap:butt;stroke-linejoin:miter;stroke-miterlimit:4;stroke-dasharray:none;stroke-dashoffset:0;stroke-opacity:0.53333285\"/>\n        <path d=\"M 115.25,495.6875 C 115.68576,515.18702 131.64647,530.87499 151.25,530.875 C 170.85353,530.875 186.81424,515.18702 187.25,495.6875\" id=\"path44571\" style=\"opacity:1;fill:none;fill-opacity:1;fill-rule:evenodd;stroke:#babdb6;stroke-width:2.99999976;stroke-linecap:butt;stroke-linejoin:miter;stroke-miterlimit:4;stroke-dasharray:none;stroke-dashoffset:0;stroke-opacity:0.53333285\"/>\n        <path d=\"M 98,495.6875 C 98.440323,524.72436 122.10898,548.15623 151.25,548.15625 C 180.39103,548.15625 204.05968,524.72435 204.5,495.6875\" id=\"path44573\" style=\"opacity:1;fill:none;fill-opacity:1;fill-rule:evenodd;stroke:#babdb6;stroke-width:3;stroke-linecap:butt;stroke-linejoin:miter;stroke-miterlimit:4;stroke-dasharray:none;stroke-dashoffset:0;stroke-opacity:0.53333285\"/>\n        <path d=\"M 80.46875,495.6875 C 80.908633,534.3901 112.44383,565.65626 151.25,565.65625 C 190.05617,565.65625 221.59137,534.39008 222.03125,495.6875\" id=\"path44575\" style=\"opacity:1;fill:none;fill-opacity:1;fill-rule:evenodd;stroke:#babdb6;stroke-width:3;stroke-linecap:butt;stroke-linejoin:miter;stroke-miterlimit:4;stroke-dasharray:none;stroke-dashoffset:0;stroke-opacity:0.53333285\"/>\n        <path d=\"M 62.59375,495.6875 C 63.032395,544.25699 102.57753,583.53123 151.25,583.53125 C 199.92248,583.53125 239.46761,544.25699 239.90625,495.6875\" id=\"path44577\" style=\"opacity:1;fill:none;fill-opacity:1;fill-rule:evenodd;stroke:#babdb6;stroke-width:3;stroke-linecap:butt;stroke-linejoin:miter;stroke-miterlimit:4;stroke-dasharray:none;stroke-dashoffset:0;stroke-opacity:0.53333285\"/>\n        <path d=\"M 45.875,495.6875 C 46.313019,553.48594 93.348914,600.25 151.25,600.25 C 209.15109,600.25 256.18699,553.48594 256.625,495.6875\" id=\"path44579\" style=\"opacity:1;fill:none;fill-opacity:1;fill-rule:evenodd;stroke:#888a85;stroke-width:3;stroke-linecap:butt;stroke-linejoin:miter;stroke-miterlimit:4;stroke-dasharray:none;stroke-dashoffset:0;stroke-opacity:0.53333285\"/>\n      </g>\n      <g id=\"g44581\" transform=\"translate(62.75,0.125)\">\n        <path d=\"M 132.1875,495.6875 C 132.61944,505.8429 140.98893,513.93751 151.25,513.9375 C 161.51108,513.9375 169.88056,505.84288 170.3125,495.6875\" id=\"path44583\" style=\"opacity:1;fill:none;fill-opacity:1;fill-rule:evenodd;stroke:#babdb6;stroke-width:3;stroke-linecap:butt;stroke-linejoin:miter;stroke-miterlimit:4;stroke-dasharray:none;stroke-dashoffset:0;stroke-opacity:0.53333285\"/>\n        <path d=\"M 115.25,495.6875 C 115.68576,515.18702 131.64647,530.87499 151.25,530.875 C 170.85353,530.875 186.81424,515.18702 187.25,495.6875\" id=\"path44585\" style=\"opacity:1;fill:none;fill-opacity:1;fill-rule:evenodd;stroke:#babdb6;stroke-width:2.99999976;stroke-linecap:butt;stroke-linejoin:miter;stroke-miterlimit:4;stroke-dasharray:none;stroke-dashoffset:0;stroke-opacity:0.53333285\"/>\n        <path d=\"M 98,495.6875 C 98.440323,524.72436 122.10898,548.15623 151.25,548.15625 C 180.39103,548.15625 204.05968,524.72435 204.5,495.6875\" id=\"path44587\" style=\"opacity:1;fill:none;fill-opacity:1;fill-rule:evenodd;stroke:#babdb6;stroke-width:3;stroke-linecap:butt;stroke-linejoin:miter;stroke-miterlimit:4;stroke-dasharray:none;stroke-dashoffset:0;stroke-opacity:0.53333285\"/>\n        <path d=\"M 80.46875,495.6875 C 80.908633,534.3901 112.44383,565.65626 151.25,565.65625 C 190.05617,565.65625 221.59137,534.39008 222.03125,495.6875\" id=\"path44589\" style=\"opacity:1;fill:none;fill-opacity:1;fill-rule:evenodd;stroke:#babdb6;stroke-width:3;stroke-linecap:butt;stroke-linejoin:miter;stroke-miterlimit:4;stroke-dasharray:none;stroke-dashoffset:0;stroke-opacity:0.53333285\"/>\n        <path d=\"M 62.59375,495.6875 C 63.032395,544.25699 102.57753,583.53123 151.25,583.53125 C 199.92248,583.53125 239.46761,544.25699 239.90625,495.6875\" id=\"path44591\" style=\"opacity:1;fill:none;fill-opacity:1;fill-rule:evenodd;stroke:#babdb6;stroke-width:3;stroke-linecap:butt;stroke-linejoin:miter;stroke-miterlimit:4;stroke-dasharray:none;stroke-dashoffset:0;stroke-opacity:0.53333285\"/>\n        <path d=\"M 45.875,495.6875 C 46.313019,553.48594 93.348914,600.25 151.25,600.25 C 209.15109,600.25 256.18699,553.48594 256.625,495.6875\" id=\"path44593\" style=\"opacity:1;fill:none;fill-opacity:1;fill-rule:evenodd;stroke:#888a85;stroke-width:3;stroke-linecap:butt;stroke-linejoin:miter;stroke-miterlimit:4;stroke-dasharray:none;stroke-dashoffset:0;stroke-opacity:0.53333285\"/>\n      </g>\n      <g id=\"g44595\" transform=\"translate(92.75,0.125)\">\n        <path d=\"M 132.1875,495.6875 C 132.61944,505.8429 140.98893,513.93751 151.25,513.9375 C 161.51108,513.9375 169.88056,505.84288 170.3125,495.6875\" id=\"path44597\" style=\"opacity:1;fill:none;fill-opacity:1;fill-rule:evenodd;stroke:#babdb6;stroke-width:3;stroke-linecap:butt;stroke-linejoin:miter;stroke-miterlimit:4;stroke-dasharray:none;stroke-dashoffset:0;stroke-opacity:0.53333285\"/>\n        <path d=\"M 115.25,495.6875 C 115.68576,515.18702 131.64647,530.87499 151.25,530.875 C 170.85353,530.875 186.81424,515.18702 187.25,495.6875\" id=\"path44599\" style=\"opacity:1;fill:none;fill-opacity:1;fill-rule:evenodd;stroke:#babdb6;stroke-width:2.99999976;stroke-linecap:butt;stroke-linejoin:miter;stroke-miterlimit:4;stroke-dasharray:none;stroke-dashoffset:0;stroke-opacity:0.53333285\"/>\n        <path d=\"M 98,495.6875 C 98.440323,524.72436 122.10898,548.15623 151.25,548.15625 C 180.39103,548.15625 204.05968,524.72435 204.5,495.6875\" id=\"path44601\" style=\"opacity:1;fill:none;fill-opacity:1;fill-rule:evenodd;stroke:#babdb6;stroke-width:3;stroke-linecap:butt;stroke-linejoin:miter;stroke-miterlimit:4;stroke-dasharray:none;stroke-dashoffset:0;stroke-opacity:0.53333285\"/>\n        <path d=\"M 80.46875,495.6875 C 80.908633,534.3901 112.44383,565.65626 151.25,565.65625 C 190.05617,565.65625 221.59137,534.39008 222.03125,495.6875\" id=\"path44603\" style=\"opacity:1;fill:none;fill-opacity:1;fill-rule:evenodd;stroke:#babdb6;stroke-width:3;stroke-linecap:butt;stroke-linejoin:miter;stroke-miterlimit:4;stroke-dasharray:none;stroke-dashoffset:0;stroke-opacity:0.53333285\"/>\n        <path d=\"M 62.59375,495.6875 C 63.032395,544.25699 102.57753,583.53123 151.25,583.53125 C 199.92248,583.53125 239.46761,544.25699 239.90625,495.6875\" id=\"path44605\" style=\"opacity:1;fill:none;fill-opacity:1;fill-rule:evenodd;stroke:#babdb6;stroke-width:3;stroke-linecap:butt;stroke-linejoin:miter;stroke-miterlimit:4;stroke-dasharray:none;stroke-dashoffset:0;stroke-opacity:0.53333285\"/>\n        <path d=\"M 45.875,495.6875 C 46.313019,553.48594 93.348914,600.25 151.25,600.25 C 209.15109,600.25 256.18699,553.48594 256.625,495.6875\" id=\"path44607\" style=\"opacity:1;fill:none;fill-opacity:1;fill-rule:evenodd;stroke:#888a85;stroke-width:3;stroke-linecap:butt;stroke-linejoin:miter;stroke-miterlimit:4;stroke-dasharray:none;stroke-dashoffset:0;stroke-opacity:0.53333285\"/>\n      </g>\n      <g id=\"g44623\" transform=\"translate(124.75,0.125)\">\n        <path d=\"M 132.1875,495.6875 C 132.61944,505.8429 140.98893,513.93751 151.25,513.9375 C 161.51108,513.9375 169.88056,505.84288 170.3125,495.6875\" id=\"path44625\" style=\"opacity:1;fill:none;fill-opacity:1;fill-rule:evenodd;stroke:#babdb6;stroke-width:3;stroke-linecap:butt;stroke-linejoin:miter;stroke-miterlimit:4;stroke-dasharray:none;stroke-dashoffset:0;stroke-opacity:0.53333285\"/>\n        <path d=\"M 115.25,495.6875 C 115.68576,515.18702 131.64647,530.87499 151.25,530.875 C 170.85353,530.875 186.81424,515.18702 187.25,495.6875\" id=\"path44627\" style=\"opacity:1;fill:none;fill-opacity:1;fill-rule:evenodd;stroke:#babdb6;stroke-width:2.99999976;stroke-linecap:butt;stroke-linejoin:miter;stroke-miterlimit:4;stroke-dasharray:none;stroke-dashoffset:0;stroke-opacity:0.53333285\"/>\n        <path d=\"M 98,495.6875 C 98.440323,524.72436 122.10898,548.15623 151.25,548.15625 C 180.39103,548.15625 204.05968,524.72435 204.5,495.6875\" id=\"path44629\" style=\"opacity:1;fill:none;fill-opacity:1;fill-rule:evenodd;stroke:#babdb6;stroke-width:3;stroke-linecap:butt;stroke-linejoin:miter;stroke-miterlimit:4;stroke-dasharray:none;stroke-dashoffset:0;stroke-opacity:0.53333285\"/>\n        <path d=\"M 80.46875,495.6875 C 80.908633,534.3901 112.44383,565.65626 151.25,565.65625 C 190.05617,565.65625 221.59137,534.39008 222.03125,495.6875\" id=\"path44631\" style=\"opacity:1;fill:none;fill-opacity:1;fill-rule:evenodd;stroke:#babdb6;stroke-width:3;stroke-linecap:butt;stroke-linejoin:miter;stroke-miterlimit:4;stroke-dasharray:none;stroke-dashoffset:0;stroke-opacity:0.53333285\"/>\n        <path d=\"M 62.59375,495.6875 C 63.032395,544.25699 102.57753,583.53123 151.25,583.53125 C 199.92248,583.53125 239.46761,544.25699 239.90625,495.6875\" id=\"path44633\" style=\"opacity:1;fill:none;fill-opacity:1;fill-rule:evenodd;stroke:#babdb6;stroke-width:3;stroke-linecap:butt;stroke-linejoin:miter;stroke-miterlimit:4;stroke-dasharray:none;stroke-dashoffset:0;stroke-opacity:0.53333285\"/>\n        <path d=\"M 45.875,495.6875 C 46.313019,553.48594 93.348914,600.25 151.25,600.25 C 209.15109,600.25 256.18699,553.48594 256.625,495.6875\" id=\"path44635\" style=\"opacity:1;fill:none;fill-opacity:1;fill-rule:evenodd;stroke:#888a85;stroke-width:3;stroke-linecap:butt;stroke-linejoin:miter;stroke-miterlimit:4;stroke-dasharray:none;stroke-dashoffset:0;stroke-opacity:0.53333285\"/>\n      </g>\n      <g id=\"g44637\" transform=\"translate(154.75,0.125)\">\n        <path d=\"M 132.1875,495.6875 C 132.61944,505.8429 140.98893,513.93751 151.25,513.9375 C 161.51108,513.9375 169.88056,505.84288 170.3125,495.6875\" id=\"path44639\" style=\"opacity:1;fill:none;fill-opacity:1;fill-rule:evenodd;stroke:#babdb6;stroke-width:3;stroke-linecap:butt;stroke-linejoin:miter;stroke-miterlimit:4;stroke-dasharray:none;stroke-dashoffset:0;stroke-opacity:0.53333285\"/>\n        <path d=\"M 115.25,495.6875 C 115.68576,515.18702 131.64647,530.87499 151.25,530.875 C 170.85353,530.875 186.81424,515.18702 187.25,495.6875\" id=\"path44641\" style=\"opacity:1;fill:none;fill-opacity:1;fill-rule:evenodd;stroke:#babdb6;stroke-width:2.99999976;stroke-linecap:butt;stroke-linejoin:miter;stroke-miterlimit:4;stroke-dasharray:none;stroke-dashoffset:0;stroke-opacity:0.53333285\"/>\n        <path d=\"M 98,495.6875 C 98.440323,524.72436 122.10898,548.15623 151.25,548.15625 C 180.39103,548.15625 204.05968,524.72435 204.5,495.6875\" id=\"path44643\" style=\"opacity:1;fill:none;fill-opacity:1;fill-rule:evenodd;stroke:#babdb6;stroke-width:3;stroke-linecap:butt;stroke-linejoin:miter;stroke-miterlimit:4;stroke-dasharray:none;stroke-dashoffset:0;stroke-opacity:0.53333285\"/>\n        <path d=\"M 80.46875,495.6875 C 80.908633,534.3901 112.44383,565.65626 151.25,565.65625 C 190.05617,565.65625 221.59137,534.39008 222.03125,495.6875\" id=\"path44645\" style=\"opacity:1;fill:none;fill-opacity:1;fill-rule:evenodd;stroke:#babdb6;stroke-width:3;stroke-linecap:butt;stroke-linejoin:miter;stroke-miterlimit:4;stroke-dasharray:none;stroke-dashoffset:0;stroke-opacity:0.53333285\"/>\n        <path d=\"M 62.59375,495.6875 C 63.032395,544.25699 102.57753,583.53123 151.25,583.53125 C 199.92248,583.53125 239.46761,544.25699 239.90625,495.6875\" id=\"path44647\" style=\"opacity:1;fill:none;fill-opacity:1;fill-rule:evenodd;stroke:#babdb6;stroke-width:3;stroke-linecap:butt;stroke-linejoin:miter;stroke-miterlimit:4;stroke-dasharray:none;stroke-dashoffset:0;stroke-opacity:0.53333285\"/>\n        <path d=\"M 45.875,495.6875 C 46.313019,553.48594 93.348914,600.25 151.25,600.25 C 209.15109,600.25 256.18699,553.48594 256.625,495.6875\" id=\"path44649\" style=\"opacity:1;fill:none;fill-opacity:1;fill-rule:evenodd;stroke:#888a85;stroke-width:3;stroke-linecap:butt;stroke-linejoin:miter;stroke-miterlimit:4;stroke-dasharray:none;stroke-dashoffset:0;stroke-opacity:0.53333285\"/>\n      </g>\n    </g>\n    <g id=\"g45695\" transform=\"matrix(1.1071035,0,0,1.1071035,-4.2837428,-418.671)\">\n      <path d=\"M 14.5,494.86218 L 444,494.86218\" id=\"path25998\" style=\"fill:none;fill-opacity:0.75;fill-rule:evenodd;stroke:#000000;stroke-width:2;stroke-linecap:butt;stroke-linejoin:miter;stroke-miterlimit:4;stroke-dasharray:none;stroke-opacity:1\"/>\n      <rect height=\"12.5\" id=\"rect26000\" style=\"opacity:1;fill:#2e3436;fill-opacity:0.77777782;fill-rule:evenodd;stroke:#2e3436;stroke-width:2;stroke-linecap:butt;stroke-linejoin:miter;stroke-miterlimit:4;stroke-dasharray:none;stroke-dashoffset:0;stroke-opacity:1\" width=\"136.5\" x=\"15\" y=\"482.36218\"/>\n      <rect height=\"12.5\" id=\"rect26002\" style=\"opacity:1;fill:#2e3436;fill-opacity:0.77777782;fill-rule:evenodd;stroke:#2e3436;stroke-width:2;stroke-linecap:butt;stroke-linejoin:miter;stroke-miterlimit:4;stroke-dasharray:none;stroke-dashoffset:0;stroke-opacity:1\" width=\"136.5\" x=\"307\" y=\"482.36218\"/>\n    </g>\n    <g id=\"g45687\" transform=\"matrix(1.1071035,0,0,1.1071035,-4.2837428,-418.671)\">\n      <path d=\"M 148.84598 195.34877 A 3.1819806 3.1819806 0 1 1  142.48202,195.34877 A 3.1819806 3.1819806 0 1 1  148.84598 195.34877 z\" id=\"path30871\" style=\"opacity:1;fill:#edd400;fill-opacity:1;fill-rule:evenodd;stroke:none;stroke-width:3;stroke-linecap:butt;stroke-linejoin:miter;stroke-miterlimit:4;stroke-dasharray:none;stroke-dashoffset:0;stroke-opacity:1\" transform=\"matrix(1.5555555,0,0,1.5555555,-75.267587,191.28618)\"/>\n      <path d=\"M 148.84598 195.34877 A 3.1819806 3.1819806 0 1 1  142.48202,195.34877 A 3.1819806 3.1819806 0 1 1  148.84598 195.34877 z\" id=\"path30873\" style=\"opacity:1;fill:#edd400;fill-opacity:1;fill-rule:evenodd;stroke:none;stroke-width:3;stroke-linecap:butt;stroke-linejoin:miter;stroke-miterlimit:4;stroke-dasharray:none;stroke-dashoffset:0;stroke-opacity:1\" transform=\"matrix(1.5555555,0,0,1.5555555,-43.797917,191.28618)\"/>\n      <path d=\"M 148.84598 195.34877 A 3.1819806 3.1819806 0 1 1  142.48202,195.34877 A 3.1819806 3.1819806 0 1 1  148.84598 195.34877 z\" id=\"path30875\" style=\"opacity:1;fill:#edd400;fill-opacity:1;fill-rule:evenodd;stroke:none;stroke-width:3;stroke-linecap:butt;stroke-linejoin:miter;stroke-miterlimit:4;stroke-dasharray:none;stroke-dashoffset:0;stroke-opacity:1\" transform=\"matrix(1.5555555,0,0,1.5555555,-12.914034,191.28618)\"/>\n      <path d=\"M 148.84598 195.34877 A 3.1819806 3.1819806 0 1 1  142.48202,195.34877 A 3.1819806 3.1819806 0 1 1  148.84598 195.34877 z\" id=\"path30877\" style=\"opacity:1;fill:#edd400;fill-opacity:1;fill-rule:evenodd;stroke:none;stroke-width:3;stroke-linecap:butt;stroke-linejoin:miter;stroke-miterlimit:4;stroke-dasharray:none;stroke-dashoffset:0;stroke-opacity:1\" transform=\"matrix(1.5555555,0,0,1.5555555,18.202083,191.28618)\"/>\n      <path d=\"M 148.84598 195.34877 A 3.1819806 3.1819806 0 1 1  142.48202,195.34877 A 3.1819806 3.1819806 0 1 1  148.84598 195.34877 z\" id=\"path30879\" style=\"opacity:1;fill:#edd400;fill-opacity:1;fill-rule:evenodd;stroke:none;stroke-width:3;stroke-linecap:butt;stroke-linejoin:miter;stroke-miterlimit:4;stroke-dasharray:none;stroke-dashoffset:0;stroke-opacity:1\" transform=\"matrix(1.5555555,0,0,1.5555555,49.3182,191.28618)\"/>\n      <path d=\"M 148.84598 195.34877 A 3.1819806 3.1819806 0 1 1  142.48202,195.34877 A 3.1819806 3.1819806 0 1 1  148.84598 195.34877 z\" id=\"path30881\" style=\"opacity:1;fill:#edd400;fill-opacity:1;fill-rule:evenodd;stroke:none;stroke-width:3;stroke-linecap:butt;stroke-linejoin:miter;stroke-miterlimit:4;stroke-dasharray:none;stroke-dashoffset:0;stroke-opacity:1\" transform=\"matrix(1.5555555,0,0,1.5555555,80.202083,191.28618)\"/>\n    </g>\n    <g id=\"g45666\" transform=\"matrix(1.1071035,0,0,1.1071035,-5.8494196,-418.671)\">\n      <path d=\"M 62.5,472.36218 L 400,472.36218\" id=\"path28917\" style=\"fill:none;fill-opacity:0.75;fill-rule:evenodd;stroke:#204a87;stroke-width:3;stroke-linecap:butt;stroke-linejoin:miter;stroke-miterlimit:4;stroke-dasharray:none;stroke-opacity:1\"/>\n      <path d=\"M 62.5,450.36218 L 400,450.36218\" id=\"path29888\" style=\"fill:none;fill-opacity:0.75;fill-rule:evenodd;stroke:#204a87;stroke-width:3;stroke-linecap:butt;stroke-linejoin:miter;stroke-miterlimit:4;stroke-dasharray:none;stroke-opacity:1\"/>\n      <path d=\"M 62.5,428.36218 L 400,428.36218\" id=\"path29890\" style=\"fill:none;fill-opacity:0.75;fill-rule:evenodd;stroke:#204a87;stroke-width:3;stroke-linecap:butt;stroke-linejoin:miter;stroke-miterlimit:4;stroke-dasharray:none;stroke-opacity:1\"/>\n      <g id=\"g30909\" transform=\"matrix(0.9321865,0.3619783,-0.3619783,0.9321865,88.949539,-4.3115986)\">\n        <path d=\"M 275.45426,316.49844 L 301.13855,383.36758\" id=\"path30911\" style=\"fill:none;fill-opacity:0.75;fill-rule:evenodd;stroke:#204a87;stroke-width:3;stroke-linecap:butt;stroke-linejoin:miter;stroke-miterlimit:4;stroke-dasharray:6, 3;stroke-dashoffset:0;stroke-opacity:1\"/>\n        <path d=\"M 295.08587,379.91343 L 303.70623,376.68023 L 303.02501,388.09451 L 295.08587,379.91343 z \" id=\"path30913\" style=\"fill:#204a87;fill-opacity:1;fill-rule:evenodd;stroke:none;stroke-width:1px;stroke-linecap:butt;stroke-linejoin:miter;stroke-opacity:1\"/>\n      </g>\n    </g>\n    <g id=\"g45674\" transform=\"matrix(1.1071035,0,0,1.1071035,-4.2837428,-418.671)\">\n      <path d=\"M 39.59375,494.8125 C 39.59375,556.48352 89.641476,606.53125 151.3125,606.53125 C 189.01047,606.53125 306.875,606.1875 306.875,606.1875 C 368.35087,606.1875 418.25,556.28837 418.25,494.8125\" id=\"path27942\" style=\"opacity:1;fill:none;fill-opacity:0.77777782;fill-rule:evenodd;stroke:#4e9a06;stroke-width:3;stroke-linecap:butt;stroke-linejoin:miter;stroke-miterlimit:4;stroke-dasharray:none;stroke-dashoffset:0;stroke-opacity:1\"/>\n      <g id=\"g30884\" transform=\"matrix(0.9334115,0.3588077,-0.3588077,0.9334115,86.062871,186.01799)\">\n        <path d=\"M 258.59789,272.60062 L 301.13855,383.36758\" id=\"path30886\" style=\"fill:none;fill-opacity:0.75;fill-rule:evenodd;stroke:#4e9a06;stroke-width:3;stroke-linecap:butt;stroke-linejoin:miter;stroke-miterlimit:4;stroke-dasharray:6, 3;stroke-dashoffset:0;stroke-opacity:1\"/>\n        <path d=\"M 295.08587,379.91343 L 303.70623,376.68023 L 303.02501,388.09451 L 295.08587,379.91343 z \" id=\"path30888\" style=\"fill:#4e9a06;fill-opacity:1;fill-rule:evenodd;stroke:none;stroke-width:1px;stroke-linecap:butt;stroke-linejoin:miter;stroke-opacity:1\"/>\n      </g>\n      <g id=\"g30890\" transform=\"matrix(0.4031981,0.9151127,-0.9151127,0.4031981,257.2703,180.75916)\">\n        <path d=\"M 258.59789,272.60062 L 301.13855,383.36758\" id=\"path30892\" style=\"fill:none;fill-opacity:0.75;fill-rule:evenodd;stroke:#4e9a06;stroke-width:3;stroke-linecap:butt;stroke-linejoin:miter;stroke-miterlimit:4;stroke-dasharray:6, 3;stroke-dashoffset:0;stroke-opacity:1\"/>\n        <path d=\"M 295.08587,379.91343 L 303.70623,376.68023 L 303.02501,388.09451 L 295.08587,379.91343 z \" id=\"path30894\" style=\"fill:#4e9a06;fill-opacity:1;fill-rule:evenodd;stroke:none;stroke-width:1px;stroke-linecap:butt;stroke-linejoin:miter;stroke-opacity:1\"/>\n      </g>\n      <g id=\"g30896\" transform=\"matrix(-0.4031981,0.9151127,0.9151127,0.4031981,200.60508,180.75916)\">\n        <path d=\"M 258.59789,272.60062 L 301.13855,383.36758\" id=\"path30898\" style=\"fill:none;fill-opacity:0.75;fill-rule:evenodd;stroke:#4e9a06;stroke-width:3;stroke-linecap:butt;stroke-linejoin:miter;stroke-miterlimit:4;stroke-dasharray:6, 3;stroke-dashoffset:0;stroke-opacity:1\"/>\n        <path d=\"M 295.08587,379.91343 L 303.70623,376.68023 L 303.02501,388.09451 L 295.08587,379.91343 z \" id=\"path30900\" style=\"fill:#4e9a06;fill-opacity:1;fill-rule:evenodd;stroke:none;stroke-width:1px;stroke-linecap:butt;stroke-linejoin:miter;stroke-opacity:1\"/>\n      </g>\n      <path d=\"M 18.721316,496.70414 C 18.721316,567.32712 74.286541,624.63961 142.75647,624.63961 C 187.1243,624.63961 278.67479,624.24597 315.46893,624.24597 C 383.72219,624.24597 439.12242,567.10365 439.12242,496.70414\" id=\"path44651\" style=\"opacity:1;fill:none;fill-opacity:0.77777782;fill-rule:evenodd;stroke:#4e9a06;stroke-width:3;stroke-linecap:butt;stroke-linejoin:miter;stroke-miterlimit:4;stroke-dasharray:none;stroke-dashoffset:0;stroke-opacity:1\"/>\n    </g>\n  </g>\n</svg>"
          },
          "metadata": {
            "tags": []
          }
        }
      ]
    },
    {
      "cell_type": "code",
      "metadata": {
        "id": "Xkooy8KLgBkC",
        "cellView": "form",
        "colab": {
          "base_uri": "https://localhost:8080/",
          "height": 336
        },
        "outputId": "1aae882b-0edf-49a9-ae21-4266aec23eec"
      },
      "source": [
        "#@title\n",
        "%%html\n",
        "<iframe width=\"560\" height=\"315\" src=\"https://www.youtube.com/embed/1BK-fe8NBh0\" frameborder=\"0\" allow=\"accelerometer; autoplay; encrypted-media; gyroscope; picture-in-picture\" allowfullscreen></iframe>"
      ],
      "execution_count": null,
      "outputs": [
        {
          "output_type": "display_data",
          "data": {
            "text/html": [
              "<iframe width=\"560\" height=\"315\" src=\"https://www.youtube.com/embed/1BK-fe8NBh0\" frameborder=\"0\" allow=\"accelerometer; autoplay; encrypted-media; gyroscope; picture-in-picture\" allowfullscreen></iframe>"
            ],
            "text/plain": [
              "<IPython.core.display.HTML object>"
            ]
          },
          "metadata": {
            "tags": []
          }
        }
      ]
    },
    {
      "cell_type": "code",
      "metadata": {
        "id": "Mb0RZ72egNc_",
        "cellView": "form",
        "colab": {
          "base_uri": "https://localhost:8080/",
          "height": 336
        },
        "outputId": "c7d62e20-63da-4968-b04a-af044f864536"
      },
      "source": [
        "#@title\n",
        "%%html\n",
        "<iframe width=\"560\" height=\"315\" src=\"https://www.youtube-nocookie.com/embed/bHaiDJjlfTo\" frameborder=\"0\" allow=\"accelerometer; autoplay; encrypted-media; gyroscope; picture-in-picture\" allowfullscreen></iframe>"
      ],
      "execution_count": null,
      "outputs": [
        {
          "output_type": "display_data",
          "data": {
            "text/html": [
              "<iframe width=\"560\" height=\"315\" src=\"https://www.youtube-nocookie.com/embed/bHaiDJjlfTo\" frameborder=\"0\" allow=\"accelerometer; autoplay; encrypted-media; gyroscope; picture-in-picture\" allowfullscreen></iframe>"
            ],
            "text/plain": [
              "<IPython.core.display.HTML object>"
            ]
          },
          "metadata": {
            "tags": []
          }
        }
      ]
    },
    {
      "cell_type": "code",
      "metadata": {
        "id": "vDQYfgOhglLd",
        "cellView": "form",
        "colab": {
          "base_uri": "https://localhost:8080/",
          "height": 336
        },
        "outputId": "31029ad0-225d-4753-aa0e-8960e0a403fe"
      },
      "source": [
        "#@title\n",
        "%%html\n",
        "<iframe width=\"560\" height=\"315\" src=\"https://www.youtube-nocookie.com/embed/FdbUrv2qicc\" frameborder=\"0\" allow=\"accelerometer; autoplay; encrypted-media; gyroscope; picture-in-picture\" allowfullscreen></iframe>"
      ],
      "execution_count": null,
      "outputs": [
        {
          "output_type": "display_data",
          "data": {
            "text/html": [
              "<iframe width=\"560\" height=\"315\" src=\"https://www.youtube-nocookie.com/embed/FdbUrv2qicc\" frameborder=\"0\" allow=\"accelerometer; autoplay; encrypted-media; gyroscope; picture-in-picture\" allowfullscreen></iframe>"
            ],
            "text/plain": [
              "<IPython.core.display.HTML object>"
            ]
          },
          "metadata": {
            "tags": []
          }
        }
      ]
    },
    {
      "cell_type": "code",
      "metadata": {
        "id": "uiDVhwDT3KIg",
        "cellView": "form",
        "colab": {
          "base_uri": "https://localhost:8080/",
          "height": 475
        },
        "outputId": "d67c4d0e-8996-4f6c-b3d3-48146ef8d624"
      },
      "source": [
        "#@title 回折: diffraction with Slis\n",
        "%%html\n",
        "<iframe src=\"https://phet.colorado.edu/sims/html/wave-interference/latest/wave-interference_en.html\" width=\"600\" height=\"450\" scrolling=\"no\" allowfullscreen></iframe>"
      ],
      "execution_count": null,
      "outputs": [
        {
          "output_type": "display_data",
          "data": {
            "text/html": [
              "<iframe src=\"https://phet.colorado.edu/sims/html/wave-interference/latest/wave-interference_en.html\" width=\"600\" height=\"450\" scrolling=\"no\" allowfullscreen></iframe>"
            ],
            "text/plain": [
              "<IPython.core.display.HTML object>"
            ]
          },
          "metadata": {
            "tags": []
          }
        }
      ]
    },
    {
      "cell_type": "code",
      "metadata": {
        "cellView": "form",
        "id": "BQ3XedGrtyyr",
        "colab": {
          "base_uri": "https://localhost:8080/",
          "height": 341
        },
        "outputId": "b1cd3455-8799-4bce-afcd-bf468b06eb05"
      },
      "source": [
        "#@title Diffraction by Huygens–Fresnel principle\n",
        "%%svg\n",
        "https://upload.wikimedia.org/wikipedia/commons/6/60/Refraction_on_an_aperture_-_Huygens-Fresnel_principle.svg"
      ],
      "execution_count": null,
      "outputs": [
        {
          "output_type": "display_data",
          "data": {
            "text/plain": [
              "<IPython.core.display.SVG object>"
            ],
            "image/svg+xml": "<svg height=\"320\" id=\"svg45763\" version=\"1.0\" width=\"500\" xmlns=\"http://www.w3.org/2000/svg\" xmlns:xlink=\"http://www.w3.org/1999/xlink\">\n  <defs id=\"defs45765\"/>\n  <g id=\"layer1\">\n    <g id=\"g45622\" transform=\"matrix(1.1071035,0,0,1.1071035,-4.2837428,-418.671)\">\n      <g id=\"g44559\">\n        <path d=\"M 132.1875,495.6875 C 132.61944,505.8429 140.98893,513.93751 151.25,513.9375 C 161.51108,513.9375 169.88056,505.84288 170.3125,495.6875\" id=\"path30917\" style=\"opacity:1;fill:none;fill-opacity:1;fill-rule:evenodd;stroke:#babdb6;stroke-width:3;stroke-linecap:butt;stroke-linejoin:miter;stroke-miterlimit:4;stroke-dasharray:none;stroke-dashoffset:0;stroke-opacity:0.53333285\"/>\n        <path d=\"M 115.25,495.6875 C 115.68576,515.18702 131.64647,530.87499 151.25,530.875 C 170.85353,530.875 186.81424,515.18702 187.25,495.6875\" id=\"path33871\" style=\"opacity:1;fill:none;fill-opacity:1;fill-rule:evenodd;stroke:#babdb6;stroke-width:2.99999976;stroke-linecap:butt;stroke-linejoin:miter;stroke-miterlimit:4;stroke-dasharray:none;stroke-dashoffset:0;stroke-opacity:0.53333285\"/>\n        <path d=\"M 98,495.6875 C 98.440323,524.72436 122.10898,548.15623 151.25,548.15625 C 180.39103,548.15625 204.05968,524.72435 204.5,495.6875\" id=\"path34843\" style=\"opacity:1;fill:none;fill-opacity:1;fill-rule:evenodd;stroke:#babdb6;stroke-width:3;stroke-linecap:butt;stroke-linejoin:miter;stroke-miterlimit:4;stroke-dasharray:none;stroke-dashoffset:0;stroke-opacity:0.53333285\"/>\n        <path d=\"M 80.46875,495.6875 C 80.908633,534.3901 112.44383,565.65626 151.25,565.65625 C 190.05617,565.65625 221.59137,534.39008 222.03125,495.6875\" id=\"path35814\" style=\"opacity:1;fill:none;fill-opacity:1;fill-rule:evenodd;stroke:#babdb6;stroke-width:3;stroke-linecap:butt;stroke-linejoin:miter;stroke-miterlimit:4;stroke-dasharray:none;stroke-dashoffset:0;stroke-opacity:0.53333285\"/>\n        <path d=\"M 62.59375,495.6875 C 63.032395,544.25699 102.57753,583.53123 151.25,583.53125 C 199.92248,583.53125 239.46761,544.25699 239.90625,495.6875\" id=\"path36785\" style=\"opacity:1;fill:none;fill-opacity:1;fill-rule:evenodd;stroke:#babdb6;stroke-width:3;stroke-linecap:butt;stroke-linejoin:miter;stroke-miterlimit:4;stroke-dasharray:none;stroke-dashoffset:0;stroke-opacity:0.53333285\"/>\n        <path d=\"M 45.875,495.6875 C 46.313019,553.48594 93.348914,600.25 151.25,600.25 C 209.15109,600.25 256.18699,553.48594 256.625,495.6875\" id=\"path37756\" style=\"opacity:1;fill:none;fill-opacity:1;fill-rule:evenodd;stroke:#888a85;stroke-width:3;stroke-linecap:butt;stroke-linejoin:miter;stroke-miterlimit:4;stroke-dasharray:none;stroke-dashoffset:0;stroke-opacity:0.53333285\"/>\n      </g>\n      <g id=\"g44567\" transform=\"translate(31.125,0.125)\">\n        <path d=\"M 132.1875,495.6875 C 132.61944,505.8429 140.98893,513.93751 151.25,513.9375 C 161.51108,513.9375 169.88056,505.84288 170.3125,495.6875\" id=\"path44569\" style=\"opacity:1;fill:none;fill-opacity:1;fill-rule:evenodd;stroke:#babdb6;stroke-width:3;stroke-linecap:butt;stroke-linejoin:miter;stroke-miterlimit:4;stroke-dasharray:none;stroke-dashoffset:0;stroke-opacity:0.53333285\"/>\n        <path d=\"M 115.25,495.6875 C 115.68576,515.18702 131.64647,530.87499 151.25,530.875 C 170.85353,530.875 186.81424,515.18702 187.25,495.6875\" id=\"path44571\" style=\"opacity:1;fill:none;fill-opacity:1;fill-rule:evenodd;stroke:#babdb6;stroke-width:2.99999976;stroke-linecap:butt;stroke-linejoin:miter;stroke-miterlimit:4;stroke-dasharray:none;stroke-dashoffset:0;stroke-opacity:0.53333285\"/>\n        <path d=\"M 98,495.6875 C 98.440323,524.72436 122.10898,548.15623 151.25,548.15625 C 180.39103,548.15625 204.05968,524.72435 204.5,495.6875\" id=\"path44573\" style=\"opacity:1;fill:none;fill-opacity:1;fill-rule:evenodd;stroke:#babdb6;stroke-width:3;stroke-linecap:butt;stroke-linejoin:miter;stroke-miterlimit:4;stroke-dasharray:none;stroke-dashoffset:0;stroke-opacity:0.53333285\"/>\n        <path d=\"M 80.46875,495.6875 C 80.908633,534.3901 112.44383,565.65626 151.25,565.65625 C 190.05617,565.65625 221.59137,534.39008 222.03125,495.6875\" id=\"path44575\" style=\"opacity:1;fill:none;fill-opacity:1;fill-rule:evenodd;stroke:#babdb6;stroke-width:3;stroke-linecap:butt;stroke-linejoin:miter;stroke-miterlimit:4;stroke-dasharray:none;stroke-dashoffset:0;stroke-opacity:0.53333285\"/>\n        <path d=\"M 62.59375,495.6875 C 63.032395,544.25699 102.57753,583.53123 151.25,583.53125 C 199.92248,583.53125 239.46761,544.25699 239.90625,495.6875\" id=\"path44577\" style=\"opacity:1;fill:none;fill-opacity:1;fill-rule:evenodd;stroke:#babdb6;stroke-width:3;stroke-linecap:butt;stroke-linejoin:miter;stroke-miterlimit:4;stroke-dasharray:none;stroke-dashoffset:0;stroke-opacity:0.53333285\"/>\n        <path d=\"M 45.875,495.6875 C 46.313019,553.48594 93.348914,600.25 151.25,600.25 C 209.15109,600.25 256.18699,553.48594 256.625,495.6875\" id=\"path44579\" style=\"opacity:1;fill:none;fill-opacity:1;fill-rule:evenodd;stroke:#888a85;stroke-width:3;stroke-linecap:butt;stroke-linejoin:miter;stroke-miterlimit:4;stroke-dasharray:none;stroke-dashoffset:0;stroke-opacity:0.53333285\"/>\n      </g>\n      <g id=\"g44581\" transform=\"translate(62.75,0.125)\">\n        <path d=\"M 132.1875,495.6875 C 132.61944,505.8429 140.98893,513.93751 151.25,513.9375 C 161.51108,513.9375 169.88056,505.84288 170.3125,495.6875\" id=\"path44583\" style=\"opacity:1;fill:none;fill-opacity:1;fill-rule:evenodd;stroke:#babdb6;stroke-width:3;stroke-linecap:butt;stroke-linejoin:miter;stroke-miterlimit:4;stroke-dasharray:none;stroke-dashoffset:0;stroke-opacity:0.53333285\"/>\n        <path d=\"M 115.25,495.6875 C 115.68576,515.18702 131.64647,530.87499 151.25,530.875 C 170.85353,530.875 186.81424,515.18702 187.25,495.6875\" id=\"path44585\" style=\"opacity:1;fill:none;fill-opacity:1;fill-rule:evenodd;stroke:#babdb6;stroke-width:2.99999976;stroke-linecap:butt;stroke-linejoin:miter;stroke-miterlimit:4;stroke-dasharray:none;stroke-dashoffset:0;stroke-opacity:0.53333285\"/>\n        <path d=\"M 98,495.6875 C 98.440323,524.72436 122.10898,548.15623 151.25,548.15625 C 180.39103,548.15625 204.05968,524.72435 204.5,495.6875\" id=\"path44587\" style=\"opacity:1;fill:none;fill-opacity:1;fill-rule:evenodd;stroke:#babdb6;stroke-width:3;stroke-linecap:butt;stroke-linejoin:miter;stroke-miterlimit:4;stroke-dasharray:none;stroke-dashoffset:0;stroke-opacity:0.53333285\"/>\n        <path d=\"M 80.46875,495.6875 C 80.908633,534.3901 112.44383,565.65626 151.25,565.65625 C 190.05617,565.65625 221.59137,534.39008 222.03125,495.6875\" id=\"path44589\" style=\"opacity:1;fill:none;fill-opacity:1;fill-rule:evenodd;stroke:#babdb6;stroke-width:3;stroke-linecap:butt;stroke-linejoin:miter;stroke-miterlimit:4;stroke-dasharray:none;stroke-dashoffset:0;stroke-opacity:0.53333285\"/>\n        <path d=\"M 62.59375,495.6875 C 63.032395,544.25699 102.57753,583.53123 151.25,583.53125 C 199.92248,583.53125 239.46761,544.25699 239.90625,495.6875\" id=\"path44591\" style=\"opacity:1;fill:none;fill-opacity:1;fill-rule:evenodd;stroke:#babdb6;stroke-width:3;stroke-linecap:butt;stroke-linejoin:miter;stroke-miterlimit:4;stroke-dasharray:none;stroke-dashoffset:0;stroke-opacity:0.53333285\"/>\n        <path d=\"M 45.875,495.6875 C 46.313019,553.48594 93.348914,600.25 151.25,600.25 C 209.15109,600.25 256.18699,553.48594 256.625,495.6875\" id=\"path44593\" style=\"opacity:1;fill:none;fill-opacity:1;fill-rule:evenodd;stroke:#888a85;stroke-width:3;stroke-linecap:butt;stroke-linejoin:miter;stroke-miterlimit:4;stroke-dasharray:none;stroke-dashoffset:0;stroke-opacity:0.53333285\"/>\n      </g>\n      <g id=\"g44595\" transform=\"translate(92.75,0.125)\">\n        <path d=\"M 132.1875,495.6875 C 132.61944,505.8429 140.98893,513.93751 151.25,513.9375 C 161.51108,513.9375 169.88056,505.84288 170.3125,495.6875\" id=\"path44597\" style=\"opacity:1;fill:none;fill-opacity:1;fill-rule:evenodd;stroke:#babdb6;stroke-width:3;stroke-linecap:butt;stroke-linejoin:miter;stroke-miterlimit:4;stroke-dasharray:none;stroke-dashoffset:0;stroke-opacity:0.53333285\"/>\n        <path d=\"M 115.25,495.6875 C 115.68576,515.18702 131.64647,530.87499 151.25,530.875 C 170.85353,530.875 186.81424,515.18702 187.25,495.6875\" id=\"path44599\" style=\"opacity:1;fill:none;fill-opacity:1;fill-rule:evenodd;stroke:#babdb6;stroke-width:2.99999976;stroke-linecap:butt;stroke-linejoin:miter;stroke-miterlimit:4;stroke-dasharray:none;stroke-dashoffset:0;stroke-opacity:0.53333285\"/>\n        <path d=\"M 98,495.6875 C 98.440323,524.72436 122.10898,548.15623 151.25,548.15625 C 180.39103,548.15625 204.05968,524.72435 204.5,495.6875\" id=\"path44601\" style=\"opacity:1;fill:none;fill-opacity:1;fill-rule:evenodd;stroke:#babdb6;stroke-width:3;stroke-linecap:butt;stroke-linejoin:miter;stroke-miterlimit:4;stroke-dasharray:none;stroke-dashoffset:0;stroke-opacity:0.53333285\"/>\n        <path d=\"M 80.46875,495.6875 C 80.908633,534.3901 112.44383,565.65626 151.25,565.65625 C 190.05617,565.65625 221.59137,534.39008 222.03125,495.6875\" id=\"path44603\" style=\"opacity:1;fill:none;fill-opacity:1;fill-rule:evenodd;stroke:#babdb6;stroke-width:3;stroke-linecap:butt;stroke-linejoin:miter;stroke-miterlimit:4;stroke-dasharray:none;stroke-dashoffset:0;stroke-opacity:0.53333285\"/>\n        <path d=\"M 62.59375,495.6875 C 63.032395,544.25699 102.57753,583.53123 151.25,583.53125 C 199.92248,583.53125 239.46761,544.25699 239.90625,495.6875\" id=\"path44605\" style=\"opacity:1;fill:none;fill-opacity:1;fill-rule:evenodd;stroke:#babdb6;stroke-width:3;stroke-linecap:butt;stroke-linejoin:miter;stroke-miterlimit:4;stroke-dasharray:none;stroke-dashoffset:0;stroke-opacity:0.53333285\"/>\n        <path d=\"M 45.875,495.6875 C 46.313019,553.48594 93.348914,600.25 151.25,600.25 C 209.15109,600.25 256.18699,553.48594 256.625,495.6875\" id=\"path44607\" style=\"opacity:1;fill:none;fill-opacity:1;fill-rule:evenodd;stroke:#888a85;stroke-width:3;stroke-linecap:butt;stroke-linejoin:miter;stroke-miterlimit:4;stroke-dasharray:none;stroke-dashoffset:0;stroke-opacity:0.53333285\"/>\n      </g>\n      <g id=\"g44623\" transform=\"translate(124.75,0.125)\">\n        <path d=\"M 132.1875,495.6875 C 132.61944,505.8429 140.98893,513.93751 151.25,513.9375 C 161.51108,513.9375 169.88056,505.84288 170.3125,495.6875\" id=\"path44625\" style=\"opacity:1;fill:none;fill-opacity:1;fill-rule:evenodd;stroke:#babdb6;stroke-width:3;stroke-linecap:butt;stroke-linejoin:miter;stroke-miterlimit:4;stroke-dasharray:none;stroke-dashoffset:0;stroke-opacity:0.53333285\"/>\n        <path d=\"M 115.25,495.6875 C 115.68576,515.18702 131.64647,530.87499 151.25,530.875 C 170.85353,530.875 186.81424,515.18702 187.25,495.6875\" id=\"path44627\" style=\"opacity:1;fill:none;fill-opacity:1;fill-rule:evenodd;stroke:#babdb6;stroke-width:2.99999976;stroke-linecap:butt;stroke-linejoin:miter;stroke-miterlimit:4;stroke-dasharray:none;stroke-dashoffset:0;stroke-opacity:0.53333285\"/>\n        <path d=\"M 98,495.6875 C 98.440323,524.72436 122.10898,548.15623 151.25,548.15625 C 180.39103,548.15625 204.05968,524.72435 204.5,495.6875\" id=\"path44629\" style=\"opacity:1;fill:none;fill-opacity:1;fill-rule:evenodd;stroke:#babdb6;stroke-width:3;stroke-linecap:butt;stroke-linejoin:miter;stroke-miterlimit:4;stroke-dasharray:none;stroke-dashoffset:0;stroke-opacity:0.53333285\"/>\n        <path d=\"M 80.46875,495.6875 C 80.908633,534.3901 112.44383,565.65626 151.25,565.65625 C 190.05617,565.65625 221.59137,534.39008 222.03125,495.6875\" id=\"path44631\" style=\"opacity:1;fill:none;fill-opacity:1;fill-rule:evenodd;stroke:#babdb6;stroke-width:3;stroke-linecap:butt;stroke-linejoin:miter;stroke-miterlimit:4;stroke-dasharray:none;stroke-dashoffset:0;stroke-opacity:0.53333285\"/>\n        <path d=\"M 62.59375,495.6875 C 63.032395,544.25699 102.57753,583.53123 151.25,583.53125 C 199.92248,583.53125 239.46761,544.25699 239.90625,495.6875\" id=\"path44633\" style=\"opacity:1;fill:none;fill-opacity:1;fill-rule:evenodd;stroke:#babdb6;stroke-width:3;stroke-linecap:butt;stroke-linejoin:miter;stroke-miterlimit:4;stroke-dasharray:none;stroke-dashoffset:0;stroke-opacity:0.53333285\"/>\n        <path d=\"M 45.875,495.6875 C 46.313019,553.48594 93.348914,600.25 151.25,600.25 C 209.15109,600.25 256.18699,553.48594 256.625,495.6875\" id=\"path44635\" style=\"opacity:1;fill:none;fill-opacity:1;fill-rule:evenodd;stroke:#888a85;stroke-width:3;stroke-linecap:butt;stroke-linejoin:miter;stroke-miterlimit:4;stroke-dasharray:none;stroke-dashoffset:0;stroke-opacity:0.53333285\"/>\n      </g>\n      <g id=\"g44637\" transform=\"translate(154.75,0.125)\">\n        <path d=\"M 132.1875,495.6875 C 132.61944,505.8429 140.98893,513.93751 151.25,513.9375 C 161.51108,513.9375 169.88056,505.84288 170.3125,495.6875\" id=\"path44639\" style=\"opacity:1;fill:none;fill-opacity:1;fill-rule:evenodd;stroke:#babdb6;stroke-width:3;stroke-linecap:butt;stroke-linejoin:miter;stroke-miterlimit:4;stroke-dasharray:none;stroke-dashoffset:0;stroke-opacity:0.53333285\"/>\n        <path d=\"M 115.25,495.6875 C 115.68576,515.18702 131.64647,530.87499 151.25,530.875 C 170.85353,530.875 186.81424,515.18702 187.25,495.6875\" id=\"path44641\" style=\"opacity:1;fill:none;fill-opacity:1;fill-rule:evenodd;stroke:#babdb6;stroke-width:2.99999976;stroke-linecap:butt;stroke-linejoin:miter;stroke-miterlimit:4;stroke-dasharray:none;stroke-dashoffset:0;stroke-opacity:0.53333285\"/>\n        <path d=\"M 98,495.6875 C 98.440323,524.72436 122.10898,548.15623 151.25,548.15625 C 180.39103,548.15625 204.05968,524.72435 204.5,495.6875\" id=\"path44643\" style=\"opacity:1;fill:none;fill-opacity:1;fill-rule:evenodd;stroke:#babdb6;stroke-width:3;stroke-linecap:butt;stroke-linejoin:miter;stroke-miterlimit:4;stroke-dasharray:none;stroke-dashoffset:0;stroke-opacity:0.53333285\"/>\n        <path d=\"M 80.46875,495.6875 C 80.908633,534.3901 112.44383,565.65626 151.25,565.65625 C 190.05617,565.65625 221.59137,534.39008 222.03125,495.6875\" id=\"path44645\" style=\"opacity:1;fill:none;fill-opacity:1;fill-rule:evenodd;stroke:#babdb6;stroke-width:3;stroke-linecap:butt;stroke-linejoin:miter;stroke-miterlimit:4;stroke-dasharray:none;stroke-dashoffset:0;stroke-opacity:0.53333285\"/>\n        <path d=\"M 62.59375,495.6875 C 63.032395,544.25699 102.57753,583.53123 151.25,583.53125 C 199.92248,583.53125 239.46761,544.25699 239.90625,495.6875\" id=\"path44647\" style=\"opacity:1;fill:none;fill-opacity:1;fill-rule:evenodd;stroke:#babdb6;stroke-width:3;stroke-linecap:butt;stroke-linejoin:miter;stroke-miterlimit:4;stroke-dasharray:none;stroke-dashoffset:0;stroke-opacity:0.53333285\"/>\n        <path d=\"M 45.875,495.6875 C 46.313019,553.48594 93.348914,600.25 151.25,600.25 C 209.15109,600.25 256.18699,553.48594 256.625,495.6875\" id=\"path44649\" style=\"opacity:1;fill:none;fill-opacity:1;fill-rule:evenodd;stroke:#888a85;stroke-width:3;stroke-linecap:butt;stroke-linejoin:miter;stroke-miterlimit:4;stroke-dasharray:none;stroke-dashoffset:0;stroke-opacity:0.53333285\"/>\n      </g>\n    </g>\n    <g id=\"g45695\" transform=\"matrix(1.1071035,0,0,1.1071035,-4.2837428,-418.671)\">\n      <path d=\"M 14.5,494.86218 L 444,494.86218\" id=\"path25998\" style=\"fill:none;fill-opacity:0.75;fill-rule:evenodd;stroke:#000000;stroke-width:2;stroke-linecap:butt;stroke-linejoin:miter;stroke-miterlimit:4;stroke-dasharray:none;stroke-opacity:1\"/>\n      <rect height=\"12.5\" id=\"rect26000\" style=\"opacity:1;fill:#2e3436;fill-opacity:0.77777782;fill-rule:evenodd;stroke:#2e3436;stroke-width:2;stroke-linecap:butt;stroke-linejoin:miter;stroke-miterlimit:4;stroke-dasharray:none;stroke-dashoffset:0;stroke-opacity:1\" width=\"136.5\" x=\"15\" y=\"482.36218\"/>\n      <rect height=\"12.5\" id=\"rect26002\" style=\"opacity:1;fill:#2e3436;fill-opacity:0.77777782;fill-rule:evenodd;stroke:#2e3436;stroke-width:2;stroke-linecap:butt;stroke-linejoin:miter;stroke-miterlimit:4;stroke-dasharray:none;stroke-dashoffset:0;stroke-opacity:1\" width=\"136.5\" x=\"307\" y=\"482.36218\"/>\n    </g>\n    <g id=\"g45687\" transform=\"matrix(1.1071035,0,0,1.1071035,-4.2837428,-418.671)\">\n      <path d=\"M 148.84598 195.34877 A 3.1819806 3.1819806 0 1 1  142.48202,195.34877 A 3.1819806 3.1819806 0 1 1  148.84598 195.34877 z\" id=\"path30871\" style=\"opacity:1;fill:#edd400;fill-opacity:1;fill-rule:evenodd;stroke:none;stroke-width:3;stroke-linecap:butt;stroke-linejoin:miter;stroke-miterlimit:4;stroke-dasharray:none;stroke-dashoffset:0;stroke-opacity:1\" transform=\"matrix(1.5555555,0,0,1.5555555,-75.267587,191.28618)\"/>\n      <path d=\"M 148.84598 195.34877 A 3.1819806 3.1819806 0 1 1  142.48202,195.34877 A 3.1819806 3.1819806 0 1 1  148.84598 195.34877 z\" id=\"path30873\" style=\"opacity:1;fill:#edd400;fill-opacity:1;fill-rule:evenodd;stroke:none;stroke-width:3;stroke-linecap:butt;stroke-linejoin:miter;stroke-miterlimit:4;stroke-dasharray:none;stroke-dashoffset:0;stroke-opacity:1\" transform=\"matrix(1.5555555,0,0,1.5555555,-43.797917,191.28618)\"/>\n      <path d=\"M 148.84598 195.34877 A 3.1819806 3.1819806 0 1 1  142.48202,195.34877 A 3.1819806 3.1819806 0 1 1  148.84598 195.34877 z\" id=\"path30875\" style=\"opacity:1;fill:#edd400;fill-opacity:1;fill-rule:evenodd;stroke:none;stroke-width:3;stroke-linecap:butt;stroke-linejoin:miter;stroke-miterlimit:4;stroke-dasharray:none;stroke-dashoffset:0;stroke-opacity:1\" transform=\"matrix(1.5555555,0,0,1.5555555,-12.914034,191.28618)\"/>\n      <path d=\"M 148.84598 195.34877 A 3.1819806 3.1819806 0 1 1  142.48202,195.34877 A 3.1819806 3.1819806 0 1 1  148.84598 195.34877 z\" id=\"path30877\" style=\"opacity:1;fill:#edd400;fill-opacity:1;fill-rule:evenodd;stroke:none;stroke-width:3;stroke-linecap:butt;stroke-linejoin:miter;stroke-miterlimit:4;stroke-dasharray:none;stroke-dashoffset:0;stroke-opacity:1\" transform=\"matrix(1.5555555,0,0,1.5555555,18.202083,191.28618)\"/>\n      <path d=\"M 148.84598 195.34877 A 3.1819806 3.1819806 0 1 1  142.48202,195.34877 A 3.1819806 3.1819806 0 1 1  148.84598 195.34877 z\" id=\"path30879\" style=\"opacity:1;fill:#edd400;fill-opacity:1;fill-rule:evenodd;stroke:none;stroke-width:3;stroke-linecap:butt;stroke-linejoin:miter;stroke-miterlimit:4;stroke-dasharray:none;stroke-dashoffset:0;stroke-opacity:1\" transform=\"matrix(1.5555555,0,0,1.5555555,49.3182,191.28618)\"/>\n      <path d=\"M 148.84598 195.34877 A 3.1819806 3.1819806 0 1 1  142.48202,195.34877 A 3.1819806 3.1819806 0 1 1  148.84598 195.34877 z\" id=\"path30881\" style=\"opacity:1;fill:#edd400;fill-opacity:1;fill-rule:evenodd;stroke:none;stroke-width:3;stroke-linecap:butt;stroke-linejoin:miter;stroke-miterlimit:4;stroke-dasharray:none;stroke-dashoffset:0;stroke-opacity:1\" transform=\"matrix(1.5555555,0,0,1.5555555,80.202083,191.28618)\"/>\n    </g>\n    <g id=\"g45666\" transform=\"matrix(1.1071035,0,0,1.1071035,-5.8494196,-418.671)\">\n      <path d=\"M 62.5,472.36218 L 400,472.36218\" id=\"path28917\" style=\"fill:none;fill-opacity:0.75;fill-rule:evenodd;stroke:#204a87;stroke-width:3;stroke-linecap:butt;stroke-linejoin:miter;stroke-miterlimit:4;stroke-dasharray:none;stroke-opacity:1\"/>\n      <path d=\"M 62.5,450.36218 L 400,450.36218\" id=\"path29888\" style=\"fill:none;fill-opacity:0.75;fill-rule:evenodd;stroke:#204a87;stroke-width:3;stroke-linecap:butt;stroke-linejoin:miter;stroke-miterlimit:4;stroke-dasharray:none;stroke-opacity:1\"/>\n      <path d=\"M 62.5,428.36218 L 400,428.36218\" id=\"path29890\" style=\"fill:none;fill-opacity:0.75;fill-rule:evenodd;stroke:#204a87;stroke-width:3;stroke-linecap:butt;stroke-linejoin:miter;stroke-miterlimit:4;stroke-dasharray:none;stroke-opacity:1\"/>\n      <g id=\"g30909\" transform=\"matrix(0.9321865,0.3619783,-0.3619783,0.9321865,88.949539,-4.3115986)\">\n        <path d=\"M 275.45426,316.49844 L 301.13855,383.36758\" id=\"path30911\" style=\"fill:none;fill-opacity:0.75;fill-rule:evenodd;stroke:#204a87;stroke-width:3;stroke-linecap:butt;stroke-linejoin:miter;stroke-miterlimit:4;stroke-dasharray:6, 3;stroke-dashoffset:0;stroke-opacity:1\"/>\n        <path d=\"M 295.08587,379.91343 L 303.70623,376.68023 L 303.02501,388.09451 L 295.08587,379.91343 z \" id=\"path30913\" style=\"fill:#204a87;fill-opacity:1;fill-rule:evenodd;stroke:none;stroke-width:1px;stroke-linecap:butt;stroke-linejoin:miter;stroke-opacity:1\"/>\n      </g>\n    </g>\n    <g id=\"g45674\" transform=\"matrix(1.1071035,0,0,1.1071035,-4.2837428,-418.671)\">\n      <path d=\"M 39.59375,494.8125 C 39.59375,556.48352 89.641476,606.53125 151.3125,606.53125 C 189.01047,606.53125 306.875,606.1875 306.875,606.1875 C 368.35087,606.1875 418.25,556.28837 418.25,494.8125\" id=\"path27942\" style=\"opacity:1;fill:none;fill-opacity:0.77777782;fill-rule:evenodd;stroke:#4e9a06;stroke-width:3;stroke-linecap:butt;stroke-linejoin:miter;stroke-miterlimit:4;stroke-dasharray:none;stroke-dashoffset:0;stroke-opacity:1\"/>\n      <g id=\"g30884\" transform=\"matrix(0.9334115,0.3588077,-0.3588077,0.9334115,86.062871,186.01799)\">\n        <path d=\"M 258.59789,272.60062 L 301.13855,383.36758\" id=\"path30886\" style=\"fill:none;fill-opacity:0.75;fill-rule:evenodd;stroke:#4e9a06;stroke-width:3;stroke-linecap:butt;stroke-linejoin:miter;stroke-miterlimit:4;stroke-dasharray:6, 3;stroke-dashoffset:0;stroke-opacity:1\"/>\n        <path d=\"M 295.08587,379.91343 L 303.70623,376.68023 L 303.02501,388.09451 L 295.08587,379.91343 z \" id=\"path30888\" style=\"fill:#4e9a06;fill-opacity:1;fill-rule:evenodd;stroke:none;stroke-width:1px;stroke-linecap:butt;stroke-linejoin:miter;stroke-opacity:1\"/>\n      </g>\n      <g id=\"g30890\" transform=\"matrix(0.4031981,0.9151127,-0.9151127,0.4031981,257.2703,180.75916)\">\n        <path d=\"M 258.59789,272.60062 L 301.13855,383.36758\" id=\"path30892\" style=\"fill:none;fill-opacity:0.75;fill-rule:evenodd;stroke:#4e9a06;stroke-width:3;stroke-linecap:butt;stroke-linejoin:miter;stroke-miterlimit:4;stroke-dasharray:6, 3;stroke-dashoffset:0;stroke-opacity:1\"/>\n        <path d=\"M 295.08587,379.91343 L 303.70623,376.68023 L 303.02501,388.09451 L 295.08587,379.91343 z \" id=\"path30894\" style=\"fill:#4e9a06;fill-opacity:1;fill-rule:evenodd;stroke:none;stroke-width:1px;stroke-linecap:butt;stroke-linejoin:miter;stroke-opacity:1\"/>\n      </g>\n      <g id=\"g30896\" transform=\"matrix(-0.4031981,0.9151127,0.9151127,0.4031981,200.60508,180.75916)\">\n        <path d=\"M 258.59789,272.60062 L 301.13855,383.36758\" id=\"path30898\" style=\"fill:none;fill-opacity:0.75;fill-rule:evenodd;stroke:#4e9a06;stroke-width:3;stroke-linecap:butt;stroke-linejoin:miter;stroke-miterlimit:4;stroke-dasharray:6, 3;stroke-dashoffset:0;stroke-opacity:1\"/>\n        <path d=\"M 295.08587,379.91343 L 303.70623,376.68023 L 303.02501,388.09451 L 295.08587,379.91343 z \" id=\"path30900\" style=\"fill:#4e9a06;fill-opacity:1;fill-rule:evenodd;stroke:none;stroke-width:1px;stroke-linecap:butt;stroke-linejoin:miter;stroke-opacity:1\"/>\n      </g>\n      <path d=\"M 18.721316,496.70414 C 18.721316,567.32712 74.286541,624.63961 142.75647,624.63961 C 187.1243,624.63961 278.67479,624.24597 315.46893,624.24597 C 383.72219,624.24597 439.12242,567.10365 439.12242,496.70414\" id=\"path44651\" style=\"opacity:1;fill:none;fill-opacity:0.77777782;fill-rule:evenodd;stroke:#4e9a06;stroke-width:3;stroke-linecap:butt;stroke-linejoin:miter;stroke-miterlimit:4;stroke-dasharray:none;stroke-dashoffset:0;stroke-opacity:1\"/>\n    </g>\n  </g>\n</svg>"
          },
          "metadata": {
            "tags": []
          }
        }
      ]
    },
    {
      "cell_type": "markdown",
      "metadata": {
        "id": "YwqDMtUV4jbO"
      },
      "source": [
        "\n",
        "簡略化しすき間(スリット)の両端の二つの素元波に注目し,   \n",
        "この二つの素元波だけで干渉条件を考えます.\n",
        "\\begin{align*}\n",
        "\\Delta L &= d \\sin \\theta = m \\lambda& m=0,1,2, \\dots\n",
        "\\end{align*}\n",
        "のときに強め合う. この関係式を整理すると\n",
        "\\begin{align*}\n",
        "\\sin \\theta = \\dfrac{m\\lambda}{d}\n",
        "\\end{align*}\n",
        "正弦関数が満たす不等式を考慮すると\n",
        "\\begin{align*}\n",
        "\\left| \\sin \\theta \\right|= \\left| \\dfrac{m\\lambda}{d} \\right| \\leqq 1.\n",
        "\\end{align*}\n",
        "最も回り込み回折する場合には\n",
        "\\begin{align*}\n",
        "\\lim_{\\theta \\to \\frac{\\pi}{2}} \\left| \\sin \\theta \\right| &= 1, &\n",
        "\\end{align*}\n",
        "となり,\n",
        "\\begin{align*}\n",
        "\\left| \\dfrac{m\\lambda}{d} \\right| \\to 1\n",
        "\\end{align*}\n",
        "が得られます. これらを踏まえ最適な条件\bは\n",
        "\\begin{align*}\n",
        "m=1\n",
        "\\end{align*}\n",
        "になります. ($m=0$ では $\\left| \\frac{m\\lambda}{d} \\right| =0 \\neq 1$, $m>1$ では $\\left| \\frac{m\\lambda}{d} \\right| > 1$ となる可能性が生じます )  \n",
        "つまり\n",
        "\\begin{align*}\n",
        "\\left| \\dfrac{1\\lambda}{d} \\right| &= 1&\\\\\n",
        "d &\\approx \\lambda&\n",
        "\\end{align*}\n",
        "のときに最も回折することがわかりました."
      ]
    },
    {
      "cell_type": "markdown",
      "source": [
        "![](https://phys.libretexts.org/@api/deki/files/43139/8.6-diffraction.png?revision=2&size=bestfit&width=1037&height=492)\n",
        "\n",
        "---\n",
        "\n",
        "figure reference: https://phys.libretexts.org/Courses/University_of_California_Davis/UCD%3A_Physics_7C_-_General_Physics/8%3A_Waves/8.7%3A_Double-Slit_Interference"
      ],
      "metadata": {
        "id": "QacZvhUYrNIR"
      }
    }
  ]
}