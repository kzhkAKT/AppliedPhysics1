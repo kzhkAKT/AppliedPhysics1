{
  "nbformat": 4,
  "nbformat_minor": 0,
  "metadata": {
    "colab": {
      "name": "2103_光の屈折_応用物理1",
      "provenance": [],
      "collapsed_sections": [],
      "toc_visible": true,
      "authorship_tag": "ABX9TyMCdzITiJIj1VIcBnrx8wFT",
      "include_colab_link": true
    },
    "kernelspec": {
      "name": "python3",
      "display_name": "Python 3"
    }
  },
  "cells": [
    {
      "cell_type": "markdown",
      "metadata": {
        "id": "view-in-github",
        "colab_type": "text"
      },
      "source": [
        "<a href=\"https://colab.research.google.com/github/kzhkAKT/AppliedPhysics1/blob/draft/2103_%E5%85%89%E3%81%AE%E5%B1%88%E6%8A%98_%E5%BF%9C%E7%94%A8%E7%89%A9%E7%90%861.ipynb\" target=\"_parent\"><img src=\"https://colab.research.google.com/assets/colab-badge.svg\" alt=\"Open In Colab\"/></a>"
      ]
    },
    {
      "cell_type": "markdown",
      "metadata": {
        "id": "YlgLhkPni92J",
        "colab_type": "text"
      },
      "source": [
        "# 光の進み方\n",
        "\n",
        "\n"
      ]
    },
    {
      "cell_type": "markdown",
      "metadata": {
        "id": "iKCa2Eu8qb7z",
        "colab_type": "text"
      },
      "source": [
        "## 光の屈折"
      ]
    },
    {
      "cell_type": "code",
      "metadata": {
        "id": "zgDXKnB-qhwO",
        "colab_type": "code",
        "cellView": "form",
        "outputId": "e91ab0f2-24eb-46cb-8db4-2d2b38945a71",
        "colab": {
          "base_uri": "https://localhost:8080/",
          "height": 336
        }
      },
      "source": [
        "#@title 現象確認: 光の屈折\n",
        "%%html\n",
        "<iframe width=\"560\" height=\"315\" src=\"https://www.youtube-nocookie.com/embed/yIPMl2K6KNw\" frameborder=\"0\" allow=\"accelerometer; autoplay; encrypted-media; gyroscope; picture-in-picture\" allowfullscreen></iframe>"
      ],
      "execution_count": 0,
      "outputs": [
        {
          "output_type": "display_data",
          "data": {
            "text/html": [
              "<iframe width=\"560\" height=\"315\" src=\"https://www.youtube-nocookie.com/embed/yIPMl2K6KNw\" frameborder=\"0\" allow=\"accelerometer; autoplay; encrypted-media; gyroscope; picture-in-picture\" allowfullscreen></iframe>"
            ],
            "text/plain": [
              "<IPython.core.display.HTML object>"
            ]
          },
          "metadata": {
            "tags": []
          }
        }
      ]
    },
    {
      "cell_type": "code",
      "metadata": {
        "id": "CjAy6OhZtgZF",
        "colab_type": "code",
        "outputId": "34816506-330d-4768-a669-df0099ffa53d",
        "colab": {
          "base_uri": "https://localhost:8080/",
          "height": 625
        }
      },
      "source": [
        "%%HTML\n",
        "<iframe src=\"https://phet.colorado.edu/sims/html/bending-light/latest/bending-light_en.html\" width=\"800\" height=\"600\" scrolling=\"no\" allowfullscreen></iframe>"
      ],
      "execution_count": 0,
      "outputs": [
        {
          "output_type": "display_data",
          "data": {
            "text/html": [
              "<iframe src=\"https://phet.colorado.edu/sims/html/bending-light/latest/bending-light_en.html\" width=\"800\" height=\"600\" scrolling=\"no\" allowfullscreen></iframe>"
            ],
            "text/plain": [
              "<IPython.core.display.HTML object>"
            ]
          },
          "metadata": {
            "tags": []
          }
        }
      ]
    },
    {
      "cell_type": "markdown",
      "metadata": {
        "id": "oFfT3TbbOXUR",
        "colab_type": "text"
      },
      "source": [
        "## スネルの法則の導出\n",
        "\n",
        "1. 媒質を固定すると, 入射角 $\\theta_i$ と 屈折角$\\theta_r$ は同時に増減する.\n",
        "2. 媒質を固定すると, 一定法線からの分度器のメモリまでの距離の比 $\\frac{\\rm AA'}{\\rm BB'}$が一定.\n",
        "3. 空気を基準にして, 媒質を変更すると 距離の比 が変わる.\n",
        "\n",
        "これらを,分度器の半径 $\\ell$ と三角比利用して, まとめると\n",
        "\\begin{align*}\n",
        "\\dfrac{\\rm AA'}{\\rm BB'} &= \\text{一定}&\\\\\n",
        "\\dfrac{\\frac{\\rm AA'}\\ell}{\\frac{\\rm BB'}\\ell } &= \\text{一定}&\\\\\n",
        "\\dfrac{\\sin \\theta_i}{\\sin \\theta_r } &= \\text{一定}&\n",
        "\\end{align*}\n",
        "さらに空気を基準($n_0=1$)に他の媒質の(絶対)屈折率を $n$ と定義すると,\n",
        "\\begin{align*}\n",
        "\\dfrac{\\sin \\theta_i}{\\sin \\theta_r } &= \\dfrac{n}{1}.&\n",
        "\\end{align*}\n",
        "\n",
        "このようにまとめられた物を\n",
        "> 屈折率の法則, Snellの法則\n",
        "\n",
        "> \\begin{align*}\n",
        "\\dfrac{\\sin \\theta_i}{\\sin \\theta_r } &= \\dfrac{n}{1}.&\n",
        "\\end{align*} \n",
        "\n",
        "という. 屈折率の法則は上記の形式で覚えるのではなく\n",
        ">> \\begin{align*}\n",
        "1 \\cdot \\sin \\theta_i &= n \\cdot {\\sin \\theta_r }.&\n",
        "\\end{align*}\n",
        "\n",
        "と記憶しておくことをお勧めします.\n",
        "- 左辺に基準となる空気の屈折率 $n_0=1$ と 入射角 $\\theta_i$ の正弦\n",
        "- 右辺に媒質の(絶対)屈折率 $n=1$ と 屈折角 $\\theta_r$ の正弦\n",
        "\n",
        "### ようご確認\n",
        "\n",
        "絶対屈折率: 光が真空(~空気)からある物質に入射したときの屈折率. 単に屈折率ということもある."
      ]
    },
    {
      "cell_type": "markdown",
      "metadata": {
        "id": "TN_YjkNpfUj9",
        "colab_type": "text"
      },
      "source": [
        "## 相対屈折率\n",
        "\n",
        "教科書 p92 図2.6 を利用します. A,B,C,D 点での屈折の法則を書き並べると\n",
        "\n",
        "- A: $n_0 \\cdot \\sin i_1 = n_1 \\cdot \\sin r_1$\n",
        "- B: $n_1 \\cdot \\sin r_1 = n_0 \\cdot \\sin i_1$\n",
        "- C: $n_0 \\cdot \\sin i_1 = n_2 \\cdot \\sin r_2$\n",
        "- D: $n_2 \\cdot \\sin r_1 = n_0 \\cdot \\sin r_1$\n",
        "\n",
        "となります. 次に二枚の平行板を密着させると, BとCが重なるので\n",
        "\n",
        "$$\n",
        "\\require{cancel}\n",
        "\\begin{align*}\n",
        "n_1 \\cdot \\sin r_1 &= \\bcancel{n_0 \\cdot \\sin i_1}= n_2 \\cdot \\sin r_2&\\\\\n",
        "n_1 \\cdot \\sin r_1 &=  n_2 \\cdot \\sin r_2,&\n",
        "\\end{align*}\n",
        "$$\n",
        "これを真空(空気)を基準とした屈折の法則と同様にまとめると.\n",
        "$$\n",
        "\\begin{align*}\n",
        "\\dfrac{\\sin r_1}{\\sin r_2} &=  \\frac{n_2}{n_1}&\n",
        "\\end{align*}\n",
        "$$\n",
        "となる. ここで現れた右辺を 媒質1 に対する 媒質2 の\n",
        "**相対屈折率** と定義します.\n",
        "\\begin{align*}\n",
        "n_{12} &= \\frac{n_2}{n_1}&\n",
        "\\end{align*}\n",
        "覚え方としては  $n_{12}$ の添え字を $1\\to2$ と見て, *1を基準にして2を調べる* と考えるとよいでしょう.\n",
        "\n",
        "\n"
      ]
    }
  ]
}