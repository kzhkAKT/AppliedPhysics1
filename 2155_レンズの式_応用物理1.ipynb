{
  "nbformat": 4,
  "nbformat_minor": 0,
  "metadata": {
    "colab": {
      "name": "2155_レンズの式_応用物理1",
      "provenance": [],
      "collapsed_sections": [],
      "authorship_tag": "ABX9TyO0NUDirmva3Tb1E+PS+tEx",
      "include_colab_link": true
    },
    "kernelspec": {
      "name": "python3",
      "display_name": "Python 3"
    }
  },
  "cells": [
    {
      "cell_type": "markdown",
      "metadata": {
        "id": "view-in-github",
        "colab_type": "text"
      },
      "source": [
        "<a href=\"https://colab.research.google.com/github/kzhkAKT/AppliedPhysics1/blob/master/2155_%E3%83%AC%E3%83%B3%E3%82%BA%E3%81%AE%E5%BC%8F_%E5%BF%9C%E7%94%A8%E7%89%A9%E7%90%861.ipynb\" target=\"_parent\"><img src=\"https://colab.research.google.com/assets/colab-badge.svg\" alt=\"Open In Colab\"/></a>"
      ]
    },
    {
      "cell_type": "markdown",
      "metadata": {
        "id": "1OlGsgYfkzCd",
        "colab_type": "text"
      },
      "source": [
        "# 光の進み方\n",
        "## レンズ\n",
        "\n",
        "### レンズの式\n",
        "\n",
        "\\begin{align*}\n",
        "\\dfrac{1}{a} + \\dfrac{1}{b} = \\dfrac{1}{f}\n",
        "\\end{align*}\n",
        "\n",
        "### 倍率\n",
        "\n",
        "\\begin{align*}\n",
        "m &= \\left|\\dfrac{b}{a}\\right|\n",
        "\\end{align*}\n",
        "\n",
        "\n",
        "1. 焦点距離 $f$: \n",
        "  + 凸レンズを利用するときはふれ角$\\delta$が光軸の方向へ向かうので, $f>0$\n",
        "  + 凹レンズを利用するときはふれ角$\\delta$が光軸から離れていくので, $f<0$\n",
        "\n",
        "2. レンズの中心から **像** までの距離 $b$ は\n",
        "  + 像がレンズの後方にあるとき(実像は) $b>0$\n",
        "  + 像がレンズの前方にあるとき(虚像は) $b<0$\n",
        "\n",
        "3. レンズの中心から物体までの距離 $a$ は\n",
        "  + 物体がレンズの前方にあるときには $a>0$\n",
        "  + 物体がレンズの後方にあるときには $a<0$  \n",
        "  (虚光源/虚物体: レンズ後方に集まる光源LG p14 2.1.12(a) p15 2.1.14)"
      ]
    }
  ]
}