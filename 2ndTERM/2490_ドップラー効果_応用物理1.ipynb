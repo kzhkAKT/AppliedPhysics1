{
  "nbformat": 4,
  "nbformat_minor": 0,
  "metadata": {
    "colab": {
      "name": "2490_ドップラー効果_応用物理1",
      "provenance": [],
      "toc_visible": true,
      "authorship_tag": "ABX9TyPhjedYrt++kAtzg++ntpnG",
      "include_colab_link": true
    },
    "kernelspec": {
      "name": "python3",
      "display_name": "Python 3"
    }
  },
  "cells": [
    {
      "cell_type": "markdown",
      "metadata": {
        "id": "view-in-github",
        "colab_type": "text"
      },
      "source": [
        "<a href=\"https://colab.research.google.com/github/kzhkAKT/AppliedPhysics1/blob/draft/2ndTERM/2490_%E3%83%89%E3%83%83%E3%83%97%E3%83%A9%E3%83%BC%E5%8A%B9%E6%9E%9C_%E5%BF%9C%E7%94%A8%E7%89%A9%E7%90%861.ipynb\" target=\"_parent\"><img src=\"https://colab.research.google.com/assets/colab-badge.svg\" alt=\"Open In Colab\"/></a>"
      ]
    },
    {
      "cell_type": "markdown",
      "metadata": {
        "id": "Hmuk0gAFPXfL"
      },
      "source": [
        "# 音波"
      ]
    },
    {
      "cell_type": "markdown",
      "metadata": {
        "id": "bK3K5lvBXzzG"
      },
      "source": [
        "## ドップラー効果\n",
        "1842yr\n",
        "\n",
        "[Christian Doppler](https://en.wikipedia.org/wiki/Christian_Doppler)\n",
        "\n",
        "![](https://upload.wikimedia.org/wikipedia/commons/thumb/3/39/Christian_Doppler_%C3%B6sterreichischer_Physiker.jpg/289px-Christian_Doppler_%C3%B6sterreichischer_Physiker.jpg)"
      ]
    },
    {
      "cell_type": "code",
      "metadata": {
        "id": "PJyLR2-DU6Kd",
        "cellView": "form",
        "outputId": "e3a0b84e-c3a4-4e5c-ed3e-c33487c021d9",
        "colab": {
          "base_uri": "https://localhost:8080/"
        }
      },
      "source": [
        "#@title 観測者視点\n",
        "%%html\n",
        "<iframe width=\"560\" height=\"315\" src=\"https://www.youtube-nocookie.com/embed/wrzWAox8NCM\" frameborder=\"0\" allow=\"accelerometer; autoplay; clipboard-write; encrypted-media; gyroscope; picture-in-picture\" allowfullscreen></iframe>"
      ],
      "execution_count": null,
      "outputs": [
        {
          "output_type": "display_data",
          "data": {
            "text/html": [
              "<iframe width=\"560\" height=\"315\" src=\"https://www.youtube-nocookie.com/embed/wrzWAox8NCM\" frameborder=\"0\" allow=\"accelerometer; autoplay; clipboard-write; encrypted-media; gyroscope; picture-in-picture\" allowfullscreen></iframe>"
            ],
            "text/plain": [
              "<IPython.core.display.HTML object>"
            ]
          },
          "metadata": {
            "tags": []
          }
        }
      ]
    },
    {
      "cell_type": "code",
      "metadata": {
        "id": "Wds78Ht9VUap",
        "cellView": "form",
        "outputId": "5a93bec1-3163-417a-cf9a-c54885221c7a",
        "colab": {
          "base_uri": "https://localhost:8080/",
          "height": 336
        }
      },
      "source": [
        "#@title 発音体視点と観測者視点の比較\n",
        "%%html\n",
        "<iframe width=\"560\" height=\"315\" src=\"https://www.youtube-nocookie.com/embed/8WgSQlRymwE\" frameborder=\"0\" allow=\"accelerometer; autoplay; clipboard-write; encrypted-media; gyroscope; picture-in-picture\" allowfullscreen></iframe>"
      ],
      "execution_count": null,
      "outputs": [
        {
          "output_type": "display_data",
          "data": {
            "text/html": [
              "<iframe width=\"560\" height=\"315\" src=\"https://www.youtube-nocookie.com/embed/8WgSQlRymwE\" frameborder=\"0\" allow=\"accelerometer; autoplay; clipboard-write; encrypted-media; gyroscope; picture-in-picture\" allowfullscreen></iframe>"
            ],
            "text/plain": [
              "<IPython.core.display.HTML object>"
            ]
          },
          "metadata": {
            "tags": []
          }
        }
      ]
    },
    {
      "cell_type": "code",
      "metadata": {
        "id": "SlHsY0s2VoXk",
        "cellView": "form",
        "outputId": "624bcf74-e69d-47fe-9427-172bfdfd2b6c",
        "colab": {
          "base_uri": "https://localhost:8080/",
          "height": 336
        }
      },
      "source": [
        "#@title ドップラー効果の原理\n",
        "%%html\n",
        "<iframe width=\"560\" height=\"315\" src=\"https://www.youtube-nocookie.com/embed/emQpnOGtm_c\" frameborder=\"0\" allow=\"accelerometer; autoplay; clipboard-write; encrypted-media; gyroscope; picture-in-picture\" allowfullscreen></iframe>"
      ],
      "execution_count": null,
      "outputs": [
        {
          "output_type": "display_data",
          "data": {
            "text/html": [
              "<iframe width=\"560\" height=\"315\" src=\"https://www.youtube-nocookie.com/embed/emQpnOGtm_c\" frameborder=\"0\" allow=\"accelerometer; autoplay; clipboard-write; encrypted-media; gyroscope; picture-in-picture\" allowfullscreen></iframe>"
            ],
            "text/plain": [
              "<IPython.core.display.HTML object>"
            ]
          },
          "metadata": {
            "tags": []
          }
        }
      ]
    },
    {
      "cell_type": "code",
      "metadata": {
        "id": "EmsoaHwZYA5n",
        "cellView": "form",
        "outputId": "97af10e9-361d-4106-d2a4-378bf83d6f5d",
        "colab": {
          "base_uri": "https://localhost:8080/",
          "height": 336
        }
      },
      "source": [
        "#@title 日本語解説\n",
        "%%html\n",
        "<iframe width=\"560\" height=\"315\" src=\"https://www.youtube-nocookie.com/embed/Qzo4L4uwD0I\" frameborder=\"0\" allow=\"accelerometer; autoplay; clipboard-write; encrypted-media; gyroscope; picture-in-picture\" allowfullscreen></iframe>"
      ],
      "execution_count": null,
      "outputs": [
        {
          "output_type": "display_data",
          "data": {
            "text/html": [
              "<iframe width=\"560\" height=\"315\" src=\"https://www.youtube-nocookie.com/embed/Qzo4L4uwD0I\" frameborder=\"0\" allow=\"accelerometer; autoplay; clipboard-write; encrypted-media; gyroscope; picture-in-picture\" allowfullscreen></iframe>"
            ],
            "text/plain": [
              "<IPython.core.display.HTML object>"
            ]
          },
          "metadata": {
            "tags": []
          }
        }
      ]
    },
    {
      "cell_type": "markdown",
      "metadata": {
        "id": "27g6tDLgYFel"
      },
      "source": [
        "音のドップラー効果のポイント\n",
        "- 発音体の速さによって, 波長 $\\lambda$ が変わる\n",
        "- (風でも吹かない限り) 音速 $V$ は温度に依存するので一定\n",
        "- 速さの単位は m/s なので, 単位時間 1s を観察するとよくわかる\n",
        "- 観測者は、観測する場所に届くまたは通り過ぎた音の粗密を観測する\n"
      ]
    },
    {
      "cell_type": "markdown",
      "metadata": {
        "id": "1ChjbKQMZl22"
      },
      "source": [
        "### 音源のみが速さ $u$ で移動する場合\n",
        "\n",
        "- 音源の発音体の振動数: $\\quad f$\n",
        "- 発音体の前方に観測者がいる\n",
        "  - 発音体が速さ $u$ で観測者に近づく\n",
        "\n",
        "単位時間 1 s の間で考えると\n",
        "- $t=$ 0 s で音源を出た音波は $V$ m 進む\n",
        "  - 単位時間 1s の間に, 音源は $u$ m 進む\n",
        "- 単位時間 1s の間に, 音叉自体は $f$ 回の振動をする\n",
        "\n"
      ]
    },
    {
      "cell_type": "markdown",
      "metadata": {
        "id": "chMVO8REcqJt"
      },
      "source": [
        "#### 音源が観測者に近づくとき\n"
      ]
    },
    {
      "cell_type": "markdown",
      "metadata": {
        "id": "ilpUjqvSct73"
      },
      "source": [
        "#### 観測者に届く音波の波長 $\\lambda'$\n",
        "これらを踏まえると, 観測者に近づく音源の波長 $\\lambda'$ を  \n",
        "次のように求めることができます\n",
        "\\begin{align}\n",
        "\\lambda' = \\dfrac{V-u}{f}\n",
        "\\end{align}"
      ]
    },
    {
      "cell_type": "markdown",
      "metadata": {
        "id": "SmzFm3z7beVO"
      },
      "source": [
        "#### 音源の速さの影響を受けた波長 $\\lambda'$ の音波を観測者が聞くと\n",
        "\n",
        "- (風でも吹かない限り) 音速  𝑉  は温度に依存するので一定\n",
        "\n",
        "を利用し, \n",
        "- 波の基本式 $V=\\lambda' f'$\n",
        "\n",
        "を適用すると\n",
        "\n",
        "\\begin{align}\n",
        "f' \n",
        "= \\dfrac{V}{\\lambda'} \n",
        "= \\dfrac{V}{\\frac{V-u}{f}} \n",
        "&= \\dfrac{V}{V-u} f\\\\\n",
        "&= \\dfrac{V-u+u}{V-u} f = \\left(1 + \\dfrac{u}{V-u}\\right)f > f\n",
        "\\end{align}\n",
        "\n",
        "つまり $f'>f$ となり **高く** 聞こえます"
      ]
    },
    {
      "cell_type": "markdown",
      "metadata": {
        "id": "xB16-kYjdbjS"
      },
      "source": [
        "#### 音源が観測者から遠のくとき\n",
        "\n",
        "$u \\to - u$ として考えれば, $f'<f$ となり **低く** 聞こえます\n"
      ]
    },
    {
      "cell_type": "markdown",
      "metadata": {
        "id": "WEyfR6c4daDM"
      },
      "source": [
        "### さらに観測者が $v$ で移動する場合"
      ]
    },
    {
      "cell_type": "markdown",
      "metadata": {
        "id": "rLo1me4ceDe2"
      },
      "source": [
        "- 観測者は、観測する場所に届くまたは **通り過ぎた** 音の粗密を観測する\n",
        "\n",
        "ことに注意し, 単位時間 1 s の変化を調べます."
      ]
    },
    {
      "cell_type": "markdown",
      "metadata": {
        "id": "IaXKdspseT92"
      },
      "source": [
        "#### 観測者が速さ $v$ で音源から遠ざかろうとする場合\n",
        "\n",
        "パトカーに追われている暴走族のように, \n",
        "- 音源は観測者に近づく\n",
        "- 観測者が$v$ で音源から遠ざかる\n",
        "\n",
        "場合を考えます.\n",
        "\n",
        "このとき\n",
        "\n",
        "- 観測者(暴走族)は、観測する場所(バイク)を **通り過ぎた** 音の粗密を観測する\n",
        "\n",
        "ことになります.\n",
        "\n",
        "単位時間 1s の間に\n",
        "- 音波は $V$ m\n",
        "- 観測者(暴走族)は、$v$ m\n",
        "\n",
        "進みます. このことから\n",
        "- 正味通り過ぎた音の粗密は$\\quad (V- v) {\\rm \\ m}$\n",
        "- 通り過ぎた音の粗密は, 音源の速さの影響を受け $\\lambda'$\n",
        "\n",
        "となります."
      ]
    },
    {
      "cell_type": "markdown",
      "metadata": {
        "id": "Exn4mDHufyLe"
      },
      "source": [
        "これらを総合すると, 観測者(暴走族)が観測する音源(パトカーの)振動数は,  \n",
        "単位時間 1s の間に聞き取った波の個数に相当します.\n",
        "\n",
        "\\begin{align*}\n",
        "f'' \n",
        "&= \\dfrac{V-v}{\\lambda'}\\\\\n",
        "&= \\dfrac{V-v}{\\frac{V-u}{f}}\\\\\n",
        "f''&= \\dfrac{V-v}{V-u}f\n",
        "\\end{align*}"
      ]
    },
    {
      "cell_type": "markdown",
      "metadata": {
        "id": "wf2W3WjWHqkt"
      },
      "source": [
        "> Q. 下記の条件での, $f''$ と $f$ の大小関係を調べよ\n",
        "1. $v > u$ のとき\n",
        "1. $v = u$ のとき\n",
        "1. $v < u$ のとき\n",
        "\n",
        "> Q. 該当分野の教科書例題に取り組んでください."
      ]
    },
    {
      "cell_type": "code",
      "metadata": {
        "id": "iBOCpvzeWaYm",
        "cellView": "form",
        "outputId": "53024fbb-8ce9-4708-bd41-65633192993b",
        "colab": {
          "base_uri": "https://localhost:8080/",
          "height": 336
        }
      },
      "source": [
        "#@title ドップラー効果の確認\n",
        "%%html\n",
        "<iframe width=\"560\" height=\"315\" src=\"https://www.youtube-nocookie.com/embed/h4OnBYrbCjY\" frameborder=\"0\" allow=\"accelerometer; autoplay; clipboard-write; encrypted-media; gyroscope; picture-in-picture\" allowfullscreen></iframe>"
      ],
      "execution_count": null,
      "outputs": [
        {
          "output_type": "display_data",
          "data": {
            "text/html": [
              "<iframe width=\"560\" height=\"315\" src=\"https://www.youtube-nocookie.com/embed/h4OnBYrbCjY\" frameborder=\"0\" allow=\"accelerometer; autoplay; clipboard-write; encrypted-media; gyroscope; picture-in-picture\" allowfullscreen></iframe>"
            ],
            "text/plain": [
              "<IPython.core.display.HTML object>"
            ]
          },
          "metadata": {
            "tags": []
          }
        }
      ]
    },
    {
      "cell_type": "code",
      "metadata": {
        "id": "v5-oGqetWyLt",
        "cellView": "form",
        "outputId": "54b851fe-8e84-4c04-e4ca-3fa339babf06",
        "colab": {
          "base_uri": "https://localhost:8080/",
          "height": 336
        }
      },
      "source": [
        "#@title 光のドップラー効果\n",
        "%%html\n",
        "<iframe width=\"560\" height=\"315\" src=\"https://www.youtube-nocookie.com/embed/y5tKC3nEx2I\" frameborder=\"0\" allow=\"accelerometer; autoplay; clipboard-write; encrypted-media; gyroscope; picture-in-picture\" allowfullscreen></iframe>"
      ],
      "execution_count": null,
      "outputs": [
        {
          "output_type": "display_data",
          "data": {
            "text/html": [
              "<iframe width=\"560\" height=\"315\" src=\"https://www.youtube-nocookie.com/embed/y5tKC3nEx2I\" frameborder=\"0\" allow=\"accelerometer; autoplay; clipboard-write; encrypted-media; gyroscope; picture-in-picture\" allowfullscreen></iframe>"
            ],
            "text/plain": [
              "<IPython.core.display.HTML object>"
            ]
          },
          "metadata": {
            "tags": []
          }
        }
      ]
    }
  ]
}