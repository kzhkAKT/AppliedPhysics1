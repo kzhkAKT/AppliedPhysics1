{
  "nbformat": 4,
  "nbformat_minor": 0,
  "metadata": {
    "colab": {
      "name": "2_5_3_0_偏光_応用物理I",
      "provenance": [],
      "collapsed_sections": [],
      "authorship_tag": "ABX9TyNkC/QCl8wLgKqmYLuRCC3b",
      "include_colab_link": true
    },
    "kernelspec": {
      "name": "python3",
      "display_name": "Python 3"
    }
  },
  "cells": [
    {
      "cell_type": "markdown",
      "metadata": {
        "id": "view-in-github",
        "colab_type": "text"
      },
      "source": [
        "<a href=\"https://colab.research.google.com/github/kzhkAKT/AppliedPhysics1/blob/draft/2ndTERM/2_5_3_0_%E5%81%8F%E5%85%89_%E5%BF%9C%E7%94%A8%E7%89%A9%E7%90%86I.ipynb\" target=\"_parent\"><img src=\"https://colab.research.google.com/assets/colab-badge.svg\" alt=\"Open In Colab\"/></a>"
      ]
    },
    {
      "cell_type": "markdown",
      "metadata": {
        "id": "juYZLK7tiTXx"
      },
      "source": [
        "# 光波"
      ]
    },
    {
      "cell_type": "markdown",
      "metadata": {
        "id": "54H3lOMvp4rY"
      },
      "source": [
        "## 偏光"
      ]
    },
    {
      "cell_type": "markdown",
      "metadata": {
        "id": "ZdRpvt82qJsL"
      },
      "source": [
        "![](https://upload.wikimedia.org/wikipedia/commons/thumb/2/2a/Polarizacio.jpg/480px-Polarizacio.jpg)"
      ]
    },
    {
      "cell_type": "code",
      "metadata": {
        "colab": {
          "base_uri": "https://localhost:8080/",
          "height": 336
        },
        "id": "H_DNbUofp6iS",
        "outputId": "d22fd173-9ee6-4162-cb22-1205878031e2",
        "cellView": "form"
      },
      "source": [
        "#@title 偏光の動画\n",
        "%%html\n",
        "<iframe width=\"560\" height=\"315\" src=\"https://www.youtube-nocookie.com/embed/E9qpbt0v5Hw\" frameborder=\"0\" allow=\"accelerometer; autoplay; clipboard-write; encrypted-media; gyroscope; picture-in-picture\" allowfullscreen></iframe>"
      ],
      "execution_count": null,
      "outputs": [
        {
          "output_type": "display_data",
          "data": {
            "text/html": [
              "<iframe width=\"560\" height=\"315\" src=\"https://www.youtube-nocookie.com/embed/E9qpbt0v5Hw\" frameborder=\"0\" allow=\"accelerometer; autoplay; clipboard-write; encrypted-media; gyroscope; picture-in-picture\" allowfullscreen></iframe>"
            ],
            "text/plain": [
              "<IPython.core.display.HTML object>"
            ]
          },
          "metadata": {
            "tags": []
          }
        }
      ]
    },
    {
      "cell_type": "code",
      "metadata": {
        "colab": {
          "base_uri": "https://localhost:8080/",
          "height": 336
        },
        "id": "nOo6MbCZqhcM",
        "outputId": "ff459c8a-e795-458d-820d-256290d2e72d",
        "cellView": "form"
      },
      "source": [
        "#@title 円偏光の動画\n",
        "%%html\n",
        "<iframe width=\"560\" height=\"315\" src=\"https://www.youtube-nocookie.com/embed/ycY2mUZHS84\" frameborder=\"0\" allow=\"accelerometer; autoplay; clipboard-write; encrypted-media; gyroscope; picture-in-picture\" allowfullscreen></iframe>"
      ],
      "execution_count": null,
      "outputs": [
        {
          "output_type": "display_data",
          "data": {
            "text/html": [
              "<iframe width=\"560\" height=\"315\" src=\"https://www.youtube-nocookie.com/embed/ycY2mUZHS84\" frameborder=\"0\" allow=\"accelerometer; autoplay; clipboard-write; encrypted-media; gyroscope; picture-in-picture\" allowfullscreen></iframe>"
            ],
            "text/plain": [
              "<IPython.core.display.HTML object>"
            ]
          },
          "metadata": {
            "tags": []
          }
        }
      ]
    },
    {
      "cell_type": "code",
      "metadata": {
        "colab": {
          "base_uri": "https://localhost:8080/",
          "height": 336
        },
        "id": "5EZS6uCEqsgi",
        "outputId": "30061aab-3b73-473c-b0c8-f018be990cff",
        "cellView": "form"
      },
      "source": [
        "#@title 偏光の概念図\n",
        "%%html\n",
        "<iframe width=\"560\" height=\"315\" src=\"https://www.youtube-nocookie.com/embed/Q0qrU4nprB0\" frameborder=\"0\" allow=\"accelerometer; autoplay; clipboard-write; encrypted-media; gyroscope; picture-in-picture\" allowfullscreen></iframe>"
      ],
      "execution_count": null,
      "outputs": [
        {
          "output_type": "display_data",
          "data": {
            "text/html": [
              "<iframe width=\"560\" height=\"315\" src=\"https://www.youtube-nocookie.com/embed/Q0qrU4nprB0\" frameborder=\"0\" allow=\"accelerometer; autoplay; clipboard-write; encrypted-media; gyroscope; picture-in-picture\" allowfullscreen></iframe>"
            ],
            "text/plain": [
              "<IPython.core.display.HTML object>"
            ]
          },
          "metadata": {
            "tags": []
          }
        }
      ]
    },
    {
      "cell_type": "markdown",
      "metadata": {
        "id": "0HCDbcKcrDnW"
      },
      "source": [
        "![](https://upload.wikimedia.org/wikipedia/commons/thumb/d/d1/Cross_linear_polarization.gif/640px-Cross_linear_polarization.gif)"
      ]
    },
    {
      "cell_type": "code",
      "metadata": {
        "colab": {
          "base_uri": "https://localhost:8080/",
          "height": 336
        },
        "id": "aarZrUumq5oQ",
        "outputId": "91a92f03-33a6-4adc-a29d-44f7d189174f",
        "cellView": "form"
      },
      "source": [
        "#@title 複数の偏光版による効果\n",
        "%%html\n",
        "<iframe width=\"560\" height=\"315\" src=\"https://www.youtube-nocookie.com/embed/MhhHPOxTUy8\" frameborder=\"0\" allow=\"accelerometer; autoplay; clipboard-write; encrypted-media; gyroscope; picture-in-picture\" allowfullscreen></iframe>"
      ],
      "execution_count": null,
      "outputs": [
        {
          "output_type": "display_data",
          "data": {
            "text/html": [
              "<iframe width=\"560\" height=\"315\" src=\"https://www.youtube-nocookie.com/embed/MhhHPOxTUy8\" frameborder=\"0\" allow=\"accelerometer; autoplay; clipboard-write; encrypted-media; gyroscope; picture-in-picture\" allowfullscreen></iframe>"
            ],
            "text/plain": [
              "<IPython.core.display.HTML object>"
            ]
          },
          "metadata": {
            "tags": []
          }
        }
      ]
    },
    {
      "cell_type": "code",
      "metadata": {
        "colab": {
          "base_uri": "https://localhost:8080/",
          "height": 336
        },
        "id": "EPcx4AXNrX39",
        "outputId": "7bb68570-b822-402a-ff16-cfeffe7eed2c",
        "cellView": "form"
      },
      "source": [
        "#@title 偏光版とLED\n",
        "%%html\n",
        "<iframe width=\"560\" height=\"315\" src=\"https://www.youtube-nocookie.com/embed/23fKNrMHR3s\" frameborder=\"0\" allow=\"accelerometer; autoplay; clipboard-write; encrypted-media; gyroscope; picture-in-picture\" allowfullscreen></iframe>"
      ],
      "execution_count": null,
      "outputs": [
        {
          "output_type": "display_data",
          "data": {
            "text/html": [
              "<iframe width=\"560\" height=\"315\" src=\"https://www.youtube-nocookie.com/embed/23fKNrMHR3s\" frameborder=\"0\" allow=\"accelerometer; autoplay; clipboard-write; encrypted-media; gyroscope; picture-in-picture\" allowfullscreen></iframe>"
            ],
            "text/plain": [
              "<IPython.core.display.HTML object>"
            ]
          },
          "metadata": {
            "tags": []
          }
        }
      ]
    },
    {
      "cell_type": "markdown",
      "metadata": {
        "id": "4xU3w7p9tzYK"
      },
      "source": [
        "### Brewster's law"
      ]
    },
    {
      "cell_type": "code",
      "metadata": {
        "colab": {
          "base_uri": "https://localhost:8080/",
          "height": 336
        },
        "id": "XNJhS4Jit3I-",
        "outputId": "daac3d89-b3b0-4136-ffb6-419ad65cec6c",
        "cellView": "form"
      },
      "source": [
        "#@title ブリュースター角: 完全偏光の反射と部分偏光の透過\n",
        "%%html\n",
        "<iframe width=\"560\" height=\"315\" src=\"https://www.youtube-nocookie.com/embed/lXk_nrpw2J4\" frameborder=\"0\" allow=\"accelerometer; autoplay; clipboard-write; encrypted-media; gyroscope; picture-in-picture\" allowfullscreen></iframe>"
      ],
      "execution_count": null,
      "outputs": [
        {
          "output_type": "display_data",
          "data": {
            "text/html": [
              "<iframe width=\"560\" height=\"315\" src=\"https://www.youtube-nocookie.com/embed/lXk_nrpw2J4\" frameborder=\"0\" allow=\"accelerometer; autoplay; clipboard-write; encrypted-media; gyroscope; picture-in-picture\" allowfullscreen></iframe>"
            ],
            "text/plain": [
              "<IPython.core.display.HTML object>"
            ]
          },
          "metadata": {
            "tags": []
          }
        }
      ]
    },
    {
      "cell_type": "markdown",
      "metadata": {
        "id": "A6v6f4eVuDY-"
      },
      "source": [
        "\b二枚の偏光板を $\\pi/2$ ずらして交わらせると光を遮蔽できることを考えれば，  \n",
        "感覚的には上の動画の関係は理解できますが, 現時点では正確には説明できません．  \n",
        "しかし，[ブリュースター角](https://ja.wikipedia.org/wiki/%E3%83%96%E3%83%AA%E3%83%A5%E3%83%BC%E3%82%B9%E3%82%BF%E3%83%BC%E8%A7%92) については，下記の図と  \n",
        "これまで学んできたものを利用すれば導出できます．"
      ]
    },
    {
      "cell_type": "code",
      "metadata": {
        "colab": {
          "base_uri": "https://localhost:8080/",
          "height": 379
        },
        "cellView": "form",
        "id": "PDVl0GQ9t8Kt",
        "outputId": "5d2f4816-7887-468a-808e-233e2e5c6ab6"
      },
      "source": [
        "#@title Brewster's angle\n",
        "%%svg\n",
        "https://upload.wikimedia.org/wikipedia/commons/6/65/Brewsters-angle.svg"
      ],
      "execution_count": null,
      "outputs": [
        {
          "output_type": "display_data",
          "data": {
            "text/plain": [
              "<IPython.core.display.SVG object>"
            ],
            "image/svg+xml": "<svg height=\"358.14285\" id=\"svg2\" inkscape:label=\"Pozadí\" inkscape:version=\"0.44\" sodipodi:docbase=\"D:\\\" sodipodi:docname=\"brewsters-angle.svg\" sodipodi:version=\"0.32\" version=\"1.0\" width=\"411\" xmlns=\"http://www.w3.org/2000/svg\" xmlns:cc=\"http://web.resource.org/cc/\" xmlns:dc=\"http://purl.org/dc/elements/1.1/\" xmlns:inkscape=\"http://www.inkscape.org/namespaces/inkscape\" xmlns:rdf=\"http://www.w3.org/1999/02/22-rdf-syntax-ns#\" xmlns:sodipodi=\"http://sodipodi.sourceforge.net/DTD/sodipodi-0.dtd\" xmlns:svg=\"http://www.w3.org/2000/svg\">\n  <defs id=\"defs3\">\n    <marker id=\"Arrow2Lend\" inkscape:stockid=\"Arrow2Lend\" orient=\"auto\" refX=\"0\" refY=\"0\" style=\"overflow:visible\">\n      <path d=\"M 8.7185878,4.0337352 L -2.2072895,0.016013256 L 8.7185884,-4.0017078 C 6.97309,-1.6296469 6.9831476,1.6157441 8.7185878,4.0337352 z \" id=\"path5667\" style=\"font-size:12px;fill-rule:evenodd;stroke-width:0.625;stroke-linejoin:round\" transform=\"matrix(-1.1,0,0,-1.1,-1.1,0)\"/>\n    </marker>\n    <marker id=\"Arrow2Lstart\" inkscape:stockid=\"Arrow2Lstart\" orient=\"auto\" refX=\"0\" refY=\"0\" style=\"overflow:visible\">\n      <path d=\"M 8.7185878,4.0337352 L -2.2072895,0.016013256 L 8.7185884,-4.0017078 C 6.97309,-1.6296469 6.9831476,1.6157441 8.7185878,4.0337352 z \" id=\"path5670\" style=\"font-size:12px;fill-rule:evenodd;stroke-width:0.625;stroke-linejoin:round\" transform=\"matrix(1.1,0,0,1.1,1.1,0)\"/>\n    </marker>\n  </defs>\n  <sodipodi:namedview bordercolor=\"#666666\" borderopacity=\"1.0\" id=\"base\" inkscape:current-layer=\"layer2\" inkscape:cx=\"293.47274\" inkscape:cy=\"103.00165\" inkscape:document-units=\"px\" inkscape:pageopacity=\"0.0\" inkscape:pageshadow=\"2\" inkscape:window-height=\"977\" inkscape:window-width=\"1280\" inkscape:window-x=\"-4\" inkscape:window-y=\"-4\" inkscape:zoom=\"1.4\" pagecolor=\"#ffffff\"/>\n  <metadata id=\"metadata6\">\n    <rdf:RDF>\n      <cc:Work rdf:about=\"\">\n        <dc:format>image/svg+xml</dc:format>\n        <dc:type rdf:resource=\"http://purl.org/dc/dcmitype/StillImage\"/>\n      </cc:Work>\n    </rdf:RDF>\n  </metadata>\n  <g id=\"layer2\" inkscape:groupmode=\"layer\" inkscape:label=\"0\" style=\"opacity:1\" transform=\"translate(-12.35714,-14.71932)\">\n    <path d=\"M 85.714286,182.36218 L 360.71429,182.36218\" id=\"path1933\" style=\"fill:none;fill-rule:evenodd;stroke:black;stroke-width:1px;stroke-linecap:butt;stroke-linejoin:miter;stroke-opacity:1\"/>\n    <rect height=\"133.57143\" id=\"rect1935\" style=\"opacity:1;fill:#d2d2ff;fill-opacity:1;stroke:none;stroke-width:1;stroke-linecap:round;stroke-linejoin:round;stroke-miterlimit:4;stroke-dasharray:none;stroke-dashoffset:0;stroke-opacity:1\" width=\"274.28571\" x=\"85.714287\" y=\"182.36218\"/>\n    <path d=\"M 77.142857,70.93361 L 223.21429,182.36218 L 339.28571,330.57647\" id=\"path2824\" style=\"fill:none;fill-rule:evenodd;stroke:black;stroke-width:1px;stroke-linecap:butt;stroke-linejoin:miter;stroke-opacity:1\"/>\n    <path d=\"M 354.28571,81.647895 L 223.21429,182.36218\" id=\"path2826\" style=\"fill:none;fill-rule:evenodd;stroke:black;stroke-width:1px;stroke-linecap:butt;stroke-linejoin:miter;stroke-opacity:1\"/>\n    <path d=\"M 223.21429,69.862181 L 223.21429,305.57647\" id=\"path2828\" style=\"fill:none;fill-rule:evenodd;stroke:black;stroke-width:1;stroke-linecap:butt;stroke-linejoin:miter;stroke-miterlimit:4;stroke-dasharray:4, 4;stroke-dashoffset:0;stroke-opacity:1\"/>\n    <path d=\"M 128.57143 108.25504 A 4.4642859 4.4642859 0 1 1  119.64285,108.25504 A 4.4642859 4.4642859 0 1 1  128.57143 108.25504 z\" id=\"path3715\" sodipodi:cx=\"124.10714\" sodipodi:cy=\"108.25504\" sodipodi:rx=\"4.4642859\" sodipodi:ry=\"4.4642859\" sodipodi:type=\"arc\" style=\"opacity:1;fill:black;fill-opacity:1;stroke:none;stroke-width:1;stroke-linecap:round;stroke-linejoin:round;stroke-miterlimit:4;stroke-dasharray:4, 4;stroke-dashoffset:0;stroke-opacity:1\" transform=\"matrix(0.8,0,0,0.8,23.21429,18.61529)\"/>\n    <path d=\"M 128.57143 108.25504 A 4.4642859 4.4642859 0 1 1  119.64285,108.25504 A 4.4642859 4.4642859 0 1 1  128.57143 108.25504 z\" id=\"path4602\" sodipodi:cx=\"124.10714\" sodipodi:cy=\"108.25504\" sodipodi:rx=\"4.4642859\" sodipodi:ry=\"4.4642859\" sodipodi:type=\"arc\" style=\"opacity:1;fill:black;fill-opacity:1;stroke:none;stroke-width:1;stroke-linecap:round;stroke-linejoin:round;stroke-miterlimit:4;stroke-dasharray:4, 4;stroke-dashoffset:0;stroke-opacity:1\" transform=\"matrix(0.8,0,0,0.8,42.85715,33.97243)\"/>\n    <path d=\"M 128.57143 108.25504 A 4.4642859 4.4642859 0 1 1  119.64285,108.25504 A 4.4642859 4.4642859 0 1 1  128.57143 108.25504 z\" id=\"path4604\" sodipodi:cx=\"124.10714\" sodipodi:cy=\"108.25504\" sodipodi:rx=\"4.4642859\" sodipodi:ry=\"4.4642859\" sodipodi:type=\"arc\" style=\"opacity:1;fill:black;fill-opacity:1;stroke:none;stroke-width:1;stroke-linecap:round;stroke-linejoin:round;stroke-miterlimit:4;stroke-dasharray:4, 4;stroke-dashoffset:0;stroke-opacity:1\" transform=\"matrix(0.8,0,0,0.8,62.85715,48.97243)\"/>\n    <path d=\"M 128.57143 108.25504 A 4.4642859 4.4642859 0 1 1  119.64285,108.25504 A 4.4642859 4.4642859 0 1 1  128.57143 108.25504 z\" id=\"path4606\" sodipodi:cx=\"124.10714\" sodipodi:cy=\"108.25504\" sodipodi:rx=\"4.4642859\" sodipodi:ry=\"4.4642859\" sodipodi:type=\"arc\" style=\"opacity:1;fill:black;fill-opacity:1;stroke:none;stroke-width:1;stroke-linecap:round;stroke-linejoin:round;stroke-miterlimit:4;stroke-dasharray:4, 4;stroke-dashoffset:0;stroke-opacity:1\" transform=\"matrix(0.8,0,0,0.8,82.5,63.97243)\"/>\n    <path d=\"M 128.57143 108.25504 A 4.4642859 4.4642859 0 1 1  119.64285,108.25504 A 4.4642859 4.4642859 0 1 1  128.57143 108.25504 z\" id=\"path4608\" sodipodi:cx=\"124.10714\" sodipodi:cy=\"108.25504\" sodipodi:rx=\"4.4642859\" sodipodi:ry=\"4.4642859\" sodipodi:type=\"arc\" style=\"opacity:1;fill:black;fill-opacity:1;stroke:none;stroke-width:1;stroke-linecap:round;stroke-linejoin:round;stroke-miterlimit:4;stroke-dasharray:4, 4;stroke-dashoffset:0;stroke-opacity:1\" transform=\"matrix(0.8,0,0,0.8,102.5,79.32958)\"/>\n    <path d=\"M 128.57143 108.25504 A 4.4642859 4.4642859 0 1 1  119.64285,108.25504 A 4.4642859 4.4642859 0 1 1  128.57143 108.25504 z\" id=\"path4610\" sodipodi:cx=\"124.10714\" sodipodi:cy=\"108.25504\" sodipodi:rx=\"4.4642859\" sodipodi:ry=\"4.4642859\" sodipodi:type=\"arc\" style=\"opacity:1;fill:black;fill-opacity:1;stroke:none;stroke-width:1;stroke-linecap:round;stroke-linejoin:round;stroke-miterlimit:4;stroke-dasharray:4, 4;stroke-dashoffset:0;stroke-opacity:1\" transform=\"matrix(0.8,0,0,0.8,146.4286,78.25815)\"/>\n    <path d=\"M 128.57143 108.25504 A 4.4642859 4.4642859 0 1 1  119.64285,108.25504 A 4.4642859 4.4642859 0 1 1  128.57143 108.25504 z\" id=\"path4612\" sodipodi:cx=\"124.10714\" sodipodi:cy=\"108.25504\" sodipodi:rx=\"4.4642859\" sodipodi:ry=\"4.4642859\" sodipodi:type=\"arc\" style=\"opacity:1;fill:black;fill-opacity:1;stroke:none;stroke-width:1;stroke-linecap:round;stroke-linejoin:round;stroke-miterlimit:4;stroke-dasharray:4, 4;stroke-dashoffset:0;stroke-opacity:1\" transform=\"matrix(0.8,0,0,0.8,165.7143,62.901)\"/>\n    <path d=\"M 128.57143 108.25504 A 4.4642859 4.4642859 0 1 1  119.64285,108.25504 A 4.4642859 4.4642859 0 1 1  128.57143 108.25504 z\" id=\"path4614\" sodipodi:cx=\"124.10714\" sodipodi:cy=\"108.25504\" sodipodi:rx=\"4.4642859\" sodipodi:ry=\"4.4642859\" sodipodi:type=\"arc\" style=\"opacity:1;fill:black;fill-opacity:1;stroke:none;stroke-width:1;stroke-linecap:round;stroke-linejoin:round;stroke-miterlimit:4;stroke-dasharray:4, 4;stroke-dashoffset:0;stroke-opacity:1\" transform=\"matrix(0.8,0,0,0.8,185.7143,47.901)\"/>\n    <path d=\"M 128.57143 108.25504 A 4.4642859 4.4642859 0 1 1  119.64285,108.25504 A 4.4642859 4.4642859 0 1 1  128.57143 108.25504 z\" id=\"path4616\" sodipodi:cx=\"124.10714\" sodipodi:cy=\"108.25504\" sodipodi:rx=\"4.4642859\" sodipodi:ry=\"4.4642859\" sodipodi:type=\"arc\" style=\"opacity:1;fill:black;fill-opacity:1;stroke:none;stroke-width:1;stroke-linecap:round;stroke-linejoin:round;stroke-miterlimit:4;stroke-dasharray:4, 4;stroke-dashoffset:0;stroke-opacity:1\" transform=\"matrix(0.8,0,0,0.8,205,32.901)\"/>\n    <path d=\"M 128.57143 108.25504 A 4.4642859 4.4642859 0 1 1  119.64285,108.25504 A 4.4642859 4.4642859 0 1 1  128.57143 108.25504 z\" id=\"path4618\" sodipodi:cx=\"124.10714\" sodipodi:cy=\"108.25504\" sodipodi:rx=\"4.4642859\" sodipodi:ry=\"4.4642859\" sodipodi:type=\"arc\" style=\"opacity:1;fill:black;fill-opacity:1;stroke:none;stroke-width:1;stroke-linecap:round;stroke-linejoin:round;stroke-miterlimit:4;stroke-dasharray:4, 4;stroke-dashoffset:0;stroke-opacity:1\" transform=\"matrix(0.8,0,0,0.8,225.3571,17.54386)\"/>\n    <path d=\"M 128.57143 108.25504 A 4.4642859 4.4642859 0 1 1  119.64285,108.25504 A 4.4642859 4.4642859 0 1 1  128.57143 108.25504 z\" id=\"path4620\" sodipodi:cx=\"124.10714\" sodipodi:cy=\"108.25504\" sodipodi:rx=\"4.4642859\" sodipodi:ry=\"4.4642859\" sodipodi:type=\"arc\" style=\"opacity:1;fill:black;fill-opacity:1;stroke:none;stroke-width:1;stroke-linecap:round;stroke-linejoin:round;stroke-miterlimit:4;stroke-dasharray:4, 4;stroke-dashoffset:0;stroke-opacity:1\" transform=\"matrix(0.8,0,0,0.8,139.6429,116.1153)\"/>\n    <path d=\"M 128.57143 108.25504 A 4.4642859 4.4642859 0 1 1  119.64285,108.25504 A 4.4642859 4.4642859 0 1 1  128.57143 108.25504 z\" id=\"path4622\" sodipodi:cx=\"124.10714\" sodipodi:cy=\"108.25504\" sodipodi:rx=\"4.4642859\" sodipodi:ry=\"4.4642859\" sodipodi:type=\"arc\" style=\"opacity:1;fill:black;fill-opacity:1;stroke:none;stroke-width:1;stroke-linecap:round;stroke-linejoin:round;stroke-miterlimit:4;stroke-dasharray:4, 4;stroke-dashoffset:0;stroke-opacity:1\" transform=\"matrix(0.8,0,0,0.8,186.4286,175.0439)\"/>\n    <path d=\"M 95.357143,77.183609 L 102.5,90.397895 L 88.035714,86.112181\" id=\"path7481\" style=\"fill:none;fill-rule:evenodd;stroke:black;stroke-width:1px;stroke-linecap:butt;stroke-linejoin:miter;stroke-opacity:1\"/>\n    <path d=\"M 338.57143,86.469323 L 353.75,81.826466 L 346.07143,94.683609\" id=\"path7483\" style=\"fill:none;fill-rule:evenodd;stroke:black;stroke-width:1px;stroke-linecap:butt;stroke-linejoin:miter;stroke-opacity:1\"/>\n    <path d=\"M 336.42857,316.82647 L 339.46429,330.75504 L 326.78571,323.79075\" id=\"path7485\" style=\"fill:none;fill-rule:evenodd;stroke:black;stroke-width:1px;stroke-linecap:butt;stroke-linejoin:miter;stroke-opacity:1\"/>\n    <path d=\"M 212.95868,170.66269 C 216.1887,166.42037 221.29222,163.68048 227.03178,163.68048\" id=\"path7487\" sodipodi:nodetypes=\"csc\" style=\"fill:none;fill-opacity:1;stroke:black;stroke-width:0.44437551;stroke-linecap:round;stroke-linejoin:round;stroke-miterlimit:4;stroke-dashoffset:0;stroke-opacity:1\" transform=\"matrix(2.250349,0,0,2.250349,-287.9096,-226.2559)\"/>\n    <path d=\"M 239.91123,169.48886 L 251.52798,185.14622 L 235.87062,197.52059\" id=\"path9260\" sodipodi:nodetypes=\"ccc\" style=\"fill:none;fill-rule:evenodd;stroke:black;stroke-width:1px;stroke-linecap:butt;stroke-linejoin:miter;stroke-opacity:1\"/>\n    <text id=\"text9262\" style=\"font-size:20px;font-style:normal;font-weight:normal;fill:black;fill-opacity:1;stroke:none;stroke-width:1px;stroke-linecap:butt;stroke-linejoin:miter;stroke-opacity:1;font-family:Arial\" x=\"199.00006\" xml:space=\"preserve\" y=\"136.40636\"><tspan id=\"tspan9264\" sodipodi:role=\"line\" x=\"199.00006\" y=\"136.40636\">θ</tspan></text>\n    <text id=\"text9266\" style=\"font-size:9px;font-style:normal;font-weight:normal;fill:black;fill-opacity:1;stroke:none;stroke-width:1px;stroke-linecap:butt;stroke-linejoin:miter;stroke-opacity:1;font-family:Arial\" x=\"210.11174\" xml:space=\"preserve\" y=\"139.43683\"><tspan id=\"tspan9268\" sodipodi:role=\"line\" x=\"210.11174\" y=\"139.43683\">B</tspan></text>\n    <g id=\"g2811\">\n      <path d=\"M 133.96527,90.542369 L 111.57305,119.89628\" id=\"path4624\" style=\"opacity:1;fill:none;fill-rule:evenodd;stroke:black;stroke-width:1;stroke-linecap:butt;stroke-linejoin:miter;marker-start:none;marker-mid:none;marker-end:none;stroke-miterlimit:4;stroke-dasharray:none;stroke-opacity:1\"/>\n      <path d=\"M 127,93.933601 L 133.96428,90.540744 L 132.53571,98.040744\" id=\"path2807\" style=\"fill:none;fill-rule:evenodd;stroke:black;stroke-width:1px;stroke-linecap:butt;stroke-linejoin:miter;stroke-opacity:1\"/>\n      <path d=\"M 118.33928,116.79075 L 111.375,120.1836 L 112.80357,112.6836\" id=\"path2809\" style=\"opacity:1;fill:none;fill-rule:evenodd;stroke:black;stroke-width:1px;stroke-linecap:butt;stroke-linejoin:miter;stroke-opacity:1\"/>\n    </g>\n    <g id=\"g2816\" style=\"opacity:1\" transform=\"translate(19.68701,15)\">\n      <path d=\"M 133.96527,90.542369 L 111.57305,119.89628\" id=\"path2818\" style=\"opacity:1;fill:none;fill-rule:evenodd;stroke:black;stroke-width:1;stroke-linecap:butt;stroke-linejoin:miter;marker-start:none;marker-mid:none;marker-end:none;stroke-miterlimit:4;stroke-dasharray:none;stroke-opacity:1\"/>\n      <path d=\"M 127,93.933601 L 133.96428,90.540744 L 132.53571,98.040744\" id=\"path2820\" style=\"fill:none;fill-rule:evenodd;stroke:black;stroke-width:1px;stroke-linecap:butt;stroke-linejoin:miter;stroke-opacity:1\"/>\n      <path d=\"M 118.33928,116.79075 L 111.375,120.1836 L 112.80357,112.6836\" id=\"path2822\" style=\"opacity:1;fill:none;fill-rule:evenodd;stroke:black;stroke-width:1px;stroke-linecap:butt;stroke-linejoin:miter;stroke-opacity:1\"/>\n    </g>\n    <g id=\"g2824\" style=\"opacity:1\" transform=\"translate(39.50843,30.17857)\">\n      <path d=\"M 133.96527,90.542369 L 111.57305,119.89628\" id=\"path2827\" style=\"opacity:1;fill:none;fill-rule:evenodd;stroke:black;stroke-width:1;stroke-linecap:butt;stroke-linejoin:miter;marker-start:none;marker-mid:none;marker-end:none;stroke-miterlimit:4;stroke-dasharray:none;stroke-opacity:1\"/>\n      <path d=\"M 127,93.933601 L 133.96428,90.540744 L 132.53571,98.040744\" id=\"path2829\" style=\"fill:none;fill-rule:evenodd;stroke:black;stroke-width:1px;stroke-linecap:butt;stroke-linejoin:miter;stroke-opacity:1\"/>\n      <path d=\"M 118.33928,116.79075 L 111.375,120.1836 L 112.80357,112.6836\" id=\"path2831\" style=\"opacity:1;fill:none;fill-rule:evenodd;stroke:black;stroke-width:1px;stroke-linecap:butt;stroke-linejoin:miter;stroke-opacity:1\"/>\n    </g>\n    <g id=\"g2833\" style=\"opacity:1\" transform=\"translate(59.32986,45)\">\n      <path d=\"M 133.96527,90.542369 L 111.57305,119.89628\" id=\"path2835\" style=\"opacity:1;fill:none;fill-rule:evenodd;stroke:black;stroke-width:1;stroke-linecap:butt;stroke-linejoin:miter;marker-start:none;marker-mid:none;marker-end:none;stroke-miterlimit:4;stroke-dasharray:none;stroke-opacity:1\"/>\n      <path d=\"M 127,93.933601 L 133.96428,90.540744 L 132.53571,98.040744\" id=\"path2837\" style=\"fill:none;fill-rule:evenodd;stroke:black;stroke-width:1px;stroke-linecap:butt;stroke-linejoin:miter;stroke-opacity:1\"/>\n      <path d=\"M 118.33928,116.79075 L 111.375,120.1836 L 112.80357,112.6836\" id=\"path2839\" style=\"opacity:1;fill:none;fill-rule:evenodd;stroke:black;stroke-width:1px;stroke-linecap:butt;stroke-linejoin:miter;stroke-opacity:1\"/>\n    </g>\n    <g id=\"g2841\" style=\"opacity:1\" transform=\"translate(79.32986,60.35714)\">\n      <path d=\"M 133.96527,90.542369 L 111.57305,119.89628\" id=\"path2843\" style=\"opacity:1;fill:none;fill-rule:evenodd;stroke:black;stroke-width:1;stroke-linecap:butt;stroke-linejoin:miter;marker-start:none;marker-mid:none;marker-end:none;stroke-miterlimit:4;stroke-dasharray:none;stroke-opacity:1\"/>\n      <path d=\"M 127,93.933601 L 133.96428,90.540744 L 132.53571,98.040744\" id=\"path2845\" style=\"fill:none;fill-rule:evenodd;stroke:black;stroke-width:1px;stroke-linecap:butt;stroke-linejoin:miter;stroke-opacity:1\"/>\n      <path d=\"M 118.33928,116.79075 L 111.375,120.1836 L 112.80357,112.6836\" id=\"path2847\" style=\"opacity:1;fill:none;fill-rule:evenodd;stroke:black;stroke-width:1px;stroke-linecap:butt;stroke-linejoin:miter;stroke-opacity:1\"/>\n    </g>\n    <g id=\"g2854\">\n      <path d=\"M 269.44253,210.71776 L 239.24843,234.36373\" id=\"path4628\" style=\"opacity:1;fill:none;fill-rule:evenodd;stroke:black;stroke-width:1;stroke-linecap:butt;stroke-linejoin:miter;marker-start:none;marker-end:none;stroke-miterlimit:4;stroke-dasharray:none;stroke-opacity:1\"/>\n      <path d=\"M 248.92857,197.07142 L 257.5,195.64285 L 253.75,203.5\" id=\"path2850\" sodipodi:nodetypes=\"ccc\" style=\"fill:none;fill-rule:evenodd;stroke:black;stroke-width:1px;stroke-linecap:butt;stroke-linejoin:miter;stroke-opacity:1\" transform=\"translate(12.35714,14.71932)\"/>\n      <path d=\"M 247.53571,233.04075 L 238.96428,234.46932 L 242.71428,226.61217\" id=\"path2852\" sodipodi:nodetypes=\"ccc\" style=\"opacity:1;fill:none;fill-rule:evenodd;stroke:black;stroke-width:1px;stroke-linecap:butt;stroke-linejoin:miter;stroke-opacity:1\"/>\n    </g>\n    <g id=\"g2859\" style=\"opacity:1\" transform=\"translate(15.80357,20.44643)\">\n      <path d=\"M 269.44253,210.71776 L 239.24843,234.36373\" id=\"path2861\" style=\"opacity:1;fill:none;fill-rule:evenodd;stroke:black;stroke-width:1;stroke-linecap:butt;stroke-linejoin:miter;marker-start:none;marker-end:none;stroke-miterlimit:4;stroke-dasharray:none;stroke-opacity:1\"/>\n      <path d=\"M 248.92857,197.07142 L 257.5,195.64285 L 253.75,203.5\" id=\"path2863\" sodipodi:nodetypes=\"ccc\" style=\"fill:none;fill-rule:evenodd;stroke:black;stroke-width:1px;stroke-linecap:butt;stroke-linejoin:miter;stroke-opacity:1\" transform=\"translate(12.35714,14.71932)\"/>\n      <path d=\"M 247.53571,233.04075 L 238.96428,234.46932 L 242.71428,226.61217\" id=\"path2865\" sodipodi:nodetypes=\"ccc\" style=\"opacity:1;fill:none;fill-rule:evenodd;stroke:black;stroke-width:1px;stroke-linecap:butt;stroke-linejoin:miter;stroke-opacity:1\"/>\n    </g>\n    <g id=\"g2871\" style=\"opacity:1\" transform=\"translate(46.16072,59.01786)\">\n      <path d=\"M 269.44253,210.71776 L 239.24843,234.36373\" id=\"path2873\" style=\"opacity:1;fill:none;fill-rule:evenodd;stroke:black;stroke-width:1;stroke-linecap:butt;stroke-linejoin:miter;marker-start:none;marker-end:none;stroke-miterlimit:4;stroke-dasharray:none;stroke-opacity:1\"/>\n      <path d=\"M 248.92857,197.07142 L 257.5,195.64285 L 253.75,203.5\" id=\"path2875\" sodipodi:nodetypes=\"ccc\" style=\"fill:none;fill-rule:evenodd;stroke:black;stroke-width:1px;stroke-linecap:butt;stroke-linejoin:miter;stroke-opacity:1\" transform=\"translate(12.35714,14.71932)\"/>\n      <path d=\"M 247.53571,233.04075 L 238.96428,234.46932 L 242.71428,226.61217\" id=\"path2877\" sodipodi:nodetypes=\"ccc\" style=\"opacity:1;fill:none;fill-rule:evenodd;stroke:black;stroke-width:1px;stroke-linecap:butt;stroke-linejoin:miter;stroke-opacity:1\"/>\n    </g>\n    <g id=\"g2879\" style=\"opacity:1\" transform=\"translate(61.33929,78.125)\">\n      <path d=\"M 269.44253,210.71776 L 239.24843,234.36373\" id=\"path2881\" style=\"opacity:1;fill:none;fill-rule:evenodd;stroke:black;stroke-width:1;stroke-linecap:butt;stroke-linejoin:miter;marker-start:none;marker-end:none;stroke-miterlimit:4;stroke-dasharray:none;stroke-opacity:1\"/>\n      <path d=\"M 248.92857,197.07142 L 257.5,195.64285 L 253.75,203.5\" id=\"path2883\" sodipodi:nodetypes=\"ccc\" style=\"fill:none;fill-rule:evenodd;stroke:black;stroke-width:1px;stroke-linecap:butt;stroke-linejoin:miter;stroke-opacity:1\" transform=\"translate(12.35714,14.71932)\"/>\n      <path d=\"M 247.53571,233.04075 L 238.96428,234.46932 L 242.71428,226.61217\" id=\"path2885\" sodipodi:nodetypes=\"ccc\" style=\"opacity:1;fill:none;fill-rule:evenodd;stroke:black;stroke-width:1px;stroke-linecap:butt;stroke-linejoin:miter;stroke-opacity:1\"/>\n    </g>\n  </g>\n  <g id=\"layer3\" inkscape:groupmode=\"layer\" inkscape:label=\"1\" transform=\"translate(-12.35714,-14.71932)\">\n    <text id=\"text9271\" style=\"font-size:20px;font-style:normal;font-weight:normal;text-align:center;text-anchor:middle;fill:black;fill-opacity:1;stroke:none;stroke-width:1px;stroke-linecap:butt;stroke-linejoin:miter;stroke-opacity:1;font-family:Arial\" x=\"82.327431\" xml:space=\"preserve\" y=\"40.189331\"><tspan id=\"tspan9273\" sodipodi:role=\"line\" x=\"82.327431\" y=\"40.189331\">Incident ray</tspan><tspan id=\"tspan9275\" sodipodi:role=\"line\" x=\"82.327431\" y=\"65.189331\">(unpolarised)</tspan></text>\n    <text id=\"text9277\" style=\"font-size:20px;font-style:normal;font-weight:normal;text-align:center;text-anchor:middle;fill:black;fill-opacity:1;stroke:none;stroke-width:1px;stroke-linecap:butt;stroke-linejoin:miter;stroke-opacity:1;font-family:Arial\" x=\"358.09909\" xml:space=\"preserve\" y=\"49.785782\"><tspan id=\"tspan9279\" sodipodi:role=\"line\" x=\"358.09909\" y=\"49.785782\">Reflected ray</tspan><tspan id=\"tspan9281\" sodipodi:role=\"line\" x=\"358.09909\" y=\"74.785782\">(polarised)</tspan></text>\n    <text id=\"text9283\" style=\"font-size:20px;font-style:normal;font-weight:normal;text-align:center;text-anchor:middle;fill:black;fill-opacity:1;stroke:none;stroke-width:1px;stroke-linecap:butt;stroke-linejoin:miter;stroke-opacity:1;font-family:Arial\" x=\"259.10413\" xml:space=\"preserve\" y=\"335.15387\"><tspan id=\"tspan9285\" sodipodi:role=\"line\" x=\"259.10413\" y=\"335.15387\">Refracted ray</tspan><tspan id=\"tspan9287\" sodipodi:role=\"line\" x=\"259.10413\" y=\"360.15387\">(slightly polarised)</tspan></text>\n  </g>\n</svg>"
          },
          "metadata": {
            "tags": []
          }
        }
      ]
    },
    {
      "cell_type": "markdown",
      "metadata": {
        "id": "afSvnHPtvGT_"
      },
      "source": [
        "$\\require{cancel}$\n",
        "上の図で，Snellの法則と幾何学的条件と整理すると\n",
        "\\begin{align}\n",
        "n_0 \\sin \\theta_{\\cancelto{\\rm B}{0}} &= n_1 \\sin\\theta_1\\\\\n",
        "\\theta_{\\cancelto{\\rm B}{0}} + \\theta_1 + \\dfrac{\\pi}{2} &= \\pi\n",
        "\\end{align}\n",
        "これを利用すると\n",
        "\\begin{align}\n",
        "n_0 \\sin \\theta_{\\rm B} \n",
        "&= n_1 \\sin\\left( \\dfrac{\\pi}{2} - \\theta_{\\rm B}\\right)\\\\\n",
        "n_0 \\sin \\theta_{\\rm B} &= n_1 \\cos \\theta_{\\rm B}\\\\[1mm]\n",
        "\\tan \\theta_{\\rm B} &= \\dfrac{n_1}{n_0}\\\\[2mm]\n",
        "\\theta_{\\rm B} &= \\arctan \\left( \\dfrac{n_1}{n_0}\\right)\n",
        "\\end{align}"
      ]
    },
    {
      "cell_type": "code",
      "metadata": {
        "colab": {
          "base_uri": "https://localhost:8080/",
          "height": 336
        },
        "id": "4gpkWoljpUM0",
        "outputId": "f112c6cb-1758-4348-b031-9d4a49d8e0ed",
        "cellView": "form"
      },
      "source": [
        "#@title 偏光の利用\n",
        "%%html\n",
        "<iframe width=\"560\" height=\"315\" src=\"https://www.youtube-nocookie.com/embed/bbGg6UvFF6U\" frameborder=\"0\" allow=\"accelerometer; autoplay; clipboard-write; encrypted-media; gyroscope; picture-in-picture\" allowfullscreen></iframe>"
      ],
      "execution_count": null,
      "outputs": [
        {
          "output_type": "display_data",
          "data": {
            "text/html": [
              "<iframe width=\"560\" height=\"315\" src=\"https://www.youtube-nocookie.com/embed/bbGg6UvFF6U\" frameborder=\"0\" allow=\"accelerometer; autoplay; clipboard-write; encrypted-media; gyroscope; picture-in-picture\" allowfullscreen></iframe>"
            ],
            "text/plain": [
              "<IPython.core.display.HTML object>"
            ]
          },
          "metadata": {
            "tags": []
          }
        }
      ]
    }
  ]
}