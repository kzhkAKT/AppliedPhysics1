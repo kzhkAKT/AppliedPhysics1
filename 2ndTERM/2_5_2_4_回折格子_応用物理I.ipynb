{
  "nbformat": 4,
  "nbformat_minor": 0,
  "metadata": {
    "colab": {
      "name": "2_5_2_4_回折格子_応用物理I",
      "provenance": [],
      "collapsed_sections": [],
      "authorship_tag": "ABX9TyOF7rBhdHjLikq17m88w5sY",
      "include_colab_link": true
    },
    "kernelspec": {
      "name": "python3",
      "display_name": "Python 3"
    }
  },
  "cells": [
    {
      "cell_type": "markdown",
      "metadata": {
        "id": "view-in-github",
        "colab_type": "text"
      },
      "source": [
        "<a href=\"https://colab.research.google.com/github/kzhkAKT/AppliedPhysics1/blob/draft/2ndTERM/2_5_2_4_%E5%9B%9E%E6%8A%98%E6%A0%BC%E5%AD%90_%E5%BF%9C%E7%94%A8%E7%89%A9%E7%90%86I.ipynb\" target=\"_parent\"><img src=\"https://colab.research.google.com/assets/colab-badge.svg\" alt=\"Open In Colab\"/></a>"
      ]
    },
    {
      "cell_type": "markdown",
      "metadata": {
        "id": "juYZLK7tiTXx"
      },
      "source": [
        "# 光波"
      ]
    },
    {
      "cell_type": "markdown",
      "metadata": {
        "id": "0bA2y3WHiXZG"
      },
      "source": [
        "## 光の回折と干渉"
      ]
    },
    {
      "cell_type": "code",
      "metadata": {
        "colab": {
          "base_uri": "https://localhost:8080/",
          "height": 336
        },
        "cellView": "form",
        "id": "s6yN6acMbZCh",
        "outputId": "a66bd659-622b-4e32-ebc1-1a7c8b5f8090"
      },
      "source": [
        "#@title Diffraction Grating\n",
        "%%html\n",
        "<iframe width=\"560\" height=\"315\" src=\"https://www.youtube-nocookie.com/embed/jzmqeRp_tmk\" frameborder=\"0\" allow=\"accelerometer; autoplay; clipboard-write; encrypted-media; gyroscope; picture-in-picture\" allowfullscreen></iframe>"
      ],
      "execution_count": 4,
      "outputs": [
        {
          "output_type": "display_data",
          "data": {
            "text/html": [
              "<iframe width=\"560\" height=\"315\" src=\"https://www.youtube-nocookie.com/embed/jzmqeRp_tmk\" frameborder=\"0\" allow=\"accelerometer; autoplay; clipboard-write; encrypted-media; gyroscope; picture-in-picture\" allowfullscreen></iframe>"
            ],
            "text/plain": [
              "<IPython.core.display.HTML object>"
            ]
          },
          "metadata": {
            "tags": []
          }
        }
      ]
    },
    {
      "cell_type": "code",
      "metadata": {
        "colab": {
          "base_uri": "https://localhost:8080/",
          "height": 475
        },
        "cellView": "form",
        "id": "w4uBsByLbagg",
        "outputId": "9b9722b2-2c04-4fdd-fd93-ad2f9dd2ca14"
      },
      "source": [
        "#@title Slits and Diffraction\n",
        "%%html\n",
        "<iframe src=\"https://phet.colorado.edu/sims/html/wave-interference/latest/wave-interference_en.html\" width=\"600\" height=\"450\" scrolling=\"no\" allowfullscreen></iframe>"
      ],
      "execution_count": 2,
      "outputs": [
        {
          "output_type": "display_data",
          "data": {
            "text/html": [
              "<iframe src=\"https://phet.colorado.edu/sims/html/wave-interference/latest/wave-interference_en.html\" width=\"600\" height=\"450\" scrolling=\"no\" allowfullscreen></iframe>"
            ],
            "text/plain": [
              "<IPython.core.display.HTML object>"
            ]
          },
          "metadata": {
            "tags": []
          }
        }
      ]
    },
    {
      "cell_type": "markdown",
      "metadata": {
        "id": "ZgpSphsvieZv"
      },
      "source": [
        "### 回折格子"
      ]
    },
    {
      "cell_type": "markdown",
      "metadata": {
        "id": "0DNXvzWRZR89"
      },
      "source": [
        "Diffraction grating\n",
        "\n",
        "- $d$: 格子定数(溝の幅)\n",
        "- $\\theta$: 回折角\n",
        "- $m$: 次数 $\\quad m=0, 1, 2, \\cdots$\n",
        "\n",
        "- $L$: 回折格子とスクリーンの距離"
      ]
    },
    {
      "cell_type": "markdown",
      "metadata": {
        "id": "xD2byT6LeXxO"
      },
      "source": [
        "![Multiple Slit Diffraction, lumen physics](https://s3-us-west-2.amazonaws.com/courses-images-archive-read-only/wp-content/uploads/sites/222/2014/12/20111415/Figure_28_04_04a.jpg)\n",
        "\n",
        "---\n",
        "https://courses.lumenlearning.com/physics/chapter/27-4-multiple-slit-diffraction/"
      ]
    },
    {
      "cell_type": "markdown",
      "metadata": {
        "id": "CFxOlpeOfhR3"
      },
      "source": [
        "![](https://s3-us-west-2.amazonaws.com/courses-images-archive-read-only/wp-content/uploads/sites/222/2014/12/20111413/Figure_28_04_03a.jpg)"
      ]
    },
    {
      "cell_type": "markdown",
      "metadata": {
        "id": "bbvB_uE5gVJc"
      },
      "source": [
        "#### 回折条件\n",
        "\n",
        "\\begin{align}\n",
        "\\varDelta\n",
        "&= m \\lambda \\qquad \\text{optical condition}\\\\\n",
        "&= d \\sin \\theta \\qquad \\text{grating condition}\\\\[3mm]\n",
        "%\n",
        "d \\sin \\theta &= m \\lambda\n",
        "\\end{align}"
      ]
    },
    {
      "cell_type": "markdown",
      "metadata": {
        "id": "zqBAMMMkhBZp"
      },
      "source": [
        "#### example on grating \n",
        "\n",
        "![](https://s3-us-west-2.amazonaws.com/courses-images-archive-read-only/wp-content/uploads/sites/222/2014/12/20111342/Figure_28_00_01a_D-350x232.jpg)"
      ]
    },
    {
      "cell_type": "code",
      "metadata": {
        "colab": {
          "base_uri": "https://localhost:8080/",
          "height": 336
        },
        "cellView": "form",
        "id": "pUpSEclPhbce",
        "outputId": "b6bef91f-095c-4abf-b46f-24670f553258"
      },
      "source": [
        "#@title 準備: 薄膜の干渉\n",
        "%%html\n",
        "<iframe width=\"560\" height=\"315\" src=\"https://www.youtube-nocookie.com/embed/WTxDyYHaYAI\" frameborder=\"0\" allow=\"accelerometer; autoplay; clipboard-write; encrypted-media; gyroscope; picture-in-picture\" allowfullscreen></iframe>"
      ],
      "execution_count": 6,
      "outputs": [
        {
          "output_type": "display_data",
          "data": {
            "text/html": [
              "<iframe width=\"560\" height=\"315\" src=\"https://www.youtube-nocookie.com/embed/WTxDyYHaYAI\" frameborder=\"0\" allow=\"accelerometer; autoplay; clipboard-write; encrypted-media; gyroscope; picture-in-picture\" allowfullscreen></iframe>"
            ],
            "text/plain": [
              "<IPython.core.display.HTML object>"
            ]
          },
          "metadata": {
            "tags": []
          }
        }
      ]
    }
  ]
}