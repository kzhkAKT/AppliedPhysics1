{
  "nbformat": 4,
  "nbformat_minor": 0,
  "metadata": {
    "colab": {
      "name": "2_5_2_1_光路長_応用物理I",
      "provenance": [],
      "collapsed_sections": [],
      "toc_visible": true,
      "authorship_tag": "ABX9TyPViC1FuQVzgjpg8uC9H+79",
      "include_colab_link": true
    },
    "kernelspec": {
      "name": "python3",
      "display_name": "Python 3"
    }
  },
  "cells": [
    {
      "cell_type": "markdown",
      "metadata": {
        "id": "view-in-github",
        "colab_type": "text"
      },
      "source": [
        "<a href=\"https://colab.research.google.com/github/kzhkAKT/AppliedPhysics1/blob/draft/2ndTERM/2_5_2_1_%E5%85%89%E8%B7%AF%E9%95%B7_%E5%BF%9C%E7%94%A8%E7%89%A9%E7%90%86I.ipynb\" target=\"_parent\"><img src=\"https://colab.research.google.com/assets/colab-badge.svg\" alt=\"Open In Colab\"/></a>"
      ]
    },
    {
      "cell_type": "markdown",
      "metadata": {
        "id": "juYZLK7tiTXx"
      },
      "source": [
        "# 光波"
      ]
    },
    {
      "cell_type": "markdown",
      "metadata": {
        "id": "0bA2y3WHiXZG"
      },
      "source": [
        "## 光の回折と干渉"
      ]
    },
    {
      "cell_type": "markdown",
      "metadata": {
        "id": "ZgpSphsvieZv"
      },
      "source": [
        "### 光路長 $nL$"
      ]
    },
    {
      "cell_type": "markdown",
      "metadata": {
        "id": "OABDNDsojG6t"
      },
      "source": [
        "#### 屈折率 $n$ の媒質中の光の速度 $v$ と波長 $\\lambda'$"
      ]
    },
    {
      "cell_type": "markdown",
      "metadata": {
        "id": "hBMpgv9uQaSe"
      },
      "source": [
        "光の屈折の関係を利用すると\n",
        "- 真空: 速度 $=$ 光速: $c$, 入射角 $i$, 波長 $\\lambda$\n",
        "- 媒質中: 速度 $\\lneqq$ 光速: $v$, 屈折角 $r$, 波長$\\lambda'$\n",
        "\n",
        "\\begin{align}\n",
        "\\dfrac{\\sin i}{\\sin r} = \\dfrac{\\lambda}{\\lambda'} = \\dfrac{c}{v} = n > 1\n",
        "\\end{align}\n",
        "より,\n",
        "\\begin{align}\n",
        "v = \\dfrac{c}{n} < c , \\qquad \\lambda' = \\dfrac{\\lambda}{n} < \\lambda\n",
        "\\end{align}\n",
        "\n",
        "つまり, 屈折率 $n(>1)$ の媒質中では,\n",
        "  - 光の速度は遅くなり\n",
        "  - 波長が縮まる\n",
        "\n",
        "ことがわかります。"
      ]
    },
    {
      "cell_type": "markdown",
      "metadata": {
        "id": "S_ZsJAYOyUaT"
      },
      "source": [
        "$\\require{cancel}$\n",
        "光波の射線方向に沿って, 屈折率 $n(>1)$ の媒質中を, 長さ $L$ だけ進む時間は\n",
        "\n",
        "\\begin{align}\n",
        "t &= \\dfrac{L}{v} = \\dfrac{L}{\\frac{c}{n}} = \\dfrac{nL}{c} \\\\[3mm]\n",
        "c t &= n L\n",
        "\\end{align}\n",
        "\n",
        "> $nL$ を **光路長/工学的距離** といいます.\n",
        ">> これは屈折率 $n$ の媒質中を光が距離 $L$ だけ進むのと同じ時間に, *真空中を* 光が進む距離に相当します.\n",
        "\n",
        "> Q. 教科書上巻 p141 図2.70 光路長 の図 (a,b)  媒質中の波の数と $nL$ の波の数が等しいことを確認してください."
      ]
    }
  ]
}