{
  "nbformat": 4,
  "nbformat_minor": 0,
  "metadata": {
    "colab": {
      "name": "2_5_2_2_反射による位相の変化_応用物理I",
      "provenance": [],
      "authorship_tag": "ABX9TyN5rYTBB0410TGOYiQ8Srs1",
      "include_colab_link": true
    },
    "kernelspec": {
      "name": "python3",
      "display_name": "Python 3"
    }
  },
  "cells": [
    {
      "cell_type": "markdown",
      "metadata": {
        "id": "view-in-github",
        "colab_type": "text"
      },
      "source": [
        "<a href=\"https://colab.research.google.com/github/kzhkAKT/AppliedPhysics1/blob/draft/2ndTERM/2_5_2_2_%E5%8F%8D%E5%B0%84%E3%81%AB%E3%82%88%E3%82%8B%E4%BD%8D%E7%9B%B8%E3%81%AE%E5%A4%89%E5%8C%96_%E5%BF%9C%E7%94%A8%E7%89%A9%E7%90%86I.ipynb\" target=\"_parent\"><img src=\"https://colab.research.google.com/assets/colab-badge.svg\" alt=\"Open In Colab\"/></a>"
      ]
    },
    {
      "cell_type": "markdown",
      "metadata": {
        "id": "juYZLK7tiTXx"
      },
      "source": [
        "# 光波"
      ]
    },
    {
      "cell_type": "markdown",
      "metadata": {
        "id": "0bA2y3WHiXZG"
      },
      "source": [
        "## 光の回折と干渉"
      ]
    },
    {
      "cell_type": "markdown",
      "metadata": {
        "id": "ZgpSphsvieZv"
      },
      "source": [
        "### 反射による光の位相の変化\n"
      ]
    },
    {
      "cell_type": "code",
      "metadata": {
        "id": "CjAy6OhZtgZF",
        "colab": {
          "base_uri": "https://localhost:8080/",
          "height": 475
        },
        "cellView": "form",
        "outputId": "d77eadd3-d013-4e47-c2dc-198d3cd8ecf4"
      },
      "source": [
        "#@title 光の屈折: Intro + Wave\n",
        "%%HTML\n",
        "<iframe src=\"https://phet.colorado.edu/sims/html/bending-light/latest/bending-light_en.html\" width=\"600\" height=\"450\" scrolling=\"no\" allowfullscreen></iframe>"
      ],
      "execution_count": 2,
      "outputs": [
        {
          "output_type": "display_data",
          "data": {
            "text/html": [
              "<iframe src=\"https://phet.colorado.edu/sims/html/bending-light/latest/bending-light_en.html\" width=\"600\" height=\"450\" scrolling=\"no\" allowfullscreen></iframe>"
            ],
            "text/plain": [
              "<IPython.core.display.HTML object>"
            ]
          },
          "metadata": {
            "tags": []
          }
        }
      ]
    },
    {
      "cell_type": "code",
      "metadata": {
        "colab": {
          "base_uri": "https://localhost:8080/",
          "height": 475
        },
        "cellView": "form",
        "id": "7gXqcU912fut",
        "outputId": "63992d85-0dea-4d3b-dfe5-848ce8e61fc0"
      },
      "source": [
        "#@title 媒質の工学的な粗密による反射: 固定端と自由端\n",
        "%%html\n",
        "<iframe src=\"https://phet.colorado.edu/sims/html/wave-on-a-string/latest/wave-on-a-string_en.html\" width=\"600\" height=\"450\" scrolling=\"no\" allowfullscreen></iframe>"
      ],
      "execution_count": 4,
      "outputs": [
        {
          "output_type": "display_data",
          "data": {
            "text/html": [
              "<iframe src=\"https://phet.colorado.edu/sims/html/wave-on-a-string/latest/wave-on-a-string_en.html\" width=\"600\" height=\"450\" scrolling=\"no\" allowfullscreen></iframe>"
            ],
            "text/plain": [
              "<IPython.core.display.HTML object>"
            ]
          },
          "metadata": {
            "tags": []
          }
        }
      ]
    },
    {
      "cell_type": "markdown",
      "metadata": {
        "id": "CU2KzNs3gr-g"
      },
      "source": [
        "\n",
        "\n",
        "正弦波の反射では, 隣り合う山と谷の位相差は $\\pi$ です.\n",
        "\n",
        "これを踏まえて\n",
        "- 自由端では端の媒質が自由に動ける\n",
        "  - 反射波の位相と入射波の位相は変わらない: 山は山/谷は谷\n",
        "  - 入射波と反射波の方向は変わるが,\n",
        "   反射面に対して線対称な位置関係になる.\n",
        "- 固定端では端の媒質が, 固定されているため\n",
        "  - 反射波の位相は入射波に比べて $\\pi$ だけ変化する: 山は谷/谷は山\n",
        "  - 入射波と反射波の方向は変わるが, 入射面と媒質の初めの位置を\n",
        "  原点とした点対称な位置関係になる.\n",
        "\n",
        "\n",
        "> Q. 教科書 上巻 p110, 111 で反射の様子を確認し, 教科書 上巻 p142 の入射光に対する, 反射光 と 屈折光(透過光) の位相を確認してください."
      ]
    }
  ]
}