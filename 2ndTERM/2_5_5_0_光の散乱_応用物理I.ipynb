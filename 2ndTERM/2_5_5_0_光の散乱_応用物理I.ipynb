{
  "nbformat": 4,
  "nbformat_minor": 0,
  "metadata": {
    "colab": {
      "name": "2_5_5_0_光の散乱_応用物理I",
      "provenance": [],
      "collapsed_sections": [],
      "authorship_tag": "ABX9TyN2knpR3oNmvg1iGZclJYN+",
      "include_colab_link": true
    },
    "kernelspec": {
      "name": "python3",
      "display_name": "Python 3"
    }
  },
  "cells": [
    {
      "cell_type": "markdown",
      "metadata": {
        "id": "view-in-github",
        "colab_type": "text"
      },
      "source": [
        "<a href=\"https://colab.research.google.com/github/kzhkAKT/AppliedPhysics1/blob/draft/2ndTERM/2_5_5_0_%E5%85%89%E3%81%AE%E6%95%A3%E4%B9%B1_%E5%BF%9C%E7%94%A8%E7%89%A9%E7%90%86I.ipynb\" target=\"_parent\"><img src=\"https://colab.research.google.com/assets/colab-badge.svg\" alt=\"Open In Colab\"/></a>"
      ]
    },
    {
      "cell_type": "markdown",
      "metadata": {
        "id": "juYZLK7tiTXx"
      },
      "source": [
        "# 光波"
      ]
    },
    {
      "cell_type": "markdown",
      "metadata": {
        "id": "z2zvoQXpFgpB"
      },
      "source": [
        "## 光の散乱"
      ]
    },
    {
      "cell_type": "markdown",
      "metadata": {
        "id": "6jXZYizQFbEB"
      },
      "source": [
        "![](https://upload.wikimedia.org/wikipedia/commons/thumb/c/c0/The_Coorong_South_Australia.jpg/640px-The_Coorong_South_Australia.jpg)"
      ]
    },
    {
      "cell_type": "markdown",
      "metadata": {
        "id": "v0BtnncyFEgX"
      },
      "source": [
        "[散乱される紫外線, 出典 気象庁](https://www.data.jma.go.jp/gmd/env/uvhp/3-75uvindex_mini.html)"
      ]
    }
  ]
}