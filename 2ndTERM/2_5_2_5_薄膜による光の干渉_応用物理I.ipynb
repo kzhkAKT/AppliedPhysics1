{
  "nbformat": 4,
  "nbformat_minor": 0,
  "metadata": {
    "colab": {
      "name": "2_5_2_5_薄膜による光の干渉_応用物理I",
      "provenance": [],
      "toc_visible": true,
      "authorship_tag": "ABX9TyPnOF/8ku53FY2JSjTXeoQ2",
      "include_colab_link": true
    },
    "kernelspec": {
      "name": "python3",
      "display_name": "Python 3"
    }
  },
  "cells": [
    {
      "cell_type": "markdown",
      "metadata": {
        "id": "view-in-github",
        "colab_type": "text"
      },
      "source": [
        "<a href=\"https://colab.research.google.com/github/kzhkAKT/AppliedPhysics1/blob/draft/2ndTERM/2_5_2_5_%E8%96%84%E8%86%9C%E3%81%AB%E3%82%88%E3%82%8B%E5%85%89%E3%81%AE%E5%B9%B2%E6%B8%89_%E5%BF%9C%E7%94%A8%E7%89%A9%E7%90%86I.ipynb\" target=\"_parent\"><img src=\"https://colab.research.google.com/assets/colab-badge.svg\" alt=\"Open In Colab\"/></a>"
      ]
    },
    {
      "cell_type": "markdown",
      "metadata": {
        "id": "juYZLK7tiTXx"
      },
      "source": [
        "# 光波"
      ]
    },
    {
      "cell_type": "markdown",
      "metadata": {
        "id": "0bA2y3WHiXZG"
      },
      "source": [
        "## 光の回折と干渉"
      ]
    },
    {
      "cell_type": "markdown",
      "metadata": {
        "id": "H7zAJ1I-vwF0"
      },
      "source": [
        "### 薄膜による光の干渉"
      ]
    },
    {
      "cell_type": "markdown",
      "metadata": {
        "id": "4dQkPVTtv_Q9"
      },
      "source": [
        "![https://en.wikipedia.org/wiki/Thin-film_interference](https://upload.wikimedia.org/wikipedia/commons/thumb/0/06/Dieselrainbow.jpg/269px-Dieselrainbow.jpg)\n",
        "![https://en.wikipedia.org/wiki/Thin-film_interference](https://upload.wikimedia.org/wikipedia/commons/thumb/1/18/Soap_bubble_sky.jpg/320px-Soap_bubble_sky.jpg)"
      ]
    },
    {
      "cell_type": "markdown",
      "metadata": {
        "id": "Y7d2hG1k21VX"
      },
      "source": [
        "#### $\\varDelta_0$: 経路のみによる光路差"
      ]
    },
    {
      "cell_type": "markdown",
      "metadata": {
        "id": "FCFoi4bZw5_u"
      },
      "source": [
        "\n",
        "$\\require{cancel}$\n",
        "\\begin{align}\n",
        "\\varDelta_{0}\n",
        "&= \\overline{\\rm ACB'E}_{n:n_0} - \\overline{\\rm A'B'E}_{n_0}\\\\\n",
        "&= \\overline{\\rm ACB'}_{n}+ \\bcancel{\\overline{\\rm B'E}_{n_0}}\n",
        " - \n",
        " \\left( \\overline{\\rm A'B'}_{n} + \\bcancel{\\overline{\\rm B'E}_{n_0}}\\right)\\\\\n",
        "&= \\overline{\\rm ACB'}_{n} -  \\overline{\\rm A'B'}_{n_0}\\\\\n",
        "&= \\overline{\\rm AC}_{n} + \\overline{\\rm CB'}_{n} \n",
        "-  \\overline{\\rm A'B'}_{n_0}\\\\[2mm]\n",
        "%\n",
        "&= n \\left( \\overline{\\rm AC}  + \\overline{\\rm CB'}\\right)\n",
        " - n_0 \\overline{\\rm A'B'}\\\\\n",
        "%\n",
        "&= n \\left( \\cancel{\\overline{\\rm AB}}  + \\overline{\\rm BC} + \\overline{\\rm CB'}\\right)\n",
        " - n_0 \\cancel{\\overline{\\rm A'B'}}\\\\[2mm]\n",
        " &=n \\left( \\overline{\\rm BC} + \\overline{\\rm CB'}\\right)\n",
        " =n \\left( \\overline{\\rm BC} + \\overline{\\rm CD}\\right)\n",
        " =n \\overline{\\rm BD}\\\\[2mm]\n",
        " %\n",
        "\\varDelta_{0} &=n\\ 2d  \\cos r\n",
        "\\end{align}"
      ]
    },
    {
      "cell_type": "markdown",
      "metadata": {
        "id": "cPtiNjXg3DOH"
      },
      "source": [
        "#### $\\varDelta_1$膜の上層または下層面での光路差(位相差)\n",
        "\n",
        "\\begin{align}\n",
        "\\varDelta_1 &= \\text{A: 固定端反射(位相差$\\pi$)} + \\text{C: 自由端反射(位相差$0$)} \\\\\n",
        "&= \\dfrac{\\lambda}{2} + 0\n",
        "\\end{align}"
      ]
    },
    {
      "cell_type": "markdown",
      "metadata": {
        "id": "yPumKFPT5Rjd"
      },
      "source": [
        "#### $\\varDelta$ : 総合的な光路差 \n",
        "\n",
        "\\begin{align}\n",
        "\\varDelta &= \\varDelta_0 + \\varDelta_1\\\\\n",
        "&= 2 n d \\cos r + \\dfrac{\\lambda}{2}\n",
        "\\end{align}\n",
        "\n",
        "この光路差に光学的明暗線の条件\n",
        "\\begin{align}\n",
        "\\varDelta=\\begin{cases}\n",
        "m \\lambda\\\\\n",
        "\\left(m+\\dfrac{1}{2}\\right)m\n",
        "\\end{cases},\n",
        "\\quad m = 0, 1, 2, 3, \\cdots\n",
        "\\end{align}\n",
        "を適用することで, 物理量をある程度決定することができます."
      ]
    },
    {
      "cell_type": "code",
      "metadata": {
        "colab": {
          "base_uri": "https://localhost:8080/",
          "height": 651
        },
        "cellView": "form",
        "id": "Sy6_g50J62Zw",
        "outputId": "4682ef15-8aec-4fb2-d9bb-3b138e7a8d42"
      },
      "source": [
        "#@title 明線条件の概念図\n",
        "%%svg\n",
        "https://upload.wikimedia.org/wikipedia/commons/d/d1/Thin_film_interference_phase_1.svg"
      ],
      "execution_count": 3,
      "outputs": [
        {
          "output_type": "display_data",
          "data": {
            "text/plain": [
              "<IPython.core.display.SVG object>"
            ],
            "image/svg+xml": "<svg height=\"609.96875\" id=\"svg3091\" inkscape:version=\"0.48.0 r9654\" sodipodi:docname=\"thin film1.svg\" version=\"1.1\" width=\"1061.5938\" xmlns=\"http://www.w3.org/2000/svg\" xmlns:cc=\"http://creativecommons.org/ns#\" xmlns:dc=\"http://purl.org/dc/elements/1.1/\" xmlns:inkscape=\"http://www.inkscape.org/namespaces/inkscape\" xmlns:rdf=\"http://www.w3.org/1999/02/22-rdf-syntax-ns#\" xmlns:sodipodi=\"http://sodipodi.sourceforge.net/DTD/sodipodi-0.dtd\" xmlns:svg=\"http://www.w3.org/2000/svg\">\n  <defs id=\"defs3093\">\n    <inkscape:path-effect effect=\"spiro\" id=\"path-effect4720\" is_visible=\"true\"/>\n    <clipPath clipPathUnits=\"userSpaceOnUse\" id=\"clipPath4068\">\n      <rect height=\"473.30008\" id=\"rect4070\" rx=\"13.000001\" ry=\"13\" style=\"fill:#0000ff;fill-rule:evenodd;stroke:#000000;stroke-width:1px;stroke-linecap:butt;stroke-linejoin:miter;stroke-opacity:1\" width=\"913.43896\" x=\"-186.90831\" y=\"111.79134\"/>\n    </clipPath>\n    <clipPath clipPathUnits=\"userSpaceOnUse\" id=\"clipPath4081\">\n      <rect height=\"466.43692\" id=\"rect4083\" rx=\"13.000001\" ry=\"13\" style=\"fill:#0000ff;fill-rule:evenodd;stroke:#000000;stroke-width:1px;stroke-linecap:butt;stroke-linejoin:miter;stroke-opacity:1\" width=\"925.47009\" x=\"-192.46114\" y=\"121.27435\"/>\n    </clipPath>\n    <clipPath clipPathUnits=\"userSpaceOnUse\" id=\"clipPath4085\">\n      <rect height=\"466.43692\" id=\"rect4087\" rx=\"13.000001\" ry=\"13\" style=\"fill:#0000ff;fill-rule:evenodd;stroke:#000000;stroke-width:1px;stroke-linecap:butt;stroke-linejoin:miter;stroke-opacity:1\" width=\"925.47009\" x=\"-192.46114\" y=\"121.27435\"/>\n    </clipPath>\n    <clipPath clipPathUnits=\"userSpaceOnUse\" id=\"clipPath4089\">\n      <rect height=\"466.43692\" id=\"rect4091\" rx=\"13.000001\" ry=\"13\" style=\"fill:#0000ff;fill-rule:evenodd;stroke:#000000;stroke-width:1px;stroke-linecap:butt;stroke-linejoin:miter;stroke-opacity:1\" width=\"925.47009\" x=\"-192.46114\" y=\"121.27435\"/>\n    </clipPath>\n    <clipPath clipPathUnits=\"userSpaceOnUse\" id=\"clipPath4105\">\n      <rect height=\"460.88409\" id=\"rect4107\" rx=\"13.000001\" ry=\"13\" style=\"fill:#0000ff;fill-rule:evenodd;stroke:#000000;stroke-width:1px;stroke-linecap:butt;stroke-linejoin:miter;stroke-opacity:1\" width=\"919.91724\" x=\"-190.61018\" y=\"115.72153\"/>\n    </clipPath>\n  </defs>\n  <sodipodi:namedview bordercolor=\"#666666\" borderopacity=\"1.0\" fit-margin-bottom=\"0\" fit-margin-left=\"0\" fit-margin-right=\"0\" fit-margin-top=\"0\" id=\"base\" inkscape:current-layer=\"g3987\" inkscape:cx=\"530.79688\" inkscape:cy=\"304.98437\" inkscape:document-units=\"px\" inkscape:guide-bbox=\"true\" inkscape:pageopacity=\"0.0\" inkscape:pageshadow=\"2\" inkscape:snap-global=\"false\" inkscape:window-height=\"790\" inkscape:window-maximized=\"0\" inkscape:window-width=\"560\" inkscape:window-x=\"576\" inkscape:window-y=\"10\" inkscape:zoom=\"0.32871067\" pagecolor=\"#ffffff\" showgrid=\"false\" showguides=\"true\">\n    <inkscape:grid empspacing=\"5\" enabled=\"true\" id=\"grid4039\" snapvisiblegridlinesonly=\"true\" type=\"xygrid\" visible=\"true\"/>\n    <sodipodi:guide id=\"guide4045\" orientation=\"0,1\" position=\"130.07632,132.8526\"/>\n  </sodipodi:namedview>\n  <metadata id=\"metadata3096\">\n    <rdf:RDF>\n      <cc:Work rdf:about=\"\">\n        <dc:format>image/svg+xml</dc:format>\n        <dc:type rdf:resource=\"http://purl.org/dc/dcmitype/StillImage\"/>\n        <dc:title/>\n      </cc:Work>\n    </rdf:RDF>\n  </metadata>\n  <g id=\"layer1\" inkscape:groupmode=\"layer\" inkscape:label=\"Layer 1\" transform=\"translate(265.15831,19.89616)\">\n    <g id=\"g3987\">\n      <path d=\"m 204.96269,563.86083 c 1.11781,-0.81574 4.67793,-12.76015 18.03793,-20.70262 13.35989,-7.94264 35.06104,0.28351 51.15833,-9.00181 16.0973,-9.28532 16.56451,-31.34734 34.19889,-41.623 17.6344,-10.27567 35.85537,-0.39706 51.84612,-9.62576 15.99072,-9.22868 18.10206,-31.57414 34.49948,-41.56014 16.39744,-9.98599 34.48741,0.25603 52.25188,-10.02105 17.7645,-10.2771 18.7343,-32.35111 34.80551,-41.5845 16.07122,-9.23339 35.22184,-0.0785 50.44074,-8.76066 15.21887,-8.68221 20.78345,-33.74999 37.03275,-43.24377 16.24929,-9.49378 34.28124,0.98555 51.09416,-9.14755 16.81291,-10.1331 17.02359,-31.93901 35.24659,-41.75987 18.22302,-9.82088 35.96504,0.77553 51.05266,-9.2113 15.0876,-9.98681 14.02035,-18.16354 17.71332,-20.79618\" id=\"path4043\" inkscape:connector-curvature=\"0\" inkscape:transform-center-x=\"-388.88986\" inkscape:transform-center-y=\"-180.87901\" sodipodi:nodetypes=\"szzzzzzzzzzzzc\" style=\"fill:none;stroke:#f11b1b;stroke-width:5.00000048;stroke-linecap:butt;stroke-linejoin:miter;stroke-miterlimit:4;stroke-opacity:1;stroke-dasharray:5.00000005, 5.00000005;stroke-dashoffset:0\"/>\n      <path clip-path=\"url(#clipPath4089)\" d=\"m -158.73912,212.8754 c -5.50248,13.71719 -8.7026,25.78557 -3.14657,31.12189 5.55603,5.33632 76.308556,-29.78354 90.061796,-17.02274 13.75324,12.76079 -31.762526,75.23284 -18.83026,89.82178 12.93227,14.58894 74.826388,-30.48272 90.04981298,-16.23534 15.22343502,14.24738 -32.14193998,76.923 -18.22594798,89.62789 13.915989,12.70488 75.658311,-30.15381 88.974051,-18.29964 13.31574,11.85415 -30.86399,79.18048 -17.14795,92.48097 13.71603,13.3005 76.016918,-32.40393 89.514168,-17.75008 13.49724,14.65385 -34.90195,77.21284 -17.66919,89.75206 17.23276,12.53922 79.17167,-33.25193 89.28199,-17.53088 10.11032,15.72104 -10.50625,40.16797 -8.45312,44.5574\" id=\"path4049\" inkscape:connector-curvature=\"0\" sodipodi:nodetypes=\"czzzzzzzzzzc\" style=\"fill:none;stroke:#ee2424;stroke-width:2.20000005;stroke-linecap:butt;stroke-linejoin:miter;stroke-miterlimit:4;stroke-opacity:1;stroke-dasharray:none;stroke-dashoffset:0\"/>\n      <path d=\"m 382.05075,446.63908 c 2.21727,-5.80311 4.31853,-12.23813 10.66433,-16.17816 7.51876,-4.48015 42.93099,9.17899 59.10569,-9.4e-4 16.1747,-9.17992 9.89667,-40.50672 27.58374,-50.71104 17.68708,-10.20432 42.30856,8.46451 58.3747,-0.66156 16.06611,-9.12605 11.64599,-40.44274 27.95893,-50.54573 16.31294,-10.103 40.89192,9.05079 58.7325,-1.12279 17.8406,-10.17359 12.15362,-41.39087 28.31354,-50.50337 16.15991,-9.11249 41.65749,8.75904 56.97943,0.21747 15.32189,-8.54156 14.14548,-42.86859 30.4355,-52.30735\" id=\"path4053\" inkscape:connector-curvature=\"0\" inkscape:transform-center-x=\"-24.957875\" inkscape:transform-center-y=\"60.140338\" sodipodi:nodetypes=\"cczzzzzzzc\" style=\"fill:none;stroke:#000000;stroke-width:5;stroke-linecap:butt;stroke-linejoin:miter;stroke-miterlimit:4;stroke-opacity:1;stroke-dasharray:5.00000006, 5.00000006;stroke-dashoffset:0\"/>\n      <path clip-path=\"url(#clipPath4085)\" d=\"m -61.411207,39.094869 c 0.576094,1.38422 -18.587167,32.638399 -7.641336,43.99155 C -58.106711,94.439576 7.13853,52.197215 20.966118,65.059444 34.793722,77.921673 -13.765417,140.88973 1.149526,155.27802 c 14.914937,14.3883 76.373822,-29.61578 90.098994,-16.82479 13.72516,12.79098 -31.92778,75.16285 -19.027603,89.78018 12.900177,14.61732 74.893203,-30.31822 90.085273,-16.03741 15.19209,14.28079 -32.3109,76.85218 -18.42286,89.58761 13.88804,12.73544 75.7244,-29.98748 89.01405,-18.10407 13.28965,11.88339 -31.03792,79.11247 -17.35114,92.44307 13.68677,13.33061 76.08794,-32.2368 89.55295,-17.55334 13.46501,14.68348 -35.07153,77.13596 -17.86637,89.71302 17.20516,12.57706 84.3246,-25.14036 89.3203,-17.33464 4.9957,7.80572 2.43305,17.73993 -1.17189,26.30862\" id=\"path4051\" inkscape:connector-curvature=\"0\" sodipodi:nodetypes=\"szzzzzzzzzzzzc\" style=\"fill:none;stroke:#000000;stroke-width:2.70000005;stroke-linecap:butt;stroke-linejoin:miter;stroke-miterlimit:4;stroke-opacity:1;stroke-dasharray:none\"/>\n      <path clip-path=\"url(#clipPath4081)\" d=\"m 379.18541,460.99905 c 0.0515,-10.00916 2.42119,-47.22677 8.73671,-51.241 7.5745,-4.39039 53.69535,45.2936 70.21295,36.73928 16.51759,-8.5543 -6.88119,-73.07225 11.09999,-82.74928 17.98117,-9.67704 59.01815,40.77034 75.42111,32.25836 16.40291,-8.51198 -4.58023,-71.94262 11.6673,-82.21226 16.24752,-10.26966 57.46546,41.09621 75.66079,31.56715 18.19535,-9.52904 -4.3832,-73.4944 12.14804,-81.92611 16.53124,-8.43169 58.31678,40.96887 74.03869,33.16571 15.72185,-7.80317 -2.51818,-75.22302 14.02301,-84.21433 16.5414,-8.99097 57.92298,43.00656 74.69822,32.78906 16.7753,-10.21745 -6.76816,-74.28019 12.68719,-81.92739 19.45557,-7.64721 60.48496,44.35681 74.55961,32.55256 14.07477,-11.80422 3.34588,-37.16716 6.58474,-40.61135\" id=\"path4055\" inkscape:connector-curvature=\"0\" inkscape:transform-center-x=\"-62.113861\" inkscape:transform-center-y=\"136.11588\" sodipodi:nodetypes=\"cczzzzzzzzzzzc\" style=\"fill:#000000;stroke:#5e994b;stroke-width:5;stroke-linecap:butt;stroke-linejoin:miter;stroke-miterlimit:4;stroke-opacity:1;stroke-dasharray:none;stroke-dashoffset:0;fill-opacity:0\"/>\n      <rect height=\"111.98188\" id=\"rect4077\" rx=\"13.000001\" ry=\"13\" style=\"opacity:0.42307691;fill:#0000ff;fill-rule:evenodd;stroke:#000000;stroke-width:1px;stroke-linecap:butt;stroke-linejoin:miter;stroke-opacity:1\" width=\"906.03522\" x=\"-179.50455\" y=\"458.14548\"/>\n      <text id=\"text4187\" sodipodi:linespacing=\"125%\" style=\"font-size:40px;font-style:normal;font-weight:normal;line-height:125%;letter-spacing:0px;word-spacing:0px;fill:#ff0000;fill-opacity:1;stroke:none;font-family:Bitstream Vera Sans\" transform=\"translate(-186.90831,111.79134)\" x=\"-3.7018802\" xml:space=\"preserve\" y=\"63.160275\"><tspan id=\"tspan4189\" sodipodi:role=\"line\" x=\"-3.7018802\" y=\"63.160275\">A</tspan></text>\n      <text id=\"text4191\" sodipodi:linespacing=\"125%\" style=\"font-size:40px;font-style:normal;font-weight:normal;line-height:125%;letter-spacing:0px;word-spacing:0px;fill:#000000;fill-opacity:1;stroke:none;font-family:Bitstream Vera Sans\" transform=\"translate(-186.90831,111.79134)\" x=\"162.88274\" xml:space=\"preserve\" y=\"-23.833914\"><tspan id=\"tspan4193\" sodipodi:role=\"line\" x=\"162.88274\" y=\"-23.833914\">B</tspan></text>\n      <text id=\"text4722\" sodipodi:linespacing=\"125%\" style=\"font-size:40px;font-style:normal;font-weight:normal;line-height:125%;letter-spacing:0px;word-spacing:0px;fill:#5e994b;fill-opacity:0.90588235;stroke:none;font-family:Bitstream Vera Sans\" x=\"743.73218\" xml:space=\"preserve\" y=\"211.46976\"><tspan id=\"tspan4724\" sodipodi:role=\"line\" x=\"743.73218\" y=\"211.46976\">C</tspan></text>\n    </g>\n  </g>\n</svg>"
          },
          "metadata": {
            "tags": []
          }
        }
      ]
    },
    {
      "cell_type": "code",
      "metadata": {
        "colab": {
          "base_uri": "https://localhost:8080/",
          "height": 651
        },
        "cellView": "form",
        "id": "4tK5ZJC1636O",
        "outputId": "bceef797-82d5-428c-f73f-800d2b8b7f1f"
      },
      "source": [
        "#@title 暗線条件の概念図\n",
        "%%svg\n",
        "https://upload.wikimedia.org/wikipedia/commons/5/55/Thin_film_interference_phase_2.svg"
      ],
      "execution_count": 2,
      "outputs": [
        {
          "output_type": "display_data",
          "data": {
            "text/plain": [
              "<IPython.core.display.SVG object>"
            ],
            "image/svg+xml": "<svg height=\"609.96997\" id=\"svg3091\" inkscape:version=\"0.48.0 r9654\" sodipodi:docname=\"thin film phase2.svg\" version=\"1.1\" width=\"1061.59\" xmlns=\"http://www.w3.org/2000/svg\" xmlns:cc=\"http://creativecommons.org/ns#\" xmlns:dc=\"http://purl.org/dc/elements/1.1/\" xmlns:inkscape=\"http://www.inkscape.org/namespaces/inkscape\" xmlns:rdf=\"http://www.w3.org/1999/02/22-rdf-syntax-ns#\" xmlns:sodipodi=\"http://sodipodi.sourceforge.net/DTD/sodipodi-0.dtd\" xmlns:svg=\"http://www.w3.org/2000/svg\">\n  <defs id=\"defs3093\">\n    <clipPath clipPathUnits=\"userSpaceOnUse\" id=\"clipPath4068\">\n      <rect height=\"473.30008\" id=\"rect4070\" rx=\"13.000001\" ry=\"13\" style=\"fill:#0000ff;fill-rule:evenodd;stroke:#000000;stroke-width:1px;stroke-linecap:butt;stroke-linejoin:miter;stroke-opacity:1\" width=\"913.43896\" x=\"-186.90831\" y=\"111.79134\"/>\n    </clipPath>\n    <clipPath clipPathUnits=\"userSpaceOnUse\" id=\"clipPath4081\">\n      <rect height=\"466.43692\" id=\"rect4083\" rx=\"13.000001\" ry=\"13\" style=\"fill:#0000ff;fill-rule:evenodd;stroke:#000000;stroke-width:1px;stroke-linecap:butt;stroke-linejoin:miter;stroke-opacity:1\" width=\"925.47009\" x=\"-192.46114\" y=\"121.27435\"/>\n    </clipPath>\n    <clipPath clipPathUnits=\"userSpaceOnUse\" id=\"clipPath4085\">\n      <rect height=\"466.43692\" id=\"rect4087\" rx=\"13.000001\" ry=\"13\" style=\"fill:#0000ff;fill-rule:evenodd;stroke:#000000;stroke-width:1px;stroke-linecap:butt;stroke-linejoin:miter;stroke-opacity:1\" width=\"925.47009\" x=\"-192.46114\" y=\"121.27435\"/>\n    </clipPath>\n    <clipPath clipPathUnits=\"userSpaceOnUse\" id=\"clipPath4089\">\n      <rect height=\"466.43692\" id=\"rect4091\" rx=\"13.000001\" ry=\"13\" style=\"fill:#0000ff;fill-rule:evenodd;stroke:#000000;stroke-width:1px;stroke-linecap:butt;stroke-linejoin:miter;stroke-opacity:1\" width=\"925.47009\" x=\"-192.46114\" y=\"121.27435\"/>\n    </clipPath>\n    <clipPath clipPathUnits=\"userSpaceOnUse\" id=\"clipPath4105\">\n      <rect height=\"460.88409\" id=\"rect4107\" rx=\"13.000001\" ry=\"13\" style=\"fill:#0000ff;fill-rule:evenodd;stroke:#000000;stroke-width:1px;stroke-linecap:butt;stroke-linejoin:miter;stroke-opacity:1\" width=\"919.91724\" x=\"-190.61018\" y=\"115.72153\"/>\n    </clipPath>\n    <clipPath clipPathUnits=\"userSpaceOnUse\" id=\"clipPath4131\">\n      <rect height=\"455.33127\" id=\"rect4133\" rx=\"13.000001\" ry=\"13\" style=\"fill:#0000ff;fill-rule:evenodd;stroke:#000000;stroke-width:1px;stroke-linecap:butt;stroke-linejoin:miter;stroke-opacity:1\" width=\"908.81158\" x=\"-183.20644\" y=\"114.79606\"/>\n    </clipPath>\n  </defs>\n  <sodipodi:namedview bordercolor=\"#666666\" borderopacity=\"1.0\" fit-margin-bottom=\"0\" fit-margin-left=\"0\" fit-margin-right=\"0\" fit-margin-top=\"0\" id=\"base\" inkscape:current-layer=\"g3987\" inkscape:cx=\"569.00603\" inkscape:cy=\"406.52192\" inkscape:document-units=\"px\" inkscape:guide-bbox=\"true\" inkscape:pageopacity=\"0.0\" inkscape:pageshadow=\"2\" inkscape:snap-global=\"false\" inkscape:window-height=\"776\" inkscape:window-maximized=\"0\" inkscape:window-width=\"549\" inkscape:window-x=\"638\" inkscape:window-y=\"-5\" inkscape:zoom=\"0.35499595\" pagecolor=\"#ffffff\" showgrid=\"false\" showguides=\"true\">\n    <inkscape:grid empspacing=\"5\" enabled=\"true\" id=\"grid4039\" snapvisiblegridlinesonly=\"true\" type=\"xygrid\" visible=\"true\"/>\n    <sodipodi:guide id=\"guide3113\" orientation=\"0,1\" position=\"338.03203,109.86041\"/>\n  </sodipodi:namedview>\n  <metadata id=\"metadata3096\">\n    <rdf:RDF>\n      <cc:Work rdf:about=\"\">\n        <dc:format>image/svg+xml</dc:format>\n        <dc:type rdf:resource=\"http://purl.org/dc/dcmitype/StillImage\"/>\n        <dc:title/>\n      </cc:Work>\n    </rdf:RDF>\n  </metadata>\n  <g id=\"layer1\" inkscape:groupmode=\"layer\" inkscape:label=\"Layer 1\" transform=\"translate(334.00206,-102.60259)\">\n    <g id=\"g3987\">\n      <path d=\"m 92.285358,679.35513 c 1.40463,-1.09112 5.87824,-17.06783 22.666292,-27.69159 16.78792,-10.62399 44.05738,0.37922 64.28509,-12.04072 20.22772,-12.41994 20.81481,-41.92985 42.97401,-55.67446 22.15923,-13.74462 45.05553,-0.5311 65.14936,-12.87531 20.09379,-12.34418 22.74688,-42.23322 43.35173,-55.59038 20.60487,-13.35715 43.33656,0.34247 65.65923,-13.40404 22.32271,-13.74654 23.54135,-43.27248 43.73628,-55.62296 20.19495,-12.35048 44.25944,-0.105 63.38337,-11.71816 19.1239,-11.61323 26.1163,-45.14361 46.53502,-57.84239 20.4187,-12.69877 43.07749,1.31826 64.20445,-12.23566\" id=\"path4043\" inkscape:connector-curvature=\"0\" inkscape:transform-center-x=\"-488.67543\" inkscape:transform-center-y=\"-241.94172\" sodipodi:nodetypes=\"szzzzzzzzzc\" style=\"fill:none;stroke:#f11b1b;stroke-width:5.00000048;stroke-linecap:butt;stroke-linejoin:miter;stroke-miterlimit:4;stroke-opacity:1;stroke-dasharray:5.00000019, 5.00000019;stroke-dashoffset:0\"/>\n      <path clip-path=\"url(#clipPath4089)\" d=\"m -80.616912,280.61606 c -8.445545,14.8399 -16.080663,29.36266 -10.037242,36.18027 6.043421,6.81761 74.826388,-30.48272 90.04981298,-16.23534 15.22343502,14.24738 -32.14193998,76.923 -18.22594798,89.62789 13.915989,12.70488 75.658311,-30.15381 88.974051,-18.29964 13.31574,11.85415 -30.86399,79.18048 -17.14795,92.48097 13.71603,13.3005 76.016918,-32.40393 89.514168,-17.75008 13.49724,14.65385 -34.90195,77.21284 -17.66919,89.75206 17.23276,12.53922 79.17167,-33.25193 89.28199,-17.53088 10.11032,15.72104 -10.50625,40.16797 -8.45312,44.5574\" id=\"path4049\" inkscape:connector-curvature=\"0\" sodipodi:nodetypes=\"czzzzzzzzc\" style=\"fill:none;stroke:#ee2424;stroke-width:1.71050584;stroke-linecap:butt;stroke-linejoin:miter;stroke-miterlimit:4;stroke-opacity:1;stroke-dasharray:none;stroke-dashoffset:0\" transform=\"matrix(1.2266697,0,0,1.3485548,-161.84857,-80.881065)\"/>\n      <path d=\"m 266.20413,571.15363 c 2.74154,-8.46972 8.50894,-26.88201 16.3552,-32.63254 9.29658,-6.53884 53.08205,13.39686 73.08126,-10e-4 19.99922,-13.39822 12.23675,-59.12013 34.10593,-74.01348 21.8692,-14.89334 52.31244,12.35408 72.17743,-0.96555 19.86495,-13.3196 14.39969,-59.02675 34.56983,-73.7722 20.17014,-14.74547 59.09268,7.46675 72.61983,-1.63873 13.52715,-9.10548 16.11488,-29.76065 20.70065,-47.44325\" id=\"path4053\" inkscape:connector-curvature=\"0\" inkscape:transform-center-x=\"-30.859177\" inkscape:transform-center-y=\"87.77584\" sodipodi:nodetypes=\"cczzzzzc\" style=\"fill:none;stroke:#000000;stroke-width:5;stroke-linecap:butt;stroke-linejoin:miter;stroke-miterlimit:4;stroke-opacity:1;stroke-dasharray:5.00000001, 5.00000001;stroke-dashoffset:0\"/>\n      <path clip-path=\"url(#clipPath4085)\" d=\"m 76.53832,195.8964 c -5.610703,14.13805 -9.257587,26.73923 -4.317403,32.33701 4.940184,5.59778 74.893203,-30.31822 90.085273,-16.03741 15.19209,14.28079 -32.3109,76.85218 -18.42286,89.58761 13.88804,12.73544 75.7244,-29.98748 89.01405,-18.10407 13.28965,11.88339 -31.03792,79.11247 -17.35114,92.44307 13.68677,13.33061 76.08794,-32.2368 89.55295,-17.55334 13.46501,14.68348 -35.07153,77.13596 -17.86637,89.71302 17.20516,12.57706 82.2631,-26.42288 89.3203,-17.33464 7.0572,9.08824 1.51229,20.9154 -3.35417,30.8579\" id=\"path4051\" inkscape:connector-curvature=\"0\" sodipodi:nodetypes=\"czzzzzzzzc\" style=\"fill:none;stroke:#000000;stroke-width:2.06495428;stroke-linecap:butt;stroke-linejoin:miter;stroke-miterlimit:4;stroke-opacity:1;stroke-dasharray:none\" transform=\"matrix(1.3072792,0,0,1.3077909,-229.23971,-30.856115)\"/>\n      <g id=\"g4117\" style=\"stroke:#5e994b;stroke-opacity:1\" transform=\"translate(-112.67734,115.49428)\">\n        <path clip-path=\"url(#clipPath4081)\" d=\"m 379.80889,447.52851 c 1.06322,-14.76788 3.56499,-34.87953 8.11323,-37.77046 7.5745,-4.39039 53.69535,45.2936 70.21295,36.73928 16.51759,-8.5543 -6.88119,-73.07225 11.09999,-82.74928 17.98117,-9.67704 59.01815,40.77034 75.42111,32.25836 16.40291,-8.51198 -4.58023,-71.94262 11.6673,-82.21226 16.24752,-10.26966 57.46546,41.09621 75.66079,31.56715 18.19535,-9.52904 -4.3832,-73.4944 12.14804,-81.92611\" id=\"path4055\" inkscape:connector-curvature=\"0\" inkscape:transform-center-x=\"-12.964422\" inkscape:transform-center-y=\"48.493185\" sodipodi:nodetypes=\"cczzzzzc\" style=\"fill:none;stroke:#5e994b;stroke-width:7.60201597;stroke-linecap:butt;stroke-linejoin:miter;stroke-miterlimit:4;stroke-opacity:1;stroke-dasharray:none;stroke-dashoffset:0\" transform=\"matrix(0.9858924,-0.41909176,-0.38786621,0.60366368,178.05307,347.73137)\"/>\n      </g>\n      <rect height=\"111.98188\" id=\"rect4077\" rx=\"13.000001\" ry=\"13\" style=\"opacity:0.42307691;fill:#0000ff;fill-rule:evenodd;stroke:#000000;stroke-width:1px;stroke-linecap:butt;stroke-linejoin:miter;stroke-opacity:1\" width=\"906.03522\" x=\"-292.18188\" y=\"573.63977\"/>\n      <text id=\"text4135\" sodipodi:linespacing=\"125%\" style=\"font-size:40px;font-style:normal;font-weight:normal;line-height:125%;letter-spacing:0px;word-spacing:0px;fill:#ff0000;fill-opacity:1;stroke:none;font-family:Bitstream Vera Sans\" x=\"-290.30328\" xml:space=\"preserve\" y=\"258.651\"><tspan id=\"tspan4137\" sodipodi:role=\"line\" x=\"-290.30328\" y=\"258.651\">A</tspan></text>\n      <text id=\"text4139\" sodipodi:linespacing=\"125%\" style=\"font-size:40px;font-style:normal;font-weight:normal;line-height:125%;letter-spacing:0px;word-spacing:0px;fill:#000000;fill-opacity:1;stroke:none;font-family:Bitstream Vera Sans\" x=\"-145.1458\" xml:space=\"preserve\" y=\"195.42488\"><tspan id=\"tspan4141\" sodipodi:role=\"line\" x=\"-145.1458\" y=\"195.42488\">B</tspan></text>\n      <text id=\"text4726\" sodipodi:linespacing=\"125%\" style=\"font-size:40px;font-style:normal;font-weight:normal;line-height:125%;letter-spacing:0px;word-spacing:0px;fill:#5e994b;fill-opacity:1;stroke:none;font-family:Bitstream Vera Sans\" x=\"632.91571\" xml:space=\"preserve\" y=\"341.05396\"><tspan id=\"tspan4728\" sodipodi:role=\"line\" x=\"632.91571\" y=\"341.05396\">C</tspan></text>\n    </g>\n  </g>\n</svg>"
          },
          "metadata": {
            "tags": []
          }
        }
      ]
    },
    {
      "cell_type": "code",
      "metadata": {
        "id": "z4RYfxpa7AMV"
      },
      "source": [
        ""
      ],
      "execution_count": null,
      "outputs": []
    }
  ]
}