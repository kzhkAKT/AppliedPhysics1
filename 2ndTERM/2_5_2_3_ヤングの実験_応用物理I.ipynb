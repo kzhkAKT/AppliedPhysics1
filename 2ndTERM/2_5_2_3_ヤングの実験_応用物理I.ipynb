{
  "nbformat": 4,
  "nbformat_minor": 0,
  "metadata": {
    "colab": {
      "name": "2_5_2_3_ヤングの実験_応用物理I",
      "provenance": [],
      "authorship_tag": "ABX9TyNegdOC8z9b+kSGOt/o6MAp",
      "include_colab_link": true
    },
    "kernelspec": {
      "name": "python3",
      "display_name": "Python 3"
    }
  },
  "cells": [
    {
      "cell_type": "markdown",
      "metadata": {
        "id": "view-in-github",
        "colab_type": "text"
      },
      "source": [
        "<a href=\"https://colab.research.google.com/github/kzhkAKT/AppliedPhysics1/blob/draft/2ndTERM/2_5_2_3_%E3%83%A4%E3%83%B3%E3%82%B0%E3%81%AE%E5%AE%9F%E9%A8%93_%E5%BF%9C%E7%94%A8%E7%89%A9%E7%90%86I.ipynb\" target=\"_parent\"><img src=\"https://colab.research.google.com/assets/colab-badge.svg\" alt=\"Open In Colab\"/></a>"
      ]
    },
    {
      "cell_type": "markdown",
      "metadata": {
        "id": "juYZLK7tiTXx"
      },
      "source": [
        "# 光波"
      ]
    },
    {
      "cell_type": "markdown",
      "metadata": {
        "id": "0bA2y3WHiXZG"
      },
      "source": [
        "## 光の回折と干渉"
      ]
    },
    {
      "cell_type": "markdown",
      "source": [
        "次のシュミレータを手順に従って、いろいろ条件を変え表示してみて下さい。  \n",
        "光以外の波動についても、復習を兼ねて表示を試してください。"
      ],
      "metadata": {
        "id": "PsHVsnjVMdQU"
      }
    },
    {
      "cell_type": "code",
      "source": [
        "#@title 干渉の基本\n",
        "#@markdown 手順\n",
        "#@markdown 1. スリット > 2つのスリット > レーザー  +　スクリーン を選ぶ\n",
        "#@markdown 2. スリットの幅や、スリット間の距離を変えて、\n",
        "%%html\n",
        "<iframe src=\"https://phet.colorado.edu/sims/html/wave-interference/latest/wave-interference_ja.html\"\n",
        "        width=\"800\"\n",
        "        height=\"600\"\n",
        "        allowfullscreen>\n",
        "</iframe>"
      ],
      "metadata": {
        "cellView": "form",
        "id": "3RMA2kDgUTPf",
        "outputId": "c473cfc3-7bf1-4355-8cc1-51796ceb60cc",
        "colab": {
          "base_uri": "https://localhost:8080/",
          "height": 625
        }
      },
      "execution_count": null,
      "outputs": [
        {
          "output_type": "display_data",
          "data": {
            "text/plain": [
              "<IPython.core.display.HTML object>"
            ],
            "text/html": [
              "<iframe src=\"https://phet.colorado.edu/sims/html/wave-interference/latest/wave-interference_ja.html\"\n",
              "        width=\"800\"\n",
              "        height=\"600\"\n",
              "        allowfullscreen>\n",
              "</iframe>\n"
            ]
          },
          "metadata": {}
        }
      ]
    },
    {
      "cell_type": "code",
      "source": [
        "#@markdown procedure, 英語版\n",
        "#@markdown 1. choose \"Slits\", \"Two Slits\", and \"LASER\", with \"Screen\".\n",
        "#@markdown 2. change \"Slit Width\" and \"Slit Separation\".\n",
        "%%html\n",
        "<iframe src=\"https://phet.colorado.edu/sims/html/wave-interference/latest/wave-interference_en.html\"\n",
        "        width=\"800\"\n",
        "        height=\"600\"\n",
        "        allowfullscreen>\n",
        "</iframe>"
      ],
      "metadata": {
        "cellView": "form",
        "id": "Sk6J5nOlKoMu",
        "outputId": "8e266349-2a89-49ed-ce8d-e8a5ccda512d",
        "colab": {
          "base_uri": "https://localhost:8080/",
          "height": 625
        }
      },
      "execution_count": null,
      "outputs": [
        {
          "output_type": "display_data",
          "data": {
            "text/plain": [
              "<IPython.core.display.HTML object>"
            ],
            "text/html": [
              "<iframe src=\"https://phet.colorado.edu/sims/html/wave-interference/latest/wave-interference_en.html\"\n",
              "        width=\"800\"\n",
              "        height=\"600\"\n",
              "        allowfullscreen>\n",
              "</iframe>\n"
            ]
          },
          "metadata": {}
        }
      ]
    },
    {
      "cell_type": "code",
      "source": [
        "#@markdown 復習:波の干渉\n",
        "%%html\n",
        "<iframe width=\"560\" height=\"315\" src=\"https://www.youtube-nocookie.com/embed/O81Cilon10M?si=_cPBFvEniQ3lWqZo\" title=\"YouTube video player\" frameborder=\"0\" allow=\"accelerometer; autoplay; clipboard-write; encrypted-media; gyroscope; picture-in-picture; web-share\" allowfullscreen></iframe>"
      ],
      "metadata": {
        "cellView": "form",
        "id": "dLhX71d_OjYG",
        "outputId": "e60199e5-cf53-4c85-cdac-48ba73f3983d",
        "colab": {
          "base_uri": "https://localhost:8080/",
          "height": 336
        }
      },
      "execution_count": null,
      "outputs": [
        {
          "output_type": "display_data",
          "data": {
            "text/plain": [
              "<IPython.core.display.HTML object>"
            ],
            "text/html": [
              "<iframe width=\"560\" height=\"315\" src=\"https://www.youtube-nocookie.com/embed/O81Cilon10M?si=_cPBFvEniQ3lWqZo\" title=\"YouTube video player\" frameborder=\"0\" allow=\"accelerometer; autoplay; clipboard-write; encrypted-media; gyroscope; picture-in-picture; web-share\" allowfullscreen></iframe>\n"
            ]
          },
          "metadata": {}
        }
      ]
    },
    {
      "cell_type": "code",
      "source": [
        "#@markdown 実際の実験の動画(長尺)\n",
        "%%html\n",
        "<iframe width=\"560\" height=\"315\" src=\"https://www.youtube-nocookie.com/embed/nuaHY5lj2AA?si=0iq3BViOFmj4_VMR\" title=\"YouTube video player\" frameborder=\"0\" allow=\"accelerometer; autoplay; clipboard-write; encrypted-media; gyroscope; picture-in-picture; web-share\" allowfullscreen></iframe>"
      ],
      "metadata": {
        "cellView": "form",
        "id": "mo4MwHFrPcRa",
        "outputId": "b52e1f67-104e-4288-9d75-f28e63772eec",
        "colab": {
          "base_uri": "https://localhost:8080/",
          "height": 336
        }
      },
      "execution_count": null,
      "outputs": [
        {
          "output_type": "display_data",
          "data": {
            "text/plain": [
              "<IPython.core.display.HTML object>"
            ],
            "text/html": [
              "<iframe width=\"560\" height=\"315\" src=\"https://www.youtube-nocookie.com/embed/nuaHY5lj2AA?si=0iq3BViOFmj4_VMR\" title=\"YouTube video player\" frameborder=\"0\" allow=\"accelerometer; autoplay; clipboard-write; encrypted-media; gyroscope; picture-in-picture; web-share\" allowfullscreen></iframe>\n"
            ]
          },
          "metadata": {}
        }
      ]
    },
    {
      "cell_type": "markdown",
      "metadata": {
        "id": "ZgpSphsvieZv"
      },
      "source": [
        "### ヤングの実験"
      ]
    },
    {
      "cell_type": "code",
      "metadata": {
        "colab": {
          "base_uri": "https://localhost:8080/",
          "height": 488
        },
        "id": "Zdje5VsNYfgI",
        "cellView": "form",
        "outputId": "546e1089-fb50-4dd3-8c58-a4db269f911f"
      },
      "source": [
        "#@title 光学的干渉の概念図\n",
        "%%svg\n",
        "# https://en.wikipedia.org/wiki/Double-slit_experiment\n",
        "https://upload.wikimedia.org/wikipedia/commons/4/4e/Doubleslit.svg"
      ],
      "execution_count": null,
      "outputs": [
        {
          "output_type": "display_data",
          "data": {
            "text/plain": [
              "<IPython.core.display.SVG object>"
            ],
            "image/svg+xml": "<svg height=\"467\" id=\"svg3536\" inkscape:version=\"0.48.2 r9819\" sodipodi:docname=\"Doubleslit.svg\" version=\"1.0\" width=\"514\" xmlns=\"http://www.w3.org/2000/svg\" xmlns:cc=\"http://creativecommons.org/ns#\" xmlns:dc=\"http://purl.org/dc/elements/1.1/\" xmlns:inkscape=\"http://www.inkscape.org/namespaces/inkscape\" xmlns:rdf=\"http://www.w3.org/1999/02/22-rdf-syntax-ns#\" xmlns:sodipodi=\"http://sodipodi.sourceforge.net/DTD/sodipodi-0.dtd\" xmlns:svg=\"http://www.w3.org/2000/svg\" xmlns:xlink=\"http://www.w3.org/1999/xlink\">\n  <metadata id=\"metadata3201\">\n    <rdf:RDF>\n      <cc:Work rdf:about=\"\">\n        <dc:format>image/svg+xml</dc:format>\n        <dc:type rdf:resource=\"http://purl.org/dc/dcmitype/StillImage\"/>\n        <dc:title/>\n      </cc:Work>\n    </rdf:RDF>\n  </metadata>\n  <sodipodi:namedview bordercolor=\"#666666\" borderopacity=\"1\" gridtolerance=\"10\" guidetolerance=\"10\" height=\"514px\" id=\"namedview3199\" inkscape:current-layer=\"layer1\" inkscape:cx=\"355.5\" inkscape:cy=\"257\" inkscape:pageopacity=\"0\" inkscape:pageshadow=\"2\" inkscape:window-height=\"768\" inkscape:window-maximized=\"0\" inkscape:window-width=\"1116\" inkscape:window-x=\"1541\" inkscape:window-y=\"48\" inkscape:zoom=\"0.97470817\" objecttolerance=\"10\" pagecolor=\"#ffffff\" showgrid=\"false\">\n    <inkscape:grid empspacing=\"5\" enabled=\"true\" id=\"grid3380\" snapvisiblegridlinesonly=\"true\" type=\"xygrid\" visible=\"true\"/>\n  </sodipodi:namedview>\n  <defs id=\"defs3538\">\n    <linearGradient id=\"linearGradient4043\">\n      <stop id=\"stop4069\" offset=\"0\" style=\"stop-color:#ffffff;stop-opacity:1\"/>\n      <stop id=\"stop4103\" offset=\"0.03125\" style=\"stop-color:#000000;stop-opacity:1\"/>\n      <stop id=\"stop4087\" offset=\"0.0625\" style=\"stop-color:#ffffff;stop-opacity:1\"/>\n      <stop id=\"stop4105\" offset=\"0.09375\" style=\"stop-color:#000000;stop-opacity:1\"/>\n      <stop id=\"stop4079\" offset=\"0.125\" style=\"stop-color:#ffffff;stop-opacity:1\"/>\n      <stop id=\"stop4107\" offset=\"0.15625\" style=\"stop-color:#000000;stop-opacity:1\"/>\n      <stop id=\"stop4089\" offset=\"0.1875\" style=\"stop-color:#ffffff;stop-opacity:1\"/>\n      <stop id=\"stop4109\" offset=\"0.21875\" style=\"stop-color:#000000;stop-opacity:1\"/>\n      <stop id=\"stop4077\" offset=\"0.25\" style=\"stop-color:#ffffff;stop-opacity:1\"/>\n      <stop id=\"stop4111\" offset=\"0.28125\" style=\"stop-color:#000000;stop-opacity:1\"/>\n      <stop id=\"stop4091\" offset=\"0.3125\" style=\"stop-color:#ffffff;stop-opacity:1\"/>\n      <stop id=\"stop4113\" offset=\"0.34375\" style=\"stop-color:#000000;stop-opacity:1\"/>\n      <stop id=\"stop4081\" offset=\"0.375\" style=\"stop-color:#ffffff;stop-opacity:1\"/>\n      <stop id=\"stop4115\" offset=\"0.40625\" style=\"stop-color:#000000;stop-opacity:1\"/>\n      <stop id=\"stop4093\" offset=\"0.4375\" style=\"stop-color:#ffffff;stop-opacity:1\"/>\n      <stop id=\"stop4117\" offset=\"0.46875\" style=\"stop-color:#000000;stop-opacity:1\"/>\n      <stop id=\"stop4071\" offset=\"0.5\" style=\"stop-color:#ffffff;stop-opacity:1\"/>\n      <stop id=\"stop4119\" offset=\"0.53125\" style=\"stop-color:#000000;stop-opacity:1\"/>\n      <stop id=\"stop4095\" offset=\"0.5625\" style=\"stop-color:#ffffff;stop-opacity:1\"/>\n      <stop id=\"stop4121\" offset=\"0.59375\" style=\"stop-color:#000000;stop-opacity:1\"/>\n      <stop id=\"stop4083\" offset=\"0.625\" style=\"stop-color:#ffffff;stop-opacity:1\"/>\n      <stop id=\"stop4123\" offset=\"0.65625\" style=\"stop-color:#000000;stop-opacity:1\"/>\n      <stop id=\"stop4097\" offset=\"0.6875\" style=\"stop-color:#ffffff;stop-opacity:1\"/>\n      <stop id=\"stop4125\" offset=\"0.71875\" style=\"stop-color:#000000;stop-opacity:1\"/>\n      <stop id=\"stop4073\" offset=\"0.75\" style=\"stop-color:#ffffff;stop-opacity:1\"/>\n      <stop id=\"stop4127\" offset=\"0.78125\" style=\"stop-color:#000000;stop-opacity:1\"/>\n      <stop id=\"stop4099\" offset=\"0.8125\" style=\"stop-color:#ffffff;stop-opacity:1\"/>\n      <stop id=\"stop4129\" offset=\"0.84375\" style=\"stop-color:#000000;stop-opacity:1\"/>\n      <stop id=\"stop4085\" offset=\"0.875\" style=\"stop-color:#ffffff;stop-opacity:1\"/>\n      <stop id=\"stop4131\" offset=\"0.90625\" style=\"stop-color:#000000;stop-opacity:1\"/>\n      <stop id=\"stop4101\" offset=\"0.9375\" style=\"stop-color:#ffffff;stop-opacity:1\"/>\n      <stop id=\"stop4133\" offset=\"0.96875\" style=\"stop-color:#000000;stop-opacity:1\"/>\n      <stop id=\"stop4047\" offset=\"1\" style=\"stop-color:#ffffff;stop-opacity:1\"/>\n    </linearGradient>\n    <marker id=\"Arrow2Lend\" orient=\"auto\" refX=\"0\" refY=\"0\" style=\"overflow:visible\">\n      <path d=\"M 8.7185878,4.0337352 -2.2072895,0.01601326 8.7185884,-4.0017078 c -1.7454984,2.3720609 -1.7354408,5.6174519 -6e-7,8.035443 z\" id=\"path3741\" inkscape:connector-curvature=\"0\" style=\"font-size:12px;fill-rule:evenodd;stroke-width:0.625;stroke-linejoin:round\" transform=\"matrix(-1.1,0,0,-1.1,-1.1,0)\"/>\n    </marker>\n    <marker id=\"Arrow2Mend\" orient=\"auto\" refX=\"0\" refY=\"0\" style=\"overflow:visible\">\n      <path d=\"M 8.7185878,4.0337352 -2.2072895,0.01601326 8.7185884,-4.0017078 c -1.7454984,2.3720609 -1.7354408,5.6174519 -6e-7,8.035443 z\" id=\"path3747\" inkscape:connector-curvature=\"0\" style=\"font-size:12px;fill-rule:evenodd;stroke-width:0.625;stroke-linejoin:round\" transform=\"scale(-0.6,-0.6)\"/>\n    </marker>\n    <linearGradient gradientTransform=\"translate(-205.91184,327.78562)\" gradientUnits=\"userSpaceOnUse\" id=\"linearGradient4053\" spreadMethod=\"pad\" x1=\"690.73456\" x2=\"690.73456\" xlink:href=\"#linearGradient4043\" y1=\"583.29871\" y2=\"-144.68094\"/>\n  </defs>\n  <g id=\"layer1\" transform=\"translate(-19.5,-322.36218)\">\n    <g id=\"g3937\" transform=\"translate(-242.12375,4.1037924)\"/>\n    <rect height=\"409.99414\" id=\"rect4041\" style=\"fill:url(#linearGradient4053);fill-opacity:1;fill-rule:evenodd;stroke:#000000;stroke-width:1;stroke-linecap:round;stroke-linejoin:miter;stroke-miterlimit:4;stroke-opacity:1;stroke-dasharray:none;stroke-dashoffset:0\" width=\"43\" x=\"463.34332\" y=\"341.4689\"/>\n    <g id=\"g3159\" transform=\"translate(0,24.674651)\">\n      <path d=\"m 245.71042,332.47165 8.33417,30.99433 -16.66834,0 8.33417,-30.99433 z\" id=\"path3617\" inkscape:connector-curvature=\"0\" style=\"fill:#000000;fill-opacity:1;fill-rule:evenodd;stroke:none\"/>\n      <text id=\"text3619\" style=\"font-size:33.37693024px;font-style:normal;font-weight:bold;text-align:center;text-anchor:middle;fill:#000000;fill-opacity:1;stroke:none;font-family:Times New Roman\" x=\"217.37625\" xml:space=\"preserve\" y=\"363.46597\"><tspan id=\"tspan3621\" x=\"217.37625\" y=\"363.46597\">x</tspan></text>\n      <path d=\"m 153.31667,337.65184 0,123.4375 12.34375,-12.9375 0,-110.5 -12.34375,0 z\" id=\"path3644\" inkscape:connector-curvature=\"0\" style=\"fill:#000000;fill-opacity:0.50196078;fill-rule:evenodd;stroke:#000000;stroke-width:2;stroke-linecap:round;stroke-linejoin:miter;stroke-miterlimit:4;stroke-opacity:1;stroke-dasharray:none;stroke-dashoffset:0\"/>\n      <path d=\"m 153.31375,471.59098 0,103.75 12.34375,-12.9375 0,-77.84375 -12.34375,-12.96875 z\" id=\"path3628\" inkscape:connector-curvature=\"0\" style=\"fill:#000000;fill-opacity:0.50196078;fill-rule:evenodd;stroke:#000000;stroke-width:2;stroke-linecap:round;stroke-linejoin:miter;stroke-miterlimit:4;stroke-opacity:1;stroke-dasharray:none;stroke-dashoffset:0\"/>\n      <path d=\"m 153.31667,585.84262 0,123.46875 12.34375,0 0,-110.5 -12.34375,-12.96875 z\" id=\"path3630\" inkscape:connector-curvature=\"0\" style=\"fill:#000000;fill-opacity:0.50196078;fill-rule:evenodd;stroke:#000000;stroke-width:2;stroke-linecap:round;stroke-linejoin:miter;stroke-miterlimit:4;stroke-opacity:1;stroke-dasharray:none;stroke-dashoffset:0\"/>\n      <path d=\"m 330.90446,355.36678 a 198.47925,198.47925 0 0 1 -10e-6,221.97637\" id=\"path3954\" inkscape:connector-curvature=\"0\" style=\"fill:none;stroke:#000000;stroke-width:2;stroke-linecap:round;stroke-linejoin:miter;stroke-miterlimit:4;stroke-opacity:1;stroke-dasharray:none;stroke-dashoffset:0\"/>\n      <path d=\"m 315.34126,365.86429 a 179.70663,179.70663 0 0 1 -10e-6,200.98135\" id=\"path3956\" inkscape:connector-curvature=\"0\" style=\"fill:none;stroke:#000000;stroke-width:2;stroke-linecap:round;stroke-linejoin:miter;stroke-miterlimit:4;stroke-opacity:1;stroke-dasharray:none;stroke-dashoffset:0\"/>\n      <path d=\"m 298.66641,377.11162 a 159.59312,159.59312 0 0 1 -10e-6,178.48669\" id=\"path3958\" inkscape:connector-curvature=\"0\" style=\"fill:none;stroke:#000000;stroke-width:2;stroke-linecap:round;stroke-linejoin:miter;stroke-miterlimit:4;stroke-opacity:1;stroke-dasharray:none;stroke-dashoffset:0\"/>\n      <path d=\"m 283.1032,387.60913 a 140.82051,140.82051 0 0 1 0,157.49166\" id=\"path3960\" inkscape:connector-curvature=\"0\" style=\"fill:none;stroke:#000000;stroke-width:2;stroke-linecap:round;stroke-linejoin:miter;stroke-miterlimit:4;stroke-opacity:1;stroke-dasharray:none;stroke-dashoffset:0\"/>\n      <path d=\"m 267.54,398.10664 a 122.0479,122.0479 0 0 1 -1e-5,136.49664\" id=\"path3962\" inkscape:connector-curvature=\"0\" style=\"fill:none;stroke:#000000;stroke-width:2;stroke-linecap:round;stroke-linejoin:miter;stroke-miterlimit:4;stroke-opacity:1;stroke-dasharray:none;stroke-dashoffset:0\"/>\n      <path d=\"m 251.9768,408.60416 a 103.27528,103.27528 0 0 1 -1e-5,115.50161\" id=\"path3964\" inkscape:connector-curvature=\"0\" style=\"fill:none;stroke:#000000;stroke-width:2;stroke-linecap:round;stroke-linejoin:miter;stroke-miterlimit:4;stroke-opacity:1;stroke-dasharray:none;stroke-dashoffset:0\"/>\n      <path d=\"m 236.4136,419.10167 a 84.50267,84.50267 0 0 1 -1e-5,94.50659\" id=\"path3966\" inkscape:connector-curvature=\"0\" style=\"fill:none;stroke:#000000;stroke-width:2;stroke-linecap:round;stroke-linejoin:miter;stroke-miterlimit:4;stroke-opacity:1;stroke-dasharray:none;stroke-dashoffset:0\"/>\n      <path d=\"m 221.40623,429.22427 a 66.400513,66.400513 0 0 1 -1e-5,74.26139\" id=\"path3968\" inkscape:connector-curvature=\"0\" style=\"fill:none;stroke:#000000;stroke-width:2;stroke-linecap:round;stroke-linejoin:miter;stroke-miterlimit:4;stroke-opacity:1;stroke-dasharray:none;stroke-dashoffset:0\"/>\n      <path d=\"m 205.84303,439.72178 a 47.627903,47.627903 0 0 1 0,53.26637\" id=\"path3970\" inkscape:connector-curvature=\"0\" style=\"fill:none;stroke:#000000;stroke-width:2;stroke-linecap:round;stroke-linejoin:miter;stroke-miterlimit:4;stroke-opacity:1;stroke-dasharray:none;stroke-dashoffset:0\"/>\n      <path d=\"m 190.27983,450.21929 a 28.855291,28.855291 0 0 1 0,32.27134\" id=\"path3972\" inkscape:connector-curvature=\"0\" style=\"fill:none;stroke:#000000;stroke-width:2;stroke-linecap:round;stroke-linejoin:miter;stroke-miterlimit:4;stroke-opacity:1;stroke-dasharray:none;stroke-dashoffset:0\"/>\n      <path d=\"m 330.90446,469.62006 a 198.47925,198.47925 0 0 1 -10e-6,221.97637\" id=\"path3978\" inkscape:connector-curvature=\"0\" style=\"fill:none;stroke:#000000;stroke-width:2;stroke-linecap:round;stroke-linejoin:miter;stroke-miterlimit:4;stroke-opacity:1;stroke-dasharray:none;stroke-dashoffset:0\"/>\n      <path d=\"m 315.34126,480.11757 a 179.70663,179.70663 0 0 1 -10e-6,200.98135\" id=\"path3980\" inkscape:connector-curvature=\"0\" style=\"fill:none;stroke:#000000;stroke-width:2;stroke-linecap:round;stroke-linejoin:miter;stroke-miterlimit:4;stroke-opacity:1;stroke-dasharray:none;stroke-dashoffset:0\"/>\n      <path d=\"m 298.66641,491.3649 a 159.59312,159.59312 0 0 1 -10e-6,178.48669\" id=\"path3982\" inkscape:connector-curvature=\"0\" style=\"fill:none;stroke:#000000;stroke-width:2;stroke-linecap:round;stroke-linejoin:miter;stroke-miterlimit:4;stroke-opacity:1;stroke-dasharray:none;stroke-dashoffset:0\"/>\n      <path d=\"m 283.1032,501.86241 a 140.82051,140.82051 0 0 1 0,157.49166\" id=\"path3984\" inkscape:connector-curvature=\"0\" style=\"fill:none;stroke:#000000;stroke-width:2;stroke-linecap:round;stroke-linejoin:miter;stroke-miterlimit:4;stroke-opacity:1;stroke-dasharray:none;stroke-dashoffset:0\"/>\n      <path d=\"m 267.54,512.35992 a 122.0479,122.0479 0 0 1 -1e-5,136.49664\" id=\"path3986\" inkscape:connector-curvature=\"0\" style=\"fill:none;stroke:#000000;stroke-width:2;stroke-linecap:round;stroke-linejoin:miter;stroke-miterlimit:4;stroke-opacity:1;stroke-dasharray:none;stroke-dashoffset:0\"/>\n      <path d=\"m 251.9768,522.85744 a 103.27528,103.27528 0 0 1 -1e-5,115.50161\" id=\"path3988\" inkscape:connector-curvature=\"0\" style=\"fill:none;stroke:#000000;stroke-width:2;stroke-linecap:round;stroke-linejoin:miter;stroke-miterlimit:4;stroke-opacity:1;stroke-dasharray:none;stroke-dashoffset:0\"/>\n      <path d=\"m 236.4136,533.35495 a 84.50267,84.50267 0 0 1 -1e-5,94.50659\" id=\"path3990\" inkscape:connector-curvature=\"0\" style=\"fill:none;stroke:#000000;stroke-width:2;stroke-linecap:round;stroke-linejoin:miter;stroke-miterlimit:4;stroke-opacity:1;stroke-dasharray:none;stroke-dashoffset:0\"/>\n      <path d=\"m 221.40623,543.47755 a 66.400513,66.400513 0 0 1 -1e-5,74.26139\" id=\"path3992\" inkscape:connector-curvature=\"0\" style=\"fill:none;stroke:#000000;stroke-width:2;stroke-linecap:round;stroke-linejoin:miter;stroke-miterlimit:4;stroke-opacity:1;stroke-dasharray:none;stroke-dashoffset:0\"/>\n      <path d=\"m 205.84303,553.97506 a 47.627903,47.627903 0 0 1 0,53.26637\" id=\"path3994\" inkscape:connector-curvature=\"0\" style=\"fill:none;stroke:#000000;stroke-width:2;stroke-linecap:round;stroke-linejoin:miter;stroke-miterlimit:4;stroke-opacity:1;stroke-dasharray:none;stroke-dashoffset:0\"/>\n      <path d=\"m 190.27983,564.47257 a 28.855291,28.855291 0 0 1 0,32.27134\" id=\"path3996\" inkscape:connector-curvature=\"0\" style=\"fill:none;stroke:#000000;stroke-width:2;stroke-linecap:round;stroke-linejoin:miter;stroke-miterlimit:4;stroke-opacity:1;stroke-dasharray:none;stroke-dashoffset:0\"/>\n      <rect height=\"423.56012\" id=\"rect4035\" style=\"fill:#000000;fill-opacity:0.50196078;fill-rule:evenodd;stroke:#000000;stroke-width:1.78524172;stroke-linecap:round;stroke-linejoin:miter;stroke-miterlimit:4;stroke-opacity:1;stroke-dasharray:none;stroke-dashoffset:0\" transform=\"scale(-1,1)\" width=\"13.811494\" x=\"-381.58191\" y=\"315.7897\"/>\n      <path d=\"m 127.37625,373.46598 0,280 0,0 0,0\" id=\"path3382\" inkscape:connector-curvature=\"0\" style=\"fill:none;stroke:#000000;stroke-width:1px;stroke-linecap:butt;stroke-linejoin:miter;stroke-opacity:1\"/>\n      <path d=\"m 107.37625,373.46598 0,280\" id=\"path3384\" inkscape:connector-curvature=\"0\" style=\"fill:none;stroke:#000000;stroke-width:1px;stroke-linecap:butt;stroke-linejoin:miter;stroke-opacity:1\"/>\n      <path d=\"m 87.376247,373.46598 0,280\" id=\"path3386\" inkscape:connector-curvature=\"0\" style=\"fill:none;stroke:#000000;stroke-width:1px;stroke-linecap:butt;stroke-linejoin:miter;stroke-opacity:1\"/>\n      <path d=\"m 67.376247,373.46598 0,280 0,0 0,0\" id=\"path3388\" inkscape:connector-curvature=\"0\" style=\"fill:none;stroke:#000000;stroke-width:1px;stroke-linecap:butt;stroke-linejoin:miter;stroke-opacity:1\"/>\n      <path d=\"m 157.37625,583.46598 210,-40 0,0\" id=\"path3447\" inkscape:connector-curvature=\"0\" style=\"fill:none;stroke:#000000;stroke-width:1px;stroke-linecap:butt;stroke-linejoin:miter;stroke-opacity:1\"/>\n      <path d=\"m 157.37625,463.46598 210,80\" id=\"path3449\" inkscape:connector-curvature=\"0\" style=\"fill:none;stroke:#000000;stroke-width:1px;stroke-linecap:butt;stroke-linejoin:miter;stroke-opacity:1\"/>\n      <text id=\"text3500\" sodipodi:linespacing=\"125%\" style=\"font-size:40px;font-style:normal;font-weight:normal;line-height:125%;letter-spacing:0px;word-spacing:0px;fill:#000000;fill-opacity:1;stroke:none;font-family:Sans\" x=\"402.25851\" xml:space=\"preserve\" y=\"560.64758\"><tspan id=\"tspan3502\" sodipodi:role=\"line\" x=\"402.25851\" y=\"560.64758\">P</tspan></text>\n      <path d=\"m 147.37625,373.46598 0,280 0,0\" id=\"path3504\" inkscape:connector-curvature=\"0\" style=\"fill:none;stroke:#000000;stroke-width:1px;stroke-linecap:butt;stroke-linejoin:miter;stroke-opacity:1\"/>\n      <path d=\"m 367.37625,543.46598 -200,-20 80,0\" id=\"path4312\" inkscape:connector-curvature=\"0\" style=\"fill:none;stroke:#000000;stroke-width:1px;stroke-linecap:butt;stroke-linejoin:miter;stroke-opacity:1\"/>\n      <text id=\"text3198\" sodipodi:linespacing=\"125%\" style=\"font-size:43.27464294px;font-style:normal;font-variant:normal;font-weight:normal;font-stretch:normal;text-align:start;line-height:125%;writing-mode:lr-tb;text-anchor:start;fill:#000000;fill-opacity:1;stroke:none;font-family:Times New Roman;-inkscape-font-specification:Times New Roman\" transform=\"scale(1.1134938,0.89807416)\" x=\"156.22009\" xml:space=\"preserve\" y=\"570.31158\"><tspan id=\"tspan3200\" sodipodi:role=\"line\" x=\"156.22009\" y=\"570.31158\">θ</tspan></text>\n      <path d=\"m 199.16263,507.57279 40,20\" id=\"path4435\" inkscape:connector-curvature=\"0\" style=\"fill:none;stroke:#000000;stroke-width:1.4131;stroke-linecap:butt;stroke-linejoin:miter;stroke-miterlimit:4;stroke-opacity:1;stroke-dasharray:1.41310001, 1.41310001;stroke-dashoffset:0\"/>\n    </g>\n  </g>\n</svg>"
          },
          "metadata": {
            "tags": []
          }
        }
      ]
    },
    {
      "cell_type": "markdown",
      "source": [
        "## 光学的条件"
      ],
      "metadata": {
        "id": "ZTGhxOhnMNWk"
      }
    },
    {
      "cell_type": "markdown",
      "metadata": {
        "id": "bPj9-F-QRMTe"
      },
      "source": [
        "\n",
        "> 教科書 p142 の図2.72 を見ながら、以下を読んでください。\n",
        "\n",
        "![](https://scrapbox.io/files/6583bc1c9759fe002419f85d.png)"
      ]
    },
    {
      "cell_type": "markdown",
      "metadata": {
        "id": "1qfPqTT-mDvZ"
      },
      "source": [
        "$S_1, S_2$ を通る光が同位相であれば、明線、暗線条件はそれぞれ\n",
        "\n",
        "\\begin{align}\n",
        "\\varDelta =\n",
        "\\begin{cases}\n",
        " m \\lambda\\\\\n",
        "\\left( m + \\dfrac{1}{2} \\right) \\lambda\n",
        "\\end{cases}\n",
        "\\qquad m = 0, 1, 2, \\cdots\n",
        "\\end{align}"
      ]
    },
    {
      "cell_type": "markdown",
      "metadata": {
        "id": "ULgOV-5bRof6"
      },
      "source": [
        "$\\require{cancel}$\n",
        "### 装置条件\n",
        "\n",
        "$d<<L,\\  r_1 \\approx L,\\  r_2 \\approx L$\n",
        "\\begin{align}\n",
        "\\varDelta &= \\left| r_2 - r_1 \\right|&\\\\\n",
        "&\\begin{cases}\n",
        "r_1^2 &= L^2 + \\left(x - \\dfrac{d}{2} \\right)^2\\\\\n",
        "r_2^2 &= L^2 + \\left(x + \\dfrac{d}{2} \\right)^2\n",
        "\\end{cases}\\\\\n",
        "r_2^2 - r_1^2\n",
        "&= \\left(x - \\dfrac{d}{2} \\right)^2 - \\left(x + \\dfrac{d}{2} \\right)^2\\\n",
        "&=  \\left(x+ \\cancel{\\dfrac{d}{2}} + x - \\cancel{\\dfrac{d}{2}}\\right)\n",
        " \\left(\\bcancel{x}+ \\dfrac{d}{2} - \\bcancel{x} +  \\dfrac{d}{2}\\right)\\\\[2mm]\n",
        "\\left( r_2 - r_1 \\right) \\left( r_2 + r_1 \\right)\n",
        "&=2 x d \\\\[2mm]\n",
        "\\left( r_2 - r_1 \\right) \\left( L+ L \\right)\n",
        "&\\approx2 x d \\\\[3mm]\n",
        "%\n",
        "r_2 - r_1 &\\approx x \\dfrac{d}{L}\\\\[2mm]\n",
        "\\varDelta = \\left| r_2 - r_1 \\right| &\\approx x \\dfrac{d}{L}\\\\[2mm]\n",
        "\\end{align}"
      ]
    },
    {
      "cell_type": "markdown",
      "metadata": {
        "id": "vaKIwO1EU4_H"
      },
      "source": [
        "$\\require{color}$\n",
        "### 条件の融合\n",
        "\n",
        "簡単のため明線の条件$\\varDelta = m \\lambda$ を考え,\n",
        "明線の座標 $x$ を求めます.  \n",
        "整理したあとで, $m\\to m+ 1/2$ とすることで  \n",
        "暗線の条件が得られます.\n",
        "\n",
        "\\begin{align}\n",
        " m \\lambda &= \\varDelta \\approx x \\dfrac{d}{L}\\\\[1mm]\n",
        " m \\lambda &= x \\dfrac{d}{L}\\\\[1mm]\n",
        " x &= m \\ \\lambda \\dfrac{L}{d}%\\\\[2mm]\n",
        "% x_{\\textcolor{red}{m}} &= \\textcolor{red}{m} \\ \\lambda %\\dfrac{L}{d}\\\\[2mm]\n",
        "\\end{align}"
      ]
    },
    {
      "cell_type": "markdown",
      "metadata": {
        "id": "2yJtFC69WnBM"
      },
      "source": [
        "$\\require{cancel}$\n",
        "#### 隣接する明線の間隔 $\\Delta x$\n",
        "\n",
        "明線の位置 $x$ は $m$\n",
        "\\begin{align}\n",
        " x_{\\textcolor{red}{m}} &= \\textcolor{red}{m} \\, \\lambda \\dfrac{L}{d}\\\\[2mm]\n",
        "\\end{align}\n",
        "\n",
        "これを利用して隣接する明線の間隔 $\\Delta x$を求めると\n",
        "\\begin{align}\n",
        "\\Delta x &= x_{m+1} - x_{m}\\\\\n",
        "&=\\left( \\bcancel{m}  + 1 \\right) \\ \\lambda \\dfrac{L}{d}\n",
        "-\n",
        "\\bcancel{m}\\ \\lambda \\dfrac{L}{d}\\\\\n",
        "\\Delta x &= \\lambda \\dfrac{L}{d}\n",
        "\\end{align}\n"
      ]
    },
    {
      "cell_type": "markdown",
      "metadata": {
        "id": "isyK7Bv5XxL4"
      },
      "source": [
        "---\n",
        "演習では,もう一つの近似方法を紹介します"
      ]
    }
  ]
}