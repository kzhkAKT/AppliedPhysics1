{
  "nbformat": 4,
  "nbformat_minor": 0,
  "metadata": {
    "colab": {
      "name": "2472_発音体の固有振動_応用物理1",
      "provenance": [],
      "authorship_tag": "ABX9TyODsd9T/ux4ldwrBpKNMT3X",
      "include_colab_link": true
    },
    "kernelspec": {
      "name": "python3",
      "display_name": "Python 3"
    }
  },
  "cells": [
    {
      "cell_type": "markdown",
      "metadata": {
        "id": "view-in-github",
        "colab_type": "text"
      },
      "source": [
        "<a href=\"https://colab.research.google.com/github/kzhkAKT/AppliedPhysics1/blob/draft/2ndTERM/2472_%E7%99%BA%E9%9F%B3%E4%BD%93%E3%81%AE%E5%9B%BA%E6%9C%89%E6%8C%AF%E5%8B%95_%E5%BF%9C%E7%94%A8%E7%89%A9%E7%90%861.ipynb\" target=\"_parent\"><img src=\"https://colab.research.google.com/assets/colab-badge.svg\" alt=\"Open In Colab\"/></a>"
      ]
    },
    {
      "cell_type": "markdown",
      "metadata": {
        "id": "12YMk70LSOzV"
      },
      "source": [
        "# 音波"
      ]
    },
    {
      "cell_type": "markdown",
      "metadata": {
        "id": "16LFbYSZS2wJ"
      },
      "source": [
        "## 発音体の固有振動"
      ]
    },
    {
      "cell_type": "markdown",
      "metadata": {
        "id": "ssr0KztPS7uw"
      },
      "source": [
        "### 気柱の固有振動"
      ]
    },
    {
      "cell_type": "markdown",
      "metadata": {
        "id": "EiLOWL7FB2Ck"
      },
      "source": [
        "音波の確認\n",
        "\n",
        "1. 基本は縦波\n",
        "2. 横波変換した方が, 波の重ね合わせの原理が使いやすい\n",
        "\n",
        "[Longitudinal and Transverse Wave Motion](https://www.acs.psu.edu/drussell/Demos/waves/wavemotion.html)"
      ]
    },
    {
      "cell_type": "code",
      "metadata": {
        "id": "NumsR1jJB5rd",
        "cellView": "form",
        "outputId": "54336964-1c5f-4c31-eda3-d98f7888efe1",
        "colab": {
          "base_uri": "https://localhost:8080/",
          "height": 475
        }
      },
      "source": [
        "#@title 音波の縦波と横波変換\n",
        "%%html\n",
        "<iframe src=\"https://phet.colorado.edu/sims/html/wave-interference/latest/wave-interference_en.html\" width=\"600\" height=\"450\" scrolling=\"no\" allowfullscreen></iframe>"
      ],
      "execution_count": null,
      "outputs": [
        {
          "output_type": "display_data",
          "data": {
            "text/html": [
              "<iframe src=\"https://phet.colorado.edu/sims/html/wave-interference/latest/wave-interference_en.html\" width=\"600\" height=\"450\" scrolling=\"no\" allowfullscreen></iframe>"
            ],
            "text/plain": [
              "<IPython.core.display.HTML object>"
            ]
          },
          "metadata": {
            "tags": []
          }
        }
      ]
    },
    {
      "cell_type": "markdown",
      "metadata": {
        "id": "vtkA4EGYdfzy"
      },
      "source": [
        "\b[Standing Sound Waves (Longitudinal Standing Wave)s](https://www.acs.psu.edu/drussell/Demos/StandingWaves/StandingWaves.html)"
      ]
    },
    {
      "cell_type": "markdown",
      "metadata": {
        "id": "IjBu4K43gXQZ"
      },
      "source": [
        "[わかりやすい高校物理の部屋へようこそ](https://wakariyasui.sakura.ne.jp/a/tousaitonituite.html)"
      ]
    },
    {
      "cell_type": "code",
      "metadata": {
        "id": "a-wdxYViwXOA",
        "outputId": "048b6884-ba07-47d6-f188-a5c560fbab17",
        "colab": {
          "base_uri": "https://localhost:8080/",
          "height": 336
        }
      },
      "source": [
        "%%html\n",
        "<iframe width=\"560\" height=\"315\" src=\"https://www.youtube-nocookie.com/embed/qUiB_zd9M0k\" frameborder=\"0\" allow=\"accelerometer; autoplay; clipboard-write; encrypted-media; gyroscope; picture-in-picture\" allowfullscreen></iframe>"
      ],
      "execution_count": null,
      "outputs": [
        {
          "output_type": "display_data",
          "data": {
            "text/html": [
              "<iframe width=\"560\" height=\"315\" src=\"https://www.youtube-nocookie.com/embed/qUiB_zd9M0k\" frameborder=\"0\" allow=\"accelerometer; autoplay; clipboard-write; encrypted-media; gyroscope; picture-in-picture\" allowfullscreen></iframe>"
            ],
            "text/plain": [
              "<IPython.core.display.HTML object>"
            ]
          },
          "metadata": {
            "tags": []
          }
        }
      ]
    },
    {
      "cell_type": "code",
      "metadata": {
        "id": "XvWyHGgfwYEI",
        "outputId": "53be0e4b-d903-419b-c4cd-28c8696f031e",
        "colab": {
          "base_uri": "https://localhost:8080/",
          "height": 336
        }
      },
      "source": [
        "%%html\n",
        "<iframe width=\"560\" height=\"315\" src=\"https://www.youtube-nocookie.com/embed/2awbKQ2DLRE\" frameborder=\"0\" allow=\"accelerometer; autoplay; clipboard-write; encrypted-media; gyroscope; picture-in-picture\" allowfullscreen></iframe>"
      ],
      "execution_count": null,
      "outputs": [
        {
          "output_type": "display_data",
          "data": {
            "text/html": [
              "<iframe width=\"560\" height=\"315\" src=\"https://www.youtube-nocookie.com/embed/2awbKQ2DLRE\" frameborder=\"0\" allow=\"accelerometer; autoplay; clipboard-write; encrypted-media; gyroscope; picture-in-picture\" allowfullscreen></iframe>"
            ],
            "text/plain": [
              "<IPython.core.display.HTML object>"
            ]
          },
          "metadata": {
            "tags": []
          }
        }
      ]
    },
    {
      "cell_type": "code",
      "metadata": {
        "id": "RrzmtVDp1BiV",
        "outputId": "ea5a7d5d-6f89-4275-8c52-5d7d45c0707a",
        "colab": {
          "base_uri": "https://localhost:8080/",
          "height": 336
        }
      },
      "source": [
        "%%html\n",
        "<iframe width=\"560\" height=\"315\" src=\"https://www.youtube-nocookie.com/embed/BbPgy4sHYTw\" frameborder=\"0\" allow=\"accelerometer; autoplay; clipboard-write; encrypted-media; gyroscope; picture-in-picture\" allowfullscreen></iframe>"
      ],
      "execution_count": null,
      "outputs": [
        {
          "output_type": "display_data",
          "data": {
            "text/html": [
              "<iframe width=\"560\" height=\"315\" src=\"https://www.youtube-nocookie.com/embed/BbPgy4sHYTw\" frameborder=\"0\" allow=\"accelerometer; autoplay; clipboard-write; encrypted-media; gyroscope; picture-in-picture\" allowfullscreen></iframe>"
            ],
            "text/plain": [
              "<IPython.core.display.HTML object>"
            ]
          },
          "metadata": {
            "tags": []
          }
        }
      ]
    }
  ]
}