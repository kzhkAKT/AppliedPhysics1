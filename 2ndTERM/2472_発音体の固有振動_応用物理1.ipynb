{
  "nbformat": 4,
  "nbformat_minor": 0,
  "metadata": {
    "colab": {
      "name": "2472_発音体の固有振動_応用物理1",
      "provenance": [],
      "authorship_tag": "ABX9TyM4TVUQ7q6Vm5yHFr1zbdW+",
      "include_colab_link": true
    },
    "kernelspec": {
      "name": "python3",
      "display_name": "Python 3"
    }
  },
  "cells": [
    {
      "cell_type": "markdown",
      "metadata": {
        "id": "view-in-github",
        "colab_type": "text"
      },
      "source": [
        "<a href=\"https://colab.research.google.com/github/kzhkAKT/AppliedPhysics1/blob/draft/2ndTERM/2472_%E7%99%BA%E9%9F%B3%E4%BD%93%E3%81%AE%E5%9B%BA%E6%9C%89%E6%8C%AF%E5%8B%95_%E5%BF%9C%E7%94%A8%E7%89%A9%E7%90%861.ipynb\" target=\"_parent\"><img src=\"https://colab.research.google.com/assets/colab-badge.svg\" alt=\"Open In Colab\"/></a>"
      ]
    },
    {
      "cell_type": "markdown",
      "metadata": {
        "id": "12YMk70LSOzV"
      },
      "source": [
        "# 音波"
      ]
    },
    {
      "cell_type": "markdown",
      "metadata": {
        "id": "16LFbYSZS2wJ"
      },
      "source": [
        "## 発音体の固有振動"
      ]
    },
    {
      "cell_type": "markdown",
      "metadata": {
        "id": "ssr0KztPS7uw"
      },
      "source": [
        "### 気柱の固有振動"
      ]
    },
    {
      "cell_type": "markdown",
      "metadata": {
        "id": "EiLOWL7FB2Ck"
      },
      "source": [
        "音波の確認\n",
        "\n",
        "1. 基本は縦波(下の図)\n",
        "2. 横波変換した方が, 波の重ね合わせの原理が使いやすい\n",
        "\n",
        "<img src=\"http://www.acs.psu.edu/drussell/Demos/waves/Lwave-v8.gif\" width=\"600\">\n",
        "\n",
        "<img src=\"http://www.acs.psu.edu/drussell/Demos/waves/Lwave-Red-2.gif\" width=\"600\">\n",
        "\n",
        "---\n",
        "\n",
        "[Daniel A. Russell, Longitudinal and Transverse Wave Motion](https://www.acs.psu.edu/drussell/Demos/waves/wavemotion.html)"
      ]
    },
    {
      "cell_type": "markdown",
      "metadata": {
        "id": "slRwtW2I7yLo"
      },
      "source": [
        "### (片側)閉管の固有振動\n",
        "\n",
        "特徴がある点は, 空気の分子が途切れてしまう閉管の底\n",
        "\n",
        "この底では, \n",
        "- 動きやすかった空気の分子からガラスなどの固体になる\n",
        "  - 媒質が動きやすいところから, (相対的に)全く動かない **固定端**\n",
        "\n",
        "一方, 開口部では\n",
        "- 外部との空気の分子が(相対的に)自由に動ける\n",
        "\n",
        "閉管の寸法とこれらの条件を満たす定常波が存在できる\n",
        "\n",
        "\n"
      ]
    },
    {
      "cell_type": "markdown",
      "metadata": {
        "id": "CZ25IUdY9BPu"
      },
      "source": [
        "![](https://wakariyasui.sakura.ne.jp/p/wave/koyuu/kityuu-img/2222-60-1.gif)\n",
        "![](https://wakariyasui.sakura.ne.jp/p/wave/koyuu/kityuu-img/2222-50-1.gif)\n",
        "\n",
        "---\n",
        "ref. https://wakariyasui.sakura.ne.jp　『わかりやすい高校物理の部屋』　"
      ]
    },
    {
      "cell_type": "markdown",
      "metadata": {
        "id": "DO6z-wUB9Yo4"
      },
      "source": [
        "閉管では, 数え方が **奇数** となっていることに注意して下さい.  \n",
        "これは, *破線と実線を含む* 定常波の繰り返しの最小を,  \n",
        "折り返しながら数えていることに起因しています."
      ]
    },
    {
      "cell_type": "markdown",
      "metadata": {
        "id": "tsM2m8_MAvVH"
      },
      "source": [
        "#### 振動数 $f_n$ の導出\n",
        "\n",
        "- 音速 $V$ は管内の空気の温度に依存し, 管の形状に依存しません.\n",
        "- 波の基本式 $:\\quad V = \\lambda \\cdot f$\n",
        "\n",
        "\\begin{align*}\n",
        "V &= \\lambda_{n}\\cdot f_{n}\\\\\n",
        "f_{n} &= \\dfrac{V}{\\lambda_n} = \\dfrac{V}{\\frac{4\\ell}{2n-1}}\\\\\n",
        "f_{n} &= \\left(2n-1\\right) \\dfrac{V}{4\\ell}\\\\\n",
        "\\end{align*}\n",
        "\n",
        "$f_1=\\frac{V}{4\\ell}$ ですので\n",
        "\n",
        "\\begin{align*}\n",
        "f_{n} &= \\left(2n-1\\right) f_1\n",
        "\\end{align*}\n",
        "と倍振動が表現できます.\n",
        "\n",
        "---\n",
        "教科書では $(2n-1)\\to n$ と置き直して  $n=1,3,5,\\dots$ と表現しています\n"
      ]
    },
    {
      "cell_type": "markdown",
      "metadata": {
        "id": "Z_3XpO-_-Kxs"
      },
      "source": [
        "#### 縦波での観察\n",
        "\n",
        "次の図では, 底の位置が変わっています注意して下さい.\n",
        "\n",
        "<img src=\"https://www.acs.psu.edu/drussell/Demos/StandingWaves/harmonic-1a.gif\" width=\"450\">\n",
        "\n",
        "<img src=\"https://www.acs.psu.edu/drussell/Demos/StandingWaves/harmonic-3.gif\" width=\"450\">\n",
        "\n",
        "> Q. 左右の図は何倍振動か答えてください.\n",
        "\n",
        "> Q. 赤いラインは, 圧力の変動を表しています. 圧力の原因は何に依存するかを思い出して下さい.\n",
        "---\n",
        "\n",
        "\b[Standing Sound Waves (Longitudinal Standing Wave)s](https://www.acs.psu.edu/drussell/Demos/StandingWaves/StandingWaves.html)\n"
      ]
    },
    {
      "cell_type": "markdown",
      "metadata": {
        "id": "9dWitUxe_M4B"
      },
      "source": [
        "### (両側)開管の固有振動\n",
        "\n",
        "- 両端とも媒質が動きやすいところから, (相対的に)よく動く **自由端**\n",
        "- 両端とも外部との空気の分子が(比較的)自由に動ける\n",
        "\n",
        "開管の寸法とこれらの条件を満たす定常波が存在できる"
      ]
    },
    {
      "cell_type": "markdown",
      "metadata": {
        "id": "Lw0qxiLo_6yL"
      },
      "source": [
        "![](https://wakariyasui.sakura.ne.jp/p/wave/koyuu/kityuu-img/2222-25-1.gif)\n",
        "![](https://wakariyasui.sakura.ne.jp/p/wave/koyuu/kityuu-img/2222-25-2.gif)\n",
        "\n",
        "---\n",
        "ref. https://wakariyasui.sakura.ne.jp　『わかりやすい高校物理の部屋』　"
      ]
    },
    {
      "cell_type": "markdown",
      "metadata": {
        "id": "6P7KmEERAiHK"
      },
      "source": [
        "開管でも, 数え方が **自然数** となっていることに注意して下さい.  \n",
        "これは, *破線と実線を含む* 定常波の繰り返しの最小を数えていることに起因しています."
      ]
    },
    {
      "cell_type": "markdown",
      "metadata": {
        "id": "orxW65e9Cabl"
      },
      "source": [
        "#### 振動数 $f_n$ の導出\n",
        "\n",
        "- 音速 $V$ は管内の空気の温度に依存し, 管の形状に依存しません.\n",
        "- 波の基本式 $:\\quad V = \\lambda \\cdot f$\n",
        "\n",
        "\\begin{align*}\n",
        "V &= \\lambda_{n}\\cdot f_{n}\\\\\n",
        "f_{n} &= \\dfrac{V}{\\lambda_n} = \\dfrac{V}{\\frac{2\\ell}{n}}\\\\\n",
        "f_{n} &= n \\dfrac{V}{2\\ell}\\\\\n",
        "\\end{align*}\n",
        "\n",
        "$f_1=\\frac{V}{2\\ell}$ ですので\n",
        "\n",
        "\\begin{align*}\n",
        "f_{n} &= n f_1\n",
        "\\end{align*}\n",
        "と倍振動が表現できます.\n"
      ]
    },
    {
      "cell_type": "markdown",
      "metadata": {
        "id": "XvPxsO7CDHbq"
      },
      "source": [
        "### 開口端補正 $\\Delta \\ell$"
      ]
    },
    {
      "cell_type": "markdown",
      "metadata": {
        "id": "-VjhJiv2GKRs"
      },
      "source": [
        "空気分子の(縦波)振動で確認したように, 開口部に空気の出入りを考慮した補正が必要になることがあります\n",
        "\n",
        "<img src=\"https://wakariyasui.sakura.ne.jp/p/wave/koyuu/kityuu-img/2222-10-1.gif\" width=\"450\">\n",
        "\n",
        "このような補正を考えるときには, 管の形状開口端補正を考慮したものが,  \n",
        "定常波の節から腹(または腹から腹)に対応するように計算します.\n",
        "\n",
        "いろいろな議論がありますが, 一般的には開講端補正は菅の半径を $r$ とすると\n",
        "\\begin{align*}\n",
        "\\Delta \\ell \\approx  0.6\\ r\n",
        "\\end{align*}\n",
        "とされています.\n",
        "\n",
        "--\n",
        "教科書では $\\Delta \\ell = \\sigma$ で表記されています。"
      ]
    },
    {
      "cell_type": "markdown",
      "metadata": {
        "id": "Aaaz8m4dHsyn"
      },
      "source": [
        "### 付録"
      ]
    },
    {
      "cell_type": "code",
      "metadata": {
        "id": "RrzmtVDp1BiV",
        "cellView": "form",
        "outputId": "1a6e5e83-1442-4a40-f779-18e4d2fcadf9",
        "colab": {
          "base_uri": "https://localhost:8080/",
          "height": 336
        }
      },
      "source": [
        "#@title Ruben's Tube\n",
        "%%html\n",
        "<iframe width=\"560\" height=\"315\" src=\"https://www.youtube-nocookie.com/embed/BbPgy4sHYTw\" frameborder=\"0\" allow=\"accelerometer; autoplay; clipboard-write; encrypted-media; gyroscope; picture-in-picture\" allowfullscreen></iframe>"
      ],
      "execution_count": 1,
      "outputs": [
        {
          "output_type": "display_data",
          "data": {
            "text/html": [
              "<iframe width=\"560\" height=\"315\" src=\"https://www.youtube-nocookie.com/embed/BbPgy4sHYTw\" frameborder=\"0\" allow=\"accelerometer; autoplay; clipboard-write; encrypted-media; gyroscope; picture-in-picture\" allowfullscreen></iframe>"
            ],
            "text/plain": [
              "<IPython.core.display.HTML object>"
            ]
          },
          "metadata": {}
        }
      ]
    }
  ]
}