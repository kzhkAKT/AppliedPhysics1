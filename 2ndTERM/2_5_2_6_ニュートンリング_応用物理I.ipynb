{
  "nbformat": 4,
  "nbformat_minor": 0,
  "metadata": {
    "colab": {
      "name": "2_5_2_6_ニュートンリング_応用物理I",
      "provenance": [],
      "authorship_tag": "ABX9TyO1Y4N6a2v6wOt2l2tbOXih",
      "include_colab_link": true
    },
    "kernelspec": {
      "name": "python3",
      "display_name": "Python 3"
    }
  },
  "cells": [
    {
      "cell_type": "markdown",
      "metadata": {
        "id": "view-in-github",
        "colab_type": "text"
      },
      "source": [
        "<a href=\"https://colab.research.google.com/github/kzhkAKT/AppliedPhysics1/blob/draft/2ndTERM/2_5_2_6_%E3%83%8B%E3%83%A5%E3%83%BC%E3%83%88%E3%83%B3%E3%83%AA%E3%83%B3%E3%82%B0_%E5%BF%9C%E7%94%A8%E7%89%A9%E7%90%86I.ipynb\" target=\"_parent\"><img src=\"https://colab.research.google.com/assets/colab-badge.svg\" alt=\"Open In Colab\"/></a>"
      ]
    },
    {
      "cell_type": "markdown",
      "metadata": {
        "id": "juYZLK7tiTXx"
      },
      "source": [
        "# 光波"
      ]
    },
    {
      "cell_type": "markdown",
      "metadata": {
        "id": "0bA2y3WHiXZG"
      },
      "source": [
        "## 光の回折と干渉"
      ]
    },
    {
      "cell_type": "markdown",
      "metadata": {
        "id": "H7zAJ1I-vwF0"
      },
      "source": [
        "### ニュートンリング"
      ]
    },
    {
      "cell_type": "markdown",
      "metadata": {
        "id": "M6pWXwle9EV_"
      },
      "source": [
        "![](https://upload.wikimedia.org/wikipedia/commons/thumb/f/fc/20cm_Air_1.jpg/320px-20cm_Air_1.jpg)\n",
        "![](https://upload.wikimedia.org/wikipedia/commons/e/eb/Newton%27s_rings_%28650nm_red_laser_light%29.jpeg)"
      ]
    },
    {
      "cell_type": "markdown",
      "metadata": {
        "id": "u3ZznT2a9SrY"
      },
      "source": [
        "![](https://upload.wikimedia.org/wikipedia/commons/thumb/0/08/Newton_rings.jpg/320px-Newton_rings.jpg)"
      ]
    },
    {
      "cell_type": "code",
      "metadata": {
        "colab": {
          "base_uri": "https://localhost:8080/",
          "height": 70
        },
        "cellView": "form",
        "id": "uEklnT7q9My4",
        "outputId": "3055e814-045c-4825-9c2f-861a774394c5"
      },
      "source": [
        "#@title ニュートンリングの模式図\n",
        "%%svg\n",
        "https://upload.wikimedia.org/wikipedia/commons/6/6c/Newton%27s_rings_02.svg"
      ],
      "execution_count": null,
      "outputs": [
        {
          "output_type": "display_data",
          "data": {
            "text/plain": [
              "<IPython.core.display.SVG object>"
            ],
            "image/svg+xml": "<svg height=\"49\" id=\"svg4827\" version=\"1.0\" width=\"229\" xmlns=\"http://www.w3.org/2000/svg\" xmlns:svg=\"http://www.w3.org/2000/svg\">\n  <defs id=\"defs4829\"/>\n  <g id=\"layer1\" transform=\"translate(-274.07144,-582.14789)\">\n    <path d=\"M 0.5,0.5 L 0.5,48.5 L 24.5,48.5 L 24.5,36.5 L 12.5,36.5 L 12.5,12.5 L 24.5,12.5 L 24.5,0.5 L 0.5,0.5 z M 204.5,0.5 L 204.5,12.5 L 216.5,12.5 L 216.5,36.5 L 204.5,36.5 L 204.5,48.5 L 228.5,48.5 L 228.5,0.5 L 204.5,0.5 z \" id=\"rect4845\" style=\"opacity:1;fill:#999999;fill-opacity:1;stroke:#000000;stroke-width:1;stroke-linecap:round;stroke-linejoin:miter;stroke-miterlimit:4;stroke-dasharray:none;stroke-dashoffset:0;stroke-opacity:1\" transform=\"translate(274.07144,582.14789)\"/>\n    <rect height=\"24\" id=\"rect4849\" style=\"opacity:1;fill:none;fill-opacity:0.75294118;stroke:#000000;stroke-width:1;stroke-linecap:round;stroke-linejoin:miter;stroke-miterlimit:4;stroke-dasharray:none;stroke-dashoffset:0;stroke-opacity:1\" width=\"204\" x=\"286.57144\" y=\"594.64789\"/>\n    <rect height=\"12\" id=\"rect4855\" style=\"opacity:1;fill:none;fill-opacity:0.75294118;stroke:#000000;stroke-width:1;stroke-linecap:round;stroke-linejoin:miter;stroke-miterlimit:4;stroke-dasharray:none;stroke-dashoffset:0;stroke-opacity:1\" width=\"193\" x=\"292.57144\" y=\"606.64789\"/>\n    <path d=\"M 292.00833,594.57755 C 292.00833,599.62774 324.63912,606.59352 388.57144,606.59352 C 452.67782,606.59352 485.13455,599.63974 485.13455,594.57755\" id=\"path4857\" style=\"fill:none;fill-rule:evenodd;stroke:#000000;stroke-width:1px;stroke-linecap:butt;stroke-linejoin:miter;stroke-opacity:1\"/>\n  </g>\n</svg>"
          },
          "metadata": {
            "tags": []
          }
        }
      ]
    },
    {
      "cell_type": "markdown",
      "metadata": {
        "id": "mL0oE9Mp9gV2"
      },
      "source": [
        "![](https://upload.wikimedia.org/wikipedia/ja/7/72/Newton%27sRing.png)\n",
        "![](https://upload.wikimedia.org/wikipedia/commons/3/38/Newtonringar1.png)"
      ]
    },
    {
      "cell_type": "markdown",
      "metadata": {
        "id": "Y7d2hG1k21VX"
      },
      "source": [
        "#### $\\varDelta_0$: 経路のみによる光路差"
      ]
    },
    {
      "cell_type": "markdown",
      "metadata": {
        "id": "J7Ddu8Vx9_sC"
      },
      "source": [
        "\\begin{align}\n",
        "\\varDelta_0 = d + d = 2d\n",
        "\\end{align}\n",
        "\n",
        "$\\require{cancel}$\n",
        "幾何学的な条件より, 三平方の定理を利用すると\n",
        "\\begin{align}\n",
        "& R^2  = \\left(R-d\\right)^2 + r^2\\\\[1mm]\n",
        "r^2 &= R^2 - \\left(R-d\\right)^2 \n",
        "= \\left(R+R-d\\right) \\left\\{\\cancel{R} - \\left(\\cancel{R} -d\\right)\\right\\}\\\\\n",
        "&=\\left(2R-d\\right) d = 2Rd - \\cancelto{0}{d^2}\\\\\n",
        "r^2 &\\approx 2Rd\n",
        "\\end{align}\n",
        "\n",
        "これらをまとめると\n",
        "\\begin{align}\n",
        "\\varDelta_0 = 2d = \\dfrac{r^2}{R}\n",
        "\\end{align}"
      ]
    },
    {
      "cell_type": "markdown",
      "metadata": {
        "id": "cPtiNjXg3DOH"
      },
      "source": [
        "#### $\\varDelta_1$膜の上層または下層面での光路差(位相差)\n"
      ]
    },
    {
      "cell_type": "markdown",
      "metadata": {
        "id": "s6PTVyZu9-5D"
      },
      "source": [
        "\n",
        "\\begin{align}\n",
        "\\varDelta_1 &= \\text{レンズ空気の境界: 自由端反射(位相差$0$)} + \\text{空気としたの板ガラスの境界: 自由端反射(位相差$\\pi$)} \\\\\n",
        "&= 0+ \\dfrac{\\lambda}{2} \n",
        "\\end{align}"
      ]
    },
    {
      "cell_type": "markdown",
      "metadata": {
        "id": "yPumKFPT5Rjd"
      },
      "source": [
        "#### $\\varDelta$ : 総合的な光路差 \n",
        "\n",
        "\\begin{align}\n",
        "\\varDelta &= \\varDelta_0 + \\varDelta_1\\\\\n",
        "&= \\dfrac{r^2}{R} + \\dfrac{\\lambda}{2}\n",
        "\\end{align}\n",
        "\n",
        "この光路差に光学的明暗線の条件\n",
        "\\begin{align}\n",
        "\\varDelta=\\begin{cases}\n",
        "m \\lambda\\\\\n",
        "\\left(m+\\dfrac{1}{2}\\right)m\n",
        "\\end{cases},\n",
        "\\quad m = 0, 1, 2, 3, \\cdots\n",
        "\\end{align}\n",
        "を適用することで, 物理量をある程度決定することができます."
      ]
    },
    {
      "cell_type": "markdown",
      "metadata": {
        "id": "e-zXEOp9_vuc"
      },
      "source": [
        "> Q. 教科書 上巻 p149 (2.49) を導いて下さい."
      ]
    }
  ]
}