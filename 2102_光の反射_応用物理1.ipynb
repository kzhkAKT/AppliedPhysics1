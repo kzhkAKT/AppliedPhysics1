{
  "nbformat": 4,
  "nbformat_minor": 0,
  "metadata": {
    "colab": {
      "name": "2102_光の反射_応用物理1",
      "provenance": [],
      "collapsed_sections": [],
      "toc_visible": true,
      "authorship_tag": "ABX9TyP2B8mfuGi3pPKSaP1uTDWz",
      "include_colab_link": true
    },
    "kernelspec": {
      "name": "python3",
      "display_name": "Python 3"
    }
  },
  "cells": [
    {
      "cell_type": "markdown",
      "metadata": {
        "id": "view-in-github",
        "colab_type": "text"
      },
      "source": [
        "<a href=\"https://colab.research.google.com/github/kzhkAKT/AppliedPhysics1/blob/master/2102_%E5%85%89%E3%81%AE%E5%8F%8D%E5%B0%84_%E5%BF%9C%E7%94%A8%E7%89%A9%E7%90%861.ipynb\" target=\"_parent\"><img src=\"https://colab.research.google.com/assets/colab-badge.svg\" alt=\"Open In Colab\"/></a>"
      ]
    },
    {
      "cell_type": "markdown",
      "metadata": {
        "id": "d8I-gC5dpXGv",
        "colab_type": "text"
      },
      "source": [
        "# 光の進み方"
      ]
    },
    {
      "cell_type": "markdown",
      "metadata": {
        "id": "YlgLhkPni92J",
        "colab_type": "text"
      },
      "source": [
        "## 光の反射\n",
        "\n",
        "基本は次のリンクで確認\n",
        "\n",
        "[乱反射と鏡面反射。光に騙され、富士の虚像に”魅せられる”, パブリック・教育コンテンツ Menon Network](https://menon.network/science-law-of-reflection1/)\n",
        "\n",
        "#### 乱反射の性質\n",
        "- 物体から観測者に届く光は, ある光源の光を間接的に受け反射されたものである.\n",
        "\n",
        "- この反射された光は, ものと物体の一点から点光源として乱反射しているため, 物体を中心に角度を変えても同じもの(色,形)が見える.\n",
        "\n",
        "- 反射された光については, 物体の一点と観測者を結ぶと, 途中に何もなければ, 一筋の光の線として表すことができる\n",
        "\n"
      ]
    },
    {
      "cell_type": "markdown",
      "metadata": {
        "id": "dr_E-yBJng8c",
        "colab_type": "text"
      },
      "source": [
        "### 用語確認\n",
        "\n",
        "#### 光学基礎用語\n",
        "- 媒質: 光が{伝わって,透過して}いく物質\n",
        "- 光線: 光が媒質を伝わっていく一筋の経路(例: レーザーポインタ)\n",
        "\n"
      ]
    },
    {
      "cell_type": "markdown",
      "metadata": {
        "id": "K-2Zg_WlnmFN",
        "colab_type": "text"
      },
      "source": [
        "### 光の反射(等)で使う用語\n",
        "\n",
        "- 法線: 異なる媒質の境界面に垂直に引いた線 [下の図では normal ]\n",
        "- 入射角 $i$: 入射する光線(入射光)と法線がなす角度 [下の図では $\\theta_i$]\n",
        "- 反射角 $j$: 境界面で反射した光線(反射光)と法線がなす角度 [下の図では $\\theta_r$]\n",
        "\n",
        "> 角度は, 度数法や弧度法のいずれでも表現される\n"
      ]
    },
    {
      "cell_type": "code",
      "metadata": {
        "id": "DdhO-rXZ-qWh",
        "colab_type": "code",
        "colab": {
          "base_uri": "https://localhost:8080/",
          "height": 225
        },
        "cellView": "form",
        "outputId": "17e5a334-1944-49d5-b7f7-3984a933b4a1"
      },
      "source": [
        "#@title 光線の反射の概念図\n",
        "%%svg\n",
        "https://upload.wikimedia.org/wikipedia/commons/1/10/Reflection_angles.svg"
      ],
      "execution_count": 4,
      "outputs": [
        {
          "output_type": "display_data",
          "data": {
            "text/plain": [
              "<IPython.core.display.SVG object>"
            ],
            "image/svg+xml": "<svg height=\"204.24500\" id=\"svg1384\" version=\"1.0\" width=\"169.92300\" x=\"0.0000000\" xmlns=\"http://www.w3.org/2000/svg\" xmlns:svg=\"http://www.w3.org/2000/svg\" xmlns:xlink=\"http://www.w3.org/1999/xlink\" y=\"0.0000000\">\n  <defs id=\"defs1386\">\n    <marker id=\"ArrowEnd\" markerHeight=\"3.0000000\" markerUnits=\"strokeWidth\" markerWidth=\"4.0000000\" orient=\"auto\" refX=\"0.0000000\" refY=\"5.0000000\" viewBox=\"0 0 10 10\">\n      <path d=\"M 0.0000000,0.0000000 L 10.000000,5.0000000 L 0.0000000,10.000000 L 0.0000000,0.0000000 z \" id=\"path1389\"/>\n    </marker>\n    <marker id=\"ArrowStart\" markerHeight=\"3.0000000\" markerUnits=\"strokeWidth\" markerWidth=\"4.0000000\" orient=\"auto\" refX=\"10.000000\" refY=\"5.0000000\" viewBox=\"0 0 10 10\">\n      <path d=\"M 10.000000,0.0000000 L 0.0000000,5.0000000 L 10.000000,10.000000 L 10.000000,0.0000000 z \" id=\"path1392\"/>\n    </marker>\n    <pattern height=\"183.42120\" id=\"pattern2262\" patternTransform=\"translate(143.1340,15.58280)\" patternUnits=\"userSpaceOnUse\" width=\"14.275000\">\n      <path d=\"M 143.13400,15.582800 L 157.40900,15.582800 L 157.40900,199.00400 L 143.13400,199.00400 L 143.13400,15.582800 z \" id=\"path2264\" style=\"fill-opacity:1.0000000;stroke:none;fill:none\" transform=\"translate(-143.1340,-15.58280)\"/>\n    </pattern>\n    <pattern height=\"183.42120\" id=\"pattern2270\" patternTransform=\"translate(143.1340,15.58280)\" patternUnits=\"userSpaceOnUse\" width=\"14.275000\">\n      <path d=\"M 143.13400,15.582800 L 157.40900,15.582800 L 157.40900,199.00400 L 143.13400,199.00400 L 143.13400,15.582800 z \" id=\"path2272\" style=\"fill:none;fill-opacity:1.0000000;stroke:none\" transform=\"translate(-143.1340,-15.58280)\"/>\n    </pattern>\n  </defs>\n  <rect height=\"183.42120\" id=\"rect2266\" style=\"fill:none;stroke:none\" width=\"14.275000\" x=\"143.13400\" y=\"15.582800\"/>\n  <path d=\"M 143.67300,107.42800 L 11.153200,107.42800\" id=\"path1398\" style=\"fill:none;stroke:#000000;stroke-width:0.56692916\"/>\n  <path d=\"M 143.13400,15.852200 L 143.13400,199.00400\" id=\"path1400\" style=\"fill:none;stroke:#000000;stroke-width:1.0000000\"/>\n  <path d=\"M 143.13400,107.29300 L 28.743900,41.249900\" id=\"path1402\" style=\"fill:none;stroke:#000000;stroke-width:1.0000000\"/>\n  <path d=\"M 143.26900,107.29300 L 28.977000,173.28000\" id=\"path1404\" style=\"fill:none;stroke:#000000;stroke-width:1.0000000\"/>\n  <path d=\"M 125.94600,117.43100 C 124.23700,114.48500 123.25800,111.06400 123.25800,107.41600\" id=\"path1406\" style=\"fill:none;stroke:#000000;stroke-width:1.0000000\"/>\n  <path d=\"M 121.05900,93.905600 C 118.86700,97.803600 117.61100,102.33100 117.61100,107.15800\" id=\"path1408\" style=\"fill:none;stroke:#000000;stroke-width:1.0000000\"/>\n  <text id=\"text1410\" style=\"font-size:12.000000;fill:#000000;stroke:none;font-family:Times-Bold\" x=\"23.0086\" y=\"37.1301\">P</text>\n  <text id=\"text1412\" style=\"font-size:12.000000;fill:#000000;stroke:none;font-family:Times-Bold\" x=\"17.083099\" y=\"173.416\">Q</text>\n<switch>\n  <text id=\"text1414\" style=\"font-size:12.000000;fill:#000000;stroke:none;font-family:Times\" systemLanguage=\"en\" x=\"11.377102\" y=\"105.812\">normal</text>\n  <text id=\"text1414uk\" style=\"font-size:12.000000;fill:#000000;stroke:none;font-family:Times\" systemLanguage=\"uk\" x=\"11.377102\" y=\"105.812\">нормаль</text>\n</switch>\n  <use height=\"204.24500\" id=\"use4736\" transform=\"translate(0.000000,80.67254)\" width=\"169.92300\" x=\"0.0000000\" xlink:href=\"#path4610\" y=\"0.0000000\"/>\n  <use height=\"204.24500\" id=\"use4738\" transform=\"translate(0.000000,90.75660)\" width=\"169.92300\" x=\"0.0000000\" xlink:href=\"#path4610\" y=\"0.0000000\"/>\n  <path d=\"M 145.28900,99.078400 L 159.29500,99.078400 L 159.29500,113.62300 L 145.28900,113.62300 L 145.28900,99.078400 z \" id=\"path1416\" style=\"fill:#ffffff;stroke:none\"/>\n  <text id=\"text1418\" style=\"font-size:12.000000;fill:#000000;stroke:none;font-family:Times-Bold\" x=\"147.68997\" y=\"110.97707\">O</text>\n<switch>\n  <text id=\"text1420\" style=\"font-size:12.000000;fill:#000000;stroke:none;font-family:Times\" systemLanguage=\"en\" x=\"133.16901\" y=\"10.196\">mirror</text>\n  <text id=\"text1420uk\" style=\"font-size:12.000000;fill:#000000;stroke:none;font-family:Times\" systemLanguage=\"uk\" x=\"115.16901\" y=\"10.196\">дзеркало</text>\n</switch>\n  <g id=\"g1422\">\n    <g id=\"g1424\">\n      <path d=\"M 105.86100,93.081800 C 105.86100,91.413900 105.33800,89.803100 103.99700,89.803100 L 103.98100,90.076700 C 104.52000,90.076700 104.87600,90.544700 104.87600,92.149800 C 104.87600,92.730500 104.82700,93.537300 104.35700,95.344500 L 100.90600,95.344500 C 101.15100,94.391700 101.49500,93.034800 102.14900,91.888000 C 102.68900,90.906700 103.26100,90.076700 103.98100,90.076700 L 103.99700,89.803100 C 101.70800,89.803100 99.270600,94.590300 99.270600,98.184700 C 99.270600,98.937000 99.434200,101.63700 101.15100,101.63700 L 101.16800,101.36300 C 100.66100,101.36300 100.22500,100.92800 100.22500,99.132800 C 100.22500,98.074200 100.50000,96.966500 100.77500,95.891700 L 104.24200,95.891700 C 103.83300,97.488500 103.49000,98.515100 102.90100,99.541800 C 102.42700,100.37600 101.85500,101.36300 101.16800,101.36300 L 101.15100,101.63700 C 103.37600,101.63700 105.86100,96.867200 105.86100,93.081800 z \" id=\"path1426\" style=\"fill:#000000;stroke:none\"/>\n      <path d=\"M 109.31700,96.967000 C 109.31700,96.727100 109.14300,96.438800 108.89200,96.438800 C 108.60900,96.438800 108.31100,96.750900 108.31100,97.141300 C 108.31100,97.381200 108.47800,97.533100 108.71800,97.533100 C 109.00100,97.533100 109.31700,97.281400 109.31700,96.967000 z \" id=\"path1428\" style=\"fill:#000000;stroke:none\"/>\n      <path d=\"M 107.72600,100.96800 C 107.43100,101.68800 107.43100,101.71000 107.13700,102.47300 C 107.08200,102.63600 107.06400,102.76700 107.06400,102.95300 C 107.06400,103.48700 107.46300,103.82500 108.02000,103.82500 C 109.07700,103.82500 109.52400,102.34800 109.52400,102.21100 C 109.52400,102.10200 109.43800,102.07000 109.36100,102.07000 C 109.23000,102.07000 109.20900,102.14600 109.17600,102.25500 C 108.92500,103.12700 108.47800,103.55200 108.04200,103.55200 C 107.91100,103.55200 107.88500,103.50100 107.88500,103.22500 C 107.88500,102.96400 107.92400,102.76700 107.99800,102.42900 C 108.10700,102.13500 108.21600,101.84100 108.33600,101.54600 C 108.44500,101.25200 108.56500,100.95700 108.67400,100.66300 C 108.77200,100.41200 108.97900,100.07400 108.97900,99.888700 C 108.97900,99.343500 108.50900,99.174400 107.91100,99.174400 C 106.85300,99.174400 106.39500,100.50600 106.39500,100.63000 C 106.39500,100.72800 106.47200,100.77200 106.55900,100.77200 C 106.70100,100.77200 106.71100,100.70600 106.74400,100.59800 C 107.05000,99.561800 107.55100,99.448000 107.87800,99.448000 C 108.03100,99.448000 108.15800,99.475100 108.15800,99.627200 C 108.15800,99.736100 108.14600,99.888700 108.02000,100.21600 L 107.72600,100.96800 z \" id=\"path1430\" style=\"fill:#000000;stroke:none\"/>\n    </g>\n  </g>\n  <g id=\"g1432\">\n    <g id=\"g1434\">\n      <path d=\"M 106.90000,115.07000 C 106.90000,113.43400 106.38700,111.85500 105.07100,111.85500 L 105.05500,112.12300 C 105.58500,112.12300 105.93300,112.58200 105.93300,114.15600 C 105.93300,114.72600 105.88500,115.51700 105.42400,117.29000 L 102.04000,117.29000 C 102.28000,116.35500 102.61700,115.02400 103.25900,113.89900 C 103.78800,112.93700 104.35000,112.12300 105.05500,112.12300 L 105.07100,111.85500 C 102.82600,111.85500 100.43600,116.55000 100.43600,120.07500 C 100.43600,120.81300 100.59600,123.46100 102.28000,123.46100 L 102.29600,123.19200 C 101.79900,123.19200 101.37200,122.76600 101.37200,121.00500 C 101.37200,119.96700 101.64200,118.88000 101.91100,117.82600 L 105.31200,117.82600 C 104.91100,119.39200 104.57400,120.39900 103.99700,121.40600 C 103.53100,122.22400 102.97000,123.19200 102.29600,123.19200 L 102.28000,123.46100 C 104.46200,123.46100 106.90000,118.78300 106.90000,115.07000 z \" id=\"path1436\" style=\"fill:#000000;stroke:none\"/>\n      <path d=\"M 109.16700,124.07800 C 109.28400,123.61800 109.40200,123.15800 109.50900,122.68800 C 109.52000,122.66600 109.59400,122.35600 109.60500,122.30300 C 109.63700,122.20700 109.90500,121.76800 110.18300,121.50100 C 110.52500,121.19100 110.88800,121.31400 111.08100,121.31400 C 111.19800,121.31400 111.39100,121.31200 111.54100,121.27600 C 111.08100,121.37200 111.04200,121.76800 111.04200,121.86400 C 111.04200,122.10000 111.21300,122.38700 111.43400,122.38700 C 111.72200,122.38700 112.11500,122.10700 112.11500,121.59700 C 112.11500,121.21200 111.75800,121.04600 111.10200,121.04600 C 110.37500,121.04600 109.88300,121.39700 109.65900,121.60800 C 109.44500,120.83800 108.71700,121.04600 108.61100,121.04600 C 108.22600,121.04600 107.95800,121.20300 107.78700,121.41500 C 107.54100,121.89700 107.42400,122.44200 107.42400,122.47400 C 107.42400,122.57000 107.49800,122.61300 107.58400,122.61300 C 107.72300,122.61300 107.73400,122.57000 107.80900,122.29200 C 107.93700,121.76800 108.12900,121.31400 108.57800,121.31400 C 108.85600,121.31400 108.92000,121.48800 108.92000,121.64000 C 108.92000,121.83200 108.86700,122.03500 108.78100,122.38800 C 108.76000,122.47400 108.60000,123.10500 108.55700,123.25400 C 108.38600,123.96000 108.31100,124.23800 108.16100,124.85800 C 108.11800,125.01900 108.05400,125.28600 108.05400,125.32900 C 108.05400,125.57500 108.25800,125.60700 108.39700,125.60700 C 108.77100,125.60700 108.84600,125.33200 108.93100,124.99800 L 109.16700,124.07800 z \" id=\"path1438\" style=\"fill:#000000;stroke:none\"/>\n    </g>\n  </g>\n  <path d=\"M 143.01681,17.303443 L 152.10088,26.387510\" id=\"path4610\" style=\"fill:none;fill-opacity:0.75000000;fill-rule:evenodd;stroke:#000000;stroke-width:1.0000000px;stroke-linecap:butt;stroke-linejoin:miter;stroke-opacity:1.0000000\"/>\n  <use height=\"204.24500\" id=\"use4722\" transform=\"translate(0.000000,10.08407)\" width=\"169.92300\" x=\"0.0000000\" xlink:href=\"#path4610\" y=\"0.0000000\"/>\n  <use height=\"204.24500\" id=\"use4724\" transform=\"translate(0.000000,20.16813)\" width=\"169.92300\" x=\"0.0000000\" xlink:href=\"#path4610\" y=\"0.0000000\"/>\n  <use height=\"204.24500\" id=\"use4726\" transform=\"translate(0.000000,30.25220)\" width=\"169.92300\" x=\"0.0000000\" xlink:href=\"#path4610\" y=\"0.0000000\"/>\n  <use height=\"204.24500\" id=\"use4728\" transform=\"translate(0.000000,40.33627)\" width=\"169.92300\" x=\"0.0000000\" xlink:href=\"#path4610\" y=\"0.0000000\"/>\n  <use height=\"204.24500\" id=\"use4730\" transform=\"translate(0.000000,50.42034)\" width=\"169.92300\" x=\"0.0000000\" xlink:href=\"#path4610\" y=\"0.0000000\"/>\n  <use height=\"204.24500\" id=\"use4732\" transform=\"translate(0.000000,60.50440)\" width=\"169.92300\" x=\"0.0000000\" xlink:href=\"#path4610\" y=\"0.0000000\"/>\n  <use height=\"204.24500\" id=\"use4734\" transform=\"translate(0.000000,70.58847)\" width=\"169.92300\" x=\"0.0000000\" xlink:href=\"#path4610\" y=\"0.0000000\"/>\n  <use height=\"204.24500\" id=\"use4740\" transform=\"translate(0.000000,100.8407)\" width=\"169.92300\" x=\"0.0000000\" xlink:href=\"#path4610\" y=\"0.0000000\"/>\n  <use height=\"204.24500\" id=\"use4742\" transform=\"translate(0.000000,110.9247)\" width=\"169.92300\" x=\"0.0000000\" xlink:href=\"#path4610\" y=\"0.0000000\"/>\n  <use height=\"204.24500\" id=\"use4744\" transform=\"translate(0.000000,121.0088)\" width=\"169.92300\" x=\"0.0000000\" xlink:href=\"#path4610\" y=\"0.0000000\"/>\n  <use height=\"204.24500\" id=\"use4746\" transform=\"translate(0.000000,131.0929)\" width=\"169.92300\" x=\"0.0000000\" xlink:href=\"#path4610\" y=\"0.0000000\"/>\n  <use height=\"204.24500\" id=\"use4748\" transform=\"translate(0.000000,141.1769)\" width=\"169.92300\" x=\"0.0000000\" xlink:href=\"#path4610\" y=\"0.0000000\"/>\n  <use height=\"204.24500\" id=\"use4750\" transform=\"translate(0.000000,151.2610)\" width=\"169.92300\" x=\"0.0000000\" xlink:href=\"#path4610\" y=\"0.0000000\"/>\n  <use height=\"204.24500\" id=\"use4752\" transform=\"translate(0.000000,161.3451)\" width=\"169.92300\" x=\"0.0000000\" xlink:href=\"#path4610\" y=\"0.0000000\"/>\n  <use height=\"204.24500\" id=\"use4754\" transform=\"translate(0.000000,171.4291)\" width=\"169.92300\" x=\"0.0000000\" xlink:href=\"#path4610\" y=\"0.0000000\"/>\n</svg>"
          },
          "metadata": {
            "tags": []
          }
        }
      ]
    },
    {
      "cell_type": "markdown",
      "metadata": {
        "id": "xNcZGfzRpAZy",
        "colab_type": "text"
      },
      "source": [
        "## 反射の法則\n",
        "\n",
        "$$\n",
        "i=j\n",
        "$$\n",
        "(上の図では $\\theta_i=\\theta_r$)"
      ]
    },
    {
      "cell_type": "code",
      "metadata": {
        "id": "VlE90ic1o7VS",
        "colab_type": "code",
        "cellView": "form",
        "outputId": "4c4c9009-93d1-409a-9516-6d397063a3b9",
        "colab": {
          "base_uri": "https://localhost:8080/",
          "height": 336
        }
      },
      "source": [
        "#@title 反射で使う用語を確認\n",
        "%%html\n",
        "<iframe width=\"560\" height=\"315\" src=\"https://www.youtube-nocookie.com/embed/VzhzHFPJh4E\" frameborder=\"0\" allow=\"accelerometer; autoplay; encrypted-media; gyroscope; picture-in-picture\" allowfullscreen></iframe>"
      ],
      "execution_count": 0,
      "outputs": [
        {
          "output_type": "display_data",
          "data": {
            "text/html": [
              "<iframe width=\"560\" height=\"315\" src=\"https://www.youtube-nocookie.com/embed/VzhzHFPJh4E\" frameborder=\"0\" allow=\"accelerometer; autoplay; encrypted-media; gyroscope; picture-in-picture\" allowfullscreen></iframe>"
            ],
            "text/plain": [
              "<IPython.core.display.HTML object>"
            ]
          },
          "metadata": {
            "tags": []
          }
        }
      ]
    },
    {
      "cell_type": "markdown",
      "metadata": {
        "id": "mk0WmYjvpdj5",
        "colab_type": "text"
      },
      "source": [
        "### 反射の法則と鏡\n",
        "\n",
        "物体が鏡に映るとき, 実際の物体を**実体**, 鏡に映った物体を **像** と呼びます."
      ]
    },
    {
      "cell_type": "markdown",
      "metadata": {
        "id": "Ado0RCSQ_76r",
        "colab_type": "text"
      },
      "source": [
        "![鏡に映る像の位置を作図する](https://menon.network/wp-content/uploads/2020/04/%E8%99%9A%E5%83%8F%E3%81%A8%E4%B9%B1%E5%8F%8D%E5%B0%84.001-4.jpeg)"
      ]
    },
    {
      "cell_type": "markdown",
      "metadata": {
        "id": "EE5kBmavAdzw",
        "colab_type": "text"
      },
      "source": [
        "参照 [鏡に映る像の位置を作図する](https://menon.network/science-law-of-reflection1/#toc11)"
      ]
    }
  ]
}