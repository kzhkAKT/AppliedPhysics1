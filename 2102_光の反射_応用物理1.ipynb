{
  "nbformat": 4,
  "nbformat_minor": 0,
  "metadata": {
    "colab": {
      "name": "2102_光の反射_応用物理1",
      "provenance": [],
      "collapsed_sections": [],
      "toc_visible": true,
      "authorship_tag": "ABX9TyOtBjxst49A3+mMtBC2SwTB",
      "include_colab_link": true
    },
    "kernelspec": {
      "name": "python3",
      "display_name": "Python 3"
    }
  },
  "cells": [
    {
      "cell_type": "markdown",
      "metadata": {
        "id": "view-in-github",
        "colab_type": "text"
      },
      "source": [
        "<a href=\"https://colab.research.google.com/github/kzhkAKT/AppliedPhysics1/blob/master/2102_%E5%85%89%E3%81%AE%E5%8F%8D%E5%B0%84_%E5%BF%9C%E7%94%A8%E7%89%A9%E7%90%861.ipynb\" target=\"_parent\"><img src=\"https://colab.research.google.com/assets/colab-badge.svg\" alt=\"Open In Colab\"/></a>"
      ]
    },
    {
      "cell_type": "markdown",
      "metadata": {
        "id": "d8I-gC5dpXGv",
        "colab_type": "text"
      },
      "source": [
        "# 光の進み方"
      ]
    },
    {
      "cell_type": "markdown",
      "metadata": {
        "id": "YlgLhkPni92J",
        "colab_type": "text"
      },
      "source": [
        "## 光の反射\n",
        "\n",
        "基本は次のリンクで確認\n",
        "\n",
        "[乱反射と鏡面反射。光に騙され、富士の虚像に”魅せられる”, パブリック・教育コンテンツ Menon Network](https://menon.network/science-law-of-reflection1/)\n",
        "\n",
        "\n",
        "\n"
      ]
    },
    {
      "cell_type": "markdown",
      "metadata": {
        "id": "dr_E-yBJng8c",
        "colab_type": "text"
      },
      "source": [
        "### 用語確認\n",
        "\n",
        "#### 光学基礎用語\n",
        "- 媒質\n",
        "- 光線\n",
        "\n"
      ]
    },
    {
      "cell_type": "markdown",
      "metadata": {
        "id": "K-2Zg_WlnmFN",
        "colab_type": "text"
      },
      "source": [
        "### 光の反射(等)で使う用語\n",
        "\n",
        "- 法線\n",
        "- 入射角 $i$\n",
        "- 反射角 $j$\n",
        "\n",
        "> 角度は, 度数法や弧度法のいずれでも表現される\n"
      ]
    },
    {
      "cell_type": "markdown",
      "metadata": {
        "id": "xNcZGfzRpAZy",
        "colab_type": "text"
      },
      "source": [
        "## 反射の法則\n",
        "\n",
        "$$\n",
        "i=j\n",
        "$$"
      ]
    },
    {
      "cell_type": "code",
      "metadata": {
        "id": "VlE90ic1o7VS",
        "colab_type": "code",
        "cellView": "form",
        "outputId": "4c4c9009-93d1-409a-9516-6d397063a3b9",
        "colab": {
          "base_uri": "https://localhost:8080/",
          "height": 336
        }
      },
      "source": [
        "#@title 反射で使う用語を確認\n",
        "%%html\n",
        "<iframe width=\"560\" height=\"315\" src=\"https://www.youtube-nocookie.com/embed/VzhzHFPJh4E\" frameborder=\"0\" allow=\"accelerometer; autoplay; encrypted-media; gyroscope; picture-in-picture\" allowfullscreen></iframe>"
      ],
      "execution_count": 0,
      "outputs": [
        {
          "output_type": "display_data",
          "data": {
            "text/html": [
              "<iframe width=\"560\" height=\"315\" src=\"https://www.youtube-nocookie.com/embed/VzhzHFPJh4E\" frameborder=\"0\" allow=\"accelerometer; autoplay; encrypted-media; gyroscope; picture-in-picture\" allowfullscreen></iframe>"
            ],
            "text/plain": [
              "<IPython.core.display.HTML object>"
            ]
          },
          "metadata": {
            "tags": []
          }
        }
      ]
    },
    {
      "cell_type": "markdown",
      "metadata": {
        "id": "mk0WmYjvpdj5",
        "colab_type": "text"
      },
      "source": [
        "### 反射の法則と鏡\n",
        "\n",
        "物体が鏡に映るとき, 実際の物体を**実体**, 鏡に映った物体を **像** と呼びます."
      ]
    },
    {
      "cell_type": "code",
      "metadata": {
        "id": "bMmkjqQ_uEgC",
        "colab_type": "code",
        "colab": {}
      },
      "source": [
        ""
      ],
      "execution_count": 0,
      "outputs": []
    }
  ]
}